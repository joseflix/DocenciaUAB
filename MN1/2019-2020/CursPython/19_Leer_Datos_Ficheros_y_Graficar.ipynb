{
  "nbformat": 4,
  "nbformat_minor": 0,
  "metadata": {
    "colab": {
      "name": "19_Leer_Datos_Ficheros_y_Graficar.ipynb",
      "provenance": [],
      "authorship_tag": "ABX9TyOsNuwP9X9mqIIam1H39WB/",
      "include_colab_link": true
    },
    "kernelspec": {
      "name": "python3",
      "display_name": "Python 3"
    },
    "language_info": {
      "name": "python"
    }
  },
  "cells": [
    {
      "cell_type": "markdown",
      "metadata": {
        "id": "view-in-github",
        "colab_type": "text"
      },
      "source": [
        "<a href=\"https://colab.research.google.com/github/joseflix/DocenciaUAB/blob/master/MN1/2019-2020/CursPython/19_Leer_Datos_Ficheros_y_Graficar.ipynb\" target=\"_parent\"><img src=\"https://colab.research.google.com/assets/colab-badge.svg\" alt=\"Open In Colab\"/></a>"
      ]
    },
    {
      "cell_type": "markdown",
      "source": [
        "# **Visualització de dades fitxers text i excel**\n",
        "\n",
        "Aquest és un exemple de programa que llegueix fitxers de text o excel, per tal de visualitzar les dades. A més inclou un exemple per tractar temps i possar-les de forma correcte a l'eix c.\n",
        "\n",
        "Començem per importar les llibreries i montar el disc del drive (drive.mount), per tal d'accedir als fitxers que volem llegir (que es troben al directori 'Colab Notebooks/data/'). S'obrirà una nova pantalla per autenticar i donar permissos per a aquest notebook, per tal que pugui llegir fitxers del drive personal a Google.\n",
        "\n",
        "Necessiteu baixar aquests fitxers, i copiar-los al vostre drive:\n",
        "\n",
        "[test.xlsx](https://cernbox.cern.ch/index.php/s/bXDBcVscQ00Orno)\n",
        "\n",
        "[test2.xlsx](https://cernbox.cern.ch/index.php/s/jEjMc6C2UAtkRmL)\n",
        "\n",
        "[test.dat](https://cernbox.cern.ch/index.php/s/OE8Ha7gjedDWm6r)\n",
        "\n"
      ],
      "metadata": {
        "id": "jktPEzlWh02s"
      }
    },
    {
      "cell_type": "code",
      "execution_count": 1,
      "metadata": {
        "colab": {
          "base_uri": "https://localhost:8080/"
        },
        "id": "j0ONZtPghvp9",
        "outputId": "d21454d5-ce7b-47cc-bd16-3d7af2dc903f"
      },
      "outputs": [
        {
          "output_type": "stream",
          "name": "stdout",
          "text": [
            "Mounted at /content/drive\n"
          ]
        }
      ],
      "source": [
        "%matplotlib inline\n",
        "import pandas as pd\n",
        "import matplotlib.pyplot as plt\n",
        "import numpy as np\n",
        "import xml.etree.ElementTree as ET\n",
        "from xml.etree.ElementTree import fromstring\n",
        "from datetime import datetime\n",
        "from time import strptime, strftime\n",
        "from optparse import OptionParser\n",
        "import sys\n",
        "import re\n",
        "import os\n",
        "\n",
        "from google.colab import drive\n",
        "drive.mount('/content/drive', force_remount=True)\n",
        "\n",
        "directory = '/content/drive/My Drive/Colab Notebooks/data/'"
      ]
    },
    {
      "cell_type": "markdown",
      "source": [
        "**a) Obrir un fitxer de text i fer una gràfica dels valors que es troben a dins**"
      ],
      "metadata": {
        "id": "6c7rFQlzj4ej"
      }
    },
    {
      "cell_type": "code",
      "source": [
        "input_data = pd.read_csv(directory + 'test.dat');\n",
        "print(input_data)"
      ],
      "metadata": {
        "colab": {
          "base_uri": "https://localhost:8080/"
        },
        "id": "Z-0DCnMZkSP0",
        "outputId": "b33c3d71-3f19-414f-ee08-4d039448da85"
      },
      "execution_count": 2,
      "outputs": [
        {
          "output_type": "stream",
          "name": "stdout",
          "text": [
            "          beta\\tgamma\n",
            "0                0\\t1\n",
            "1   0.03\\t1.000450304\n",
            "2   0.06\\t1.001804875\n",
            "3   0.09\\t1.004074771\n",
            "4   0.12\\t1.007278705\n",
            "5   0.15\\t1.011443475\n",
            "6   0.18\\t1.016604599\n",
            "7   0.21\\t1.022807183\n",
            "8   0.24\\t1.030107054\n",
            "9   0.27\\t1.038572238\n",
            "10   0.3\\t1.048284837\n",
            "11  0.33\\t1.059343432\n",
            "12  0.36\\t1.071866157\n",
            "13  0.39\\t1.085994641\n",
            "14  0.42\\t1.101899107\n",
            "15  0.45\\t1.119785022\n",
            "16  0.48\\t1.139901881\n",
            "17  0.51\\t1.162554941\n",
            "18  0.54\\t1.188121141\n",
            "19  0.57\\t1.217071089\n",
            "20          0.6\\t1.25\n",
            "21  0.63\\t1.287672248\n",
            "22   0.66\\t1.33108717\n",
            "23  0.69\\t1.381579246\n",
            "24  0.72\\t1.440976044\n",
            "25  0.75\\t1.511857892\n",
            "26   0.78\\t1.59800693\n",
            "27   0.81\\t1.70523372\n",
            "28  0.84\\t1.843024452\n",
            "29  0.87\\t2.028184786\n",
            "30   0.9\\t2.294157339\n",
            "31  0.93\\t2.720647809\n",
            "32  0.96\\t3.571428571\n",
            "33   0.99\\t7.08881205\n"
          ]
        }
      ]
    },
    {
      "cell_type": "markdown",
      "source": [
        "Ens fixem que no acaba de llegir bé el fitxer, perquè és un fitxer de text on les dades estan separades per un tabulador, i no una coma (,). Ho hem d'indicar:"
      ],
      "metadata": {
        "id": "UkvrA7Takvd9"
      }
    },
    {
      "cell_type": "code",
      "source": [
        "input_data2 = pd.read_csv(directory + 'test.dat', sep='\\t');\n",
        "print(input_data2)"
      ],
      "metadata": {
        "colab": {
          "base_uri": "https://localhost:8080/"
        },
        "id": "Q2_xH5gbk6_I",
        "outputId": "fedb7e69-fc94-4d6e-bb9d-718ae181d5af"
      },
      "execution_count": 3,
      "outputs": [
        {
          "output_type": "stream",
          "name": "stdout",
          "text": [
            "    beta     gamma\n",
            "0   0.00  1.000000\n",
            "1   0.03  1.000450\n",
            "2   0.06  1.001805\n",
            "3   0.09  1.004075\n",
            "4   0.12  1.007279\n",
            "5   0.15  1.011443\n",
            "6   0.18  1.016605\n",
            "7   0.21  1.022807\n",
            "8   0.24  1.030107\n",
            "9   0.27  1.038572\n",
            "10  0.30  1.048285\n",
            "11  0.33  1.059343\n",
            "12  0.36  1.071866\n",
            "13  0.39  1.085995\n",
            "14  0.42  1.101899\n",
            "15  0.45  1.119785\n",
            "16  0.48  1.139902\n",
            "17  0.51  1.162555\n",
            "18  0.54  1.188121\n",
            "19  0.57  1.217071\n",
            "20  0.60  1.250000\n",
            "21  0.63  1.287672\n",
            "22  0.66  1.331087\n",
            "23  0.69  1.381579\n",
            "24  0.72  1.440976\n",
            "25  0.75  1.511858\n",
            "26  0.78  1.598007\n",
            "27  0.81  1.705234\n",
            "28  0.84  1.843024\n",
            "29  0.87  2.028185\n",
            "30  0.90  2.294157\n",
            "31  0.93  2.720648\n",
            "32  0.96  3.571429\n",
            "33  0.99  7.088812\n"
          ]
        }
      ]
    },
    {
      "cell_type": "markdown",
      "source": [
        "Ara si que veiem els camps ben separats. Amb pandas és molt fàcil de seleccionar, dins d'aquesta variable, les columnes que tenen una capçalera concreta:"
      ],
      "metadata": {
        "id": "qALejMqdlAM6"
      }
    },
    {
      "cell_type": "code",
      "source": [
        "print(input_data2.columns) # Així obtenim el número de columnes i noms que tenen (headers) \n",
        "\n",
        "x = list(input_data2[input_data2.columns[0]]) # Sería equivalent fer: x = list(input_data2['beta'])\n",
        "y = list(input_data2[input_data2.columns[1]])\n",
        "\n",
        "print(x)"
      ],
      "metadata": {
        "colab": {
          "base_uri": "https://localhost:8080/"
        },
        "id": "-O3fzuxvlMGa",
        "outputId": "a4a06954-43c8-4564-b3b5-d2fcb151a0d3"
      },
      "execution_count": 4,
      "outputs": [
        {
          "output_type": "stream",
          "name": "stdout",
          "text": [
            "Index(['beta', 'gamma'], dtype='object')\n",
            "[0.0, 0.03, 0.06, 0.09, 0.12, 0.15, 0.18, 0.21, 0.24, 0.27, 0.3, 0.33, 0.36, 0.39, 0.42, 0.45, 0.48, 0.51, 0.54, 0.57, 0.6, 0.63, 0.66, 0.69, 0.72, 0.75, 0.78, 0.81, 0.84, 0.87, 0.9, 0.93, 0.96, 0.99]\n"
          ]
        }
      ]
    },
    {
      "cell_type": "markdown",
      "source": [
        "Així doncs és molt fàcil ara fer la gràfica del que tenim al fitxer:"
      ],
      "metadata": {
        "id": "E97CmNMLlQNC"
      }
    },
    {
      "cell_type": "code",
      "source": [
        "plt.figure(figsize=(8,8))\n",
        "plt.scatter(x,y,marker=\"*\",s=100,edgecolors=\"black\",c=\"yellow\")\n",
        "plt.xlabel(input_data2.columns[0])\n",
        "plt.ylabel(input_data2.columns[1])\n",
        "plt.title(\"Gràfica de valors a fitxer dat o txt\")\n",
        "plt.show()"
      ],
      "metadata": {
        "colab": {
          "base_uri": "https://localhost:8080/",
          "height": 513
        },
        "id": "GaLV7ZFClUah",
        "outputId": "5544c02b-2d23-4ae0-daad-a6b099dd5027"
      },
      "execution_count": 5,
      "outputs": [
        {
          "output_type": "display_data",
          "data": {
            "image/png": "[encoded data removed]",
            "text/plain": [
              "<Figure size 576x576 with 1 Axes>"
            ]
          },
          "metadata": {
            "needs_background": "light"
          }
        }
      ]
    },
    {
      "cell_type": "markdown",
      "source": [
        "**b) Obrir un fitxer de excel i fer una gràfica dels valors que es troben a dins**\n",
        "\n"
      ],
      "metadata": {
        "id": "wVUEIoI1nDwy"
      }
    },
    {
      "cell_type": "code",
      "source": [
        "var = pd.read_excel(directory + \"test.xlsx\")\n",
        "print(var)"
      ],
      "metadata": {
        "colab": {
          "base_uri": "https://localhost:8080/"
        },
        "id": "fcQni_gxigT0",
        "outputId": "9f2f052b-79b9-43da-da92-f920c7a50248"
      },
      "execution_count": 6,
      "outputs": [
        {
          "output_type": "stream",
          "name": "stdout",
          "text": [
            "    beta     gamma\n",
            "0   0.00  1.000000\n",
            "1   0.03  1.000450\n",
            "2   0.06  1.001805\n",
            "3   0.09  1.004075\n",
            "4   0.12  1.007279\n",
            "5   0.15  1.011443\n",
            "6   0.18  1.016605\n",
            "7   0.21  1.022807\n",
            "8   0.24  1.030107\n",
            "9   0.27  1.038572\n",
            "10  0.30  1.048285\n",
            "11  0.33  1.059343\n",
            "12  0.36  1.071866\n",
            "13  0.39  1.085995\n",
            "14  0.42  1.101899\n",
            "15  0.45  1.119785\n",
            "16  0.48  1.139902\n",
            "17  0.51  1.162555\n",
            "18  0.54  1.188121\n",
            "19  0.57  1.217071\n",
            "20  0.60  1.250000\n",
            "21  0.63  1.287672\n",
            "22  0.66  1.331087\n",
            "23  0.69  1.381579\n",
            "24  0.72  1.440976\n",
            "25  0.75  1.511858\n",
            "26  0.78  1.598007\n",
            "27  0.81  1.705234\n",
            "28  0.84  1.843024\n",
            "29  0.87  2.028185\n",
            "30  0.90  2.294157\n",
            "31  0.93  2.720648\n",
            "32  0.96  3.571429\n",
            "33  0.99  7.088812\n"
          ]
        }
      ]
    },
    {
      "cell_type": "code",
      "source": [
        "x = list(var['beta'])\n",
        "y = list(var['gamma'])\n",
        "\n",
        "plt.figure(figsize=(8,8))\n",
        "plt.scatter(x,y,marker=\"*\",s=100,edgecolors=\"black\",c=\"yellow\")\n",
        "plt.xlabel(var.columns[0])\n",
        "plt.ylabel(var.columns[1])\n",
        "plt.title(\"Gràfica de valors a fitxer excel\")\n",
        "plt.show()"
      ],
      "metadata": {
        "colab": {
          "base_uri": "https://localhost:8080/",
          "height": 513
        },
        "id": "E9KjudIbizRQ",
        "outputId": "41bd473e-8625-41a9-b11f-5dfc2a08124c"
      },
      "execution_count": 7,
      "outputs": [
        {
          "output_type": "display_data",
          "data": {
            "image/png": "[encoded data removed]",
            "text/plain": [
              "<Figure size 576x576 with 1 Axes>"
            ]
          },
          "metadata": {
            "needs_background": "light"
          }
        }
      ]
    },
    {
      "cell_type": "markdown",
      "source": [
        "**c) Obrir un fitxer de excel i fer una gràfica dels valors que es troben a dins, on trobem dades en format DATE**"
      ],
      "metadata": {
        "id": "grDcRltanxcS"
      }
    },
    {
      "cell_type": "code",
      "source": [
        "date_cols = ['data', 'data2']\n",
        "parse_dates=date_cols\n",
        "var2 = pd.read_excel(directory + \"test2.xlsx\", parse_dates=date_cols)\n",
        "print(var2)\n",
        "var2.info()"
      ],
      "metadata": {
        "colab": {
          "base_uri": "https://localhost:8080/"
        },
        "id": "msHHLDgkn4Tk",
        "outputId": "404ab798-aa72-4625-c073-51fdd6e39316"
      },
      "execution_count": 8,
      "outputs": [
        {
          "output_type": "stream",
          "name": "stdout",
          "text": [
            "         data  alumnes                   data2    random\n",
            "0  2021-01-01        1 2021-01-01 00:00:01.000  0.084913\n",
            "1  2021-01-02        4 2021-01-01 00:00:02.000  0.430306\n",
            "2  2021-01-03        7 2021-01-01 00:00:02.990  0.377620\n",
            "3  2021-01-04       10 2021-01-01 00:00:03.985  0.988292\n",
            "4  2021-01-05       13 2021-01-01 00:00:04.980  0.789797\n",
            "5  2021-01-06       16 2021-01-01 00:00:05.975  0.723621\n",
            "6  2021-01-07       19 2021-01-01 00:00:06.970  0.549214\n",
            "7  2021-01-08       22 2021-01-01 00:00:07.965  0.571324\n",
            "8  2021-01-09       25 2021-01-01 00:00:08.960  0.477461\n",
            "9  2021-01-10       28 2021-01-01 00:00:09.955  0.765568\n",
            "10 2021-01-11       31 2021-01-01 00:00:10.950  0.961115\n",
            "11 2021-01-12       34 2021-01-01 00:00:11.945  0.800644\n",
            "12 2021-01-13       37 2021-01-01 00:00:12.940  0.610002\n",
            "13 2021-01-14       40 2021-01-01 00:00:13.935  0.634069\n",
            "14 2021-01-15       43 2021-01-01 00:00:14.930  0.787878\n",
            "15 2021-01-16       46 2021-01-01 00:00:15.925  0.518882\n",
            "16 2021-01-17       49 2021-01-01 00:00:16.920  0.371457\n",
            "17 2021-01-18       52 2021-01-01 00:00:17.915  0.017521\n",
            "18 2021-01-19       55 2021-01-01 00:00:18.910  0.251561\n",
            "19 2021-01-20       58 2021-01-01 00:00:19.905  0.088347\n",
            "20 2021-01-21       61 2021-01-01 00:00:20.900  0.517444\n",
            "21 2021-01-22       64 2021-01-01 00:00:21.895  0.208205\n",
            "22 2021-01-23       67 2021-01-01 00:00:22.890  0.385477\n",
            "23 2021-01-24       70 2021-01-01 00:00:23.885  0.607808\n",
            "24 2021-01-25       73 2021-01-01 00:00:24.880  0.868193\n",
            "25 2021-01-26       76 2021-01-01 00:00:25.875  0.985062\n",
            "26 2021-01-27       79 2021-01-01 00:00:26.870  0.037044\n",
            "27 2021-01-28       82 2021-01-01 00:00:27.865  0.813280\n",
            "28 2021-01-29       85 2021-01-01 00:00:28.860  0.402133\n",
            "29 2021-01-30       88 2021-01-01 00:00:29.855  0.385942\n",
            "<class 'pandas.core.frame.DataFrame'>\n",
            "RangeIndex: 30 entries, 0 to 29\n",
            "Data columns (total 4 columns):\n",
            " #   Column   Non-Null Count  Dtype         \n",
            "---  ------   --------------  -----         \n",
            " 0   data     30 non-null     datetime64[ns]\n",
            " 1   alumnes  30 non-null     int64         \n",
            " 2   data2    30 non-null     datetime64[ns]\n",
            " 3   random   30 non-null     float64       \n",
            "dtypes: datetime64[ns](2), float64(1), int64(1)\n",
            "memory usage: 1.1 KB\n"
          ]
        }
      ]
    },
    {
      "cell_type": "markdown",
      "source": [
        "Anem a fer una gràfica de les primeres dues columnes:"
      ],
      "metadata": {
        "id": "moMqKwPXosxi"
      }
    },
    {
      "cell_type": "code",
      "source": [
        "x = list(var2[var2.columns[0]])\n",
        "y = list(var2[var2.columns[1]])\n",
        "\n",
        "plt.figure(figsize=(8,8))\n",
        "plt.scatter(x,y,marker=\"*\",s=100,edgecolors=\"black\",c=\"yellow\")\n",
        "plt.xlabel(var2.columns[0])\n",
        "plt.ylabel(var2.columns[1])\n",
        "plt.title(\"Gràfica de valors a fitxer excel\")\n",
        "plt.xticks(rotation=45)\n",
        "plt.show()"
      ],
      "metadata": {
        "colab": {
          "base_uri": "https://localhost:8080/",
          "height": 551
        },
        "id": "n8f9dqFyoxmH",
        "outputId": "3e269d04-e2e2-4dd5-81e2-b3ce6bfebfb6"
      },
      "execution_count": 9,
      "outputs": [
        {
          "output_type": "display_data",
          "data": {
            "image/png": "[encoded data removed]",
            "text/plain": [
              "<Figure size 576x576 with 1 Axes>"
            ]
          },
          "metadata": {
            "needs_background": "light"
          }
        }
      ]
    },
    {
      "cell_type": "markdown",
      "source": [
        "Anem a fer una gràfica de les darreres dues columnes:"
      ],
      "metadata": {
        "id": "kc9jf0ewrqqY"
      }
    },
    {
      "cell_type": "code",
      "source": [
        "x = list(var2[var2.columns[2]])\n",
        "y = list(var2[var2.columns[3]])\n",
        "\n",
        "plt.figure(figsize=(8,8))\n",
        "plt.scatter(x,y,marker=\"*\",s=100,edgecolors=\"black\",c=\"yellow\")\n",
        "plt.xlabel(var2.columns[2])\n",
        "plt.ylabel(var2.columns[3])\n",
        "plt.title(\"Gràfica de valors a fitxer excel\")\n",
        "plt.xticks(rotation=45)\n",
        "plt.show()"
      ],
      "metadata": {
        "colab": {
          "base_uri": "https://localhost:8080/",
          "height": 541
        },
        "id": "nU4im4pGrw0i",
        "outputId": "aa6a154c-f268-48ab-8455-deb9d8783664"
      },
      "execution_count": 10,
      "outputs": [
        {
          "output_type": "display_data",
          "data": {
            "image/png": "[encoded data removed]",
            "text/plain": [
              "<Figure size 576x576 with 1 Axes>"
            ]
          },
          "metadata": {
            "needs_background": "light"
          }
        }
      ]
    },
    {
      "cell_type": "markdown",
      "source": [
        "Imaginem que volem posar a l'eix x el numero de segons passats, respecte a la primera mesura. Ho faríem així:"
      ],
      "metadata": {
        "id": "7kEII_pysLKH"
      }
    },
    {
      "cell_type": "code",
      "source": [
        "x = list(var2[var2.columns[2]])\n",
        "\n",
        "interval = []\n",
        "[interval.append(i.timestamp()-x[0].timestamp()) for i in x]\n",
        "\n",
        "#print(x.timestamp()-x[0].timestamp())\n",
        "#seconds = a_timedelta.total_seconds()\n",
        "#pr3int(seconds)\n",
        "#print(x.timestamp() - x[0].timestamp())\n",
        "\n",
        "y = list(var2[var2.columns[3]])\n",
        "\n",
        "plt.figure(figsize=(8,8))\n",
        "plt.scatter(interval,y,marker=\"*\",s=100,edgecolors=\"black\",c=\"yellow\")\n",
        "plt.xlabel(\"seconds\")\n",
        "plt.ylabel(var2.columns[3])\n",
        "plt.title(\"Gràfica de valors a fitxer excel\")\n",
        "plt.xticks(rotation=45)\n",
        "plt.show()"
      ],
      "metadata": {
        "colab": {
          "base_uri": "https://localhost:8080/",
          "height": 519
        },
        "id": "oCfGMYqZsKkU",
        "outputId": "c55db237-a1de-44a0-9505-e787fd3bf043"
      },
      "execution_count": 11,
      "outputs": [
        {
          "output_type": "display_data",
          "data": {
            "image/png": "[encoded data removed]",
            "text/plain": [
              "<Figure size 576x576 with 1 Axes>"
            ]
          },
          "metadata": {
            "needs_background": "light"
          }
        }
      ]
    }
  ]
}