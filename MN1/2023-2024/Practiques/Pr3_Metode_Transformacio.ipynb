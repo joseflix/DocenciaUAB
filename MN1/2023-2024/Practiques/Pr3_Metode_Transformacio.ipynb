{
  "nbformat": 4,
  "nbformat_minor": 0,
  "metadata": {
    "colab": {
      "provenance": [],
      "include_colab_link": true
    },
    "kernelspec": {
      "name": "python3",
      "display_name": "Python 3"
    }
  },
  "cells": [
    {
      "cell_type": "markdown",
      "metadata": {
        "id": "view-in-github",
        "colab_type": "text"
      },
      "source": [
        "<a href=\"https://colab.research.google.com/github/joseflix/DocenciaUAB/blob/master/MN1/2023-2024/Practiques/Pr3_Metode_Transformacio.ipynb\" target=\"_parent\"><img src=\"https://colab.research.google.com/assets/colab-badge.svg\" alt=\"Open In Colab\"/></a>"
      ]
    },
    {
      "cell_type": "markdown",
      "metadata": {
        "id": "vE_UggmHoZDG"
      },
      "source": [
        "# **Pràctica 3: Transformació d'una distribució**\n",
        "\n",
        "<hr>\n",
        "\n",
        "**Nom:**\n",
        "\n",
        "**NIU:**\n",
        "\n",
        "**mail (gmail):**\n",
        "\n",
        "<hr>\n",
        "\n",
        "**Instruccions**\n",
        "\n",
        "*   Primer copia aquest notebook al teu drive (Archivo>Guardar una copia en Drive).\n",
        "*   Omple el teu nom, NIU i correu electrònic (gmail, si vols rebre comentaris/feedback sobre la teva entrega) a l'encapçalament d'aquest Notebook.\n",
        "*   Canvia el nom del Notebook a \"Pr3_NIU.ipynb\", on NIU és el teu NIU (*per exemple: Pr3_2055007.ipynb*).\n",
        "*   Ves gravant/guardant el Notebook de forma regular.\n",
        "*   Al final de la classe, descarrega aquest quadern en format .ipynb i l'has de pujar al següent *drop folder*: [Link](https://cern.ch/uabmn1pr). Assegura't que el fitxer té el nom correcte.\n",
        "*   Només s'avaluarà la part de l'entrega. Tindreu accés a la solució de totes les parts després d'haver entregat la pràctica.\n",
        "\n",
        "<hr>"
      ]
    },
    {
      "cell_type": "markdown",
      "source": [
        "**Objectiu de la pràctica**\n",
        "\n",
        "Emprar el mètode de transformació per transformar nombres aleatoris entre [0,1] perquè segueixin una distribució determinada.\n",
        "\n",
        "En particular, en aquesta pràctica generarem nombres aleatoris que segueixin una distribució amb aquesta forma, entre $0$ i $\\pi$:\n",
        "\n",
        "$$\n",
        "  f(x) = \\frac{1}{2} sin(x)\n",
        "$$\n",
        "\n",
        "El factor 2 prové de la integral analítica de $sin(x)$, així obtenim una normalització adequada de $f(x)$, és a dir, que la seva integral entre 0 i $\\pi$ sigui 1:\n",
        "\n",
        "$$\n",
        "    \\int^\\pi_0 sin(x)dx = \\left . -\\cos (x) \\right|^\\pi_0 = 2\n",
        "$$\n",
        "\n",
        "La funció acumulativa és la integral de $f(x)$, que si ho expressem en funció de $x$, ens queda de forma analítica:\n",
        "\n",
        "$$\n",
        "    F(x) = \\int^x_0 f(x')dx' = \\frac{1}{2}\\int^x_0 sin(x')dx' = \\frac{1}{2}(\\left . -\\cos x' \\right|^x_0) = \\frac{1}{2}(1 - cos(x))\n",
        "$$\n",
        "<hr>"
      ],
      "metadata": {
        "id": "bHN-ya3KVDaW"
      }
    },
    {
      "cell_type": "markdown",
      "metadata": {
        "id": "eb2aqJ0quTh4"
      },
      "source": [
        "### <font color='orange'>**> Python #1**</font>\n",
        "\n",
        "Primer farem les gràfiques de f(x) i F(x). Defineix les funcions i grafica-les per x $\\in$[0,$\\pi$]:"
      ]
    },
    {
      "cell_type": "code",
      "metadata": {
        "id": "mQYDWCe6EAqu"
      },
      "source": [],
      "execution_count": null,
      "outputs": []
    },
    {
      "cell_type": "markdown",
      "metadata": {
        "id": "lWa4E68qrppS"
      },
      "source": [
        "### <font color='orange'>**> Python #2**</font>\n",
        "\n",
        "Per utilitzar el mètode de transformació, podem expressar F(x) com $u = F(x)$. Si invertim $F(x)$, obtenim:\n",
        "\n",
        "$$\n",
        "  x = arccos(1 - 2u)\n",
        "$$\n",
        "\n",
        "Si $u$ està distribuït uniformement entre 0 i 1, llavors $x$ estarà distribuït d'acord amb $f(x)$ entre 0 i $\\pi$.\n",
        "\n",
        "Crea una col·lecció de $10^6$ nombres aleatoris distribuïts de forma uniforme entre 0 i 1. Utilitza aquests valors per transformant-los amb aquesta funció. Dibuixa un histograma d'aquests valors transformats."
      ]
    },
    {
      "cell_type": "code",
      "metadata": {
        "id": "knWNtysJsbIu"
      },
      "source": [],
      "execution_count": null,
      "outputs": []
    },
    {
      "cell_type": "markdown",
      "source": [
        "### <font color='orange'>**> Python #3**</font>\n",
        "\n",
        "Dibuixa $f(x)$ a sobre d'aquest histograma que has fet. Hauràs de normalitzar l'histograma si vols comparar amb la funció de densitat de probabilitat."
      ],
      "metadata": {
        "id": "XdLc95fCLkt2"
      }
    },
    {
      "cell_type": "code",
      "source": [],
      "metadata": {
        "id": "q5DxhFdgMDix"
      },
      "execution_count": null,
      "outputs": []
    },
    {
      "cell_type": "markdown",
      "metadata": {
        "id": "078IW7BOtUcb"
      },
      "source": [
        "### <font color='green'>**> ENTREGA**</font>\n"
      ]
    },
    {
      "cell_type": "markdown",
      "source": [
        "1) Fes servir el mètode de MonteCarlo per a generar uns altres $10^6$ valors que estiguin distribuïts com $f(x)$. Recorda que has de generar valors aleatoris entre o i $\\pi$ en $x$, i entre el mínim i el màxim de $f(x)$ per $y$, i comparar per a cada parell de punts $(x_i,y_i)$ si queden per sota de $f(x_i)$. Si és així, ens quedem amb aquests $x_i$, que seguiràn una distribució de probabilitat $f(x)$.\n",
        "\n",
        "ULL! Pensa quants valors aleatoris has de generar per a obtenir aproximadament $10^6$ valors que compleixin amb la condició! **[2 punts]**\n",
        "\n",
        "Genera aquests $\\sim 10^6$ valors aleatoris pel mètode de MonteCarlo que segueixin $f(x)$ i fes un histograma. **[2 punts]**"
      ],
      "metadata": {
        "id": "0PAjJFboMWb1"
      }
    },
    {
      "cell_type": "code",
      "metadata": {
        "id": "g_iETuP6td_q"
      },
      "source": [],
      "execution_count": null,
      "outputs": []
    },
    {
      "cell_type": "markdown",
      "source": [
        "2) Normalitza aquest histograma, i mostra també l'histograma que has fet a l'apartat \"Phython #3\" i la funció $f(x)$. Tot en una única gràfica. **[2 punts]**"
      ],
      "metadata": {
        "id": "Xt7FchGSONrC"
      }
    },
    {
      "cell_type": "code",
      "source": [],
      "metadata": {
        "id": "teOaU3ayO_WM"
      },
      "execution_count": null,
      "outputs": []
    },
    {
      "cell_type": "markdown",
      "source": [
        "3) Farem ara el mateix, però ordenant els valors de aleatoris que has generat i fent una gràfica cumulativa en $x$ per resemblar la funció cumulativa $F(x)$. Això es fa així:\n",
        "\n",
        "*   Ordena de menor a major els teus valors aleatoris que segueixen $f(x)$\n",
        "*   Crea una altra llista pels valors en $y$ que sigui vagi de 0 a 1 en pasos de $1/N$.\n",
        "*   Fes la gràfica d'aquests parells de punts, que seguiràn la distribució de probabilitat cumulativa F(x).\n",
        "\n",
        "Fes un parell de gràfiques, per a cada mètode d'aquesta pràctica, i posa a damunt també $F(x)\". Però genera menys valors per als dos mètodes, diguem-ne N=500 perquè poguem visualitzar millor els resultats! **[4 punts]**\n"
      ],
      "metadata": {
        "id": "BAUY5R79PG-i"
      }
    },
    {
      "cell_type": "code",
      "source": [
        "\n"
      ],
      "metadata": {
        "id": "xwLQf5hWQWGs"
      },
      "execution_count": null,
      "outputs": []
    },
    {
      "cell_type": "markdown",
      "source": [
        "<hr>\n",
        "\n",
        "**Instruccions**\n",
        "\n",
        "*   Primer copia aquest notebook al teu drive (Archivo>Guardar una copia en Drive).\n",
        "*   Omple el teu nom, NIU i correu electrònic (gmail, si vols rebre comentaris/feedback sobre la teva entrega) a l'encapçalament d'aquest Notebook.\n",
        "*   Canvia el nom del Notebook a \"Pr3_NIU.ipynb\", on NIU és el teu NIU (*per exemple: Pr3_2055007.ipynb*).\n",
        "*   Ves gravant/guardant el Notebook de forma regular.\n",
        "*   Al final de la classe, descarrega aquest quadern en format .ipynb i l'has de pujar al següent *drop folder*: [Link](https://cern.ch/uabmn1pr). Assegura't que el fitxer té el nom correcte.\n",
        "*   Només s'avaluarà la part de l'entrega. Tindreu accés a la solució de totes les parts després d'haver entregat la pràctica.\n",
        "\n",
        "<hr>"
      ],
      "metadata": {
        "id": "0yJ-Dj9jVs9A"
      }
    }
  ]
}