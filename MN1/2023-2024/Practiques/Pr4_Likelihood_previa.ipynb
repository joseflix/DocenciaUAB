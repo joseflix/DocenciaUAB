{
  "nbformat": 4,
  "nbformat_minor": 0,
  "metadata": {
    "colab": {
      "provenance": [],
      "include_colab_link": true
    },
    "kernelspec": {
      "display_name": "Python 3",
      "language": "python",
      "name": "python3"
    }
  },
  "cells": [
    {
      "cell_type": "markdown",
      "metadata": {
        "id": "view-in-github",
        "colab_type": "text"
      },
      "source": [
        "<a href=\"https://colab.research.google.com/github/joseflix/DocenciaUAB/blob/master/MN1/2023-2024/Practiques/Pr4_Likelihood_previa.ipynb\" target=\"_parent\"><img src=\"https://colab.research.google.com/assets/colab-badge.svg\" alt=\"Open In Colab\"/></a>"
      ]
    },
    {
      "cell_type": "markdown",
      "source": [
        "# **Pràctica 4: Mètode de màxima versemblança (likelihood) at work**"
      ],
      "metadata": {
        "id": "ed4ybISnA9uC"
      }
    },
    {
      "cell_type": "markdown",
      "source": [
        "**Objectiu de la pràctica**\n",
        "\n",
        "Vam veure a classe que la funció de versemblança ($\\textit{likelihood function}$ en anglès) per a un conjunt de valors $\\{x_1,...,x_n\\}$ que segueixen una distribució de probabilitat $f$ que depèn d'un paràmetre $\\theta$ ve definida per:\n",
        "\n",
        "$$\n",
        "L(\\theta) = \\prod_{i=1}^n f(x_i;\\theta)\n",
        "$$\n",
        "\n",
        "Si disposem d'un conjunt de valors que sabem que segueixen una distribució determinada, podem construir el quocient de versemblança entre dos valors del paràmetre $\\theta$:\n",
        "\n",
        "$$\n",
        "Q(\\theta_1) = \\frac{L(\\theta_1)}{L(\\theta_{ref})}\n",
        "$$\n",
        "\n",
        "Si $Q>1$, és intuïtiu pensar que el valor de $\\theta_1$ és més probable que el valor de $\\theta_{ref}$."
      ],
      "metadata": {
        "id": "x-ccrrRqBNQJ"
      }
    },
    {
      "cell_type": "markdown",
      "source": [
        "<font color='orange'>**> Python #1**</font>\n",
        "\n",
        "Tenim 100 mesures que segueixen la següent distribució de Pareto:\n",
        "\n",
        "$$\n",
        "f(x;\\alpha) = \\frac{\\alpha}{x^{\\alpha+1}}, \\alpha > 0, \\quad x \\in [1,\\infty)\n",
        "$$\n",
        "\n",
        "És una distribució que depèn d'un paràmetre $\\alpha$. Agafarem el valor de referència de $\\alpha_{ref}$=1+(últims dos dígitis NIU)/100 i calcularem $Q$ per a un rang de valors de $\\alpha$ (per exemple, si el teu NIU és 1615432, $\\alpha_{ref}$=1.32). Es tracta de trobar el màxim valor de Q, que correspon a una estimació del paràmetre $\\alpha_{opt}$ que s'ajusta millor a les mesures.\n",
        "\n",
        "Les mesures són:\n",
        "\n",
        "```\n",
        "x = [2.73132969,1.21929592,2.04302258,1.49995938,1.1865351,2.32398417,1.08277556,2.80151033,1.55646876,1.62986655,1.10269442,2.98881179,\n",
        "     1.08519505,1.37804267,1.01455413,1.04229347,1.27550387,1.50647462,1.35770365,1.31164913,1.84907585,1.84474957,1.68860849,4.75516076,\n",
        "     1.07313229,1.08137297,1.71225823,1.1870415,2.58066787,1.17598838,1.03824839,1.03887409,1.05131455,1.58359672,1.53241354,1.10785649,\n",
        "     1.57199901,1.54132259,1.04928338,1.66617945,1.18224489,1.31698078,1.11208638,1.04422619,1.42262102,1.26360848,2.27996545,1.15668472,\n",
        "     2.16406287,1.12938044,1.02825654,1.5040314,1.15382534,1.00950614,1.07241586,1.15838187,1.18258782,1.61896388,3.43153026,2.18518723,\n",
        "     1.00103234,1.19055495,1.20738098,1.15562534,1.38265986,1.04521684,1.04798027,1.22760926,1.0618476,2.08672498,1.19262065,1.33103947,\n",
        "     1.06377739,1.41585491,1.30806538,1.30748544,1.04321192,1.38188847,1.15718462,1.05121329,1.57976311,1.19944742,2.13362692,1.15419423,\n",
        "     1.74810777,1.08282923,1.00417485,1.39527086,1.1948191,1.40233872,1.01076528,1.57026398,2.9560986,1.21978924,1.01575068,1.9394421,\n",
        "     1.11541329,1.19029772,1.48326718,1.03036176]\n",
        "```\n",
        "\n",
        "Defineix en aquesta secció dues funcions:\n",
        "\n",
        "*   una funció que prengui la llista de mesures i un valor $\\alpha$ concret i que retorni el valor de L($\\alpha$)\n",
        "*   una funció que prengui la llista de mesures, un valor $\\alpha$ concret, i un valor de referència $\\alpha_{ref}$ i que retorni el valor de Q($\\alpha$)\n",
        "\n",
        "Imprimeix per pantalla el valor de L per a $\\alpha$=$\\alpha_{ref}$, i el valor de Q($\\alpha$=$\\alpha_{ref}$), que evidentment ha de donar el valor de 1.\n",
        "\n",
        "Com moltes altres distribucions, la Pareto es pot trobar a ``scipy.stats```:\n",
        "\n",
        "```ss.pareto.rvs(b, loc=0, scale=1, size=1)```\n",
        "\n",
        "```ss.pareto.pdf(x, b, loc=0, scale=1)```\n",
        "\n",
        "En aquestes funcions farem servir loc=0 i scale=1. No cal passar aquests paràmetres, ja que farem servir els que prenen per defecte. En aquest cas, b=$\\alpha$."
      ],
      "metadata": {
        "id": "OZrJNA3jGZdZ"
      }
    },
    {
      "cell_type": "code",
      "source": [
        "# El teu codi"
      ],
      "metadata": {
        "id": "16B6Fvfzf3lz"
      },
      "execution_count": 1,
      "outputs": []
    },
    {
      "cell_type": "markdown",
      "source": [
        "<font color='orange'>**> Python #2**</font>\n",
        "\n",
        "Pren 1000 valors equidistants de $\\alpha$ entre 0.5 i 10, calcula els valors de Q per a cadascun d'aquests valors de $\\alpha$. Fes una gràfica d'aquests valors obtinguts davant dels valors de $\\alpha$ i avalua $\\alpha_{opt}$, aquell que màxima Q."
      ],
      "metadata": {
        "id": "PTkeqHRGIpjo"
      }
    },
    {
      "cell_type": "code",
      "source": [
        "# El teu codi"
      ],
      "metadata": {
        "id": "fdjtGsYQgUzv"
      },
      "execution_count": 2,
      "outputs": []
    },
    {
      "cell_type": "markdown",
      "source": [
        "### <font color='green'>**> ENTREGA**</font>\n",
        "\n",
        "Ho veureu-ho a la pràctica..."
      ],
      "metadata": {
        "id": "m7qwYmaRJdV7"
      }
    }
  ]
}