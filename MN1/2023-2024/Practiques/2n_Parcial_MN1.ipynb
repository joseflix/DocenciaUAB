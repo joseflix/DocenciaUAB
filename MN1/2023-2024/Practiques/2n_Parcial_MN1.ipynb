{
  "nbformat": 4,
  "nbformat_minor": 0,
  "metadata": {
    "colab": {
      "provenance": [],
      "authorship_tag": "ABX9TyMsKXXHfzeA8m6YEvaWJV5N",
      "include_colab_link": true
    },
    "kernelspec": {
      "name": "python3",
      "display_name": "Python 3"
    },
    "language_info": {
      "name": "python"
    }
  },
  "cells": [
    {
      "cell_type": "markdown",
      "metadata": {
        "id": "view-in-github",
        "colab_type": "text"
      },
      "source": [
        "<a href=\"https://colab.research.google.com/github/joseflix/DocenciaUAB/blob/master/MN1/2023-2024/Practiques/2n_Parcial_MN1.ipynb\" target=\"_parent\"><img src=\"https://colab.research.google.com/assets/colab-badge.svg\" alt=\"Open In Colab\"/></a>"
      ]
    },
    {
      "cell_type": "markdown",
      "source": [
        "# **MN1: 2n parcial (programació) 13/06/2024**\n",
        "\n",
        "<hr>\n",
        "\n",
        "**Nom:**\n",
        "\n",
        "**NIU:**\n",
        "\n",
        "**mail (gmail):**\n",
        "\n",
        "<hr>\n",
        "\n",
        "**\"Instruccions d'edició del Notebook i lliurament\"**\n",
        "\n",
        "*   Obre el Notebook des de GitHub (\"Open in Colab\") i genera una còpia al teu Drive (\"Guardar una còpia a Drive\"). Editeu aquesta còpia per a l'examen.\n",
        "*   Reanomena aquesta còpia utilitzant el teu NIU com a nom de fitxer: \"NIU.ipynb\" (*per exemple, 2055007.ipynb*).\n",
        "*   Omple el teu nom, NIU i correu electrònic (gmail, si vols rebre els comentaris/feedback sobre el teu examen) a la capçalera d'aquest Notebook.\n",
        "*   Al final de l'examen, descarrega aquest Notebook en format .ipynb i l'has de pujar a la següent *drop folder*: [Link](https://cern.ch/examendf2024). Assegura't que el fitxer té el nom correcte.\n",
        "*   Podeu tornar a pujar el fitxer si creieu que hi ha un error, però només considerarem l'última versió, i dins de l'horari establert.\n",
        "*   **NOTA:** Abans d'entregar o donar per finalitzat cada exercici, és recomanable reiniciar l'entorn d'execució per veure que s'executa tot de manera correcta: \"Entorn d'execució >> Reiniciar entorn d'execució\", i després \"Entorn d'execució >> Executar-ho tot\".\n",
        "\n",
        "<hr>\n",
        "\n",
        "**Instruccions de l'examen**\n",
        "\n",
        "*   L'examen es realitza de forma individual.\n",
        "*   L'horari és de 9h a 12h. No s'acceptaran entregues passada aquesta hora.\n",
        "*   Podeu consultar apunts, entregues o utilitzar internet per buscar informació, però **NO** comunicar-vos entre vosaltres/es, ni utilitzar ChatGPT, ni Whatsapp, ni missatgeria... Revisarem durant l'examen que no tingueu finestres obertes amb aquestes aplicacions.\n",
        "*    **NOTA:** Tenim una eina per comparar Notebooks aplicant IA. Si hi ha còpies flagrants, obtindreu un cero, i us cridarem a revisió personalitzada.\n",
        "\n",
        "<hr>\n",
        "\n",
        "## **EXAMEN**"
      ],
      "metadata": {
        "id": "UOKxu2f_uHQJ"
      }
    },
    {
      "cell_type": "code",
      "execution_count": null,
      "metadata": {
        "id": "IzERzcDb_6Wm"
      },
      "outputs": [],
      "source": [
        "# Executa aquesta part de codi per importar llibreries comunes (afegeix les que creguis necessàries a aquesta llista):\n",
        "\n",
        "import numpy as np\n",
        "import matplotlib.pyplot as plt\n",
        "import math\n",
        "import random\n",
        "import scipy.stats as ss"
      ]
    },
    {
      "cell_type": "markdown",
      "source": [
        "<font color='green'>**> Exercici #1 [4 punts]**</font>\n",
        "\n",
        "Anem a resoldre numèricament una equació diferencial amb el mètode numèric ([d'Euler](http://en.wikipedia.org/wiki/Euler_method)) i compararem amb la solució analítica de la equació diferencial."
      ],
      "metadata": {
        "id": "RKctM4aVzh8E"
      }
    },
    {
      "cell_type": "markdown",
      "source": [
        "**1.1 [1 punt]:** Defineix dues funcions:\n",
        "\n",
        "*    Donada una llista de valors x, una funció que ens retorni els valors de la funció:\n",
        "\n",
        "$y(x)=-\\frac{1}{x+1}$\n",
        "\n",
        ", és a dir: *def solucio(x)*\n",
        "*    Una altra que li passis límits inferiors i superiors en x, i un interval ϵ, i retorni els parells x,y avaluats tal que:\n",
        "\n",
        "$$\n",
        "y_0 = -1 \\\\\n",
        "y_1 = y_0 + ϵ (y_0^2) \\\\\n",
        "y_2 = y_1 + ϵ (y_1^2) \\\\\n",
        "...\n",
        "$$\n",
        "\n",
        "\n",
        "és a dir *def euler(xinf,xsup,eps)*. Aquesta funció ha de retornar dues llistes --> *return x_eu, y_eu* i ens dona la solució pel mètode d'Euler."
      ],
      "metadata": {
        "id": "PYdfKBnA60l5"
      }
    },
    {
      "cell_type": "code",
      "source": [
        "# El teu codi"
      ],
      "metadata": {
        "id": "eWCa1GYw8Lgm"
      },
      "execution_count": null,
      "outputs": []
    },
    {
      "cell_type": "markdown",
      "source": [
        "**1.2 [2 punts]:** Dibuixa la funció solució a l'interval en x de [0,5], i també els punts que avalues amb el mètode d'Euler en aquest rang per a un ϵ=0.25."
      ],
      "metadata": {
        "id": "gi6Z_QTX9xCo"
      }
    },
    {
      "cell_type": "code",
      "source": [
        "# El teu codi"
      ],
      "metadata": {
        "id": "-snrWq7C8jnI"
      },
      "execution_count": null,
      "outputs": []
    },
    {
      "cell_type": "markdown",
      "source": [
        "**1.3 [1 punt]:** Com veus, hi ha marge de millora... Determina aproximadament quin valor de ϵ hauries de fer servir per a obtenir una diferència màxima entre els punts avaluats d'Euler i la teva funció solució de com a màxim un 1%, de forma relativa. És a dir:\n",
        "\n",
        "$$\n",
        "MAX_n ( 100 \\cdot |(y_{sol,n}-y_{euler,n})/y_{euler,n}| ) < 1\\%\n",
        "$$\n",
        "\n",
        "\n",
        "Dibuixa aquest escenari, similar a com has fet 1.2"
      ],
      "metadata": {
        "id": "ZhZd-nvz-Ilg"
      }
    },
    {
      "cell_type": "code",
      "source": [
        "# El teu codi"
      ],
      "metadata": {
        "id": "9gCjcebZ-yz4"
      },
      "execution_count": null,
      "outputs": []
    },
    {
      "cell_type": "markdown",
      "source": [
        "<font color='green'>**> Exercici #2 [4 punts]**</font>\n",
        "\n",
        "Si generem una llista de $n$ valors $X_1,...,X_n$ que segueixen una distribució uniforme entre 0 i 1, aquests tenen uns valors esperats per a la mitja i la variança de:\n",
        "\n",
        "$$\n",
        "\\mu = 0.5\n",
        "$$\n",
        "\n",
        "$$\n",
        "Var = ∫_0^1 (x-0.5)^2 dx = \\frac{1}{12}\n",
        "$$\n",
        "\n",
        "Anem a demostrar que efectivament tenim un estimador de la variança no esbiaixat que és:\n",
        "\n",
        "$$\n",
        "s_{ne}^2 = \\frac{1}{n-1} \\sum_{i=1}^n (X_i - \\bar{X})^2\n",
        "$$\n",
        "\n",
        "on:\n",
        "\n",
        "$$\n",
        "\\bar{X} = \\frac{1}{n}\\sum_{i=1}^n X_i\n",
        "$$\n",
        "\n",
        "Evidentment l'estimador de la variança esbiaixat és:\n",
        "\n",
        "$$\n",
        "s_{e}^2 = \\frac{1}{n} \\sum_{i=1}^n (X_i - \\bar{X})^2\n",
        "$$\n",
        "\n",
        "Anem a demostrar-ho..."
      ],
      "metadata": {
        "id": "17g1wI4WDnQl"
      }
    },
    {
      "cell_type": "markdown",
      "source": [
        "**2.1 [2 punts]:** Genera 100 punts aleatoris segons aquesta distribució uniforme entre 0 i 1, i anem a dibuixar els valors avaluats per a $s_{ne}^2$ i $s_{e}^2$, en funció de $n$. És a dir, una gràfica dels valors dels estimadors  augmentant $n$ de 2 a 100: agafem els dos primers valors, avaluem. Agafem els 3 primers, i avaluem... i així successivament...\n",
        "\n",
        "Per a un conjunt de valors, la funció $var$ de Numpy ens permet avaluar el valor esbiaixat i el no esbiaixat com:\n",
        "\n",
        "```\n",
        "biased = np.var(valors, ddof=0)\n",
        "unbiased = np.var(valors, ddof=1)\n",
        "```\n",
        "\n",
        "Així doncs, genera els 100 punts, i ves avaluant quina pinta tenen aquests valors. Afegeix una línea horitzontal al valor de y=1/12 (variança real!).\n",
        "\n",
        "\n"
      ],
      "metadata": {
        "id": "uiA4gQ79GAff"
      }
    },
    {
      "cell_type": "code",
      "source": [
        "# El teu codi"
      ],
      "metadata": {
        "id": "0gu4TFInuzSM"
      },
      "execution_count": null,
      "outputs": []
    },
    {
      "cell_type": "markdown",
      "source": [
        "**2.2 [2 punts]:** Aquesta gràfica que has fet a 1.1. va canviant cada cop que l'executes. De fet, tots dos estimadors semblen convergir a la variància de la població 1/12 i la variància esbiaixada és lleugerament menor que l'estimador no esbiaixat. No obstant això, a partir d'aquests resultats, és difícil veure quin estimador s'ajusta millor a la variança real...\n",
        "\n",
        "Per tant, repeteix aquest experiment 10.000 vegades i representa el valor mitjà per a cada punt de $n$, i el valor de 1/12 (variança real).\n",
        "\n",
        "Veuràs que l'estimador no esbiaixat, en promig, és de fet no esbiaixat, independentment de $n$... cosa que no passa amb l'altre estimador, que es assimptòticament no esbiaixat (s'acosta a 1/12 si n creix suficient, on $n-1$ es pot aproximar de fet a $n$)!"
      ],
      "metadata": {
        "id": "RRbKHuUVH9gs"
      }
    },
    {
      "cell_type": "code",
      "source": [
        "# El teu codi"
      ],
      "metadata": {
        "id": "c1nnPLFDIvr_"
      },
      "execution_count": null,
      "outputs": []
    },
    {
      "cell_type": "markdown",
      "source": [
        "<font color='green'>**> Exercici #3 [2 punts]**</font>\n",
        "\n",
        "El mètode **Multiplicative Linear Congruential Generator** s'usa per generar nombres aleatoris entre 0 i 1. El mètode consisteix a començar amb un nombre enter arbitrari, $z_0$ (al qual s'anomena “llavor”), comprès entre 0 i un nombre sencer gran, $m$, tots dos elegits i fixats per nosaltres.\n",
        "\n",
        "Per generar un altre nombre enter entre 0 i $m$ es procedeix segons:\n",
        "\n",
        "$$\n",
        "z_{n+1} = mod(a·z_n + b, m)\n",
        "$$\n",
        "\n",
        "on $a$ i $b$ són constants convenientment triades, i on $mod(x, m)$ és la resta de dividir $x$ entre $m$. Per obtenir una seqüència de nombres reals entre 0 i 1 dividim els anteriors per $m$.\n",
        "\n",
        "Si partim de la mateixa llavor, donats $a$, $b$ i $m$, la seqüència de nombres aleatoris és la mateixa.\n",
        "\n",
        "Hi ha diversos valors que es poden utilitzar (https://ca.wikipedia.org/wiki/Generador_lineal_congruencial). En aquest exercici farem servir un $z_0 = 10$ i els valors que s'usen a *Numerical Recipes*:\n",
        "\n",
        "$a = 1664525$\n",
        "\n",
        "$b = 1013904223$\n",
        "\n",
        "$m = 2·10^{32}$"
      ],
      "metadata": {
        "id": "F62gzvSuJNbG"
      }
    },
    {
      "cell_type": "markdown",
      "source": [
        "**3.1 [1 punt]** Implementa una funció que retorni una llista de N nombres aleatoris entre 0 i 1, implementant el mètode proposat en aquest exercici. Per fer que la funció sigui el més genèrica possible, passa totes les variables com a paràmetres, és a dir:\n",
        "\n",
        "```\n",
        "def MLCG(z0,a,b,m,N):\n",
        " #el teu codi ...\n",
        " # return \"llista de N valors entre 0 i 1\"\n",
        "```"
      ],
      "metadata": {
        "id": "W-4lxKlkKGVQ"
      }
    },
    {
      "cell_type": "code",
      "source": [
        "# El teu codi"
      ],
      "metadata": {
        "id": "XtMhlqXKKRhZ"
      },
      "execution_count": null,
      "outputs": []
    },
    {
      "cell_type": "markdown",
      "source": [
        "**3.2 [1 punt]** Genera $10^6$ nombres aleatoris entre 0 i 1 usant la teva funció *MLCG()* i dibuixa un histograma normalitzat dels valors (*emprant* 50 bins). Si està ben fet, hauries de veure un histograma compatible amb una distribució uniforme entre 0 i 1."
      ],
      "metadata": {
        "id": "26I6ihcpKnDO"
      }
    },
    {
      "cell_type": "code",
      "source": [
        "# El teu codi"
      ],
      "metadata": {
        "id": "c6UT7QnwLORg"
      },
      "execution_count": null,
      "outputs": []
    }
  ]
}