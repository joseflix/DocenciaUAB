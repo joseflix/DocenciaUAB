{
  "nbformat": 4,
  "nbformat_minor": 0,
  "metadata": {
    "colab": {
      "provenance": [],
      "include_colab_link": true
    },
    "kernelspec": {
      "name": "python3",
      "display_name": "Python 3"
    }
  },
  "cells": [
    {
      "cell_type": "markdown",
      "metadata": {
        "id": "view-in-github",
        "colab_type": "text"
      },
      "source": [
        "<a href=\"https://colab.research.google.com/github/joseflix/DocenciaUAB/blob/master/MN1/2023-2024/Practiques/Pr3_Metode_Transformacio_previa.ipynb\" target=\"_parent\"><img src=\"https://colab.research.google.com/assets/colab-badge.svg\" alt=\"Open In Colab\"/></a>"
      ]
    },
    {
      "cell_type": "markdown",
      "metadata": {
        "id": "vE_UggmHoZDG"
      },
      "source": [
        "# **Pràctica 3: Transformació d'una distribució**\n",
        "\n",
        "<hr>\n",
        "\n",
        "**Objectiu de la pràctica**\n",
        "\n",
        "Emprar el mètode de transformació per transformar nombres aleatoris entre [0,1] perquè segueixin una distribució determinada.\n",
        "\n",
        "En particular, en aquesta pràctica generarem nombres aleatoris que segueixin una distribució amb aquesta forma, entre $0$ i $\\pi$:\n",
        "\n",
        "$$\n",
        "  f(x) = \\frac{1}{2} sin(x)\n",
        "$$\n",
        "\n",
        "El factor 2 prové de la integral analítica de $sin(x)$, així obtenim una normalització adequada de $f(x)$, és a dir, que la seva integral entre 0 i $\\pi$ sigui 1:\n",
        "\n",
        "$$\n",
        "    \\int^\\pi_0 sin(x)dx = \\left . -\\cos (x) \\right|^\\pi_0 = 2\n",
        "$$\n",
        "\n",
        "La funció acumulativa és la integral de $f(x)$, que si ho expressem en funció de $x$, ens queda de forma analítica:\n",
        "\n",
        "$$\n",
        "    F(x) = \\int^x_0 f(x')dx' = \\frac{1}{2}\\int^x_0 sin(x')dx' = \\frac{1}{2}(\\left . -\\cos x' \\right|^x_0) = \\frac{1}{2}(1 - cos(x))\n",
        "$$\n",
        "<hr>"
      ]
    },
    {
      "cell_type": "markdown",
      "metadata": {
        "id": "eb2aqJ0quTh4"
      },
      "source": [
        "### <font color='orange'>**> Python #1**</font>\n",
        "\n",
        "Primer farem les gràfiques de f(x) i F(x). Defineix les funcions i grafica-les per x $\\in$[0,$\\pi$]:"
      ]
    },
    {
      "cell_type": "code",
      "metadata": {
        "id": "mQYDWCe6EAqu"
      },
      "source": [
        "# El teu codi\n"
      ],
      "execution_count": 1,
      "outputs": []
    },
    {
      "cell_type": "markdown",
      "metadata": {
        "id": "lWa4E68qrppS"
      },
      "source": [
        "### <font color='orange'>**> Python #2**</font>\n",
        "\n",
        "Per utilitzar el mètode de transformació, podem expressar F(x) com $u = F(x)$. Si invertim $F(x)$, obtenim:\n",
        "\n",
        "$$\n",
        "  x = arccos(1 - 2u)\n",
        "$$\n",
        "\n",
        "Si $u$ està distribuït uniformement entre 0 i 1, llavors $x$ estarà distribuït d'acord amb $f(x)$ entre 0 i $\\pi$.\n",
        "\n",
        "Crea una col·lecció de $10^6$ nombres aleatoris distribuïts de forma uniforme entre 0 i 1. Utilitza aquests valors per transformant-los amb aquesta funció. Dibuixa un histograma d'aquests valors transformats."
      ]
    },
    {
      "cell_type": "code",
      "metadata": {
        "id": "knWNtysJsbIu"
      },
      "source": [
        "# El teu codi\n"
      ],
      "execution_count": 2,
      "outputs": []
    },
    {
      "cell_type": "markdown",
      "source": [
        "### <font color='orange'>**> Python #3**</font>\n",
        "\n",
        "Dibuixa $f(x)$ a sobre d'aquest histograma que has fet. Hauràs de normalitzar l'histograma si vols comparar amb la funció de densitat de probabilitat."
      ],
      "metadata": {
        "id": "XdLc95fCLkt2"
      }
    },
    {
      "cell_type": "code",
      "source": [
        "# El teu codi\n"
      ],
      "metadata": {
        "id": "q5DxhFdgMDix"
      },
      "execution_count": 3,
      "outputs": []
    },
    {
      "cell_type": "markdown",
      "metadata": {
        "id": "078IW7BOtUcb"
      },
      "source": [
        "### <font color='green'>**> ENTREGA**</font>\n"
      ]
    },
    {
      "cell_type": "markdown",
      "source": [
        "Ho veureu-ho a la pràctica..."
      ],
      "metadata": {
        "id": "0PAjJFboMWb1"
      }
    }
  ]
}