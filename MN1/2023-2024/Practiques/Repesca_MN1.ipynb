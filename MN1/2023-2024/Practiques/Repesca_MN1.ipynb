{
  "nbformat": 4,
  "nbformat_minor": 0,
  "metadata": {
    "colab": {
      "provenance": [],
      "authorship_tag": "ABX9TyN2ppscRXa1z8y+SSL+ffjX",
      "include_colab_link": true
    },
    "kernelspec": {
      "name": "python3",
      "display_name": "Python 3"
    },
    "language_info": {
      "name": "python"
    }
  },
  "cells": [
    {
      "cell_type": "markdown",
      "metadata": {
        "id": "view-in-github",
        "colab_type": "text"
      },
      "source": [
        "<a href=\"https://colab.research.google.com/github/joseflix/DocenciaUAB/blob/master/MN1/2023-2024/Practiques/Repesca_MN1.ipynb\" target=\"_parent\"><img src=\"https://colab.research.google.com/assets/colab-badge.svg\" alt=\"Open In Colab\"/></a>"
      ]
    },
    {
      "cell_type": "markdown",
      "source": [
        "# **MN1: Repesca (programació) 26/06/2024**\n",
        "\n",
        "<hr>\n",
        "\n",
        "**Nom:**\n",
        "\n",
        "**NIU:**\n",
        "\n",
        "**mail (gmail):**\n",
        "\n",
        "<hr>\n",
        "\n",
        "**\"Instruccions d'edició del Notebook i lliurament\"**\n",
        "\n",
        "*   Obre el Notebook des de GitHub (\"Open in Colab\") i genera una còpia al teu Drive (\"Guardar una còpia a Drive\"). Editeu aquesta còpia per a l'examen.\n",
        "*   Reanomena aquesta còpia utilitzant el teu NIU com a nom de fitxer: \"NIU.ipynb\" (*per exemple, 2055007.ipynb*).\n",
        "*   Omple el teu nom, NIU i correu electrònic (gmail, si vols rebre els comentaris/feedback sobre el teu examen) a la capçalera d'aquest Notebook.\n",
        "*   Al final de l'examen, descarrega aquest Notebook en format .ipynb i l'has de pujar a la següent *drop folder*: [Link](https://cern.ch/examendf2024). Assegura't que el fitxer té el nom correcte.\n",
        "*   Podeu tornar a pujar el fitxer si creieu que hi ha un error, però només considerarem l'última versió, i dins de l'horari establert.\n",
        "*   **NOTA:** Abans d'entregar o donar per finalitzat cada exercici, és recomanable reiniciar l'entorn d'execució per veure que s'executa tot de manera correcta: \"Entorn d'execució >> Reiniciar entorn d'execució\", i després \"Entorn d'execució >> Executar-ho tot\".\n",
        "\n",
        "<hr>\n",
        "\n",
        "**Instruccions de l'examen**\n",
        "\n",
        "*   L'examen es realitza de forma individual.\n",
        "*   **Si vens només a recuperar la segona part de l'assignatura (programació) has de fer l'exercici 2 (en la seva totalitat) i el 3.1 i 3.2.**\n",
        "*   L'horari és de 9h a 12h. No s'acceptaran entregues passada aquesta hora.\n",
        "*   Podeu consultar apunts, entregues o utilitzar internet per buscar informació, però **NO** comunicar-vos entre vosaltres/es, ni utilitzar ChatGPT, ni Whatsapp, ni missatgeria... Revisarem durant l'examen que no tingueu finestres obertes amb aquestes aplicacions.\n",
        "*    **NOTA:** Tenim una eina per comparar Notebooks aplicant IA. Si hi ha còpies flagrants, obtindreu un cero, i us cridarem a revisió personalitzada.\n",
        "\n",
        "<hr>\n",
        "\n",
        "## **EXAMEN**"
      ],
      "metadata": {
        "id": "LaKOtTqafcag"
      }
    },
    {
      "cell_type": "code",
      "execution_count": null,
      "metadata": {
        "id": "lC9I7vPnFs2a"
      },
      "outputs": [],
      "source": [
        "# Executa aquesta part de codi per importar llibreries comunes (afegeix les que creguis necessàries a aquesta llista):\n",
        "\n",
        "import numpy as np\n",
        "import matplotlib.pyplot as plt\n",
        "import math\n",
        "import random\n",
        "import scipy.stats as ss"
      ]
    },
    {
      "cell_type": "markdown",
      "source": [
        "<font color='green'>**> Exercici #1 [3 punts]**</font>\n",
        "\n",
        "Està plovent. El número de gotes que cau per $m^2$ i per segon segueix una distribució normal $[\\mu=100,\\sigma=10]$. El volum de cada gota, en $ml$ també segueix una distribució normal $[\\mu=0.1,\\sigma=0.01]$ $ml$.\n",
        "\n",
        "Si posem una galleda que té un radi de $10$ $cm$, quan de temps haurem d'esperar per a obtenir 1 llitre d'aigua a la galleda?\n",
        "\n",
        "El cálcul és fàcil, fent servir les mitjanes... no? En un segon cauen en 1 $m^2$ unes 100 gotes en promig. Fent servir el promig del volum per gota, en cada segon cauen per $m^2$ un volum de $100 \\cdot 0.1 = 10$ $ml$. O sigui, que necessitem 100 segons per a tenir 1 llitre en 1 $m^2$. Ara bé, el cub té una àrea de $\\pi*0.1^2$, o sigui que un $\\pi$ % de les gotes cauen al cubell. Així doncs, hem d'escalar i obtenim un temps approximat de $3183.1$ segons per a tenir 1 llitre a la galleda."
      ],
      "metadata": {
        "id": "Wfd-4n29VOwm"
      }
    },
    {
      "cell_type": "markdown",
      "source": [
        "**1.1 [1.5 punts]:** Anem a simular, en pasos de 1 segon, els $ml$ que van caient al cub. Quan arribis a un V que superi 1 llitre, calcula els segons que has trigat.\n",
        "\n",
        "**Nota 1:** fes servir la distribució normal per a generar el número de gotes que cauen per segon, però les gotes són un número enter, així que fes servir la funció int()\n",
        "\n",
        "**Nota 2:** pots posar el cub al centre del pla (x,y), és a dir, centrat a (0,0), i tirar gotes random entre [-0.5,0.5], tant en $x$ i en $y$, i anar comptant quantes van caient dins. Recorda que les gotes tenen una distribució de volum també!\n",
        "\n",
        "Fes una funció que retorni els segons totals i el volum total (en ml) capturat al cub. Cada cop que crides aquesta funció obtens un valor de t diferent, ja que tenim una casuística probabilística. Recorda que obtens un valor de t que és un enter, és a dir: \"en el segon 3125 tinc 1000.012 llitres al cub\", per exemple."
      ],
      "metadata": {
        "id": "lDpopnAVZxJX"
      }
    },
    {
      "cell_type": "code",
      "source": [
        "# El teu codi"
      ],
      "metadata": {
        "id": "xUk1dYVUbZQU"
      },
      "execution_count": null,
      "outputs": []
    },
    {
      "cell_type": "markdown",
      "source": [
        "**1.2 [1.5 punts]:** Fes 50 simulacions, i fes una distribució normalitzada tant dels valors de temps com els volums obtinguts. Posa a damunt de cada histograma una línea del valor esperat ($3183.1$ segons, $1000$ ml).\n",
        "\n",
        "Imprimeix per pantalla els valors mitjans i el seu error ($std()/\\sqrt{50}$), tant per al temps com per al volum. Com veus, els valors estan esbiaixats, ja que estem considerant intervals de temps que van creixen en +1 segons..."
      ],
      "metadata": {
        "id": "UNVURi4mdAJh"
      }
    },
    {
      "cell_type": "code",
      "source": [
        "# El teu codi"
      ],
      "metadata": {
        "id": "D_YeJs61FwD4"
      },
      "execution_count": null,
      "outputs": []
    },
    {
      "cell_type": "markdown",
      "source": [
        "<font color='green'>**> Exercici #2 [4 punts]**</font>\n",
        "\n",
        "Anem a resoldre de forma numèrica la integral de $y(x)$:\n",
        "\n",
        "$$\n",
        "y(x) = e^{-x/10} \\cdot \\cos^2(x)\n",
        "$$\n",
        "\n",
        "a l'interval [0,25]. La integral analítica té com un valor de $I_{analítica} = 4.595685355693155$ (en unitats arbitràries).\n"
      ],
      "metadata": {
        "id": "XwMpUcZDH8RY"
      }
    },
    {
      "cell_type": "markdown",
      "source": [
        "**2.1 [1 punt]:** Dibuixa la funció y(x) en aquest interval."
      ],
      "metadata": {
        "id": "3BxK3cueIrWY"
      }
    },
    {
      "cell_type": "code",
      "source": [
        "# El teu codi"
      ],
      "metadata": {
        "id": "PIaIjdL4IvDL"
      },
      "execution_count": null,
      "outputs": []
    },
    {
      "cell_type": "markdown",
      "source": [
        "**2.2 [1.5 punts]:** Fixa't que la funció no existeix en tot l'interval, sino que té una envolvent $e^{-x/10}$, i tots els valors de $y(x)$ cauen per sota d'aquesta envolvent exponencial. Així doncs, en comptes de generar valors random en (x,y) per aplicar el mètode de MonteCarlo vist a classe, podem generar nombres aleatoris al pla (x,y) però que quedin per sota de la envolvent. De fet, sabem fer això, amb la funció cumulativa de la envolvent i un generador de números aleatoris entre 0 i 1. Aplicant el mètode de transformació, podem obtenir x's distribuïts segons la envolvent emprant:\n",
        "\n",
        "$$\n",
        "x_{tries} = -1*np.log(1-r)/.1\n",
        "$$\n",
        "\n",
        "on r són números aleatoris entre [0,1].\n",
        "\n",
        "Procedeix de la següent manera:\n",
        "\n",
        "*   Genera N=10000 $x_{tries}$.\n",
        "*   Queda't amb aquells que estiguin entre [0,25].\n",
        "*   Per a cadascú d'aquests $x_{tries}$, calcula el valor $y_{tries}$ aleatòriament, un valor comprès entre 0 i $y(x_{tries})$, per a cadascú dels valors de x considerats.\n",
        "*   Dibuixa la envolvent i els parells de valors (x,y) generats. Verifica visualment que tots queden per sota de la envolvent, distribuits de forma uniforme en x i y."
      ],
      "metadata": {
        "id": "1R7Gg8h7JLR9"
      }
    },
    {
      "cell_type": "code",
      "source": [
        "# El teu codi"
      ],
      "metadata": {
        "id": "nz8LrqtkLl4N"
      },
      "execution_count": null,
      "outputs": []
    },
    {
      "cell_type": "markdown",
      "source": [
        "**2.3 [1.25 punts]:** Si ara apliquem aquests valors aleatoris (x,y) sota la envolvent per a calcular la integral numèrica, convergirà molt més ràpid que si haguèssim fet servir tot el pla (x,y) entre [0,1] en $y$ i [0,25] en $x$, ja que molts punts caurien per sobre de la envolvent, i serien inútils per a calcular res, ja que sempre quedaríen rebutjats. Aquest mètode d'integració es diu **importance sampling**.\n",
        "\n",
        "Calcula pels punts generats d'aquesta manera a la secció anterior, la integral numèrica de $y(x)$ amb aquest mètode MonteCarlo importance sampling. Pren nota que ara l'àrea on són els números aleatoris és la que queda per sota de la envolvent, que té una àrea de $A=9.179150013761012$ (en unitats arbitràries).\n",
        "\n",
        "Dibuixa la funció $y(x)$, els valors acceptats en verd, i els rebutjats en vermell. Dona el valor de la integral que calcules, i l'error relatiu (en %) de integral numèrica de $y(x)$ a l'interval considerat, en comparació al valor analític."
      ],
      "metadata": {
        "id": "TJoOlgDFOTk5"
      }
    },
    {
      "cell_type": "code",
      "source": [
        "# El teu codi"
      ],
      "metadata": {
        "id": "OXMmFE9OzaHz"
      },
      "execution_count": null,
      "outputs": []
    },
    {
      "cell_type": "markdown",
      "source": [
        "**2.4 [0.25 punts]:** Quin error relatiu obtens per a un número similar de punts fent servir el mètode MC tradicional vist a classe considerant tota l'àrea que queda entre [0,1] en $y$ i [0,25] en $x$? (és aproximadament un factor 4 de diferència!)."
      ],
      "metadata": {
        "id": "DTWt1lG7UxLi"
      }
    },
    {
      "cell_type": "code",
      "source": [
        "# El teu codi"
      ],
      "metadata": {
        "id": "_VKPpo_nmr5l"
      },
      "execution_count": null,
      "outputs": []
    },
    {
      "cell_type": "markdown",
      "source": [
        "<font color='green'>**> Exercici #3 [3 punts]**</font>\n",
        "\n",
        "Hi ha moltes sèries convergents al número $\\pi$. Anem a considerar aquestes dues sèries convergents, la sèrie de Gregory-Leibniz i el producte de Wallis, respectivament:\n",
        "\n",
        "$$\n",
        "\\sum_{n=0}^{\\infty} \\frac{(-1)^n}{2n+1} = \\frac{\\pi}{4} \\hspace{0.5 cm}\\textbf{(Gregory-Leibniz)}\n",
        "$$\n",
        "\n",
        "$$\n",
        "\\prod_{n=0}^{\\infty} \\Big( \\frac{2(n+1)}{2(n+1)-1} \\cdot \\frac{2(n+1)}{2(n+1)+1} \\Big) = \\frac{\\pi}{2} \\hspace{0.5 cm}\\textbf{(Wallis)}\n",
        "$$\n"
      ],
      "metadata": {
        "id": "ZMfi4M9dBwwL"
      }
    },
    {
      "cell_type": "markdown",
      "source": [
        "**3.1 [1 punt]:** Fes dues funcions que, donat un número d'iteracions $m$, retorni una llista de tots els components evaluats a les sèries fins a n=0,1,2,3,4...,m, escalant adequadament perquè donin el número $\\pi$. Per exemple:\n",
        "\n",
        "```\n",
        "def gregory_leibniz(m):\n",
        "  # codi\n",
        "  return llista\n",
        "\n",
        "print(gregory_leibniz(3))\n",
        "[4.0, 2.666666666666667, 3.466666666666667]\n",
        "```\n",
        "\n",
        "```\n",
        "def wallis(n):\n",
        "  #codi\n",
        "  return llista\n",
        "\n",
        "print(wallis(3))\n",
        "[2.6666666666666665, 2.844444444444444, 2.9257142857142853]\n",
        "```\n"
      ],
      "metadata": {
        "id": "9LbTi86sDTLW"
      }
    },
    {
      "cell_type": "code",
      "source": [
        "# El teu codi"
      ],
      "metadata": {
        "id": "aFu0XfwID3oI"
      },
      "execution_count": null,
      "outputs": []
    },
    {
      "cell_type": "markdown",
      "source": [
        "**3.2 [1 punt]:** Fes una gràfica on mostris els valors de pi avaluats per a aquests dos mètodes en funció de m (escull m=100 com a límit), i posa una línea horitzontal al valor de $\\pi$ com a referència."
      ],
      "metadata": {
        "id": "P7K5cETwE-wI"
      }
    },
    {
      "cell_type": "code",
      "source": [
        "# El teu codi"
      ],
      "metadata": {
        "id": "6HjAgdDB8Hty"
      },
      "execution_count": null,
      "outputs": []
    },
    {
      "cell_type": "markdown",
      "source": [
        "**3.3 [1 punt]:** Calcula l'error relatiu en funció de la iteració. Quin dels dos mètodes convergeix més ràpid al valor de pi? Al cap de 100 iteracions quin error relatiu obtens amb els dos mètodes?\n",
        "\n",
        "Recorda que l'error relatiu en percentatge és:\n",
        "\n",
        "$$\n",
        "100*|\\pi-\\pi_{avaluat,m}|/\\pi\n",
        "$$"
      ],
      "metadata": {
        "id": "Iusrbb84FzZT"
      }
    },
    {
      "cell_type": "code",
      "source": [
        "# El teu codi"
      ],
      "metadata": {
        "id": "9rxKh7G8GjII"
      },
      "execution_count": null,
      "outputs": []
    }
  ]
}