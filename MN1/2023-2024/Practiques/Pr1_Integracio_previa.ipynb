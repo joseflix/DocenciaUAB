{
  "nbformat": 4,
  "nbformat_minor": 0,
  "metadata": {
    "colab": {
      "provenance": [],
      "authorship_tag": "ABX9TyNN1sBQKuO89Y3llHOE1B50",
      "include_colab_link": true
    },
    "kernelspec": {
      "name": "python3",
      "display_name": "Python 3"
    },
    "language_info": {
      "name": "python"
    }
  },
  "cells": [
    {
      "cell_type": "markdown",
      "metadata": {
        "id": "view-in-github",
        "colab_type": "text"
      },
      "source": [
        "<a href=\"https://colab.research.google.com/github/joseflix/DocenciaUAB/blob/master/MN1/2023-2024/Practiques/Pr1_Integracio_previa.ipynb\" target=\"_parent\"><img src=\"https://colab.research.google.com/assets/colab-badge.svg\" alt=\"Open In Colab\"/></a>"
      ]
    },
    {
      "cell_type": "markdown",
      "source": [
        "# **Pràctica 1: Integració amb el mètode de simulació Monte Carlo**"
      ],
      "metadata": {
        "id": "Z4HdCZo7PTAG"
      }
    },
    {
      "cell_type": "markdown",
      "source": [
        "# **Context**\n",
        "\n",
        "Anem a utilitzar el mètode d'integració per Monte Carlo per calcular el valor de $\\pi$. Aquest mètode utilitza la aleatorietat per aproximar solucions numèriques a problemes matemàtics. En el nostre cas, volem calcular l'àrea d'un cercle de radi 1.\n",
        "\n",
        "Per començar, definim un quadrat en el qual cap aquest cercle de radi 1. Aquest quadrat tindrà dimensions $2x2$ i estarà centrat en l'origen del pla cartesià.\n",
        "\n",
        "Ara bé, si generem nombres aleatoris uniformement distribuïts en aquest pla (és a dir, cada punt té la mateixa probabilitat d'aparèixer en qualsevol lloc dins del quadrat), podem determinar quants d'aquests punts cauen dins el cercle de radi 1.\n",
        "\n",
        "Per verificar si un punt $(x, y)$ està dins del cercle, utilitzem la condició matemàtica que la distància a l'origen $(0,0)$ ha de ser menor o igual a 1. És a dir, si la suma dels quadrats de les coordenades $(x^2 + y^2)$ és menor o igual a 1, llavors el punt està dins el cercle.\n",
        "\n",
        "Portarem un registre de dues quantitats importants:\n",
        "\n",
        "*   El nombre total de punts que generem ($N_{total}$).\n",
        "*   El nombre de punts que cauen dins el cercle ($N_{dins}$).\n",
        "\n",
        "Si dividim el nombre de punts dins del cercle ($N_{dins}$) pel nombre total de punts ($N_{total}$), hauríem d'obtenir una fracció que és una aproximació de la raó de les àrees del cercle al quadrat. Com que l'àrea del cercle és $\\pi$ i l'àrea del quadrat és 4, aquesta fracció hauria de ser aproximadament igual a $\\pi$/4. Per tant, per estimar el valor de $\\pi$, multiplicarem aquesta fracció per 4:\n",
        "\n",
        "$$\n",
        "\\pi≈4 \\frac{N_{in}}{N_{total}}\n",
        "$$\n",
        "\n",
        "Un cop hem generat una quantitat suficient de punts, aquesta aproximació hauria de convergir cap al valor real de 𝜋."
      ],
      "metadata": {
        "id": "1v45G8D0N7Tw"
      }
    },
    {
      "cell_type": "markdown",
      "source": [
        "### <font color='orange'>**> Python #1**</font>\n",
        "\n",
        "Anem a dibuixar el cercle i l'àrea on llançarem els punts aleatoris:"
      ],
      "metadata": {
        "id": "DTPgUjXJSN-t"
      }
    },
    {
      "cell_type": "code",
      "execution_count": 1,
      "metadata": {
        "id": "lmOcwTLfN0Lq"
      },
      "outputs": [],
      "source": [
        "# El teu codi\n"
      ]
    },
    {
      "cell_type": "markdown",
      "source": [
        "### <font color='orange'>**> Python #2**</font>\n",
        "\n",
        "Genera 1000 punts aleatoris dins de l'àrea d'integració, i pinta en verd els que cauen a dins del cercle, i en vermell els que han caigut a fora.\n",
        "\n",
        "Imprimeix per pantalla la teva estimació del número $\\pi$. Varía molt aquest càlcul si re-executes aquesta cel·la?"
      ],
      "metadata": {
        "id": "ga9sVKcNSiCH"
      }
    },
    {
      "cell_type": "code",
      "source": [
        "# El teu codi\n"
      ],
      "metadata": {
        "id": "V9Vy1HrvT-m6"
      },
      "execution_count": 2,
      "outputs": []
    },
    {
      "cell_type": "markdown",
      "source": [
        "### <font color='orange'>**> Python #3**</font>\n",
        "\n",
        "Quan només tenim un petit nombre de punts, l'estimació de $\\pi$ no és molt precisa, però quan tenim centenars de milers de punts, ens acostem molt més al valor real.\n",
        "\n",
        "Anem a veure com convergeix la precisió del valor calculat, comparant amb $numpy.pi$, quan augmentem el nombre $N_{total}$ de punts aleatoris.\n",
        "\n",
        "Estima la precissió en percentatge com:\n",
        "\n",
        "$$\n",
        "Prec = 100.*\\frac{|\\pi - \\pi_{estimat}|}{\\pi}\n",
        "$$\n",
        "\n",
        "i evalua aquesta precissió per N_total=10,100,1000,10000,100000 i 1000000.\n",
        "\n",
        "Fes dues gràfiques:\n",
        "\n",
        "*   $\\pi_{estimat}$ vs. $N_{total}$ (i mostra una línea horitzontal al valor de $\\pi$)\n",
        "*   *Prec* vs. $N_{total}$ (i mostra dues línees horitzontals pels valors 1% i 0.1%)"
      ],
      "metadata": {
        "id": "nVkRp01sVTtV"
      }
    },
    {
      "cell_type": "code",
      "source": [
        "# El teu codi\n"
      ],
      "metadata": {
        "id": "Qkt5d5KJVs1R"
      },
      "execution_count": 3,
      "outputs": []
    },
    {
      "cell_type": "markdown",
      "source": [
        "### <font color='orange'>**> Python #4 (opcional)**</font>\n",
        "\n",
        "Si re-executes la cel·la anterior, veuràs que el valor de la precissió per $N_{total}$ petits fluctua molt! Hauriem d'executar moltes vegades, i per a cada valor de $N_{total}$ calcular la mitja del teu càlcul de $\\pi$.\n",
        "\n",
        "Fes una gràfica de *Prec* vs. $N_{total}$, on per a cada valor de $N_{total}$ mostres la mitja (i error en la mitja) d'haver executat 10 simulacions per a cadascun dels valors de $N_{total}$."
      ],
      "metadata": {
        "id": "qz8ZUgCZX3AG"
      }
    },
    {
      "cell_type": "code",
      "source": [
        "# El teu codi\n"
      ],
      "metadata": {
        "id": "oprf2uupZKZY"
      },
      "execution_count": 4,
      "outputs": []
    },
    {
      "cell_type": "markdown",
      "source": [
        "### <font color='green'>**> ENTREGA**</font>\n",
        "\n",
        "Ho veureu-ho a la pràctica..."
      ],
      "metadata": {
        "id": "xPNveQjsOdQl"
      }
    }
  ]
}