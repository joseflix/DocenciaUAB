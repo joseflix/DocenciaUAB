{
  "nbformat": 4,
  "nbformat_minor": 0,
  "metadata": {
    "colab": {
      "provenance": [],
      "include_colab_link": true
    },
    "language_info": {
      "codemirror_mode": {
        "name": "ipython",
        "version": 3
      },
      "file_extension": ".py",
      "mimetype": "text/x-python",
      "name": "python",
      "nbconvert_exporter": "python",
      "pygments_lexer": "ipython3",
      "version": "3.6.7"
    },
    "kernelspec": {
      "display_name": "Python 3",
      "language": "python",
      "name": "python3"
    }
  },
  "cells": [
    {
      "cell_type": "markdown",
      "metadata": {
        "id": "view-in-github",
        "colab_type": "text"
      },
      "source": [
        "<a href=\"https://colab.research.google.com/github/joseflix/DocenciaUAB/blob/master/MN1/2023-2024/Practiques/Pr2_SorollGaussia_previa.ipynb\" target=\"_parent\"><img src=\"https://colab.research.google.com/assets/colab-badge.svg\" alt=\"Open In Colab\"/></a>"
      ]
    },
    {
      "cell_type": "markdown",
      "metadata": {
        "id": "AQN3Z0W5s87A"
      },
      "source": [
        "# **Pràctica 2: Soroll i correlacions**"
      ]
    },
    {
      "cell_type": "markdown",
      "source": [
        "# **Context**\n",
        "\n",
        "En aquesta pràctica treballarem la generació de números aleatoris que segueixen una distribució uniforme, una distribució gaussiana, i el càlcul de factors de correlació."
      ],
      "metadata": {
        "id": "_kqxWtClEIfQ"
      }
    },
    {
      "cell_type": "markdown",
      "source": [
        "### <font color='orange'>**> Python #1**</font>\n",
        "\n",
        "1.   Genera 10000 punts que segueixin una distribució uniforme entre 0 i 10 i fes un histograma normalitzat.\n",
        "\n",
        "2.   Genera 10000 punts que segueixin una distribució gaussiana centrada a 5 amb una $\\sigma$ de 3 i fes un histograma normalitzat.\n",
        "\n",
        "Pots fer servir les llibreries de scipy o de numpy:\n",
        "\n",
        "```\n",
        "import numpy as np\n",
        "from scipy import stats\n",
        "stats.norm.rvs(loc=5,scale=3,size=N)\n",
        "stats.uniform.rvs(loc=0, scale=10, size=N)\n",
        "np.random.uniform(low=0, high=10, size=N)\n",
        "```\n",
        "\n"
      ],
      "metadata": {
        "id": "IZz5gYYNEJjV"
      }
    },
    {
      "cell_type": "code",
      "source": [
        "# El teu codi\n"
      ],
      "metadata": {
        "id": "a0l-fqcLGMKA"
      },
      "execution_count": 2,
      "outputs": []
    },
    {
      "cell_type": "markdown",
      "source": [
        "### <font color='orange'>**> Python #2**</font>\n",
        "\n",
        "Genera dues llistes que siguin el quadrat dels resultats obtinguts abans, és a dir, si $X$ és la llista de valors uniformes, construeix una nova llista $Y=X^2$. Fes els dos histogrames normalitzats dels resultats que obtens."
      ],
      "metadata": {
        "id": "yhrITgbHIOXa"
      }
    },
    {
      "cell_type": "code",
      "source": [
        "# El teu codi\n"
      ],
      "metadata": {
        "id": "CCmhc2MYIlI9"
      },
      "execution_count": 3,
      "outputs": []
    },
    {
      "cell_type": "markdown",
      "source": [
        "### <font color='orange'>**> Python #3**</font>\n",
        "\n",
        "Fes dues gràfiques on mostris (X,Y) per als dos casos. Calcula el factor de correlació entre les variables $X$ i $Y$ que has generat en els dos exemples anteriors.\n",
        "\n",
        "<font color='orange'>**Nota**</font> Python té la funció $pearsonr$ per a calcular la correlació entre variables:\n",
        "\n",
        "```\n",
        "from scipy.stats import pearsonr\n",
        "```\n",
        "`?stats.pearsonr`\n",
        "\n",
        "Aquesta funció retorna dos valors (Pearson correlation coefficient and p-value for testing non-correlation.). Us heu de quedar amb el primer d'ells. Perquè el segon cas té un factor de correlació menor?"
      ],
      "metadata": {
        "id": "D3JRJ-HnJiWm"
      }
    },
    {
      "cell_type": "code",
      "source": [
        "# El teu codi\n"
      ],
      "metadata": {
        "id": "ltbc8O73J9gU"
      },
      "execution_count": 4,
      "outputs": []
    },
    {
      "cell_type": "markdown",
      "metadata": {
        "id": "1ilohX0IvF0D"
      },
      "source": [
        "### <font color='green'>**> ENTREGA**</font>\n",
        "Ho veureu-ho a la pràctica..."
      ]
    }
  ]
}