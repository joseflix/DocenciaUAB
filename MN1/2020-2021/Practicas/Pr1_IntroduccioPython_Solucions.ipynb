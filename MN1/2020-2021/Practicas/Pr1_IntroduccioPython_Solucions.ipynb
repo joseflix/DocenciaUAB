{
  "nbformat": 4,
  "nbformat_minor": 0,
  "metadata": {
    "colab": {
      "name": "Práctica1_IntroduccioPython_Solucions.ipynb",
      "provenance": [],
      "collapsed_sections": [],
      "include_colab_link": true
    },
    "language_info": {
      "codemirror_mode": {
        "name": "ipython",
        "version": 3
      },
      "file_extension": ".py",
      "mimetype": "text/x-python",
      "name": "python",
      "nbconvert_exporter": "python",
      "pygments_lexer": "ipython3",
      "version": "3.6.7"
    },
    "kernelspec": {
      "display_name": "Python 3",
      "language": "python",
      "name": "python3"
    }
  },
  "cells": [
    {
      "cell_type": "markdown",
      "metadata": {
        "id": "view-in-github",
        "colab_type": "text"
      },
      "source": [
        "<a href=\"https://colab.research.google.com/github/joseflix/DocenciaUAB/blob/master/MN1/2020-2021/Practicas/Pr1_IntroduccioPython_Solucions.ipynb\" target=\"_parent\"><img src=\"https://colab.research.google.com/assets/colab-badge.svg\" alt=\"Open In Colab\"/></a>"
      ]
    },
    {
      "cell_type": "markdown",
      "metadata": {
        "id": "AQN3Z0W5s87A"
      },
      "source": [
        "# **Pràctica 1: Fonaments de Python - Introducció**\n",
        "\n",
        "<hr>\n",
        "\n",
        "**Nombre:**\n",
        "\n",
        "**NIU:**\n",
        "\n",
        "**mail (gmail):**\n",
        "\n",
        "<hr>\n",
        "\n",
        "**Instrucciones**\n",
        "\n",
        "*   Rellena tu nombre, NIU i mail (gmail, si quieres recibir los comentarios/feedback acerca de tu entrega) en la cabecera de este Notebook.\n",
        "*   Renombra el Notebook como \"Pr1_NIU.ipynb\", donde NIU es tu NIU (*p.e. Pr1_2055007.ipynb*) \n",
        "*   Al final de la clase donde se realize una entrega, descarga este cuaderno en formato .ipynb y lo tienes que subir al siguiente *drop folder*: [Link](http://cern.ch/go/c6mM). Asegurate de que el fichero tiene el nombre correcto.\n",
        "\n",
        "<hr>\n",
        "\n"
      ]
    },
    {
      "cell_type": "markdown",
      "metadata": {
        "id": "pXkuAllkdNRA"
      },
      "source": [
        "**Objectiu de la pràctica**\n",
        "\n",
        "En aquest notebook introduirem els conceptes bàsics de programació en python:\n",
        "\n",
        "*   Operacions aritmètiques \n",
        "*   Variables\n",
        "*   If, for, while loops\n",
        "*   Funcions\n",
        "*   matplotlib, numpy, scipy"
      ]
    },
    {
      "cell_type": "markdown",
      "metadata": {
        "id": "LTzylLP5lweO"
      },
      "source": [
        "L'estructura d'un script bàsic de python consisteix en una sèrie de comandes per línea que s'executen una darrera de l'altra."
      ]
    },
    {
      "cell_type": "markdown",
      "metadata": {
        "id": "MJTuqSL3dhw3"
      },
      "source": [
        "### <font color='orange'>**> Python #1**</font>\n",
        "\n",
        "En aquest primer exemple veurem com utilitzar la funció *print()*. Aquesta funció permet imprimir a la pantalla qualsevol tipus d'informació que ens interessi a qualsevol moment durant l'execució del codi:\n",
        "\n"
      ]
    },
    {
      "cell_type": "code",
      "metadata": {
        "id": "UXKCh6Gcl2pE",
        "colab": {
          "base_uri": "https://localhost:8080/",
          "height": 85
        },
        "outputId": "13f63c23-bc7b-4d05-9262-e7171a7d6a9c"
      },
      "source": [
        "print(\"Hello World\") # Podem passar el text que volem imprimir\n",
        "print(\"Hello\",\"World\") # Podem passar més d'un argument i la funció print s'encarregarà de posar espais enmig.\n",
        "print(\"Hello %s\" % (\"World\")) # Podem donar format al text en funció de variables\n",
        "print(\"Hola em dic %s i avui és %s de %s\" % (\"Sergio\",15,\"d'abril\"))"
      ],
      "execution_count": null,
      "outputs": [
        {
          "output_type": "stream",
          "text": [
            "Hello World\n",
            "Hello World\n",
            "Hello World\n",
            "Hola em dic Sergio i avui és 15 de d'abril\n"
          ],
          "name": "stdout"
        }
      ]
    },
    {
      "cell_type": "markdown",
      "metadata": {
        "id": "si5b3G3zlSlp"
      },
      "source": [
        "## **Operacions aritmètiques**\n",
        "\n",
        "Els operadors aritmètics de Python que farem servir usualment seran:\n",
        "\n",
        "* Suma (+)\n",
        "* Resta (-)\n",
        "* Producte (*)\n",
        "* Divisió (/)\n",
        "* Mòdul (%)\n",
        "* Exponent (**)\n"
      ]
    },
    {
      "cell_type": "markdown",
      "metadata": {
        "id": "5XXWpHUZevia"
      },
      "source": [
        "### <font color='orange'>**> Python #2**</font>\n",
        "\n",
        "En aquest exemple veurem com utilitzar aquests operadors aritmètics:"
      ]
    },
    {
      "cell_type": "code",
      "metadata": {
        "id": "26CSKIc5lsWy",
        "colab": {
          "base_uri": "https://localhost:8080/",
          "height": 119
        },
        "outputId": "2e1b7498-f25b-489b-aee5-9b22ab7513cc"
      },
      "source": [
        "# Suma +\n",
        "print(\"3 + 2 = \", 3+2)\n",
        "\n",
        "# Resta -\n",
        "print(\"3 - 2 = \", 3-2)\n",
        "\n",
        "# Producte *\n",
        "print(\"3 * 2 = \", 3*2)\n",
        "\n",
        "# Divisió /\n",
        "print(\"3 / 2 = \", 3/2)\n",
        "\n",
        "# Mòdul %\n",
        "print(\"3 % 2 = \", 3%2)\n",
        "\n",
        "# Exponent **\n",
        "print(\"3 ** 2 = \", 3**2)\n",
        "\n"
      ],
      "execution_count": null,
      "outputs": [
        {
          "output_type": "stream",
          "text": [
            "3 + 2 =  5\n",
            "3 - 2 =  1\n",
            "3 * 2 =  6\n",
            "3 / 2 =  1.5\n",
            "3 % 2 =  1\n",
            "3 ** 2 =  9\n"
          ],
          "name": "stdout"
        }
      ]
    },
    {
      "cell_type": "markdown",
      "metadata": {
        "id": "eF-BGvwzm-2W"
      },
      "source": [
        "L'ordre de les operacions aritmètiques segueix les normes que un esperaria: "
      ]
    },
    {
      "cell_type": "code",
      "metadata": {
        "id": "nTd8jYqWnMmz",
        "colab": {
          "base_uri": "https://localhost:8080/",
          "height": 51
        },
        "outputId": "e87f7478-b819-4031-fcea-4498fac32411"
      },
      "source": [
        "# 1 + 2 - 3 * 2 = ???\n",
        "print(\"1 + 2 - 3 * 2 =\", 1 + 2 - 3 * 2)\n",
        "\n",
        "# (1 + 2 - 3) * 2 = ???\n",
        "print(\"(1 + 2 - 3) * 2 =\", (1 + 2 - 3) * 2)"
      ],
      "execution_count": null,
      "outputs": [
        {
          "output_type": "stream",
          "text": [
            "1 + 2 - 3 * 2 = -3\n",
            "(1 + 2 - 3) * 2 = 0\n"
          ],
          "name": "stdout"
        }
      ]
    },
    {
      "cell_type": "markdown",
      "metadata": {
        "id": "I_SAIvoqoT9Q"
      },
      "source": [
        "## **Variables**\n",
        "\n",
        "Treballarem bàsicament amb els següents tipus de variables:\n",
        "\n",
        "* Números enters, reals.\n",
        "* Booleans\n",
        "* Strings\n",
        "* Llistes\n"
      ]
    },
    {
      "cell_type": "markdown",
      "metadata": {
        "id": "aF_crdBPe6nz"
      },
      "source": [
        "### <font color='orange'>**> Python #3**</font>\n",
        "\n",
        "Ara veurem com definir variables que prenen com a valors nombres **enters**. Veurem com fer operacions a partir de les variables i com es poden redefinir."
      ]
    },
    {
      "cell_type": "code",
      "metadata": {
        "id": "8W9FQDKToqdo",
        "colab": {
          "base_uri": "https://localhost:8080/",
          "height": 136
        },
        "outputId": "ecdc5033-f704-43c8-9bb8-a18e998a4b4c"
      },
      "source": [
        "# Definim nombres enters i els imprimim per pantalla:\n",
        "\n",
        "a = 3\n",
        "b = 5\n",
        "c = b + 3\n",
        "\n",
        "print(a)\n",
        "print(\"a = %s, b és igual a %s i c és igual a %s\" % (a,b,c))\n",
        "print(\"-\"*50)\n",
        "\n",
        "# Les operacions es poden fer a partir de les variables:\n",
        "\n",
        "print(\"a + b = \", a+b)\n",
        "print(\"-\"*50)\n",
        "\n",
        "# Podem redefinir les variables, però això no afectarà a altres variables:\n",
        "\n",
        "b = 3\n",
        "print(\"b ara és %s però c encara continua sent %s\" % (b,c))\n",
        "print(\"-\"*50)"
      ],
      "execution_count": null,
      "outputs": [
        {
          "output_type": "stream",
          "text": [
            "3\n",
            "a = 3, b és igual a 5 i c és igual a 8\n",
            "--------------------------------------------------\n",
            "a + b =  8\n",
            "--------------------------------------------------\n",
            "b ara és 3 però c encara continua sent 8\n",
            "--------------------------------------------------\n"
          ],
          "name": "stdout"
        }
      ]
    },
    {
      "cell_type": "markdown",
      "metadata": {
        "id": "VqwyeaonfV5y"
      },
      "source": [
        "### <font color='orange'>**> Python #4**</font>\n",
        "\n",
        "Ara veurem els **booleans**. Aquestes són variables que només poden prendre valors True o False. Es fan servir per operacions lògiques. Els operadors lògics bàsics són:\n",
        "\n",
        "* Equivalència (==) **No confondre amb l'operador de definició (=)**\n",
        "* No equivalència (!=)\n",
        "* Més gran o igual que (>=)\n",
        "* Més petit o igual que (<=)\n",
        "* Més gran que (>)\n",
        "* Més petit que (<)\n",
        "\n",
        "També es poden concatenar booleans per construir lògica més complexa amb la sintaxi **and** i **or**\n",
        "\n",
        "a | b | a **and** b\n",
        "--- | --- | ---\n",
        "True | True | True\n",
        "True | False | False\n",
        "False | True | False\n",
        "False | False | False\n",
        "\n",
        "---\n",
        "\n",
        "a | b | a **or** b\n",
        "--- | --- | ---\n",
        "True | True | True\n",
        "True | False | True\n",
        "False | True | True\n",
        "False | False | False\n",
        "\n"
      ]
    },
    {
      "cell_type": "code",
      "metadata": {
        "id": "jC7t9kwufWN5",
        "colab": {
          "base_uri": "https://localhost:8080/",
          "height": 238
        },
        "outputId": "9bba4039-53b0-4495-dd77-65b05a464d5d"
      },
      "source": [
        "# Els booleans són variables que només poden ser True o False:\n",
        "\n",
        "v = True\n",
        "m = False\n",
        "print(\"v és %s i m és %s\" % (v,m))\n",
        "print(\"-\"*50)\n",
        "\n",
        "# No confondre l'operador d'assignació = amb l'operador d'equivalència (==)\n",
        "\n",
        "a = 3\n",
        "b = 5\n",
        "# print(\"És a igual a b?\", a = b) # Això no funcionarà!\n",
        "print(\"És a igual a b?\", a == b) # Això funcionarà!\n",
        "print(\"-\"*50)\n",
        "\n",
        "# Els operadors lògics bàsics són:\n",
        "c = b + 3\n",
        "print(\"a == b?\", a == b)\n",
        "print(\"a != b?\", a != b)\n",
        "print(\"a >= b?\", a >= b)\n",
        "print(\"a < c?\", a < c)\n",
        "print(\"a > c?\", a > c)\n",
        "print(\"a <= c?\", a <= c)\n",
        "print(\"v and m ==\", v and m)\n",
        "print(\"v or m ==\", v or m)\n",
        "print(\"-\"*50)"
      ],
      "execution_count": null,
      "outputs": [
        {
          "output_type": "stream",
          "text": [
            "v és True i m és False\n",
            "--------------------------------------------------\n",
            "És a igual a b? False\n",
            "--------------------------------------------------\n",
            "a == b? False\n",
            "a != b? True\n",
            "a >= b? False\n",
            "a < c? True\n",
            "a > c? False\n",
            "a <= c? True\n",
            "v and m == False\n",
            "v or m == True\n",
            "--------------------------------------------------\n"
          ],
          "name": "stdout"
        }
      ]
    },
    {
      "cell_type": "markdown",
      "metadata": {
        "id": "o3GPsebphd7M"
      },
      "source": [
        "### <font color='orange'>**> Python #5**</font>\n",
        "\n",
        "Ara parlarem dels **strings**. Aquest és el tipus de variable que es fa servir per manipular text. \n",
        "\n",
        "Es defineixen a partir de \"\" o ''. Veurem també que els strings es poden concatenar amb l'operador (+) i com podem tenir quotes dins d'strings."
      ]
    },
    {
      "cell_type": "code",
      "metadata": {
        "id": "k4mbwqpahAtd",
        "colab": {
          "base_uri": "https://localhost:8080/",
          "height": 119
        },
        "outputId": "d57c69d8-88e6-4710-9b79-6f7947ade6d8"
      },
      "source": [
        "# Els strings es defineixen amb \"\" o ''\n",
        "\n",
        "a = 'Això és un string'\n",
        "b = \"i això també\"\n",
        "c = a + \" \" + b\n",
        "\n",
        "print(\"a = \", a)\n",
        "print(\"b = \", b)\n",
        "print(\"c = \", c)\n",
        "print(\"-\"*50)\n",
        "\n",
        "# Què fem si volem tenir \"\" dins del nostre string?\n",
        "d = \"Sócrates va dir 'Només sé que no sé res'\"\n",
        "d2 = \"Sócrates va dir \\\"Només sé que no sé res\\\"\"\n",
        "print(d)\n",
        "print(d2)\n"
      ],
      "execution_count": null,
      "outputs": [
        {
          "output_type": "stream",
          "text": [
            "a =  Això és un string\n",
            "b =  i això també\n",
            "c =  Això és un string i això també\n",
            "--------------------------------------------------\n",
            "Sócrates va dir 'Només sé que no sé res'\n",
            "Sócrates va dir \"Només sé que no sé res\"\n"
          ],
          "name": "stdout"
        }
      ]
    },
    {
      "cell_type": "markdown",
      "metadata": {
        "id": "mM2FjOAniOEB"
      },
      "source": [
        "### <font color='orange'>**> Python #6**</font>\n",
        "\n",
        "Un altre objecte molt útil que farem servir són les **llistes**. Es poden entendre com vectors d'altres elements.\n",
        "\n",
        "Ara veurem com definir una llista, com accedir als seus elements i modificar-los; i com afegir elements a una llista:\n"
      ]
    },
    {
      "cell_type": "code",
      "metadata": {
        "id": "KMZfe740pv_S",
        "colab": {
          "base_uri": "https://localhost:8080/",
          "height": 221
        },
        "outputId": "98db9d83-aec9-45bb-9d3e-fd8871396062"
      },
      "source": [
        "# Les llistes es defineixen amb []\n",
        "a = [1,2,3,4,5]\n",
        "\n",
        "print(a)\n",
        "print(\"El primer element de a és = \", a[0])   # Noteu que els índexos comencen a 0 !!\n",
        "print(\"Dins de l'array a hi han %s elements\" % len(a))\n",
        "print(\"-\"*50)\n",
        "\n",
        "# Podem redefinir el contingut d'una llista\n",
        "\n",
        "print(\"Modifiquem el quart element d'a\")\n",
        "a[3] = 999999  # L'índex del quart element és 3 !!\n",
        "print(a)\n",
        "print(\"-\"*50)\n",
        "\n",
        "# Podem prendre subllistes d'una llista\n",
        "\n",
        "print(\"Els tres primers elements d'a són\", a[:3])\n",
        "print(\"Del segon al quart:\",a[1:4])\n",
        "print(\"Del tercer fins al final:\",a[2:])\n",
        "print(\"-\"*50)\n",
        "\n",
        "# Podem afegir membres a una llista\n",
        "a.append(2020)\n",
        "print(\"Hem afegit 2020 a la llista. Ara tenim:\", a)\n"
      ],
      "execution_count": null,
      "outputs": [
        {
          "output_type": "stream",
          "text": [
            "[1, 2, 3, 4, 5]\n",
            "El primer element de a és =  1\n",
            "Dins de l'array a hi han 5 elements\n",
            "--------------------------------------------------\n",
            "Modifiquem el quart element d'a\n",
            "[1, 2, 3, 999999, 5]\n",
            "--------------------------------------------------\n",
            "Els tres primers elements d'a són [1, 2, 3]\n",
            "Del segon al quart: [2, 3, 999999]\n",
            "Del tercer fins al final: [3, 999999, 5]\n",
            "--------------------------------------------------\n",
            "Hem afegit 2020 a la llista. Ara tenim: [1, 2, 3, 999999, 5, 2020]\n"
          ],
          "name": "stdout"
        }
      ]
    },
    {
      "cell_type": "markdown",
      "metadata": {
        "id": "4awt3a3DirWR"
      },
      "source": [
        "### <font color='orange'>**> Python #7**</font>\n",
        "\n",
        "A vegades tindrem variables d'un tipus en particular, com ara string; però ens interessa tenir-les com un altre tipus. Aquí aprendrem com canviar d'un tipus de variable a un altre:"
      ]
    },
    {
      "cell_type": "code",
      "metadata": {
        "id": "iUW7kUEesmyN",
        "colab": {
          "base_uri": "https://localhost:8080/",
          "height": 51
        },
        "outputId": "a66486f6-b8a6-44ed-c931-cacbf78cbe4d"
      },
      "source": [
        "# Si tinguéssim variables en forma d'string que són números i ens interessa\n",
        "# fer operacions aritmètiques sobre elles, no ho podem fer si són strings:\n",
        "\n",
        "a = '4'\n",
        "b = '3'\n",
        "print(\"a + b = \", a + b)\n",
        "\n",
        "# Sino que necessitem convertir-les a números, per exemple enters, abans de fer l'operació:\n",
        "print(\"int(a) + int(b) = \", int(a) + int(b))"
      ],
      "execution_count": null,
      "outputs": [
        {
          "output_type": "stream",
          "text": [
            "a + b =  43\n",
            "int(a) + int(b) =  7\n"
          ],
          "name": "stdout"
        }
      ]
    },
    {
      "cell_type": "markdown",
      "metadata": {
        "id": "KObFlhd9tHh2"
      },
      "source": [
        "## **Expressions condicionals (if)**\n",
        "\n",
        "La programació no només consisteix en definir variables i fer aritmètica. També podem fer algoritmes que permeten executar certes tasques depenent sobre si una condició es compleix (if), o iterar sobre comandes (for, while loops)\n",
        "\n",
        "L'estructura d'un **if** és:\n",
        "\n",
        "```\n",
        "if (bool):\n",
        "  Codi-que-s'executa-si-bool-és-True\n",
        "```\n",
        "\n",
        "També podem tenir un **else** per definir el codi que s'executa si la condició no és True:\n",
        "\n",
        "```\n",
        "if (bool):\n",
        "  Codi-que-s'executa-si-bool-és-True\n",
        "else:\n",
        "  Codi-que-s'executa-si-bool-és-False\n",
        "```\n",
        "\n",
        "També podem tenir més de dos casos fent servir **elif** (else + if)\n",
        "```\n",
        "if (bool1):\n",
        "  Codi-que-s'executa-si-bool1-és-True\n",
        "elif (bool2):\n",
        "  Codi-que-s'executa-si-bool2-és-True-bool1-és-False\n",
        "else:\n",
        "  Codi-que-s'executa-si-bool1-bool2-són-False\n",
        "```\n"
      ]
    },
    {
      "cell_type": "markdown",
      "metadata": {
        "id": "N1uwtV6xjbQq"
      },
      "source": [
        "### <font color='orange'>**> Python #8**</font>\n",
        "\n",
        "En aquest exemple veurem com implementar un bloc **if**:\n"
      ]
    },
    {
      "cell_type": "code",
      "metadata": {
        "id": "d1ay1LZNtSrZ",
        "colab": {
          "base_uri": "https://localhost:8080/",
          "height": 34
        },
        "outputId": "e27d4e46-b257-45e8-b684-973284d779c3"
      },
      "source": [
        "a = 4\n",
        "\n",
        "if (a == 3):\n",
        "  print(\"a és igual a 3\")\n",
        "elif (a == 4):\n",
        "  print(\"a és igual a 4\")\n",
        "else:\n",
        "  print(\"a no és ni 3 ni 4\")"
      ],
      "execution_count": null,
      "outputs": [
        {
          "output_type": "stream",
          "text": [
            "a és igual a 4\n"
          ],
          "name": "stdout"
        }
      ]
    },
    {
      "cell_type": "markdown",
      "metadata": {
        "id": "4t8hhg_8wbWn"
      },
      "source": [
        "## **Loops (for, while)**\n",
        "\n",
        "Per definir blocs de codi que volem que s'executin iterativament podem fer servir for/while loops.\n",
        "\n",
        "Per fer loops hem d'iterar sobre alguna estructura iterable, com ara llistes. La sintaxi serà bàsicament:\n",
        "\n",
        "```\n",
        "for var in llista:\n",
        "  Codi-que-s'executa-len(llista)-vegades\n",
        "```"
      ]
    },
    {
      "cell_type": "markdown",
      "metadata": {
        "id": "X5nrjWdjkUwW"
      },
      "source": [
        "### <font color='orange'>**> Python #9**</font>\n",
        "\n",
        "Ara veurem com fer for loops sobre una llista:\n",
        "\n",
        "* A partir d'una variable que va prenent el valor dels elements de la llista.\n",
        "* A partir dels índexos dels elements de la llista amb la funció **range**\n"
      ]
    },
    {
      "cell_type": "code",
      "metadata": {
        "id": "BsOf2cQEwX11",
        "colab": {
          "base_uri": "https://localhost:8080/",
          "height": 68
        },
        "outputId": "e0f6c576-3213-46ef-d55f-e71d1b38b2d5"
      },
      "source": [
        "llista_de_la_compra = [\"mandarines\",\"peix\",\"papel de vàter\"]\n",
        "\n",
        "for membre in llista_de_la_compra:\n",
        "  print(membre)"
      ],
      "execution_count": null,
      "outputs": [
        {
          "output_type": "stream",
          "text": [
            "mandarines\n",
            "peix\n",
            "papel de vàter\n"
          ],
          "name": "stdout"
        }
      ]
    },
    {
      "cell_type": "code",
      "metadata": {
        "id": "Srbuepnww68w",
        "colab": {
          "base_uri": "https://localhost:8080/",
          "height": 68
        },
        "outputId": "5b29746e-3e58-477f-a1c9-499789d473f9"
      },
      "source": [
        "# Podem utilitzar la funció range per construir llistes d'índexos\n",
        "q_compra = len(llista_de_la_compra)\n",
        "\n",
        "for index in range(0,q_compra):\n",
        "  print(index, llista_de_la_compra[index])"
      ],
      "execution_count": null,
      "outputs": [
        {
          "output_type": "stream",
          "text": [
            "0 mandarines\n",
            "1 peix\n",
            "2 papel de vàter\n"
          ],
          "name": "stdout"
        }
      ]
    },
    {
      "cell_type": "code",
      "metadata": {
        "id": "k6wvYermxOkz",
        "colab": {
          "base_uri": "https://localhost:8080/",
          "height": 221
        },
        "outputId": "70fd1cc2-3add-4055-b36b-9087cd991fd0"
      },
      "source": [
        "# Podem tenir loops dins de loops:\n",
        "llista1 = [1,2,3]\n",
        "llista2 = [4,5]\n",
        "llista_general = [llista1,llista2]\n",
        "\n",
        "print(llista_general)\n",
        "\n",
        "for i in range(len(llista_general)):\n",
        "  print(\"------\")\n",
        "  print(i, llista_general[i])\n",
        "  for j in range(len(llista_general[i])):\n",
        "    print(j,llista_general[i][j])\n",
        "  print(\"Hello!\") # Mireu com canvia l'output depenent de la indentació d'aquesta línea"
      ],
      "execution_count": null,
      "outputs": [
        {
          "output_type": "stream",
          "text": [
            "[[1, 2, 3], [4, 5]]\n",
            "------\n",
            "0 [1, 2, 3]\n",
            "0 1\n",
            "1 2\n",
            "2 3\n",
            "Hello!\n",
            "------\n",
            "1 [4, 5]\n",
            "0 4\n",
            "1 5\n",
            "Hello!\n"
          ],
          "name": "stdout"
        }
      ]
    },
    {
      "cell_type": "markdown",
      "metadata": {
        "id": "ZRe0D2ceyZpW"
      },
      "source": [
        "### **While loops**\n",
        "\n",
        "Què passa si no sabem fins a quant iterem? En aquests casos podem iterar fins mentre una condició es compleixi amb un **while** loop:\n",
        "\n",
        "```\n",
        "while bool:\n",
        "  Codi-executat-mentre-bool-sigui-True\n",
        "```\n",
        "\n",
        "S'ha d'anar amb compte i sempre assegurar-se que la condició és False en algún moment, si no entraríem en un **loop infinit**.\n"
      ]
    },
    {
      "cell_type": "markdown",
      "metadata": {
        "id": "ImDLFpaKl7xX"
      },
      "source": [
        "### <font color='orange'>**> Python #10**</font>\n",
        "\n",
        "Aquí veurem un exemple d'un while loop:"
      ]
    },
    {
      "cell_type": "code",
      "metadata": {
        "id": "b2t63ccOyYKz",
        "colab": {
          "base_uri": "https://localhost:8080/",
          "height": 119
        },
        "outputId": "506a8ef6-3b83-4219-f512-34d50a02af66"
      },
      "source": [
        "i = 0\n",
        "while i <= 5:\n",
        "  print(i)\n",
        "  i += 1 # No oblidar-se d'anar actualitzant la condició del while per no entrar en un loop infinit!"
      ],
      "execution_count": null,
      "outputs": [
        {
          "output_type": "stream",
          "text": [
            "0\n",
            "1\n",
            "2\n",
            "3\n",
            "4\n",
            "5\n"
          ],
          "name": "stdout"
        }
      ]
    },
    {
      "cell_type": "markdown",
      "metadata": {
        "id": "C8PjeZ280E8q"
      },
      "source": [
        "## **Funcions**\n",
        "\n",
        "A vegades quan tenim parts de codi que utilitzem moltes vegades, és util definir una funció que executi aquesta part per no haver de copiar i pegar el mateix codi a llocs diferents.\n",
        "\n",
        "La sintaxi bàsica es:\n",
        "\n",
        "```\n",
        "def {nom_de_la_funcio} ({paràmetres}):\n",
        "  Codi-a-executar\n",
        "  return {Variable-que-es-vol-fora-de-la-funció}\n",
        "```"
      ]
    },
    {
      "cell_type": "markdown",
      "metadata": {
        "id": "po1t6gnSmAT7"
      },
      "source": [
        "### <font color='orange'>**> Python #11**</font>\n",
        "\n",
        "Ara veurem un exemple de com definir una funció i retornar valors. Veurem que s'ha de vigilar com tractem les variables dins i fora  de la funció:"
      ]
    },
    {
      "cell_type": "code",
      "metadata": {
        "id": "nbKRnBvBmTxZ",
        "colab": {
          "base_uri": "https://localhost:8080/",
          "height": 34
        },
        "outputId": "f858f6af-66f0-45cb-d13c-61f47d642505"
      },
      "source": [
        "d = 0\n",
        "\n",
        "def suma(a,b):\n",
        "  d = a + b\n",
        "  return a + b\n",
        "\n",
        "suma(1,2) # Això no modificarà d!\n",
        "# d = suma(1,2) # Això modificarà d!\n",
        "print(d)"
      ],
      "execution_count": null,
      "outputs": [
        {
          "output_type": "stream",
          "text": [
            "0\n"
          ],
          "name": "stdout"
        }
      ]
    },
    {
      "cell_type": "markdown",
      "metadata": {
        "id": "qv3wcEKpzJhV"
      },
      "source": [
        "### <font color='green'>**> Exercici 1**</font>\n",
        "\n",
        "Fes un codi que imprimeixi a la pantalla els nombres parells més petits o iguals a 10:\n",
        "\n",
        "* Fent un loop sobre una llista\n",
        "* Fent un loop + if "
      ]
    },
    {
      "cell_type": "code",
      "metadata": {
        "id": "K7iLLxlVzfp6",
        "colab": {
          "base_uri": "https://localhost:8080/",
          "height": 119
        },
        "outputId": "83c147dc-321b-46cc-8aea-18072f455a7c"
      },
      "source": [
        "nombres_parells_mes_petits_o_iguals_que_10 = [0,2,4,6,8,10]\n",
        "\n",
        "for i in nombres_parells_mes_petits_o_iguals_que_10:\n",
        "  print(i)"
      ],
      "execution_count": null,
      "outputs": [
        {
          "output_type": "stream",
          "text": [
            "0\n",
            "2\n",
            "4\n",
            "6\n",
            "8\n",
            "10\n"
          ],
          "name": "stdout"
        }
      ]
    },
    {
      "cell_type": "code",
      "metadata": {
        "id": "vXba1jcUza6k",
        "colab": {
          "base_uri": "https://localhost:8080/",
          "height": 119
        },
        "outputId": "c8d98c43-de7c-48dc-de90-6d810c6a7c82"
      },
      "source": [
        "for i in range(0,11):\n",
        "  if i % 2 == 0:\n",
        "    print(i)"
      ],
      "execution_count": null,
      "outputs": [
        {
          "output_type": "stream",
          "text": [
            "0\n",
            "2\n",
            "4\n",
            "6\n",
            "8\n",
            "10\n"
          ],
          "name": "stdout"
        }
      ]
    },
    {
      "cell_type": "code",
      "metadata": {
        "id": "buny3Ya0zQh4",
        "colab": {
          "base_uri": "https://localhost:8080/",
          "height": 119
        },
        "outputId": "0ed5265f-3011-46fa-adb3-5c26ea0cac34"
      },
      "source": [
        "for i in range(0,11,2):\n",
        "  print(i)"
      ],
      "execution_count": null,
      "outputs": [
        {
          "output_type": "stream",
          "text": [
            "0\n",
            "2\n",
            "4\n",
            "6\n",
            "8\n",
            "10\n"
          ],
          "name": "stdout"
        }
      ]
    },
    {
      "cell_type": "code",
      "metadata": {
        "id": "BzXCqYqU1W18"
      },
      "source": [
        "def isEven(a):\n",
        "  return a % 2 == 0"
      ],
      "execution_count": null,
      "outputs": []
    },
    {
      "cell_type": "code",
      "metadata": {
        "id": "QkSwqG7Q1b9A",
        "colab": {
          "base_uri": "https://localhost:8080/",
          "height": 119
        },
        "outputId": "c497acff-a8f5-40af-e715-7f4a05f1d055"
      },
      "source": [
        "for i in range(11):\n",
        "  if isEven(i):\n",
        "    print(i)"
      ],
      "execution_count": null,
      "outputs": [
        {
          "output_type": "stream",
          "text": [
            "0\n",
            "2\n",
            "4\n",
            "6\n",
            "8\n",
            "10\n"
          ],
          "name": "stdout"
        }
      ]
    },
    {
      "cell_type": "code",
      "metadata": {
        "id": "U_pzr4Hczxk3",
        "colab": {
          "base_uri": "https://localhost:8080/",
          "height": 119
        },
        "outputId": "05ed77ae-c4b8-41de-c257-63e900ace9e8"
      },
      "source": [
        "i = 0\n",
        "while i <= 10:\n",
        "  if i % 2 == 0:\n",
        "    print(i)\n",
        "  i+=1"
      ],
      "execution_count": null,
      "outputs": [
        {
          "output_type": "stream",
          "text": [
            "0\n",
            "2\n",
            "4\n",
            "6\n",
            "8\n",
            "10\n"
          ],
          "name": "stdout"
        }
      ]
    },
    {
      "cell_type": "markdown",
      "metadata": {
        "id": "MOnxXOR72F-R"
      },
      "source": [
        "## **Llibreries bàsiques**\n",
        "\n",
        "### Matplotlib\n",
        "\n",
        "Farem servir **matplotlib** per fer gràfiques:"
      ]
    },
    {
      "cell_type": "markdown",
      "metadata": {
        "id": "4VEDa4ASnZRc"
      },
      "source": [
        "### <font color='orange'>**> Python #11**</font>\n",
        "\n",
        "Ara veurem com importar la llibreria matplotlib per fer plots. Podeu trobar més informació al [curs de python](https://github.com/joseflix/DocenciaUAB/blob/master/MN1/2019-2020/CursPython/16_Libreria_Matplotlib_Python.ipynb)\n"
      ]
    },
    {
      "cell_type": "code",
      "metadata": {
        "id": "eEzMjawV24u9"
      },
      "source": [
        "import matplotlib.pyplot as plt"
      ],
      "execution_count": null,
      "outputs": []
    },
    {
      "cell_type": "code",
      "metadata": {
        "id": "ubnPtczH264F"
      },
      "source": [
        "?plt.plot()"
      ],
      "execution_count": null,
      "outputs": []
    },
    {
      "cell_type": "code",
      "metadata": {
        "init_cell": true,
        "id": "4aRnMhof91Ij",
        "colab": {
          "base_uri": "https://localhost:8080/",
          "height": 279
        },
        "outputId": "ea8c3431-8edb-4259-b891-db4a0413bfac"
      },
      "source": [
        "x = [1,2,3,4,5]\n",
        "y = [5,4,3,2,1]\n",
        "\n",
        "plt.plot(x,y,'ko') # El tercer argument ens permet controlar el color o l'estil dels punts\n",
        "# plt.plot(x,y,'k-')\n",
        "# plt.plot(x,y,'bo')\n",
        "plt.xlabel(\"valors de x\")\n",
        "plt.ylabel(\"valors de y\")\n",
        "plt.show()"
      ],
      "execution_count": null,
      "outputs": [
        {
          "output_type": "display_data",
          "data": {
            "image/png": "[encoded data removed]",
            "text/plain": [
              "<Figure size 432x288 with 1 Axes>"
            ]
          },
          "metadata": {
            "tags": [],
            "needs_background": "light"
          }
        }
      ]
    },
    {
      "cell_type": "markdown",
      "metadata": {
        "id": "bGyozJmL4JTQ"
      },
      "source": [
        "### Numpy\n",
        "\n",
        "Amb la llibreria **numpy** (numerical python), podem obtenir funcions elementals com sin, cos, etc. També és molt útil per que els arrays de numpy tenen més funcionalitats que les llistes. \n"
      ]
    },
    {
      "cell_type": "markdown",
      "metadata": {
        "id": "CQSVKLgnoD1n"
      },
      "source": [
        "### <font color='orange'>**> Python #12**</font>\n",
        "\n",
        "Ara veurem com importar la llibreria numpy. Podeu trobar més informació al [curs de python](https://github.com/joseflix/DocenciaUAB/blob/master/MN1/2019-2020/CursPython/14_Libreria_Numpy_Python.ipynb)\n",
        "\n",
        "Una funcionalitat de numpy que farem servir bastant és **linspace**, que permet generar una llista d'elements equiespaiats sota un interval.\n"
      ]
    },
    {
      "cell_type": "code",
      "metadata": {
        "id": "lCBITvTh3xbe"
      },
      "source": [
        "import numpy as np"
      ],
      "execution_count": null,
      "outputs": []
    },
    {
      "cell_type": "code",
      "metadata": {
        "id": "lL09hLgu31lU",
        "colab": {
          "base_uri": "https://localhost:8080/",
          "height": 279
        },
        "outputId": "bd3de32c-80a7-43a5-a932-f2c564fcf439"
      },
      "source": [
        "x = np.linspace(0,2*np.pi,100)\n",
        "y = np.sin(x)\n",
        "plt.plot(x,y,'r',label=\"sin\")\n",
        "plt.xlabel(\"x\")\n",
        "plt.ylabel(\"sin(x)\")\n",
        "plt.legend()\n",
        "plt.show()"
      ],
      "execution_count": null,
      "outputs": [
        {
          "output_type": "display_data",
          "data": {
            "image/png": "[encoded data removed]",
            "text/plain": [
              "<Figure size 432x288 with 1 Axes>"
            ]
          },
          "metadata": {
            "tags": [],
            "needs_background": "light"
          }
        }
      ]
    },
    {
      "cell_type": "markdown",
      "metadata": {
        "id": "Rz79FH5jofhd"
      },
      "source": [
        "### SciPy\n",
        "\n",
        "Amb la llibreria **scipy** (scientific python) tindrem accés a funcionalitats per generar nombres aleatoris. "
      ]
    },
    {
      "cell_type": "markdown",
      "metadata": {
        "id": "cWUJLOMqpFsf"
      },
      "source": [
        "### <font color='orange'>**> Python #13**</font>\n",
        "\n",
        "Ara veurem com importar la llibreria scipy. Podeu trobar més informació al [curs de python](https://github.com/joseflix/DocenciaUAB/blob/master/MN1/2019-2020/CursPython/17_Libreria_SciPy_Python.ipynb)\n",
        "\n",
        "Veurem com generar una llista de punts que estan distribuits com una normal, fer-ne un histograma i superimposar la pdf de la normal per assegurar-nos que estan distribuits correctament."
      ]
    },
    {
      "cell_type": "markdown",
      "metadata": {
        "id": "79S6nKxE2Ycp"
      },
      "source": [
        "Comencem important stats de scipy i generant una mostra d'un element que segueix una normal."
      ]
    },
    {
      "cell_type": "code",
      "metadata": {
        "id": "ng4--gDGpWcr"
      },
      "source": [
        "from scipy import stats # Dins de stats es on viuen les distribucions de probabilitat"
      ],
      "execution_count": null,
      "outputs": []
    },
    {
      "cell_type": "code",
      "metadata": {
        "id": "v7MIn4UzpeqS"
      },
      "source": [
        "?stats.norm # Veiem els arguments del \"Random Value Sampler\" rvs:\n",
        "\n",
        "# rvs(loc=0, scale=1, size=1, random_state=None)"
      ],
      "execution_count": null,
      "outputs": []
    },
    {
      "cell_type": "code",
      "metadata": {
        "id": "L9ifhzKfp4qI",
        "colab": {
          "base_uri": "https://localhost:8080/",
          "height": 182
        },
        "outputId": "6b878b9c-a1eb-4165-a3c2-a9104fa2f355"
      },
      "source": [
        "m = stats.norm.rvs(loc=0, scale= 1) # Això genera 1 nombre aleatori distribuit com una normal N(0,1):\n",
        "print(m) # Proveu a executar per veure que el resultat canvia"
      ],
      "execution_count": null,
      "outputs": [
        {
          "output_type": "error",
          "ename": "NameError",
          "evalue": "ignored",
          "traceback": [
            "\u001b[0;31m---------------------------------------------------------------------------\u001b[0m",
            "\u001b[0;31mNameError\u001b[0m                                 Traceback (most recent call last)",
            "\u001b[0;32m<ipython-input-2-8d2aecdc64c7>\u001b[0m in \u001b[0;36m<module>\u001b[0;34m()\u001b[0m\n\u001b[0;32m----> 1\u001b[0;31m \u001b[0mm\u001b[0m \u001b[0;34m=\u001b[0m \u001b[0mstats\u001b[0m\u001b[0;34m.\u001b[0m\u001b[0mnorm\u001b[0m\u001b[0;34m.\u001b[0m\u001b[0mrvs\u001b[0m\u001b[0;34m(\u001b[0m\u001b[0mloc\u001b[0m\u001b[0;34m=\u001b[0m\u001b[0;36m0\u001b[0m\u001b[0;34m,\u001b[0m \u001b[0mscale\u001b[0m\u001b[0;34m=\u001b[0m \u001b[0;36m1\u001b[0m\u001b[0;34m)\u001b[0m \u001b[0;31m# Això genera 1 nombre aleatori distribuit com una normal N(0,1):\u001b[0m\u001b[0;34m\u001b[0m\u001b[0;34m\u001b[0m\u001b[0m\n\u001b[0m\u001b[1;32m      2\u001b[0m \u001b[0mprint\u001b[0m\u001b[0;34m(\u001b[0m\u001b[0mm\u001b[0m\u001b[0;34m)\u001b[0m \u001b[0;31m# Proveu a executar per veure que el resultat canvia\u001b[0m\u001b[0;34m\u001b[0m\u001b[0;34m\u001b[0m\u001b[0m\n",
            "\u001b[0;31mNameError\u001b[0m: name 'stats' is not defined"
          ]
        }
      ]
    },
    {
      "cell_type": "markdown",
      "metadata": {
        "id": "riMrL2KoqPWN"
      },
      "source": [
        "Hem vist com fer una mostra d'un element que segueix una $N(0,1)$. Però nosaltres voldrem tenir mostres més grans. Això ho controlem amb el paràmetre size del *random value sampler* rvs"
      ]
    },
    {
      "cell_type": "code",
      "metadata": {
        "id": "L2Av6v1tqOiw",
        "colab": {
          "base_uri": "https://localhost:8080/",
          "height": 51
        },
        "outputId": "369a1b36-86f2-4696-b301-c18517123a79"
      },
      "source": [
        "m = stats.norm.rvs(loc=0,scale=1,size=10)\n",
        "print(m)"
      ],
      "execution_count": null,
      "outputs": [
        {
          "output_type": "stream",
          "text": [
            "[-1.35464362 -0.78084626  0.12684505 -0.23065343 -1.64225686  0.89652186\n",
            " -1.07805223  0.17402988 -0.3463764  -0.31743718]\n"
          ],
          "name": "stdout"
        }
      ]
    },
    {
      "cell_type": "markdown",
      "metadata": {
        "id": "6SBdq9fEqmVb"
      },
      "source": [
        "Per veure la distribució de la nostra mostra $x$ farem servir un [histograma](https://ca.wikipedia.org/wiki/Histograma)\n"
      ]
    },
    {
      "cell_type": "code",
      "metadata": {
        "id": "Q4s7XyXXq3J9"
      },
      "source": [
        "?plt.hist"
      ],
      "execution_count": null,
      "outputs": []
    },
    {
      "cell_type": "code",
      "metadata": {
        "id": "nZLe_GRhq9Zy",
        "colab": {
          "base_uri": "https://localhost:8080/",
          "height": 282
        },
        "outputId": "197a0f46-2322-4d0b-f330-194027a2450e"
      },
      "source": [
        "N = 10000\n",
        "m = stats.norm.rvs(loc=0,scale=1,size=N) # Generem una mostra de N elements distribuits com N(0,1)\n",
        "plt.hist(m,bins=100)\n",
        "plt.plot()"
      ],
      "execution_count": null,
      "outputs": [
        {
          "output_type": "execute_result",
          "data": {
            "text/plain": [
              "[]"
            ]
          },
          "metadata": {
            "tags": []
          },
          "execution_count": 31
        },
        {
          "output_type": "display_data",
          "data": {
            "image/png": "[encoded data removed]",
            "text/plain": [
              "<Figure size 432x288 with 1 Axes>"
            ]
          },
          "metadata": {
            "tags": [],
            "needs_background": "light"
          }
        }
      ]
    },
    {
      "cell_type": "markdown",
      "metadata": {
        "id": "Ju33jZDDrUZB"
      },
      "source": [
        "Com podem obtenir la pdf de la normal? Recordeu que també estava a stats.norm:"
      ]
    },
    {
      "cell_type": "code",
      "metadata": {
        "id": "2bfx_UlDrk16"
      },
      "source": [
        "?stats.norm\n",
        "# pdf(x, loc=0, scale=1)  -> Aquesta funció retorna el valor de la pdf a x per N(loc,scale)"
      ],
      "execution_count": null,
      "outputs": []
    },
    {
      "cell_type": "code",
      "metadata": {
        "id": "ifhVKLCZruf0",
        "colab": {
          "base_uri": "https://localhost:8080/",
          "height": 265
        },
        "outputId": "2276c9e3-01f7-4504-b5be-1ee896a0345a"
      },
      "source": [
        "x = np.linspace(-4,4,100)\n",
        "y = stats.norm.pdf(x)\n",
        "plt.plot(x,y,'r-')\n",
        "plt.show()"
      ],
      "execution_count": null,
      "outputs": [
        {
          "output_type": "display_data",
          "data": {
            "image/png": "[encoded data removed]",
            "text/plain": [
              "<Figure size 432x288 with 1 Axes>"
            ]
          },
          "metadata": {
            "tags": [],
            "needs_background": "light"
          }
        }
      ]
    },
    {
      "cell_type": "markdown",
      "metadata": {
        "id": "5JZjdQ4hsElF"
      },
      "source": [
        "Ara farem el plot de l'histograma de la nostra mostra i de la pdf per veure que coincideixen. Recordeu que haurem de normalitzar el nostre histograma:"
      ]
    },
    {
      "cell_type": "code",
      "metadata": {
        "id": "741BInOBsPbJ",
        "colab": {
          "base_uri": "https://localhost:8080/",
          "height": 282
        },
        "outputId": "16d80aaa-6b0c-44fc-f005-81e6806d3678"
      },
      "source": [
        "N = 10000\n",
        "m = stats.norm.rvs(loc=0,scale=1,size=N) # Generem una mostra de N elements distribuits com N(0,1)\n",
        "x = np.linspace(-4,4,100)\n",
        "y = stats.norm.pdf(x)\n",
        "plt.hist(m,bins=100,density=True)\n",
        "plt.plot(x,y,'r-')\n",
        "plt.plot()"
      ],
      "execution_count": null,
      "outputs": [
        {
          "output_type": "execute_result",
          "data": {
            "text/plain": [
              "[]"
            ]
          },
          "metadata": {
            "tags": []
          },
          "execution_count": 34
        },
        {
          "output_type": "display_data",
          "data": {
            "image/png": "[encoded data removed]",
            "text/plain": [
              "<Figure size 432x288 with 1 Axes>"
            ]
          },
          "metadata": {
            "tags": [],
            "needs_background": "light"
          }
        }
      ]
    },
    {
      "cell_type": "markdown",
      "metadata": {
        "id": "1ilohX0IvF0D"
      },
      "source": [
        "### <font color='green'>**> ENTREGA**</font>\n",
        "\n",
        "En aquesta entrega treballarem com generar una recta on cada punt té un soroll associat:\n",
        "\n",
        "$$\n",
        "y_i = x_i + \\epsilon_i\n",
        "$$\n",
        "\n",
        "Considerarem tres casos:\n",
        "\n",
        "* No hi ha soroll $\\Rightarrow \\epsilon_i = 0$\n",
        "* El soroll està distribuit com una normal $\\Rightarrow \\epsilon_i \\sim N(0,1)$\n",
        "* El soroll està uniformement distribuit sota l'interval $[-2,2]$ $\\Rightarrow \\epsilon_i \\sim U(-2,2)$\n",
        "\n",
        "---"
      ]
    },
    {
      "cell_type": "markdown",
      "metadata": {
        "id": "im1kOYeLvmHM"
      },
      "source": [
        "1) Fes una gràfica d'un conjunt de $N = 10000$ punts $(x,y)$ on els x estan equiespaiats en l'interval $[0,10]$ i \n",
        "\n",
        "$$\n",
        "y_i = x_i\n",
        "$$"
      ]
    },
    {
      "cell_type": "code",
      "metadata": {
        "id": "A_K1ydpIwVI3",
        "colab": {
          "base_uri": "https://localhost:8080/",
          "height": 279
        },
        "outputId": "da63897b-ad04-463c-f900-90ecdd1b5a5b"
      },
      "source": [
        "import numpy as np\n",
        "import matplotlib.pyplot as plt\n",
        "\n",
        "N = 100 \n",
        "x = np.linspace(0,10,N) # Aqui tendrias que haber hecho blah....\n",
        "y = x\n",
        "\n",
        "plt.plot(x,y,'ko',markersize=1)\n",
        "plt.xlabel(\"x\")\n",
        "plt.ylabel(\"y = x\")\n",
        "plt.show() # Lluc: Ok!"
      ],
      "execution_count": null,
      "outputs": [
        {
          "output_type": "display_data",
          "data": {
            "image/png": "[encoded data removed]",
            "text/plain": [
              "<Figure size 432x288 with 1 Axes>"
            ]
          },
          "metadata": {
            "tags": [],
            "needs_background": "light"
          }
        }
      ]
    },
    {
      "cell_type": "markdown",
      "metadata": {
        "id": "OHy85eYOw8mE"
      },
      "source": [
        "2) Fes una gràfica d'un conjunt de $N = 10000$ punts $(x,y)$ on els x estan equiespaiats en l'interval $[0,10]$ i \n",
        "\n",
        "$$\n",
        "y_i = x_i + \\epsilon_i\n",
        "$$\n",
        "\n",
        "on $\\epsilon_i \\sim N(0,1)$\n"
      ]
    },
    {
      "cell_type": "code",
      "metadata": {
        "id": "5Mud8_S-xTu0",
        "colab": {
          "base_uri": "https://localhost:8080/",
          "height": 279
        },
        "outputId": "f6472cd5-aab0-46c0-daf0-fde04b7d7bff"
      },
      "source": [
        "import numpy as np\n",
        "import matplotlib.pyplot as plt\n",
        "from scipy import stats\n",
        "\n",
        "N = 10000\n",
        "x = np.linspace(0,10,N)\n",
        "e = stats.norm.rvs(loc=0,scale=1,size=N)\n",
        "y = x + e\n",
        "\n",
        "plt.plot(x,y,'ko',markersize=1)\n",
        "plt.xlabel(\"x\")\n",
        "plt.ylabel(\"y = x + e\")\n",
        "plt.show()"
      ],
      "execution_count": null,
      "outputs": [
        {
          "output_type": "display_data",
          "data": {
            "image/png": "[encoded data removed]",
            "text/plain": [
              "<Figure size 432x288 with 1 Axes>"
            ]
          },
          "metadata": {
            "tags": [],
            "needs_background": "light"
          }
        }
      ]
    },
    {
      "cell_type": "markdown",
      "metadata": {
        "id": "PYc-ObA6yM76"
      },
      "source": [
        "3) Fes una gràfica d'un conjunt de $N = 10000$ punts $(x,y)$ on els x estan equiespaiats en l'interval $[0,10]$ i \n",
        "\n",
        "$$\n",
        "y_i = x_i + \\epsilon_i\n",
        "$$\n",
        "\n",
        "on els $\\epsilon_i$ estan uniformement distribuits a l'interval $[-2,2]$\n",
        "\n",
        "<font color='orange'>**Nota**</font> Vam veure que podíem trobar informació sobre les funcions de la normal a scipy amb\n",
        "\n",
        "`?stats.norm`\n",
        "\n",
        "similarment\n",
        "\n",
        "`?stats.uniform`\n",
        "\n",
        "Veiem que el rvs de la uniform té parametres:\n",
        "\n",
        "`stats.uniform.rvs(loc,scale,size)`\n",
        "\n",
        "En el nostre cas, si volem que la uniforme estigui definida sota l'interval $[-2,2]$, voldríem:\n",
        "\n",
        "`stats.uniform.rvs(loc=-2,scale=4,size)`\n"
      ]
    },
    {
      "cell_type": "code",
      "metadata": {
        "id": "FN63tQd5yPZD",
        "colab": {
          "base_uri": "https://localhost:8080/",
          "height": 279
        },
        "outputId": "bdd73778-fdfd-4fe4-95b9-6be7d32a82ed"
      },
      "source": [
        "import numpy as np\n",
        "import matplotlib.pyplot as plt\n",
        "from scipy import stats\n",
        "\n",
        "N = 10000\n",
        "x = np.linspace(0,10,N)\n",
        "e = stats.uniform.rvs(loc=-2,scale=4,size=N)\n",
        "y = x + e\n",
        "\n",
        "plt.plot(x,y,'ko',markersize=1)\n",
        "plt.xlabel(\"x\")\n",
        "plt.ylabel(\"y = x + e\")\n",
        "plt.show()"
      ],
      "execution_count": null,
      "outputs": [
        {
          "output_type": "display_data",
          "data": {
            "image/png": "[encoded data removed]",
            "text/plain": [
              "<Figure size 432x288 with 1 Axes>"
            ]
          },
          "metadata": {
            "tags": [],
            "needs_background": "light"
          }
        }
      ]
    }
  ]
}