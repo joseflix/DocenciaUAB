{
  "nbformat": 4,
  "nbformat_minor": 0,
  "metadata": {
    "colab": {
      "name": "Práctica1_IntroduccioPython.ipynb",
      "provenance": [],
      "collapsed_sections": [],
      "include_colab_link": true
    },
    "language_info": {
      "codemirror_mode": {
        "name": "ipython",
        "version": 3
      },
      "file_extension": ".py",
      "mimetype": "text/x-python",
      "name": "python",
      "nbconvert_exporter": "python",
      "pygments_lexer": "ipython3",
      "version": "3.6.7"
    },
    "kernelspec": {
      "display_name": "Python 3",
      "language": "python",
      "name": "python3"
    }
  },
  "cells": [
    {
      "cell_type": "markdown",
      "metadata": {
        "id": "view-in-github",
        "colab_type": "text"
      },
      "source": [
        "<a href=\"https://colab.research.google.com/github/joseflix/DocenciaUAB/blob/master/MN1/2020-2021/Practicas/Pr1_IntroduccioPython.ipynb\" target=\"_parent\"><img src=\"https://colab.research.google.com/assets/colab-badge.svg\" alt=\"Open In Colab\"/></a>"
      ]
    },
    {
      "cell_type": "markdown",
      "metadata": {
        "id": "AQN3Z0W5s87A"
      },
      "source": [
        "# **Pràctica 1: Fonaments de Python - Introducció**\n",
        "\n",
        "<hr>\n",
        "\n",
        "**Nombre:** \n",
        "\n",
        "**NIU:**\n",
        "\n",
        "**mail (gmail):**\n",
        "\n",
        "<hr>\n",
        "\n",
        "**Instrucciones**\n",
        "\n",
        "*   Rellena tu nombre, NIU i mail (gmail, si quieres recibir los comentarios/feedback acerca de tu entrega) en la cabecera de este Notebook.\n",
        "*   Renombra el Notebook como \"Pr1_{NIU}.ipynb\", donde {NIU} es tu NIU (*p.e. Pr1_2055007.ipynb*) \n",
        "*   Al final de la clase donde se realize una entrega, descarga este cuaderno en formato .ipynb y lo tienes que subir al siguiente *drop folder*: [Link](http://cern.ch/go/c6mM). Asegurate de que el fichero tiene el nombre correcto.\n",
        "*   Solo se evaluará la parte de la entrega. Tendréis acceso a la solución de todas las partes y después de haber entregado la práctica.\n",
        "\n",
        "<hr>\n",
        "\n"
      ]
    },
    {
      "cell_type": "markdown",
      "metadata": {
        "id": "pXkuAllkdNRA"
      },
      "source": [
        "**Objectiu de la pràctica**\n",
        "\n",
        "En aquest notebook introduirem els conceptes bàsics de programació en python:\n",
        "\n",
        "*   Operacions aritmètiques \n",
        "*   Variables\n",
        "*   If, for, while loops\n",
        "*   Funcions\n",
        "*   matplotlib, numpy, scipy"
      ]
    },
    {
      "cell_type": "markdown",
      "metadata": {
        "id": "LTzylLP5lweO"
      },
      "source": [
        "L'estructura d'un script bàsic de python consisteix en una sèrie de comandes per línea que s'executen una darrera de l'altra."
      ]
    },
    {
      "cell_type": "markdown",
      "metadata": {
        "id": "MJTuqSL3dhw3"
      },
      "source": [
        "### <font color='orange'>**> Python #1 (guiat per professor/a)**</font>\n",
        "\n",
        "En aquest primer exemple veurem com utilitzar la funció *print()*. Aquesta funció permet imprimir a la pantalla qualsevol tipus d'informació que ens interessi a qualsevol moment durant l'execució del codi:\n",
        "\n"
      ]
    },
    {
      "cell_type": "code",
      "metadata": {
        "id": "UXKCh6Gcl2pE"
      },
      "source": [
        "# Ús de la funció print (exemples)\n"
      ],
      "execution_count": null,
      "outputs": []
    },
    {
      "cell_type": "markdown",
      "metadata": {
        "id": "si5b3G3zlSlp"
      },
      "source": [
        "## **Operacions aritmètiques**\n",
        "\n",
        "Els operadors aritmètics de Python que farem servir usualment seran:\n",
        "\n",
        "* Suma (+)\n",
        "* Resta (-)\n",
        "* Producte (*)\n",
        "* Divisió (/)\n",
        "* Mòdul (%)\n",
        "* Exponent (**)\n"
      ]
    },
    {
      "cell_type": "markdown",
      "metadata": {
        "id": "5XXWpHUZevia"
      },
      "source": [
        "### <font color='orange'>**> Python #2 (guiat per professor/a)**</font>\n",
        "\n",
        "En aquest exemple veurem com utilitzar aquests operadors aritmètics:"
      ]
    },
    {
      "cell_type": "code",
      "metadata": {
        "id": "26CSKIc5lsWy"
      },
      "source": [
        "# Suma +\n",
        "\n",
        "# Resta -\n",
        "\n",
        "# Producte *\n",
        "\n",
        "# Divisió /\n",
        "\n",
        "# Mòdul %\n",
        "\n",
        "# Exponent **"
      ],
      "execution_count": null,
      "outputs": []
    },
    {
      "cell_type": "markdown",
      "metadata": {
        "id": "eF-BGvwzm-2W"
      },
      "source": [
        "L'ordre de les operacions aritmètiques segueix les normes que un esperaria: "
      ]
    },
    {
      "cell_type": "code",
      "metadata": {
        "id": "nTd8jYqWnMmz"
      },
      "source": [
        "# 1 + 2 - 3 * 2 = ???\n",
        "\n",
        "# (1 + 2 - 3) * 2 = ???\n"
      ],
      "execution_count": null,
      "outputs": []
    },
    {
      "cell_type": "markdown",
      "metadata": {
        "id": "I_SAIvoqoT9Q"
      },
      "source": [
        "## **Variables**\n",
        "\n",
        "Treballarem bàsicament amb els següents tipus de variables:\n",
        "\n",
        "* Números enters, reals.\n",
        "* Booleans\n",
        "* Strings\n",
        "* Llistes\n"
      ]
    },
    {
      "cell_type": "markdown",
      "metadata": {
        "id": "aF_crdBPe6nz"
      },
      "source": [
        "### <font color='orange'>**> Python #3 (guiat per professor/a)**</font>\n",
        "\n",
        "Ara veurem com definir variables que prenen com a valors nombres **enters**. Veurem com fer operacions a partir de les variables i com es poden redefinir."
      ]
    },
    {
      "cell_type": "code",
      "metadata": {
        "id": "8W9FQDKToqdo"
      },
      "source": [
        "# Definim nombres enters i els imprimim per pantalla: (a = 3; b = 5; c = b+3)\n",
        "\n",
        "# Les operacions es poden fer a partir de les variables, per exemple a+b\n",
        "\n",
        "# Podem redefinir les variables, però això no afectarà a altres variables, per exemple redefinir b = 3, afecta a c?\n"
      ],
      "execution_count": null,
      "outputs": []
    },
    {
      "cell_type": "markdown",
      "metadata": {
        "id": "VqwyeaonfV5y"
      },
      "source": [
        "### <font color='orange'>**> Python #4 (guiat per professor/a)**</font>\n",
        "\n",
        "Ara veurem els **booleans**. Aquestes són variables que només poden prendre valors True o False. Es fan servir per operacions lògiques. Els operadors lògics bàsics són:\n",
        "\n",
        "* Equivalència (==) **No confondre amb l'operador de definició (=)**\n",
        "* No equivalència (!=)\n",
        "* Més gran o igual que (>=)\n",
        "* Més petit o igual que (<=)\n",
        "* Més gran que (>)\n",
        "* Més petit que (<)\n",
        "\n",
        "També es poden concatenar booleans per construir lògica més complexa amb la sintaxi **and** i **or**\n",
        "\n",
        "a | b | a **and** b\n",
        "--- | --- | ---\n",
        "True | True | True\n",
        "True | False | False\n",
        "False | True | False\n",
        "False | False | False\n",
        "\n",
        "---\n",
        "\n",
        "a | b | a **or** b\n",
        "--- | --- | ---\n",
        "True | True | True\n",
        "True | False | True\n",
        "False | True | True\n",
        "False | False | False\n",
        "\n"
      ]
    },
    {
      "cell_type": "code",
      "metadata": {
        "id": "jC7t9kwufWN5"
      },
      "source": [
        "# Els booleans són variables que només poden ser True o False. Definim dues variables booleanes\n",
        "\n",
        "# No confondre l'operador d'assignació = amb l'operador d'equivalència (==). Exemple amb a = 3; b = 5\n",
        "\n",
        "# Els operadors lògics bàsics:"
      ],
      "execution_count": null,
      "outputs": []
    },
    {
      "cell_type": "markdown",
      "metadata": {
        "id": "o3GPsebphd7M"
      },
      "source": [
        "### <font color='orange'>**> Python #5 (guiat per professor/a)**</font>\n",
        "\n",
        "Ara parlarem dels **strings**. Aquest és el tipus de variable que es fa servir per manipular text. \n",
        "\n",
        "Es defineixen a partir de \"\" o ''. Veurem també que els strings es poden concatenar amb l'operador (+) i com podem tenir quotes dins d'strings."
      ]
    },
    {
      "cell_type": "code",
      "metadata": {
        "id": "k4mbwqpahAtd"
      },
      "source": [
        "# Els strings es defineixen amb \"\" o '' - exemple de concatenacions\n"
      ],
      "execution_count": null,
      "outputs": []
    },
    {
      "cell_type": "markdown",
      "metadata": {
        "id": "mM2FjOAniOEB"
      },
      "source": [
        "### <font color='orange'>**> Python #6 (guiat per professor/a)**</font>\n",
        "\n",
        "Un altre objecte molt útil que farem servir són les **llistes**. Es poden entendre com vectors d'altres elements.\n",
        "\n",
        "Ara veurem com definir una llista, com accedir als seus elements i modificar-los; i com afegir elements a una llista:\n"
      ]
    },
    {
      "cell_type": "code",
      "metadata": {
        "id": "KMZfe740pv_S"
      },
      "source": [
        "# Les llistes es defineixen amb []. Definir llista i accedir a elements + len(a)\n",
        "a = [1,2,3,4,5]\n",
        "\n",
        "# Podem redefinir el contingut d'una llista\n",
        "\n",
        "# Podem prendre subllistes d'una llista\n",
        "\n",
        "# Podem afegir membres a una llista amb la funció append"
      ],
      "execution_count": null,
      "outputs": []
    },
    {
      "cell_type": "markdown",
      "metadata": {
        "id": "4awt3a3DirWR"
      },
      "source": [
        "### <font color='orange'>**> Python #7 (guiat per professor/a)**</font>\n",
        "\n",
        "A vegades tindrem variables d'un tipus en particular, com ara string; però ens interessa tenir-les com un altre tipus. Aquí aprendrem com canviar d'un tipus de variable a un altre:"
      ]
    },
    {
      "cell_type": "code",
      "metadata": {
        "id": "iUW7kUEesmyN"
      },
      "source": [
        "# Si tinguéssim variables en forma d'string que són números i ens interessa\n",
        "# fer operacions aritmètiques sobre elles, no ho podem fer si són strings:\n",
        "\n",
        "# Sino que necessitem convertir-les a números, per exemple enters, abans de fer l'operació (cast!)\n"
      ],
      "execution_count": null,
      "outputs": []
    },
    {
      "cell_type": "markdown",
      "metadata": {
        "id": "KObFlhd9tHh2"
      },
      "source": [
        "## **Expressions condicionals (if)**\n",
        "\n",
        "La programació no només consisteix en definir variables i fer aritmètica. També podem fer algoritmes que permeten executar certes tasques depenent sobre si una condició es compleix (if), o iterar sobre comandes (for, while loops)\n",
        "\n",
        "L'estructura d'un **if** és:\n",
        "\n",
        "```\n",
        "if (bool):\n",
        "  Codi-que-s'executa-si-bool-és-True\n",
        "```\n",
        "\n",
        "També podem tenir un **else** per definir el codi que s'executa si la condició no és True:\n",
        "\n",
        "```\n",
        "if (bool):\n",
        "  Codi-que-s'executa-si-bool-és-True\n",
        "else:\n",
        "  Codi-que-s'executa-si-bool-és-False\n",
        "```\n",
        "\n",
        "També podem tenir més de dos casos fent servir **elif** (else + if)\n",
        "```\n",
        "if (bool1):\n",
        "  Codi-que-s'executa-si-bool1-és-True\n",
        "elif (bool2):\n",
        "  Codi-que-s'executa-si-bool2-és-True-bool1-és-False\n",
        "else:\n",
        "  Codi-que-s'executa-si-bool1-bool2-són-False\n",
        "```\n"
      ]
    },
    {
      "cell_type": "markdown",
      "metadata": {
        "id": "N1uwtV6xjbQq"
      },
      "source": [
        "### <font color='orange'>**> Python #8 (guiat per professor/a)**</font>\n",
        "\n",
        "En aquest exemple veurem com implementar un bloc **if**:\n"
      ]
    },
    {
      "cell_type": "code",
      "metadata": {
        "id": "d1ay1LZNtSrZ"
      },
      "source": [
        "a = 4\n",
        "\n",
        "# a == 3?\n",
        "# a == 4?\n",
        "# altre?\n"
      ],
      "execution_count": null,
      "outputs": []
    },
    {
      "cell_type": "markdown",
      "metadata": {
        "id": "4t8hhg_8wbWn"
      },
      "source": [
        "## **Loops (for, while)**\n",
        "\n",
        "Per definir blocs de codi que volem que s'executin iterativament podem fer servir for/while loops.\n",
        "\n",
        "Per fer loops hem d'iterar sobre alguna estructura iterable, com ara llistes. La sintaxi serà bàsicament:\n",
        "\n",
        "```\n",
        "for var in llista:\n",
        "  Codi-que-s'executa-len(llista)-vegades\n",
        "```"
      ]
    },
    {
      "cell_type": "markdown",
      "metadata": {
        "id": "X5nrjWdjkUwW"
      },
      "source": [
        "### <font color='orange'>**> Python #9 (guiat per professor/a)**</font>\n",
        "\n",
        "Ara veurem com fer for loops sobre una llista:\n",
        "\n",
        "* A partir d'una variable que va prenent el valor dels elements de la llista.\n",
        "* A partir dels índexos dels elements de la llista amb la funció **range**\n"
      ]
    },
    {
      "cell_type": "code",
      "metadata": {
        "id": "BsOf2cQEwX11"
      },
      "source": [
        "# A partir d'una variable que va prenent el valor dels elements de la llista.\n",
        "llista_de_la_compra = [\"mandarines\",\"peix\",\"papel de vàter\"]\n",
        "\n",
        "# for membre"
      ],
      "execution_count": null,
      "outputs": []
    },
    {
      "cell_type": "code",
      "metadata": {
        "id": "Srbuepnww68w"
      },
      "source": [
        "# Podem utilitzar la funció range per construir llistes d'índexos\n",
        "q_compra = len(llista_de_la_compra)\n",
        "\n",
        "#for index"
      ],
      "execution_count": null,
      "outputs": []
    },
    {
      "cell_type": "code",
      "metadata": {
        "id": "k6wvYermxOkz"
      },
      "source": [
        "# Podem tenir loops dins de loops. Exemple:\n"
      ],
      "execution_count": null,
      "outputs": []
    },
    {
      "cell_type": "markdown",
      "metadata": {
        "id": "ZRe0D2ceyZpW"
      },
      "source": [
        "### **While loops**\n",
        "\n",
        "Què passa si no sabem fins a quant iterem? En aquests casos podem iterar fins mentre una condició es compleixi amb un **while** loop:\n",
        "\n",
        "```\n",
        "while bool:\n",
        "  Codi-executat-mentre-bool-sigui-True\n",
        "```\n",
        "\n",
        "S'ha d'anar amb compte i sempre assegurar-se que la condició és False en algún moment, si no entraríem en un **loop infinit**.\n"
      ]
    },
    {
      "cell_type": "markdown",
      "metadata": {
        "id": "ImDLFpaKl7xX"
      },
      "source": [
        "### <font color='orange'>**> Python #10 (guiat per professor/a)**</font>\n",
        "\n",
        "Aquí veurem un exemple d'un while loop:"
      ]
    },
    {
      "cell_type": "code",
      "metadata": {
        "id": "b2t63ccOyYKz"
      },
      "source": [
        "# fer un while loop sempre que sigui i <=5, si comencem amb i=0 i a cada iteració augmentem el valor de i en una unitat:\n"
      ],
      "execution_count": null,
      "outputs": []
    },
    {
      "cell_type": "markdown",
      "metadata": {
        "id": "C8PjeZ280E8q"
      },
      "source": [
        "## **Funcions**\n",
        "\n",
        "A vegades quan tenim parts de codi que utilitzem moltes vegades, és util definir una funció que executi aquesta part per no haver de copiar i pegar el mateix codi a llocs diferents.\n",
        "\n",
        "La sintaxi bàsica es:\n",
        "\n",
        "```\n",
        "def {nom_de_la_funcio} ({paràmetres}):\n",
        "  Codi-a-executar\n",
        "  return {Variable-que-es-vol-fora-de-la-funció}\n",
        "```"
      ]
    },
    {
      "cell_type": "markdown",
      "metadata": {
        "id": "po1t6gnSmAT7"
      },
      "source": [
        "### <font color='orange'>**> Python #11 (guiat per professor/a)**</font>\n",
        "\n",
        "Ara veurem un exemple de com definir una funció i retornar valors. Veurem que s'ha de vigilar com tractem les variables dins i fora  de la funció:"
      ]
    },
    {
      "cell_type": "code",
      "metadata": {
        "id": "nbKRnBvBmTxZ"
      },
      "source": [
        "# Definir una funció que retorna la suma de a + b. Si tenim d a fora de la funció i modifiquem d a dintre de la funció... què passa?\n"
      ],
      "execution_count": null,
      "outputs": []
    },
    {
      "cell_type": "markdown",
      "metadata": {
        "id": "qv3wcEKpzJhV"
      },
      "source": [
        "### <font color='green'>**> Exercici 1**</font>\n",
        "\n",
        "Fes un codi que imprimeixi a la pantalla els nombres parells més petits o iguals a 10. Es pot fer de moltes maneres:\n",
        "\n",
        "* Fent un loop sobre una llista pre-determinada (easy)\n",
        "* Fent un loop sobre els numeros de 0 a 10 i aplicant un if\n",
        "* Fent un loop sobre els numeros de 0 a 10 i aplicant l'operador % i un if\n",
        "* Fent servir la funció range, que permet saltar en increments determinats range(0,11,2)\n",
        "* Etc...\n"
      ]
    },
    {
      "cell_type": "code",
      "metadata": {
        "id": "K7iLLxlVzfp6"
      },
      "source": [
        "# Escull un mètode e implementa el codi:"
      ],
      "execution_count": null,
      "outputs": []
    },
    {
      "cell_type": "markdown",
      "metadata": {
        "id": "MOnxXOR72F-R"
      },
      "source": [
        "## **Llibreries bàsiques**\n",
        "\n",
        "### Matplotlib\n",
        "\n",
        "Farem servir **matplotlib** per fer gràfiques:"
      ]
    },
    {
      "cell_type": "markdown",
      "metadata": {
        "id": "4VEDa4ASnZRc"
      },
      "source": [
        "### <font color='orange'>**> Python #11 (guiat per professor/a)**</font>\n",
        "\n",
        "Ara veurem com importar la llibreria matplotlib per fer plots. Podeu trobar més informació al [curs de python](https://github.com/joseflix/DocenciaUAB/blob/master/MN1/2019-2020/CursPython/16_Libreria_Matplotlib_Python.ipynb)\n"
      ]
    },
    {
      "cell_type": "code",
      "metadata": {
        "id": "eEzMjawV24u9"
      },
      "source": [
        "import matplotlib.pyplot as plt"
      ],
      "execution_count": null,
      "outputs": []
    },
    {
      "cell_type": "code",
      "metadata": {
        "id": "ubnPtczH264F"
      },
      "source": [
        "?plt.plot()"
      ],
      "execution_count": null,
      "outputs": []
    },
    {
      "cell_type": "code",
      "metadata": {
        "init_cell": true,
        "id": "4aRnMhof91Ij"
      },
      "source": [
        "# Fer un plot de x,y\n",
        "x = [1,2,3,4,5]\n",
        "y = [5,4,3,2,1]\n",
        "\n",
        "# plot..."
      ],
      "execution_count": null,
      "outputs": []
    },
    {
      "cell_type": "markdown",
      "metadata": {
        "id": "bGyozJmL4JTQ"
      },
      "source": [
        "### Numpy\n",
        "\n",
        "Amb la llibreria **numpy** (numerical python), podem obtenir funcions elementals com sin, cos, etc. També és molt útil per que els arrays de numpy tenen més funcionalitats que les llistes. \n"
      ]
    },
    {
      "cell_type": "markdown",
      "metadata": {
        "id": "CQSVKLgnoD1n"
      },
      "source": [
        "### <font color='orange'>**> Python #12 (guiat per professor/a)**</font>\n",
        "\n",
        "Ara veurem com importar la llibreria numpy. Podeu trobar més informació al [curs de python](https://github.com/joseflix/DocenciaUAB/blob/master/MN1/2019-2020/CursPython/14_Libreria_Numpy_Python.ipynb)\n",
        "\n",
        "Una funcionalitat de numpy que farem servir bastant és **linspace**, que permet generar una llista d'elements equiespaiats sota un interval.\n"
      ]
    },
    {
      "cell_type": "code",
      "metadata": {
        "id": "lCBITvTh3xbe"
      },
      "source": [
        "import numpy as np"
      ],
      "execution_count": null,
      "outputs": []
    },
    {
      "cell_type": "code",
      "metadata": {
        "id": "lL09hLgu31lU"
      },
      "source": [
        "# Dibuixar sin(x) entre 0 i 2 pi\n"
      ],
      "execution_count": null,
      "outputs": []
    },
    {
      "cell_type": "markdown",
      "metadata": {
        "id": "Rz79FH5jofhd"
      },
      "source": [
        "### SciPy\n",
        "\n",
        "Amb la llibreria **scipy** (scientific python) tindrem accés a funcionalitats per generar nombres aleatoris. "
      ]
    },
    {
      "cell_type": "markdown",
      "metadata": {
        "id": "cWUJLOMqpFsf"
      },
      "source": [
        "### <font color='orange'>**> Python #13 (guiat per professor/a)**</font>\n",
        "\n",
        "Ara veurem com importar la llibreria scipy. Podeu trobar més informació al [curs de python](https://github.com/joseflix/DocenciaUAB/blob/master/MN1/2019-2020/CursPython/17_Libreria_SciPy_Python.ipynb)\n",
        "\n",
        "Veurem com generar una llista de punts que estan distribuits com una normal, fer-ne un histograma i superimposar la pdf de la normal per assegurar-nos que estan distribuits correctament."
      ]
    },
    {
      "cell_type": "markdown",
      "metadata": {
        "id": "79S6nKxE2Ycp"
      },
      "source": [
        "Comencem important stats de scipy i generant una mostra d'un element que segueix una normal."
      ]
    },
    {
      "cell_type": "code",
      "metadata": {
        "id": "ng4--gDGpWcr"
      },
      "source": [
        "from scipy import stats # Dins de stats es on viuen les distribucions de probabilitat"
      ],
      "execution_count": null,
      "outputs": []
    },
    {
      "cell_type": "code",
      "metadata": {
        "id": "v7MIn4UzpeqS"
      },
      "source": [
        "?stats.norm # Veiem els arguments del \"Random Value Sampler\" rvs:\n",
        "\n",
        "# rvs(loc=0, scale=1, size=1, random_state=None)"
      ],
      "execution_count": null,
      "outputs": []
    },
    {
      "cell_type": "code",
      "metadata": {
        "id": "L9ifhzKfp4qI",
        "colab": {
          "base_uri": "https://localhost:8080/",
          "height": 34
        },
        "outputId": "60658fd4-5943-447e-a197-fe8dd01db82b"
      },
      "source": [
        "m = stats.norm.rvs(loc=0, scale= 1) # Això genera 1 nombre aleatori distribuit com una normal N(0,1):\n",
        "print(m) # Proveu a executar per veure que el resultat canvia"
      ],
      "execution_count": null,
      "outputs": [
        {
          "output_type": "stream",
          "text": [
            "-2.120129763998323\n"
          ],
          "name": "stdout"
        }
      ]
    },
    {
      "cell_type": "markdown",
      "metadata": {
        "id": "riMrL2KoqPWN"
      },
      "source": [
        "Hem vist com fer una mostra d'un element que segueix una $N(0,1)$. Però nosaltres voldrem tenir mostres més grans. Això ho controlem amb el paràmetre size del *random value sampler* rvs"
      ]
    },
    {
      "cell_type": "code",
      "metadata": {
        "id": "L2Av6v1tqOiw",
        "colab": {
          "base_uri": "https://localhost:8080/",
          "height": 51
        },
        "outputId": "0115a006-0b95-4c61-abb6-03d4487d54cb"
      },
      "source": [
        "m = stats.norm.rvs(loc=0,scale=1,size=10)\n",
        "print(m)"
      ],
      "execution_count": null,
      "outputs": [
        {
          "output_type": "stream",
          "text": [
            "[-1.72755977 -0.50761957  0.1014656  -1.37569037 -0.80177052  1.10582899\n",
            " -1.29604327  0.88351787 -1.07712529 -0.10007626]\n"
          ],
          "name": "stdout"
        }
      ]
    },
    {
      "cell_type": "markdown",
      "metadata": {
        "id": "6SBdq9fEqmVb"
      },
      "source": [
        "Per veure la distribució de la nostra mostra $x$ farem servir un [histograma](https://ca.wikipedia.org/wiki/Histograma)\n"
      ]
    },
    {
      "cell_type": "code",
      "metadata": {
        "id": "Q4s7XyXXq3J9"
      },
      "source": [
        "?plt.hist"
      ],
      "execution_count": null,
      "outputs": []
    },
    {
      "cell_type": "code",
      "metadata": {
        "id": "nZLe_GRhq9Zy"
      },
      "source": [
        "# Generem una mostra de N elements distribuits com N(0,1) i fem un histograma\n"
      ],
      "execution_count": null,
      "outputs": []
    },
    {
      "cell_type": "markdown",
      "metadata": {
        "id": "Ju33jZDDrUZB"
      },
      "source": [
        "Com podem obtenir la pdf de la normal? Recordeu que també estava a stats.norm:"
      ]
    },
    {
      "cell_type": "code",
      "metadata": {
        "id": "2bfx_UlDrk16"
      },
      "source": [
        "?stats.norm\n",
        "# pdf(x, loc=0, scale=1)  -> Aquesta funció retorna el valor de la pdf a x per N(loc,scale)"
      ],
      "execution_count": null,
      "outputs": []
    },
    {
      "cell_type": "code",
      "metadata": {
        "id": "ifhVKLCZruf0"
      },
      "source": [
        "# obtenir les y fent servir stats.norm.pdf y fer una gràfica de x,y\n"
      ],
      "execution_count": null,
      "outputs": []
    },
    {
      "cell_type": "markdown",
      "metadata": {
        "id": "5JZjdQ4hsElF"
      },
      "source": [
        "Ara farem el plot de l'histograma de la nostra mostra i de la pdf per veure que coincideixen. Recordeu que haurem de normalitzar el nostre histograma:"
      ]
    },
    {
      "cell_type": "code",
      "metadata": {
        "id": "741BInOBsPbJ"
      },
      "source": [
        "# grafica de la pdf i l'histograma normalitzats:\n"
      ],
      "execution_count": null,
      "outputs": []
    },
    {
      "cell_type": "markdown",
      "metadata": {
        "id": "1ilohX0IvF0D"
      },
      "source": [
        "### <font color='green'>**> ENTREGA**</font>\n",
        "\n",
        "En aquesta entrega treballarem com generar una recta on cada punt té un soroll associat:\n",
        "\n",
        "$$\n",
        "y_i = x_i + \\epsilon_i\n",
        "$$\n",
        "\n",
        "Considerarem tres casos:\n",
        "\n",
        "* No hi ha soroll $\\Rightarrow \\epsilon_i = 0$\n",
        "* El soroll està distribuit com una normal $\\Rightarrow \\epsilon_i \\sim N(0,1)$\n",
        "* El soroll està uniformement distribuit sota l'interval $[-2,2]$ $\\Rightarrow \\epsilon_i \\sim U(-2,2)$\n",
        "\n",
        "---"
      ]
    },
    {
      "cell_type": "markdown",
      "metadata": {
        "id": "im1kOYeLvmHM"
      },
      "source": [
        "1) Fes una gràfica d'un conjunt de $N = 10000$ punts $(x,y)$ on els x estan equiespaiats en l'interval $[0,10]$ i \n",
        "\n",
        "$$\n",
        "y_i = x_i\n",
        "$$"
      ]
    },
    {
      "cell_type": "code",
      "metadata": {
        "id": "A_K1ydpIwVI3"
      },
      "source": [
        "# Part 1\n",
        "\n",
        "import numpy as np\n",
        "import matplotlib.pyplot as plt\n",
        "\n",
        "# El teu codi..."
      ],
      "execution_count": null,
      "outputs": []
    },
    {
      "cell_type": "markdown",
      "metadata": {
        "id": "OHy85eYOw8mE"
      },
      "source": [
        "2) Fes una gràfica d'un conjunt de $N = 10000$ punts $(x,y)$ on els x estan equiespaiats en l'interval $[0,10]$ i \n",
        "\n",
        "$$\n",
        "y_i = x_i + \\epsilon_i\n",
        "$$\n",
        "\n",
        "on $\\epsilon_i \\sim N(0,1)$\n"
      ]
    },
    {
      "cell_type": "code",
      "metadata": {
        "id": "5Mud8_S-xTu0"
      },
      "source": [
        "# Part 2\n",
        "\n",
        "import numpy as np\n",
        "import matplotlib.pyplot as plt\n",
        "from scipy import stats\n",
        "\n",
        "# El teu codi..."
      ],
      "execution_count": null,
      "outputs": []
    },
    {
      "cell_type": "markdown",
      "metadata": {
        "id": "PYc-ObA6yM76"
      },
      "source": [
        "3) Fes una gràfica d'un conjunt de $N = 10000$ punts $(x,y)$ on els x estan equiespaiats en l'interval $[0,10]$ i \n",
        "\n",
        "$$\n",
        "y_i = x_i + \\epsilon_i\n",
        "$$\n",
        "\n",
        "on els $\\epsilon_i$ estan uniformement distribuits a l'interval $[-2,2]$\n",
        "\n",
        "<font color='orange'>**Nota**</font> Vam veure que podíem trobar informació sobre les funcions de la normal a scipy amb\n",
        "\n",
        "`?stats.norm`\n",
        "\n",
        "similarment\n",
        "\n",
        "`?stats.uniform`\n",
        "\n",
        "Veiem que el rvs de la uniform té parametres:\n",
        "\n",
        "`stats.uniform.rvs(loc,scale,size)`\n",
        "\n",
        "En el nostre cas, si volem que la uniforme estigui definida sota l'interval $[-2,2]$, voldríem:\n",
        "\n",
        "`stats.uniform.rvs(loc=-2,scale=4,size)`\n"
      ]
    },
    {
      "cell_type": "code",
      "metadata": {
        "id": "FN63tQd5yPZD"
      },
      "source": [
        "# Part 3\n",
        "\n",
        "import numpy as np\n",
        "import matplotlib.pyplot as plt\n",
        "from scipy import stats\n",
        "\n",
        "# El teu codi..."
      ],
      "execution_count": null,
      "outputs": []
    },
    {
      "cell_type": "markdown",
      "metadata": {
        "id": "gpkqGt9GVwRG"
      },
      "source": [
        "<hr>\n",
        "\n",
        "**Recuerda**\n",
        "\n",
        "*   Rellena tu nombre, NIU i mail (gmail, si quieres recibir los comentarios/feedback acerca de tu entrega) en la cabecera de este Notebook.\n",
        "*   Renombra el Notebook como \"Pr1_{NIU}.ipynb\", donde {NIU} es tu NIU (*p.e. Pr1_2055007.ipynb*) \n",
        "*   Al final de la clase donde se realize una entrega, descarga este cuaderno en formato .ipynb y lo tienes que subir al siguiente *drop folder*: [Link](http://cern.ch/go/c6mM). Asegurate de que el fichero tiene el nombre correcto.\n",
        "*   Solo se evaluará la parte de la entrega. Tendréis acceso a la solución de todas las partes y después de haber entregado la práctica.\n",
        "\n",
        "<hr>"
      ]
    }
  ]
}