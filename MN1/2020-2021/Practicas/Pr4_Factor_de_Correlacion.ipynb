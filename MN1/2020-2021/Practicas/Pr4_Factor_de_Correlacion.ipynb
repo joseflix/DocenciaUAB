{
  "nbformat": 4,
  "nbformat_minor": 0,
  "metadata": {
    "colab": {
      "name": "Práctica4_Factor_de_Correlación.ipynb",
      "provenance": [],
      "collapsed_sections": [],
      "include_colab_link": true
    },
    "kernelspec": {
      "name": "python3",
      "display_name": "Python 3"
    }
  },
  "cells": [
    {
      "cell_type": "markdown",
      "metadata": {
        "id": "view-in-github",
        "colab_type": "text"
      },
      "source": [
        "<a href=\"https://colab.research.google.com/github/joseflix/DocenciaUAB/blob/master/MN1/2020-2021/Practicas/Pr4_Factor_de_Correlacion.ipynb\" target=\"_parent\"><img src=\"https://colab.research.google.com/assets/colab-badge.svg\" alt=\"Open In Colab\"/></a>"
      ]
    },
    {
      "cell_type": "markdown",
      "metadata": {
        "id": "mEiCGwL_PUmg"
      },
      "source": [
        "# **Práctica 4: Factor de correlación $\\rho$**\n",
        "\n",
        "<hr>\n",
        "\n",
        "**Objectivo de la práctica** \n",
        "\n",
        "Vamos a ver cómo el factor de correlación entre dos muestras totalmente correlacionadas se puede llegar a perder por culpa de un ruido que añadiremos a las muestras.\n",
        "\n",
        "<hr>"
      ]
    },
    {
      "cell_type": "markdown",
      "metadata": {
        "id": "2TWBmVpIv_i7"
      },
      "source": [
        "### <font color='orange'>**> Python #1**</font>\n",
        "\n",
        "Vamos a comenzar generando $N=10000$ puntos equidistantes en las abscisas $(x,y) \\in [-10,10]$  tales que $y_i = x_i$. \n",
        "\n",
        "Vamos a hacer una gráfica de los pares de puntos $(x,y)$ y calcularemos el factor de correlación a partir de\n",
        "\n",
        "$$\n",
        "\\rho = \\frac{Cov(x,y)}{\\sigma_x \\sigma_y} = \\frac{E[(x−E[x])(y−E[y])]}{\\sigma_x \\sigma_y} = \\frac{E[xy] - E[x]E[y]}{\\sigma_x \\sigma_y}\n",
        "$$\n",
        "\n",
        "Muestra el valor de $\\rho$ en una leyenda o en el título de la gráfica."
      ]
    },
    {
      "cell_type": "code",
      "metadata": {
        "id": "0zlVsdINPDJv"
      },
      "source": [
        "import numpy as np\n",
        "import matplotlib.pyplot as plt\n",
        "\n",
        "# 1) generar 𝑁=10000 puntos equidistantes en las abscisas (𝑥,𝑦)∈[−10,10] tales que 𝑦𝑖=𝑥𝑖\n",
        "\n",
        "# 2) Calcular el factor de correlación usando la fórmula (se puede hacer de 3 maneras, de hecho)\n",
        "\n",
        "# 3) Mostrar los pares (x,y) en una gràfica y añadir el rho visible en la gráfica\n"
      ],
      "execution_count": null,
      "outputs": []
    },
    {
      "cell_type": "markdown",
      "metadata": {
        "id": "us7tq5hEPqJj"
      },
      "source": [
        "### <font color='green'>**> Ejercicio #1**</font>\n",
        "\n",
        "<hr>\n",
        "\n",
        "<font color='green'>Esta práctica de 1h no tiene entrega, pero se tiene que realizar este ejercicio de programación durante la clase.</font>\n",
        "\n",
        "<hr>\n",
        "\n",
        "Ahora vamos a añadir un ruido Gaussiano sobre los puntos:\n",
        "\n",
        "$$\n",
        "x_i \\to x_i + \\epsilon_i \\\\\n",
        "y_i \\to y_i + \\epsilon'_i\n",
        "$$\n",
        "\n",
        "tal que $\\epsilon_i \\sim G(0,\\sigma)$ i $\\epsilon'_i \\sim G(0,\\sigma)$ (Nota: Son dos distribuciones diferentes, centradas en 0 y que dependen de una misma $\\sigma$, para simplificar...). \n",
        "\n",
        "Haz una gráfica similar a la del apartado anterior, pero ahora usando los puntos $(x,y)$ que tienen un ruido en (x,y) determinado por $\\sigma = 100$. Incluye también el factor de correlación.\n",
        "\n",
        "Veremos claramente que el ruido nos ha 'roto' la correlación entre las variables $x$ e $y$."
      ]
    },
    {
      "cell_type": "code",
      "metadata": {
        "id": "KyUl4K0cQcQG"
      },
      "source": [
        "import numpy as np\n",
        "import matplotlib.pyplot as plt\n",
        "\n",
        "# 1) generar 𝑁=10000 puntos equidistantes en las abscisas (𝑥,𝑦)∈[−10,10] tales que 𝑦𝑖=𝑥𝑖\n",
        "\n",
        "# 2) generar 𝑁=10000 epsilons_i y epsilons'_i, que siguen una G(0,sigma), y añadirlo, punto a punto, a los xi y yi\n",
        "\n",
        "# 3) Calcular el factor de correlación usando la fórmula (se puede hacer de 3 maneras, de hecho)\n",
        "\n",
        "# 4) Mostrar los pares (x,y) en una gràfica y añadir el rho visible en la gráfica, y también los xi=yi originales, a modo de referencia"
      ],
      "execution_count": null,
      "outputs": []
    },
    {
      "cell_type": "markdown",
      "metadata": {
        "id": "bBJSZ0ieQ6lt"
      },
      "source": [
        "### <font color='orange'>**> Python #2**</font>\n",
        "\n",
        "Vamos a ver ahora cómo cambia $\\rho$ en función de $\\sigma$ del ruido que añadimos a la muestra. Para eso genera un array de 1000 sigmas equidistantes entre 0 (no ruido, $\\rho$=1) y 100 (ruido anterior, $\\rho$=0) y para cada una genera el ruido gaussiano para las Xs e Ys y aplícalo en los puntos para obtener una nueva $\\rho$.  \n",
        "\n",
        "Haz una gráfica de la evolución del factor de correlación en función de estas sigmas. \n",
        "\n"
      ]
    },
    {
      "cell_type": "code",
      "metadata": {
        "id": "qfmDsjgLRELK"
      },
      "source": [
        "import numpy as np\n",
        "import matplotlib.pyplot as plt\n",
        "\n",
        "# 1) generar 𝑁=10000 puntos equidistantes en las abscisas (𝑥,𝑦)∈[−10,10] tales que 𝑦𝑖=𝑥𝑖\n",
        "\n",
        "# 2) generar 10000 puntos equidistantes para las sigmas, entre 0 y 100\n",
        "\n",
        "# 3) Hacer un bucle sobre las sigmas: \n",
        "#    - para cada una de las sigmas, generar 𝑁=10000 epsilons_i y epsilons'_i, que siguen una G(0,sigma), y añadirlo, punto a punto, a los xi y yi\n",
        "#    - Calcular rho, y guardar en una lista\n",
        "\n",
        "# 4) Mostrar los pares (Sigma,Rho) en una gràfica, para ver la evolución de Rho (romper la correlación)\n"
      ],
      "execution_count": null,
      "outputs": []
    }
  ]
}