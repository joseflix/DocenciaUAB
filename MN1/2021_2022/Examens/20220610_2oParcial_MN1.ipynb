{
  "nbformat": 4,
  "nbformat_minor": 0,
  "metadata": {
    "colab": {
      "name": "20220610_2oParcial_MN1.ipynb",
      "provenance": [],
      "collapsed_sections": [],
      "authorship_tag": "ABX9TyOMHikduI+JYy+xC7GPjXUu",
      "include_colab_link": true
    },
    "kernelspec": {
      "name": "python3",
      "display_name": "Python 3"
    },
    "language_info": {
      "name": "python"
    }
  },
  "cells": [
    {
      "cell_type": "markdown",
      "metadata": {
        "id": "view-in-github",
        "colab_type": "text"
      },
      "source": [
        "<a href=\"https://colab.research.google.com/github/joseflix/DocenciaUAB/blob/master/MN1/2021_2022/Examens/20220610_2oParcial_MN1.ipynb\" target=\"_parent\"><img src=\"https://colab.research.google.com/assets/colab-badge.svg\" alt=\"Open In Colab\"/></a>"
      ]
    },
    {
      "cell_type": "markdown",
      "source": [
        "# **MN1: 2º parcial (programación) 10/06/2022**\n",
        "\n",
        "<hr>\n",
        "\n",
        "**Nombre:**\n",
        "\n",
        "**NIU:**\n",
        "\n",
        "**mail (gmail):**\n",
        "\n",
        "<hr>\n",
        "\n",
        "**Instrucciones de edición del Notebook y entrega**\n",
        "\n",
        "*   Abre el Notebook desde GitHub (\"Open in Colab\") y genera una copia en tu Drive (\"Guardar una copia en Drive\"). Edita esa copia para el examen. \n",
        "*   Renombra esa copia como usando tu NIU como nombre de archivo: \"NIU.ipynb\" (*por ejemplo, 2055007.ipynb*) \n",
        "*   Rellena tu nombre, NIU i mail (gmail, si quieres recibir los comentarios/feedback acerca de tu examan) en la cabecera de este Notebook.\n",
        "*   Al final del examen, descarga este cuaderno en formato .ipynb y lo tienes que subir al siguiente *drop folder*: [Link](http://cern.ch/go/8HhV). Asegurate de que el fichero tiene el nombre correcto.\n",
        "*   Podéis volver a subir el fichero si creéis que hay un error pero sólo consideraremos la última versión, y dentro del horario establecido.\n",
        "*   **NOTA** Antes de entregar o dar por finalizado cada ejercicio, es recomendable reiniciar el entorno de ejecución para ver que se ejecuta todo de forma correcta: \"Entorno de ejecución >> Reiniciar entorno de ejecución\",y luego \"Entorno de ejecución >> Ejecutar todas\".\n",
        "\n",
        "<hr>\n",
        "\n",
        "**Instrucciones del examen**\n",
        "\n",
        "*   El examen se realiza de forma individual.\n",
        "*   El horario es de 9h a 12h. No se aceptarán entregas pasada esa hora.\n",
        "*   Podéis consultar apuntes, entregas o usar internet para buscar información, pero **NO** comunicaros entre vosotros/as.\n",
        "\n",
        "<hr>\n",
        "\n",
        "## **EXAMEN**"
      ],
      "metadata": {
        "id": "CVWrU2MKQ_jl"
      }
    },
    {
      "cell_type": "code",
      "source": [
        "# Ejecuta esta parte de código para importar librerías comunes (añade las que creas necesarias a esta lista)\n",
        "\n",
        "import random\n",
        "import numpy as np\n",
        "import matplotlib.pyplot as plt\n",
        "import scipy.stats as ss\n",
        "import math\n",
        "from collections import Counter"
      ],
      "metadata": {
        "id": "2c1PDxXuSKdj"
      },
      "execution_count": null,
      "outputs": []
    },
    {
      "cell_type": "markdown",
      "source": [
        "<font color='green'>**> Ejercicio #1 [6 puntos]**</font>\n",
        "\n",
        "En este ejercicio vamos a determinar el 'volumen' de una [n-esfera](https://es.wikipedia.org/wiki/N-esfera) de radio unidad. \n",
        "\n",
        "Una n-esfera (o hiperesfera) es la generalización de la «esfera» a un espacio euclídeo de dimensión arbitraria. En general, el volumen de la $n$-esfera de radio $R$ es proporcional a la potencia $n$ del radio $R$ (con diferentes constantes de proporcionalidad que varían con n), es decir $V_n(R) = V_nR^n$. \n",
        "\n",
        "En particular, el volumen del espacio delimitado por una n-esfera de radio R viene determinado por:\n",
        "\n",
        "$$\n",
        "V_n(R) = V_n R^n = \\frac{\\pi^{n/2}}{\\Gamma(n/2+1)}R^n\n",
        "$$\n",
        "\n",
        "donde $\\Gamma$ es la [función gamma](https://es.wikipedia.org/wiki/Funci%C3%B3n_gamma).\n",
        "\n",
        "Por ejemplo, si n=2, se obtiene el área de un círculo y la constante de proporcionalidad $V_2=\\pi$. Si n=3, tenemos una bola, y la constante de proporcionalidad $V_3=(4/3)\\pi$. Considerando R=1 en este ejercicio, se obtiene que $V_2(1) =\\pi$ y que $V_3(1)=(4/3)\\pi$. A partir de aquí podemos seguir generando «esferas» en n-dimensiones y calcular sus volúmenes de forma numérica o analítica..."
      ],
      "metadata": {
        "id": "ULaFWfvCSr29"
      }
    },
    {
      "cell_type": "markdown",
      "source": [
        "**1.1 [0.5 puntos]:** Define una función que devuelva una lista de los valores analíticos $V_n$ (recuerda que R=1), pasándole como argumento una lista de las dimensiones $n$ a evaluar (es decir, si n=[1,3,5] devolverá una lista V=[$V_1,V_3,V_5$])."
      ],
      "metadata": {
        "id": "pBmCuQXzW7lJ"
      }
    },
    {
      "cell_type": "code",
      "source": [
        "# El teu codi"
      ],
      "metadata": {
        "id": "TDp0n3cBWe-t"
      },
      "execution_count": null,
      "outputs": []
    },
    {
      "cell_type": "markdown",
      "source": [
        "**1.2 [1 punto]:** Realiza una gráfica de los valores analíticos $V_n$, en el rango de dimensiones [2,10]."
      ],
      "metadata": {
        "id": "gwOVjn8GZxRl"
      }
    },
    {
      "cell_type": "code",
      "source": [
        "# El teu codi"
      ],
      "metadata": {
        "id": "zYu25PZkZ8YV"
      },
      "execution_count": null,
      "outputs": []
    },
    {
      "cell_type": "markdown",
      "source": [
        "**1.3 [1.5 puntos]:** Define una función que devuelva una lista de los valores numéricos de $V_n$ usando el método MC de aceptación-rechazo, pasándole como argumentos el número de intentos MC ($N_{mc}$) y una lista de las dimensiones $n$ a evaluar. Repite la gráfica del apartado 1.2, pero ahora añadiendo los \"volúmenes\" calculados por el método de aceptación-rechazo, usando $N_{mc}$ = 1e4."
      ],
      "metadata": {
        "id": "G3F7uTVIbVqS"
      }
    },
    {
      "cell_type": "code",
      "source": [
        "# El teu codi"
      ],
      "metadata": {
        "id": "sJRLKDzAbWXh"
      },
      "execution_count": null,
      "outputs": []
    },
    {
      "cell_type": "markdown",
      "source": [
        "**1.4 [1.5 puntos]:** Como hemos usado pocas realizaciones MC, verás que la comparación entre el valor analítico y numérico varía, si repites la experiencia.\n",
        "\n",
        "Define una función que calcule el error relativo entre medidas, en porcentaje ( $100.*|V_{mc}-V_{analytic}|/V_{analytic}$ ), y realiza una gráfica del error relativo vs. n, usando los resultados obtenidos en el apartado 1.3."
      ],
      "metadata": {
        "id": "RKvxNK1Wg0xf"
      }
    },
    {
      "cell_type": "code",
      "source": [
        "# El teu codi"
      ],
      "metadata": {
        "id": "Cyvdj_xtc157"
      },
      "execution_count": null,
      "outputs": []
    },
    {
      "cell_type": "markdown",
      "source": [
        "**1.5 [1.5 puntos]:** Como este error relativo varía, vamos a realizar varias experiencias para promediar los resultados.\n",
        "\n",
        "Se trata de hacer un promedio de 50 realizaciones de simulaciones MC, para las dimensiones consideradas en el rango [2,10], usando diferentes números de intentos MC. En particular $N_{mc} = [1e1,1e2,1e3,1e4,1e5,1e6]$.\n",
        "\n",
        "Haz una gráfica de este error promediado en función de $n$, para cada caso considerado de $N_{mc}$. Representaremos los 6 casos en el plano (n,errR), con diferentes colores. No hace falta dibujar las barras de error (dev.std/$\\sqrt50$)!!\n",
        "\n",
        "**Nota:** verás que eres capaz de calcular todos los $V_{n}$ con un error relativo entre el 1 por mil y un 1% si $N_{mc}=1e6$, y que si $N_{mc}$ toma valores bajos es imposible calcular los volúmenes de esferas con un $n$ grande...\n"
      ],
      "metadata": {
        "id": "OeMFijw-iS8H"
      }
    },
    {
      "cell_type": "code",
      "source": [
        "# El teu codi"
      ],
      "metadata": {
        "id": "XR-h_YrYkO1n"
      },
      "execution_count": null,
      "outputs": []
    },
    {
      "cell_type": "markdown",
      "source": [
        "<font color='green'>**> Ejercicio #2 [4 puntos]**</font>\n",
        "\n",
        "Tenemos una baraja de 52 cartas (4 palos de 13 cartas). Las barajamos y repartimos 2 cartas al jugador \"1\" y 2 cartas al jugador \"2\". Entonces, descartamos de la pila $n_{el}$ cartas. Acto seguido, repartimos 3 cartas al jugador \"1\" y 3 cartas al jugador \"2\", de manera que tienen 5 cartas cada uno.\n",
        "\n",
        "Vamos a calcular las probabilidades de que alguno de los dos jugadores tenga: a) al menos una pareja de cartas iguales, b) tres cartas iguales o c) 4 cartas iguales (póker).\n",
        "\n",
        "Para calcular una probabilidad de este tipo podemos usar la definición frecuentista, en la que para un número $N$ de realizaciones del experimento se calcula la probabilidad como:\n",
        "\n",
        "$$\n",
        "P(A) = \\frac{\\text{# de veces que ha ocurrido A}}{N}\n",
        "$$\n",
        "\n",
        "que tiende al valor real si $N \\to \\infty$.\n",
        " \n",
        ">**Nota** Para modelizar este escenario tendrás que utilizar herramientas de generación y manipulación de listas. Puedes generar una lista de números enteros 4x[1,13] que se correspondan a los números de los palos de la baraja. Para barajar una lista puedes usar el método ``random.shuffle(a)`` y para dividir una lista en sublistas puedes usar la sintaxis ``a[0:10]``.\n",
        "\n",
        "Os ponemos unos ejemplos en código:\n"
      ],
      "metadata": {
        "id": "8lLdUH7NncLv"
      }
    },
    {
      "cell_type": "code",
      "source": [
        "# Ejemplo de barajar una lista:\n",
        "\n",
        "a = [1,2,3,4,5,6,7,8,9,10,1,2,3,4]\n",
        "print(\"La lista antes de barajar es:\",a)\n",
        "random.shuffle(a)\n",
        "print(\"La lista después de barajar es:\",a)\n",
        "\n",
        "# Ejemplo dividir una lista en dos, nos quedamos con los primeros 10 elementos:\n",
        "b = a[0:5]\n",
        "c = a[5:10]\n",
        "print(\"La primeras 5 cartas de la lista son\",b,\"y le siguen\",c)\n",
        "\n",
        "# Usamos la función Counter para contar parejas (count(2)), trios (count(3)) o poker(count(4)):\n",
        "if list(Counter(b).values()).count(2) > 0 or list(Counter(c).values()).count(2) > 0:\n",
        "  print(\"*** Uno de los jugadores tiene una pareja ***\")"
      ],
      "metadata": {
        "colab": {
          "base_uri": "https://localhost:8080/"
        },
        "id": "e5gqUuHrpZMz",
        "outputId": "f6fc716c-4944-48b6-c99f-d5975af1f522"
      },
      "execution_count": null,
      "outputs": [
        {
          "output_type": "stream",
          "name": "stdout",
          "text": [
            "La lista antes de barajar es: [1, 2, 3, 4, 5, 6, 7, 8, 9, 10, 1, 2, 3, 4]\n",
            "La lista después de barajar es: [4, 9, 3, 8, 6, 7, 4, 2, 1, 2, 3, 10, 5, 1]\n",
            "La primeras 5 cartas de la lista son [4, 9, 3, 8, 6] y le siguen [7, 4, 2, 1, 2]\n",
            "*** Uno de los jugadores tiene una pareja ***\n"
          ]
        }
      ]
    },
    {
      "cell_type": "markdown",
      "source": [
        "**2.1 [1 punto]:** Define una función que nos devuelva True o False a la pregunta de si alguno de los jugadores tiene n cartas iguales ($n_{eq}$), después de haber barajado las cartas, haber hecho el primer reparto, haber eliminado $n_{el}$ cartas, y hecho el segundo reparto. Es decir, queremos una función del estilo: \n",
        "\n",
        "```\n",
        "def get_answer(n_el,n_eq):\n",
        "  --> código\n",
        "  return True or False\n",
        "```\n",
        "\n",
        "O lo que es lo mismo, ver qué sucede en una de las realizaciones."
      ],
      "metadata": {
        "id": "LY5u30UcqkrE"
      }
    },
    {
      "cell_type": "code",
      "source": [
        "# El teu codi"
      ],
      "metadata": {
        "id": "Vv0Dj2M6qunD"
      },
      "execution_count": null,
      "outputs": []
    },
    {
      "cell_type": "markdown",
      "source": [
        "**2.2 [1.5 puntos]:** Vamos a realizar 3 simulaciones del experimento con N=1e4 intentos para evaluar la probabilidad de que alguno de los jugadores tenga una pareja, un trío o un póker, respectivamente. Como esto va a fluctuar, relizaremos un promedio de 25 pruebas para cada caso, y no eliminaremos cartas en este caso, es decir usa $n_{el}$=0. \n",
        "\n",
        "Haz una gráfica, con sus errores (ahora si!), de la probabilidad (eje y) para cada una de las configuraciones (2,3,4 en eje x). \n",
        "\n",
        "Imprime por pantalla los valores promedios, con sus errores, y cuánto de grande es el error en porcentaje respecto al valor, es decir $100.*err/valor$."
      ],
      "metadata": {
        "id": "k6OC99YQtP8i"
      }
    },
    {
      "cell_type": "code",
      "source": [
        "# El teu codi"
      ],
      "metadata": {
        "id": "RN_NWNF4trzP"
      },
      "execution_count": null,
      "outputs": []
    },
    {
      "cell_type": "markdown",
      "source": [
        "**2.3 [1.5 puntos]:** Si eliminamos cartas al principio (entre el primer y segundo reparto de cartas, como se describe en el problema), afectará al resultado obtenido?  No hace falta que hagas 25 realizaciones para promediar en este caso, pero haz que $n_{el}$ varíe entre [0,42] (en pasos de 1 carta, es decir, retirar 1, 2, 3, 4...), y realiza 3 simulaciones del experimento con N=1e4 intentos para evaluar la probabilidad de que alguno de los jugadores tenga una pareja, un trío o un póker, respectivamente.\n",
        "\n",
        "Haz una gráfica de las probabilidades que obtienes para cada caso (2, 3 o 4 cartas iguales) en función de $n_{el}$. Eliminar cartas afecta al resultado? Razona tu respuesta con un comentario en el código o una celda de texto que insertes...."
      ],
      "metadata": {
        "id": "r1yovSI3xH_c"
      }
    },
    {
      "cell_type": "code",
      "source": [
        "# El teu codi"
      ],
      "metadata": {
        "id": "t84urb0TyCNo"
      },
      "execution_count": null,
      "outputs": []
    }
  ]
}