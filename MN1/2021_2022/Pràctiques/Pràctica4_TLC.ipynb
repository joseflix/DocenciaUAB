{
  "nbformat": 4,
  "nbformat_minor": 0,
  "metadata": {
    "colab": {
      "name": "Práctica4_TLC.ipynb",
      "provenance": [],
      "collapsed_sections": [],
      "include_colab_link": true
    },
    "kernelspec": {
      "display_name": "Python 3",
      "language": "python",
      "name": "python3"
    }
  },
  "cells": [
    {
      "cell_type": "markdown",
      "metadata": {
        "id": "view-in-github",
        "colab_type": "text"
      },
      "source": [
        "<a href=\"https://colab.research.google.com/github/joseflix/DocenciaUAB/blob/master/MN1/2021_2022/Pr%C3%A0ctiques/Pr%C3%A0ctica4_TLC.ipynb\" target=\"_parent\"><img src=\"https://colab.research.google.com/assets/colab-badge.svg\" alt=\"Open In Colab\"/></a>"
      ]
    },
    {
      "cell_type": "markdown",
      "metadata": {
        "id": "AQN3Z0W5s87A"
      },
      "source": [
        "# **Pràctica 4: Teorema del límit central**\n",
        "\n",
        "<hr>\n",
        "\n",
        "**Nombre:** \n",
        "\n",
        "**NIU:** \n",
        "\n",
        "**mail (gmail):** \n",
        "\n",
        "<hr>\n",
        "\n",
        "**Instrucciones**\n",
        "\n",
        "*   Rellena tu nombre, NIU i mail (gmail, si quieres recibir los comentarios/feedback acerca de tu entrega) en la cabecera de este Notebook.\n",
        "*   Renombra el Notebook como \"Pr4_NIU.ipynb\", donde NIU es tu NIU (*por ejemplo: Pr4_2055007.ipynb*) \n",
        "*   Al final de la clase donde se realize una entrega, descarga este cuaderno en formato .ipynb y lo tienes que subir al siguiente *drop folder*: [Link](http://cern.ch/go/w8vV). Asegurate de que el fichero tiene el nombre correcto.\n",
        "*   Solo se evaluará la parte de la entrega. Tendréis acceso a la solución de todas las partes y después de haber entregado la práctica.\n",
        "\n",
        "<hr>\n",
        "\n"
      ]
    },
    {
      "cell_type": "markdown",
      "metadata": {
        "id": "EmAhOb8_5Uex"
      },
      "source": [
        "**Objectiu de la pràctica** \n",
        "\n",
        "En aquesta pràctica veurem el Teorema del Límit Central *at work*... \n",
        "\n",
        "Per què són tan comuns les distribucions normals? És degut a que la suma de múltiples variables aleatòries e independents es distribueix com una normal si:\n",
        "\n",
        "1. Les mitjes i les variàncies són finites.\n",
        "2. Tenim una quantitat suficient (unes 25).\n",
        "\n",
        "Cada observació en la nostra distribució $x$ segueix:\n",
        "\n",
        "$$x = \\frac{1}{N} \\sum_i^N r_i$$\n",
        "\n",
        "on $r_i$ segueixen la mateixa o diferents distribucions. El TLC  diu que si $N$ és suficientment gran, $p(x) \\sim N(\\mu,\\sigma)$  independentment de les $p(r_i)$. On $\\mu$ és el promig de les $x$, i $\\sigma = \\frac{\\bar{\\sigma}}{\\sqrt{N}}$."
      ]
    },
    {
      "cell_type": "markdown",
      "metadata": {
        "id": "PUEPjCO35Ue_"
      },
      "source": [
        "### <font color='orange'>**> Python #1**</font>\n",
        "\n",
        "Anem a fer una demostració del TLC amb la distribució beta.\n",
        "\n",
        "Considerem la nostra equació mitjana:\n",
        "$$\n",
        "x = \\frac{1}{N} \\sum_i^N r_i\n",
        "$$\n",
        "\n",
        "Considerem el TLC amb només 1 distribució i mostres de mida $N=1$. Noteu que el TLC no és aplicable ja que $N=1$. Considerem que l'única contribució és una distribució beta:\n",
        "\n",
        "$$\n",
        "p(r_i) = \\frac{1}{Z}\\, r_i^{\\alpha - 1} \\,(1 - r_i)^{\\beta - 1}\n",
        "$$\n",
        "\n",
        "On $Z$, $\\alpha$, and $\\beta$ són paràmetres de la distribució beta. En aquest cas l'espai mostral és $[0,1]$, fixem $\\alpha = \\beta = 0.5$ (el factor de normalització $Z$ queda totalment determinat una vegada escollim $\\alpha, \\beta$).\n",
        "\n",
        "Tenim $N = 1$. Quin aspecte tindrà la distribució dels $x$? Serà normal? Fer un exemple amb 1000 realizacions."
      ]
    },
    {
      "cell_type": "markdown",
      "metadata": {
        "id": "JJWovK1-Va5K"
      },
      "source": [
        "[Com obtenir valors d'una distribució beta](https://docs.scipy.org/doc/scipy/reference/generated/scipy.stats.beta.html)"
      ]
    },
    {
      "cell_type": "code",
      "metadata": {
        "id": "VmYG9eek5UfG",
        "cellView": "both"
      },
      "source": [
        "import numpy as np\n",
        "import scipy.stats as ss\n",
        "import matplotlib.pyplot as plt\n",
        "\n",
        "# Crea un array data de N_exp = 1000 elements on cada element és el promig d'una mostra de N=1 elements distribuïts com una beta(0.5,0.5)\n",
        "\n",
        "# Fes un histograma de data\n"
      ],
      "execution_count": null,
      "outputs": []
    },
    {
      "cell_type": "markdown",
      "metadata": {
        "id": "1Fzg7DOR5UfQ"
      },
      "source": [
        "### <font color='orange'>**> Python #2**</font>\n",
        "\n",
        "$N=1$ significa que per cada observació de $x$, tenim 1 contribució $r_i$ a la mitjana. En aquest cas, $x$ = $r_i$, però què passarà si $N>1$ on cada $r_i$ segueix la **mateixa** distribució beta? Considerem $N=25$, i comparem el resultat amb una distribució Gaussiana. Fer un exemple amb 1000 realizacions.\n",
        "\n",
        "De fet es pot comprovar que quan N va creixent la distribució de les mitjes calculades s'assembla més a una Gaussiana.\n"
      ]
    },
    {
      "cell_type": "code",
      "metadata": {
        "id": "cNxNEyOI5UfS",
        "cellView": "both"
      },
      "source": [
        "import scipy.stats as ss\n",
        "\n",
        "# Crea un array data de N_exp = 1000 elements on cada element és el promig d'una mostra de N=25 elements distribuïts com una beta(0.5,0.5)\n",
        "\n",
        "# Fes un histograma de data i superimposa la pdf de la normal que descriu la distribució\n"
      ],
      "execution_count": null,
      "outputs": []
    },
    {
      "cell_type": "markdown",
      "metadata": {
        "id": "-Dwjv1nW5Ufh"
      },
      "source": [
        "### <font color='orange'>**> Python #3**</font>\n",
        "\n",
        "Hem aconseguit moure'ns d'un espai mostral $[0,1]$  a un que sembla $(-\\infty, \\infty)$. El TLC també ha aconseguit converir la distribució beta, que té pics als extrems, en una normal. Increíble!\n",
        "\n",
        "Intentem fer encara més. Considerem mostres que segueixen un conjunt de distribucions binomials i prenem la seva mitjana. En aquest cas tindrem múltiples distribucions a sobre discretes!\n",
        "\n",
        "Recordatori. Estem calculant:\n",
        "$$\n",
        "x = \\frac{1}{N} \\sum_i^N r_i\n",
        "$$\n",
        "\n",
        "on $r_i \\sim P_i(r_i)$, un conjunt de distribucions binomials. \n",
        "\n",
        "En estadística, la [distribució binomial](https://ca.wikipedia.org/wiki/Distribuci%C3%B3_binomial) és una distribució de probabilitat discreta que fa el recompte del nombre de vegades que es verifica l'èxit de l'esdeveniment A quan es repeteix n vegades, de forma independent i en les mateixes condicions, una experiència de Bernouilli.\n",
        "\n",
        "La distribució binomial té dos parámetres principals:\n",
        "\n",
        "$$\n",
        "Bin(k;n,p) = \\binom{n}{k}p^k(1-p)^{n-k}\n",
        "$$\n",
        "\n",
        "[Com obtenir valors d'una binomial](https://docs.scipy.org/doc/scipy/reference/generated/scipy.stats.binom.html)\n",
        "\n",
        "Vegem un **exemple** de com obtenir una mostra de mida 1000 d'una binomial amb $n=10$, $p=0.1$\n"
      ]
    },
    {
      "cell_type": "code",
      "metadata": {
        "id": "fCycZfBEWGUs"
      },
      "source": [
        "# Genera i fes un histograma d'una mostra de mida 1000 que segueix una binomial(n=10,p=0.1)\n"
      ],
      "execution_count": null,
      "outputs": []
    },
    {
      "cell_type": "markdown",
      "metadata": {
        "id": "fw8tQ8gcWPDu"
      },
      "source": [
        "Ara volem fer l'estudi que hem fet abans pel TLC utilitzant la binomial $(n=10,p=0.1)$ en comptes de la beta.\n",
        "\n",
        "Si considerem el cas quan $N=1$ i $N_{exp} = 1000$:"
      ]
    },
    {
      "cell_type": "code",
      "metadata": {
        "id": "awxff07gW232"
      },
      "source": [
        "# Crea un array data de N_exp = 1000 elements on cada element és el promig d'una mostra de N=1 elements distribuïts com una binomial(10,0.1)\n",
        "\n",
        "# Fes un histograma de data\n"
      ],
      "execution_count": null,
      "outputs": []
    },
    {
      "cell_type": "markdown",
      "metadata": {
        "id": "9iOFOVFMfUmU"
      },
      "source": [
        "### <font color='orange'>**> Python #4**</font>\n",
        "\n",
        "Com abans, per $N=1$ obtenim la binomial. I si augmentem $N$? Mirem un exemple amb $N=25$ i comparem amb la distribució Gaussiana.\n"
      ]
    },
    {
      "cell_type": "code",
      "metadata": {
        "id": "21PFLrLQfbkD"
      },
      "source": [
        "# Crea un array data de N_exp = 1000 elements on cada element és el promig d'una mostra de N=25 elements distribuïts com una binomial(10,0.1)\n",
        "\n",
        "# Fes un histograma de data i superimposa la pdf de la normal que descriu la distribució\n"
      ],
      "execution_count": null,
      "outputs": []
    },
    {
      "cell_type": "markdown",
      "metadata": {
        "id": "LaNsvvuegH_k"
      },
      "source": [
        "Veiem que amb una distribució discreta el TLC encara funciona! \n",
        "\n",
        "Si les variables vinguessin de distribucions diferents, una combinació independent d'elles encara ens donarà una Gaussiana. Un exemple d'això es pot veure com a material addicional al final de la pràctica."
      ]
    },
    {
      "cell_type": "markdown",
      "metadata": {
        "id": "j09G80fHZPXD"
      },
      "source": [
        "### <font color='green'>**> ENTREGA**</font>\n"
      ]
    },
    {
      "cell_type": "markdown",
      "metadata": {
        "id": "IEETP_6vbfv4"
      },
      "source": [
        "En aquesta entrega veurem un exemple més del Teorema Central del Límit. Aquesta vegada utilitzant la distribució exponencial, la pdf de la qual ve donada per:\n",
        "\n",
        "$$\n",
        "f(r,\\lambda) = \\lambda e^{-\\lambda x} \\qquad \\text{per } x \\geq 0\n",
        "$$\n",
        "\n",
        "Com moltes altres distribucions, l'exponencial també es pot trobar a ```scipy.stats```:\n",
        "\n",
        "```ss.expon.rvs(loc=0, scale=1, size=1)```\n",
        "\n",
        "```ss.expon.pdf(x, loc=0, scale=1)```\n",
        "\n",
        "<font color='red'><b>NOTA:</b> Si volem treballar amb una exponencial amb un parámetre particular $\\lambda$; hem de donar a la funció la corresponent ```scale=1/lambda```</font>\n"
      ]
    },
    {
      "cell_type": "code",
      "metadata": {
        "id": "etkzC12PcEFt"
      },
      "source": [
        "import numpy as np\n",
        "import scipy.stats as ss\n",
        "import matplotlib.pyplot as plt"
      ],
      "execution_count": null,
      "outputs": []
    },
    {
      "cell_type": "markdown",
      "metadata": {
        "id": "m70VfL2sb8OV"
      },
      "source": [
        "  1. Genera una mostra de 1000 elements distribuïda amb una distribució exponencial de paràmetre $\\lambda = 2$. Fes un plot on es vegi l'histograma normalitzat de la mostra i la pdf corresponent per comprovar que efectivament la mostra segueix aquesta distribució exponencial. Fes que l'histograma tingui 50 bins i s'extengui en un interval de [0,4]. **[3 punts]**"
      ]
    },
    {
      "cell_type": "code",
      "metadata": {
        "id": "kKaVx048be_4"
      },
      "source": [
        "# Codi"
      ],
      "execution_count": null,
      "outputs": []
    },
    {
      "cell_type": "markdown",
      "metadata": {
        "id": "fPWuQS7PegaF"
      },
      "source": [
        "2. Genera una mostra $A$ de 1000 elements $\\bar{x}_i$:\n",
        "\n",
        "$$\n",
        "A = [\\bar{x}_1,\\bar{x}_2,...,\\bar{x}_{1000}]\n",
        "$$ \n",
        "\n",
        "on cada element és calculat a partir de la mitjana d'una mostra de 50 elements distribuïts seguint una distribució exponencial de paràmetre $\\lambda = 2$.\n",
        "\n",
        "$$\n",
        "\\bar{x}_i = \\frac{1}{50} \\sum_{j=1}^{50} r_j \\\\[10pt]\n",
        "r \\sim Exp(\\lambda=2)\n",
        "$$  \n",
        "\n",
        "Fes un histograma normalitzat d'$A$ amb 50 bins i que s'extengui en un interval de [0,1]. **[4 punts]**\n"
      ]
    },
    {
      "cell_type": "code",
      "metadata": {
        "id": "5iiYAJ05c0Gx"
      },
      "source": [
        "# Codi"
      ],
      "execution_count": null,
      "outputs": []
    },
    {
      "cell_type": "markdown",
      "metadata": {
        "id": "3iv9iVZ-kQwD"
      },
      "source": [
        "3. Afegeix a l'histograma de l'apartat anterior la pdf d'una Gaussiana amb $\\mu = \\bar{A}$ i $\\sigma = \\sqrt{Var[A]}$. **[3 punts]**"
      ]
    },
    {
      "cell_type": "code",
      "metadata": {
        "id": "hpnPdgYikVS8"
      },
      "source": [
        "# Codi"
      ],
      "execution_count": null,
      "outputs": []
    },
    {
      "cell_type": "markdown",
      "metadata": {
        "id": "XpfWeuCt9sWk"
      },
      "source": [
        "<hr> \n",
        "\n",
        "**Recuerda**\n",
        "\n",
        "*   Rellena tu nombre, NIU i mail (gmail, si quieres recibir los comentarios/feedback acerca de tu entrega) en la cabecera de este Notebook.\n",
        "*   Renombra el Notebook como \"Pr4_NIU.ipynb\", donde NIU es tu NIU (*por ejemplo: Pr4_2055007.ipynb*) \n",
        "*   Al final de la clase donde se realize una entrega, descarga este cuaderno en formato .ipynb y lo tienes que subir al siguiente *drop folder*: [Link](http://cern.ch/go/w8vV). Asegurate de que el fichero tiene el nombre correcto.\n",
        "*   Solo se evaluará la parte de la entrega. Tendréis acceso a la solución de todas las partes y después de haber entregado la práctica.\n",
        "\n",
        "\n",
        "<hr>\n"
      ]
    },
    {
      "cell_type": "markdown",
      "metadata": {
        "id": "suoOHAH1EYxp"
      },
      "source": [
        "### <font color='blue'>**> MATERIAL ADICIONAL**</font>\n",
        "\n",
        "\n",
        "Abans, hem vist el TLC utilitzant una distribució beta i la distribució binomial; pero en ambdós casos sempre feiem servir els mateixos paràmetres per la beta i per la binomial (i.e. $\\underbrace{\\alpha,\\beta}_{\\text{beta}}$,$\\underbrace{n,p}_{\\text{Binomial}}$)\n",
        "\n",
        "I si intentem que cada Binomial tingui paràmetres diferents?\n",
        "\n",
        "$$\n",
        "r_i \\sim Bin(k;n_i,p_i)\n",
        "$$\n",
        "\n",
        "$$\n",
        "x = \\frac{1}{N} \\sum_i^N r_i\n",
        "$$\n"
      ]
    },
    {
      "cell_type": "code",
      "metadata": {
        "id": "rRjEzHpAEZVo"
      },
      "source": [
        "# Codi"
      ],
      "execution_count": null,
      "outputs": []
    },
    {
      "cell_type": "markdown",
      "metadata": {
        "id": "Ki_mbgjv5UgB"
      },
      "source": [
        "Tot i que les distribucions són diferents i *discretes*, la seva mitjana es transforma en una distribució normal!\n"
      ]
    }
  ]
}