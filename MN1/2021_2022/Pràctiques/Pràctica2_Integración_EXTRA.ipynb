{
  "nbformat": 4,
  "nbformat_minor": 0,
  "metadata": {
    "colab": {
      "name": "Pràctica2_Integración_EXTRA.ipynb",
      "provenance": [],
      "collapsed_sections": [],
      "include_colab_link": true
    },
    "kernelspec": {
      "display_name": "Python 3",
      "language": "python",
      "name": "python3"
    }
  },
  "cells": [
    {
      "cell_type": "markdown",
      "metadata": {
        "id": "view-in-github",
        "colab_type": "text"
      },
      "source": [
        "<a href=\"https://colab.research.google.com/github/joseflix/DocenciaUAB/blob/master/MN1/2021_2022/Pr%C3%A0ctiques/Pr%C3%A0ctica2_Integraci%C3%B3n_EXTRA.ipynb\" target=\"_parent\"><img src=\"https://colab.research.google.com/assets/colab-badge.svg\" alt=\"Open In Colab\"/></a>"
      ]
    },
    {
      "cell_type": "code",
      "metadata": {
        "id": "hnfuh35qieGu"
      },
      "source": [
        "%matplotlib inline\n",
        "import numpy\n",
        "import matplotlib.pyplot as plt\n",
        "import scipy.integrate as integrate"
      ],
      "execution_count": null,
      "outputs": []
    },
    {
      "cell_type": "markdown",
      "metadata": {
        "id": "Ool4Qy4BieG5"
      },
      "source": [
        "# **Práctica 2: Integració numèrica (material extra)**\n",
        "\n",
        "**Objectiu:** Evaluar integrals\n",
        "\n",
        "$$ \\int^b_a f(x) dx$$"
      ]
    },
    {
      "cell_type": "markdown",
      "metadata": {
        "id": "Qgl7IyqAieG9"
      },
      "source": [
        "Moltes integrals definides no tenen sol·lució\n",
        "\n",
        "$$ \n",
        "   \\int^b_a \\sqrt{1 + \\cos^2 x} dx\n",
        "$$"
      ]
    },
    {
      "cell_type": "markdown",
      "metadata": {
        "id": "yHVX0rOsieHM"
      },
      "source": [
        "### Fonaments de la quadratura\n",
        "\n",
        "Volem obtenir l'integral $I$ a partir d'una aproximació $I_N$ tal que\n",
        "\n",
        "$$\n",
        "    I = \\int^b_a f(x) dx \\approx I_N = \\sum^{N}_{i=1} w_i f(x_i)\n",
        "$$\n",
        "\n",
        "on les $x_i$ són els *punts de quadratura* o *nodes* i els \"w_i\" són els *pesos*. Normalment una determinada regla de quadratura especifica els punts $x_i$ i el conjunt de pesos $w_i$.\n",
        "\n",
        "La convergència requereix:\n",
        "\n",
        "$$\n",
        "    \\lim_{N \\rightarrow \\infty} I_N = I.\n",
        "$$"
      ]
    },
    {
      "cell_type": "markdown",
      "metadata": {
        "id": "8HQ-C3AUieHQ"
      },
      "source": [
        "## Sumes Riemannes\n",
        "\n",
        "Donada $f(x)$ i una partició de l'interval $[a,b]$ en $\\{x_i\\}^N_{i=0}$ i $a = x_0 < x_1 < \\ldots < x_N = b$ i $x^*_i \\in [x_i, x_{i+1}]$ definim els sumatori de Riemann com:\n",
        "\n",
        "$$\\int^b_a f(x) dx = \\lim_{N\\rightarrow \\infty} \\sum^{N-1}_{i=0} f(x_i^*) (x_{i+1} - x_i)$$\n",
        "\n",
        "Aquesta és una definició general que porta a diferents tècniques de quadratura basades en com escollim $x_i^* \\in [x_i, x_{i+1}]$."
      ]
    },
    {
      "cell_type": "markdown",
      "metadata": {
        "id": "7XJWPhx9ieHT"
      },
      "source": [
        "### Regla del punt mig\n",
        "\n",
        "Escollim $x_i^*$ tal que\n",
        "\n",
        "$$x_i^* = \\frac{x_{i+1} + x_i}{2}$$\n",
        "\n",
        "de manera que\n",
        "\n",
        "$$I[f] = \\int^b_a f(x) dx \\approx \\sum^{N-1}_{i=0} f\\left(\\frac{x_{i+1} + x_i}{2} \\right ) (x_{i+1} - x_i) = I_N[f]$$\n",
        "\n",
        "sobre $\\Delta x_i = x_{i+1} - x_i$ "
      ]
    },
    {
      "cell_type": "markdown",
      "metadata": {
        "id": "F0M96U-aieHW"
      },
      "source": [
        "#### Exercici: Integrar amb la regla del punt mig\n",
        "\n",
        "Calcula l'integral \n",
        "\n",
        "$$\n",
        "  \\int^{2\\pi}_0 sin(x)dx\n",
        "$$\n",
        "\n",
        "A partir del mètode de sumes de Riemann. Compara el resultat numèric amb l'analític:\n",
        "\n",
        "$$\n",
        "    \\int^x_0 sin(\\hat{x}) d\\hat{x} = \\left . -\\cos \\hat{x} \\right|^x_0 = 1 - \\cos x\n",
        "$$"
      ]
    },
    {
      "cell_type": "code",
      "metadata": {
        "id": "nBJWntAYnsgM"
      },
      "source": [
        "# Escriu un codi per fer sumes de Rieman i calcular int(sin(x)) per x [0,2pi]\n"
      ],
      "execution_count": null,
      "outputs": []
    },
    {
      "cell_type": "code",
      "metadata": {
        "id": "-1HKOZF4ieHY",
        "colab": {
          "base_uri": "https://localhost:8080/",
          "height": 347
        },
        "outputId": "468ab6e0-a4e4-41a8-cb78-770c8f7bfc05"
      },
      "source": [
        "#@title\n",
        "# Note that this calculates the cummulative integral from 0.0\n",
        "\n",
        "f = lambda x: numpy.sin(x)\n",
        "I = lambda x: 1.0 - numpy.cos(x)\n",
        "x = numpy.linspace(0.0, 2.0 * numpy.pi, 100)\n",
        "\n",
        "num_partitions = 10\n",
        "x_hat = numpy.linspace(0.0, 2.0 * numpy.pi, num_partitions + 1)\n",
        "x_star = 0.5 * (x_hat[1:] + x_hat[:-1])\n",
        "delta_x = x_hat[1] - x_hat[0]\n",
        "\n",
        "fig = plt.figure()\n",
        "fig.subplots_adjust(hspace=.5)\n",
        "axes = fig.add_subplot(2, 1, 1)\n",
        "\n",
        "axes.plot(x, numpy.zeros(x.shape), 'k--')\n",
        "axes.plot(x, f(x), 'b')\n",
        "\n",
        "for i in range(num_partitions):\n",
        "    axes.plot([x_hat[i], x_hat[i]], [0.0, f(x_star[i])], 'k--')\n",
        "    axes.plot([x_hat[i + 1], x_hat[i + 1]], [0.0, f(x_star[i])], 'k--')\n",
        "    axes.plot([x_hat[i], x_hat[i + 1]], [f(x_star[i]), f(x_star[i])], 'k--')\n",
        "    \n",
        "axes.set_xlabel(\"x\")\n",
        "axes.set_ylabel(\"$f(x)$\")\n",
        "axes.set_title(\"Partition and $f(x)$\")\n",
        "axes.set_xlim((0.0, 2.0 * numpy.pi))\n",
        "axes.set_ylim((-1.1, 1.1))\n",
        "\n",
        "I_hat = numpy.zeros(x_star.shape)\n",
        "I_hat[0] = f(x_star[0]) * delta_x\n",
        "for i in range(1, num_partitions):\n",
        "    I_hat[i] = I_hat[i - 1] + f(x_star[i]) * delta_x\n",
        "    \n",
        "axes = fig.add_subplot(2, 1, 2)\n",
        "\n",
        "axes.plot(x, I(x), 'r')\n",
        "# Offset due to indexing above\n",
        "axes.plot(x_star + delta_x / 2.0, I_hat, 'ko')\n",
        "\n",
        "axes.set_xlabel(\"x\")\n",
        "axes.set_ylabel(\"$f(x)$\")\n",
        "axes.set_title(\"Integral and Approximated Integral\")\n",
        "axes.set_xlim((0.0, 2.0 * numpy.pi))\n",
        "axes.set_ylim((-0.1, 2.5))\n",
        "\n",
        "print(\"Numerical integration : {}\".format(I_hat[-1]))\n",
        "print(\"Analytical integration : {}\".format(0))\n",
        "print(\"Error : {}\".format(abs(I_hat[-1])))\n",
        "\n",
        "\n",
        "plt.show()"
      ],
      "execution_count": null,
      "outputs": [
        {
          "output_type": "stream",
          "text": [
            "Numerical integration : 1.6653345369377348e-16\n",
            "Analytical integration : 0\n",
            "Error : 1.6653345369377348e-16\n"
          ],
          "name": "stdout"
        },
        {
          "output_type": "display_data",
          "data": {
            "image/png": "[encoded data removed]",
            "text/plain": [
              "<Figure size 432x288 with 2 Axes>"
            ]
          },
          "metadata": {
            "tags": [],
            "needs_background": "light"
          }
        }
      ]
    },
    {
      "cell_type": "markdown",
      "metadata": {
        "id": "atYdv0uFieHm"
      },
      "source": [
        "### Quadratura Newton-Cotes\n",
        "\n",
        "A partir d'$N+1$ punts, evaluar $f(x)$ en aquests punts i integrar exactament el polinomi interpolador:\n",
        "\n",
        "$$I_N[f] = \\int^b_a P_N(x) dx$$"
      ]
    },
    {
      "cell_type": "markdown",
      "metadata": {
        "id": "ZqetHT-1ieHp"
      },
      "source": [
        "#### Mètode trapezial\n"
      ]
    },
    {
      "cell_type": "markdown",
      "metadata": {
        "id": "4W3Tou-0ieHr"
      },
      "source": [
        "A partir de polinomis d'ordre 1 entre cada punt (i.e. polinomis lineals definits a trossos).  Els coeficients dels polinomis per cada interval són:\n",
        "\n",
        "$$p_0 = f(x_i) \\quad \\quad p_1 = \\frac{f(x_{i+1}) - f(x_i)}{x_{i+1} - x_i}$$\n",
        "\n",
        "S'obté el polinomi interpolador:\n",
        "\n",
        "$$p_1(x) = \\frac{f(x_{i+1}) - f(x_i)}{x_{i+1} - x_i} ( x- x_i) + f(x_i)$$"
      ]
    },
    {
      "cell_type": "markdown",
      "metadata": {
        "id": "kBGm52cxieHt"
      },
      "source": [
        "Integrant aquest polinomi tenim:\n",
        "\n",
        "$$\\begin{aligned}\n",
        "    \\int^{x_{i+1}}_{x_i} (p_0 + p_1 (x - x_i)) dx &= \\left . p_0 x + p_1 \\left (\\frac{x^2}{2} - x_i x\\right) \\right |^{x_{i+1}}_{x_i} \\\\\n",
        "    &= p_0 \\Delta x + p_1 \\left (\\frac{1}{2} (x_{i+1} + x_i) \\Delta x - x_i \\Delta x\\right) \\\\\n",
        "    &= f(x_i) \\Delta x + (f(x_{i+1}) - f(x_i))\\left (\\frac{1}{2} (x_{i+1} + x_i) - x_i\\right) \\\\\n",
        "    &= f(x_i) \\Delta x + (f(x_{i+1}) - f(x_i)) \\frac{\\Delta x}{2} \\\\\n",
        "    & = \\frac{\\Delta x}{2} (f(x_{i+1}) + f(x_i))\n",
        "\\end{aligned}$$"
      ]
    },
    {
      "cell_type": "markdown",
      "metadata": {
        "id": "Jpp0e-LfieHv"
      },
      "source": [
        "Podem simplificar la suma si notem que tots els termes excepte els punts dels extrems tenen una contribució total de $\\Delta x$ a la suma total tal que:\n",
        "\n",
        "$$\n",
        "    I_N[f] = \\frac{\\Delta x}{2} (f(x_0) + f(x_N) ) + \\sum^{N-1}_{j=1} \\Delta x f(x_j)\n",
        "$$\n"
      ]
    },
    {
      "cell_type": "markdown",
      "metadata": {
        "id": "LnescaD0tPT_"
      },
      "source": [
        "#### Exercici: Integrar amb el mètode trapezial\n",
        "\n",
        "Calcula l'integral \n",
        "\n",
        "$$\n",
        "  \\int^{2\\pi}_0 sin(x)dx\n",
        "$$\n",
        "\n",
        "A partir del mètode trapezial. Compara el resultat numèric amb l'analític:\n",
        "\n",
        "$$\n",
        "    \\int^x_0 sin(\\hat{x}) d\\hat{x} = \\left . -\\cos \\hat{x} \\right|^x_0 = 1 - \\cos x\n",
        "$$"
      ]
    },
    {
      "cell_type": "code",
      "metadata": {
        "id": "L8hlkfKZtUVp"
      },
      "source": [
        "# Escriu el codi"
      ],
      "execution_count": null,
      "outputs": []
    },
    {
      "cell_type": "code",
      "metadata": {
        "id": "oNEi-E1PieHy",
        "cellView": "form",
        "colab": {
          "base_uri": "https://localhost:8080/",
          "height": 314
        },
        "outputId": "95f9cd1d-c53c-4c11-eca7-39b07d9bc04b"
      },
      "source": [
        "#@title\n",
        "# Note that this calculates the cummulative integral from 0.0\n",
        "\n",
        "f = lambda x: numpy.sin(x)\n",
        "I = lambda x: 1.0 - numpy.cos(x)\n",
        "x = numpy.linspace(0.0, 2.0 * numpy.pi, 100)\n",
        "\n",
        "num_partitions = 20\n",
        "x_hat = numpy.linspace(0.0, 2.0 * numpy.pi, num_partitions + 1)\n",
        "delta_x = x_hat[1] - x_hat[0]\n",
        "\n",
        "fig = plt.figure()\n",
        "fig.subplots_adjust(hspace=.5)\n",
        "axes = fig.add_subplot(2, 1, 1)\n",
        "\n",
        "axes.plot(x, numpy.zeros(x.shape), 'k--')\n",
        "axes.plot(x, f(x), 'b')\n",
        "\n",
        "for i in range(num_partitions):\n",
        "    axes.plot([x_hat[i], x_hat[i]], [0.0, f(x_hat[i])], 'k--')\n",
        "    axes.plot([x_hat[i + 1], x_hat[i + 1]], [0.0, f(x_hat[i+1])], 'k--')\n",
        "    axes.plot([x_hat[i], x_hat[i + 1]], [f(x_hat[i]), f(x_hat[i+1])], 'k--')\n",
        "    \n",
        "axes.set_xlabel(\"x\")\n",
        "axes.set_ylabel(\"$f(x)$\")\n",
        "axes.set_title(\"Partition and $f(x)$\")\n",
        "axes.set_xlim((0.0, 2.0 * numpy.pi))\n",
        "axes.set_ylim((-1.1, 1.1))\n",
        "\n",
        "I_hat = numpy.zeros(x_hat.shape)\n",
        "I_hat[0] = (f(x_hat[1]) + f(x_hat[0])) * delta_x / 2.0\n",
        "for i in range(1, num_partitions):\n",
        "    I_hat[i] = I_hat[i - 1] + (f(x_hat[i + 1]) + f(x_hat[i])) * delta_x / 2.0\n",
        "    \n",
        "axes = fig.add_subplot(2, 1, 2)\n",
        "\n",
        "axes.plot(x, I(x), 'r')\n",
        "# Offset due to indexing above\n",
        "axes.plot(x_hat + delta_x, I_hat, 'ko')\n",
        "\n",
        "axes.set_xlabel(\"x\")\n",
        "axes.set_ylabel(\"$f(x)$\")\n",
        "axes.set_title(\"Integral and Approximated Integral\")\n",
        "axes.set_xlim((0.0, 2.0 * numpy.pi))\n",
        "axes.set_ylim((-0.1, 2.5))\n",
        "\n",
        "print(\"Error : {}\".format(abs(I_hat[-1])))\n",
        "\n",
        "plt.show()"
      ],
      "execution_count": null,
      "outputs": [
        {
          "output_type": "stream",
          "text": [
            "Error : 0.0\n"
          ],
          "name": "stdout"
        },
        {
          "output_type": "display_data",
          "data": {
            "image/png": "[encoded data removed]",
            "text/plain": [
              "<Figure size 432x288 with 2 Axes>"
            ]
          },
          "metadata": {
            "tags": [],
            "needs_background": "light"
          }
        }
      ]
    },
    {
      "cell_type": "markdown",
      "metadata": {
        "id": "5H4EXrjvieH7"
      },
      "source": [
        "#### Regla de Simpson\n",
        "\n",
        "La regla de Simpson utilitza polinomis de segon ordre entre cada punt (i.e. polinomis quadràtics definits a trossos).\n",
        "\n",
        "Els polinomis tenen la forma\n",
        "\n",
        "$$P_2(x) = \\frac{2 f(x_i)}{\\Delta x^2} \\left (x - \\frac{\\Delta x}{2} \\right ) (x - \\Delta x) - \\frac{4 f\\left(x_i + \\frac{\\Delta x}{2}\\right)}{\\Delta x^2}  x (x - \\Delta x) + \\frac{2 f(x_{i+1})}{\\Delta x^2} x \\left (x - \\frac{\\Delta x}{2} \\right )$$"
      ]
    },
    {
      "cell_type": "markdown",
      "metadata": {
        "id": "Y8HtvqlfieH9"
      },
      "source": [
        "La integral d'aquest polinomi dóna\n",
        "\n",
        "$$\n",
        "    \\int^{x_{i+1}}_{x_i} P_2(x) dx = \\frac{\\Delta x}{6} f(x_i) + \\frac{2 \\Delta x}{3} f\\left(x_i + \\frac{\\Delta x}{2} \\right ) + \\frac{\\Delta x}{6} f(x_{i+1})\n",
        "$$"
      ]
    },
    {
      "cell_type": "markdown",
      "metadata": {
        "id": "PvIWbZyAu7-u"
      },
      "source": [
        "#### Exercici: Integrar amb la regla de Simpson\n",
        "\n",
        "Calcula l'integral \n",
        "\n",
        "$$\n",
        "  \\int^{2\\pi}_0 sin(x)dx\n",
        "$$\n",
        "\n",
        "A partir de la regla de Simpson. Compara el resultat numèric amb l'analític:\n",
        "\n",
        "$$\n",
        "    \\int^x_0 sin(\\hat{x}) d\\hat{x} = \\left . -\\cos \\hat{x} \\right|^x_0 = 1 - \\cos x\n",
        "$$"
      ]
    },
    {
      "cell_type": "code",
      "metadata": {
        "id": "lQGPAHbmvAiR"
      },
      "source": [
        "# Escriu el codi aquí\n"
      ],
      "execution_count": null,
      "outputs": []
    },
    {
      "cell_type": "code",
      "metadata": {
        "id": "AthXnGmCieIH",
        "cellView": "form",
        "colab": {
          "base_uri": "https://localhost:8080/",
          "height": 314
        },
        "outputId": "1b8a173b-3751-4a49-e40e-058b492966b1"
      },
      "source": [
        "#@title\n",
        "# Note that this calculates the cummulative integral from 0.0\n",
        "\n",
        "f = lambda x: numpy.sin(x)\n",
        "I = lambda x: 1.0 - numpy.cos(x)\n",
        "x = numpy.linspace(0.0, 2.0 * numpy.pi, 100)\n",
        "\n",
        "num_partitions = 10\n",
        "x_hat = numpy.linspace(0.0, 2.0 * numpy.pi, num_partitions + 1)\n",
        "delta_x = x_hat[1] - x_hat[0]\n",
        "\n",
        "fig = plt.figure()\n",
        "fig.subplots_adjust(hspace=.5)\n",
        "axes = fig.add_subplot(2, 1, 1)\n",
        "\n",
        "axes.plot(x, numpy.zeros(x.shape), 'k--')\n",
        "axes.plot(x, f(x), 'b')\n",
        "\n",
        "for i in range(num_partitions):\n",
        "    axes.plot([x_hat[i], x_hat[i]], [0.0, f(x_hat[i])], 'k--')\n",
        "    axes.plot([x_hat[i + 1], x_hat[i + 1]], [0.0, f(x_hat[i + 1])], 'k--')\n",
        "    coeff = numpy.polyfit((x_hat[i], x_hat[i] + delta_x / 2.0, x_hat[i + 1]), \n",
        "                          (f(x_hat[i]), f(x_hat[i] + delta_x / 2.0), f(x_hat[i+1])), 2)\n",
        "    x_star = numpy.linspace(x_hat[i], x_hat[i+1], 10)\n",
        "    axes.plot(x_star, numpy.polyval(coeff, x_star), 'k--')\n",
        "    \n",
        "axes.set_xlabel(\"x\")\n",
        "axes.set_ylabel(\"$f(x)$\")\n",
        "axes.set_title(\"Partition and $f(x)$\")\n",
        "axes.set_xlim((0.0, 2.0 * numpy.pi))\n",
        "axes.set_ylim((-1.1, 1.1))\n",
        "\n",
        "I_hat = numpy.zeros(x_hat.shape)\n",
        "I_hat[0] = delta_x * (1.0 / 6.0 * (f(x_hat[0]) + f(x_hat[1])) + 2.0 / 3.0 * f(x_hat[0] + delta_x / 2.0))\n",
        "for i in range(1, num_partitions):\n",
        "    I_hat[i] = I_hat[i - 1] + delta_x * (1.0 / 6.0 * (f(x_hat[i]) + f(x_hat[i+1])) + 2.0 / 3.0 * f(x_hat[i] + delta_x / 2.0))\n",
        "    \n",
        "axes = fig.add_subplot(2, 1, 2)\n",
        "\n",
        "axes.plot(x, I(x), 'r')\n",
        "# Offset due to indexing above\n",
        "axes.plot(x_hat + delta_x, I_hat, 'ko')\n",
        "\n",
        "axes.set_xlabel(\"x\")\n",
        "axes.set_ylabel(\"$f(x)$\")\n",
        "axes.set_title(\"Integral and Approximated Integral\")\n",
        "axes.set_xlim((0.0, 2.0 * numpy.pi))\n",
        "axes.set_ylim((-0.1, 2.5))\n",
        "\n",
        "print(\"Error : {}\".format(abs(I_hat[-1])))\n",
        "\n",
        "plt.show()"
      ],
      "execution_count": null,
      "outputs": [
        {
          "output_type": "stream",
          "text": [
            "Error : 0.0\n"
          ],
          "name": "stdout"
        },
        {
          "output_type": "display_data",
          "data": {
            "image/png": "[encoded data removed]",
            "text/plain": [
              "<Figure size 432x288 with 2 Axes>"
            ]
          },
          "metadata": {
            "tags": [],
            "needs_background": "light"
          }
        }
      ]
    },
    {
      "cell_type": "markdown",
      "metadata": {
        "id": "0xFlnIq3873F"
      },
      "source": [
        "## Integració MonteCarlo\n",
        "\n",
        "Els mètodes de Monte Carlo són tècniques heurístiques àmpliament utilitzades que poden resoldre diversos problemes comuns, incloent problemes d’optimització i d’integració numèrica. Aquests algorismes funcionen mitjançant la generació de nombres aleatòris d'una distribució per simular el funcionament d'un sistema. Les aplicacions van des de la resolució de problemes de física teòrica fins a la predicció de tendències en inversions financeres.\n",
        "\n",
        "La idea bàsica es basa en l'identitat següent:\n",
        "\n",
        "$$\n",
        "\\bar{f} = \\frac{1}{b-a}\\int_a^b f(x)dx\n",
        "$$\n",
        "\n",
        "Veiem que podem trobar la mitja d'una funció a partir de la seva integral. De la mateixa manera, podem trobar l'integral a partir de la mitja de la funció!"
      ]
    },
    {
      "cell_type": "markdown",
      "metadata": {
        "id": "Vcx7XCzT9a0F"
      },
      "source": [
        "### Mètode MC directe\n",
        "\n",
        "Considerem la següent integral\n",
        "\n",
        "$$\n",
        "I = \\int_0^{5} \\frac{e^{-x}}{1+(x-1)^2}dx\n",
        "$$\n",
        "\n",
        "L'implementació del mètode directe seria:\n",
        "\n",
        "1. Generar $x \\sim U(0,5)$\n",
        "2. Avaluar $f(x)$\n",
        "3. Repetir $N$ vegades els passos 1 i 2\n",
        "4. Calcular l'integral a partir de $5 \\cdot \\bar{f}$\n",
        "\n",
        "Per generar N nombres uniformement distribuits entre a i b pots fer servir:\n",
        "\n",
        "```\n",
        "numpy.random.uniform(a,b,N)\n",
        "```\n",
        "\n",
        "Recorda que pots fer la potència n d'un array x amb la funció:\n",
        "\n",
        "```\n",
        "numpy.power(x,n)\n",
        "```\n",
        "\n",
        "I l'exponencial amb:\n",
        "\n",
        "```\n",
        "numpy.exp(x)\n",
        "```\n",
        "\n"
      ]
    },
    {
      "cell_type": "markdown",
      "metadata": {
        "id": "0I34jTNoGp_Y"
      },
      "source": [
        "#### Exercici: Calcula l'integral a partir del mètode MC directe amb N = 10000"
      ]
    },
    {
      "cell_type": "code",
      "metadata": {
        "id": "FLqq3NFnEpLr"
      },
      "source": [
        "#Escriu un codi que calcula l'integral anterior a partir del mètode MC directe\n",
        "#Recorda que pots generar N nombres que segueixen una distribució U(a,b) amb\n",
        "# numpy.random.uniform(a,b,N)"
      ],
      "execution_count": null,
      "outputs": []
    },
    {
      "cell_type": "code",
      "metadata": {
        "id": "mijWuRjiE0AT",
        "cellView": "form",
        "colab": {
          "base_uri": "https://localhost:8080/",
          "height": 50
        },
        "outputId": "5e9f1d60-791e-4a01-da51-c3eab0a49f94"
      },
      "source": [
        "#@title\n",
        "def function(x):\n",
        "  return numpy.exp(-x)/(1 + numpy.power(x-1,2))\n",
        "\n",
        "\n",
        "N = 10000\n",
        "a = 0\n",
        "b = 5\n",
        "\n",
        "x = numpy.random.uniform(a,b,N)\n",
        "y = function(x)\n",
        "\n",
        "print(\"MC direct = {} +/- {}\".format((b-a)*numpy.mean(y),numpy.std((b-a)*y)/numpy.sqrt(N)))\n",
        "print(\"Scipy = {}\".format(integrate.quad(function,a,b)[0]))\n",
        "\n"
      ],
      "execution_count": null,
      "outputs": [
        {
          "output_type": "stream",
          "text": [
            "MC direct = 0.6856691528828829 +/- 0.009179481691821345\n",
            "Scipy = 0.6958109540407915\n"
          ],
          "name": "stdout"
        }
      ]
    },
    {
      "cell_type": "markdown",
      "metadata": {
        "id": "biJY8eSIGzC6"
      },
      "source": [
        "Veiem que obtenim un bon resultat. Què passa si volem reduir l'error? Podríem incrementar $N$ però això implicaria augmentar el temps de computació..."
      ]
    },
    {
      "cell_type": "markdown",
      "metadata": {
        "id": "WaI1uizOQXDw"
      },
      "source": [
        "### Mètode MC per àrees\n",
        "\n",
        "Un altre mètode Monte Carlo per calcular una integral es basa en la següent reflexió. Si llançem aleatòriament puntx (x,y) a la gràfica de la funció que volem integrar, el nombre de punts que cauen sota la corba $N_V$ és proporcional a l'àrea $I$. Per tant, si generem $N_T$ punts sobre una àrea $A_T$ que conté $I$, obtenim la següent relació:\n",
        "\n",
        "$$\n",
        "I = A_T \\frac{N_V}{N_T}\n",
        "$$\n",
        "\n"
      ]
    },
    {
      "cell_type": "markdown",
      "metadata": {
        "id": "wrZm0TAERRHa"
      },
      "source": [
        "#### Exercici: Calcula l'integral a partir del mètode MC per àrees\n",
        "\n",
        "Pasos:\n",
        "\n",
        "1. Primer s'ha de trobar l'àrea $A_T$. Per tant s'ha de dibuixar $f(x)$ en l'interval que volem integrar i trobar el màxim de la funció. Recordeu que podeu trobar el mínim i el màxim d'un array amb:\n",
        "\n",
        "```\n",
        "numpy.amin(x)\n",
        "numpy.amax(x)\n",
        "```\n",
        "\n",
        "2. Un cop tenim el rectangle d'area $A_T$ definit per $(a,b),(y_min,y_max)$, generem N x,y uniformement distribuits sota aquests intervals.\n",
        "\n",
        "3. Ara nomes hem de comptar quins x,y cauen per sota de la funció i trobar la integral mitjançant l'expressió anterior"
      ]
    },
    {
      "cell_type": "code",
      "metadata": {
        "id": "8bZD-0eHSHK1"
      },
      "source": [
        "#Escriu un codi que calcula l'integral anterior a partir del mètode MC per àrees"
      ],
      "execution_count": null,
      "outputs": []
    },
    {
      "cell_type": "code",
      "metadata": {
        "id": "hbKyl18MMIO0",
        "colab": {
          "base_uri": "https://localhost:8080/",
          "height": 298
        },
        "outputId": "58c8c555-680b-49f7-dacd-37fa633e12de"
      },
      "source": [
        "#@title\n",
        "def function(x):\n",
        "  return numpy.exp(-x)/(1 + numpy.power(x-1,2))\n",
        "\n",
        "x_plot = numpy.linspace(a,b,1000)\n",
        "y_min = numpy.amin(function(x_plot))\n",
        "y_max = numpy.amax(function(x_plot))\n",
        "\n",
        "N = 1000\n",
        "\n",
        "x_tries = numpy.random.uniform(a,b,N)\n",
        "y_tries = numpy.random.uniform(y_min,y_max,N)\n",
        "\n",
        "x_valid = x_tries[y_tries < function(x_tries)]\n",
        "y_valid = y_tries[y_tries < function(x_tries)]\n",
        "\n",
        "x_novalid = x_tries[y_tries > function(x_tries)]\n",
        "y_novalid = y_tries[y_tries > function(x_tries)]\n",
        "\n",
        "\n",
        "plt.plot(x_plot,function(x_plot))\n",
        "plt.plot(x_valid,y_valid,'b.')\n",
        "plt.plot(x_novalid,y_novalid,'r.')\n",
        "\n",
        "print(\"MC area = {} +/- {}\".format((b-a)*(y_max-y_min)*len(x_valid)/N,(b-a)*(y_max-y_min)/numpy.sqrt(N)))\n",
        "print(\"Scipy = {}\".format(integrate.quad(function,a,b)[0]))\n",
        "\n"
      ],
      "execution_count": null,
      "outputs": [
        {
          "output_type": "stream",
          "text": [
            "MC area = 0.6794609642400732 +/- 0.07899427309459005\n",
            "Scipy = 0.6958109540407915\n"
          ],
          "name": "stdout"
        },
        {
          "output_type": "display_data",
          "data": {
            "image/png": "[encoded data removed]",
            "text/plain": [
              "<Figure size 432x288 with 1 Axes>"
            ]
          },
          "metadata": {
            "tags": [],
            "needs_background": "light"
          }
        }
      ]
    },
    {
      "cell_type": "markdown",
      "metadata": {
        "id": "HvH8thhjJ4W0"
      },
      "source": [
        "## Importance Sampling\n",
        "\n",
        "Una manera de reduir la variança del mètode MC sense incrementar $N$ consisteix a escollir els valors de $x$ distribuïts d'una manera adequada en comptes d'uniformement.\n",
        "\n",
        "L'objectiu és trobar una funció $g(x)$ tal que \n",
        "\n",
        "$$\n",
        "\\frac{f(x)}{g(x)} \\approx k\n",
        "$$\n",
        "\n",
        "a més a més, la funció $g(x)$ ha de complir\n",
        "\n",
        "$$\n",
        "\\int_a^b g(x)dx = 1 \\qquad \\text{i} \\qquad g(x) > 0, \\forall x \\in [a,b]\n",
        "$$\n",
        "\n",
        "Llavors, podrem escriure:\n",
        "\n",
        "$$\n",
        "I = \\int_a^b f(x) dx = \\int_a^b \\left[\\frac{f(x)}{g(x)}\\right] g(x) dx\n",
        "$$\n",
        "\n",
        "Si definim\n",
        "\n",
        "$$\n",
        "G(x) = \\int_a^x g(x) dx \\qquad \\Rightarrow \\qquad dG(x) = g(x)dx\n",
        "$$\n",
        "\n",
        "i fem el canvi de variable $r = G(x)$ obtenim:\n",
        "\n",
        "$$\\begin{align*}\n",
        "I &= \\int_a^b \\left[\\frac{f(x)}{g(x)}\\right] g(x) dx \\\\\n",
        "&= \\int_0^1 \\frac{f(G^{-1}(r))}{g(G^{-1}(r))}dr\n",
        "\\end{align*}\n",
        "$$\n",
        "\n",
        "que podem aproximar com:\n",
        "\n",
        "$$\n",
        "I \\approx \\frac{1}{N} \\sum_{i=1}^{N} \\frac{f(G^{-1}(r))}{g(G^{-1}(r))}\n",
        "$$\n",
        "\n",
        "on $r$ están distribuits uniformement a [0,1]\n",
        "\n",
        "\n"
      ]
    },
    {
      "cell_type": "markdown",
      "metadata": {
        "id": "_VypHhshT-n-"
      },
      "source": [
        "#### Trobar $g(x)$\n",
        "\n",
        "Comencem per visualitzar $f(x)$ per poder trobar $g(x)$"
      ]
    },
    {
      "cell_type": "code",
      "metadata": {
        "id": "Lcs4ze3qUIhW",
        "colab": {
          "base_uri": "https://localhost:8080/",
          "height": 298
        },
        "outputId": "05b37510-dbcb-4291-daf9-7c5ac4d477eb"
      },
      "source": [
        "def function(x):\n",
        "  return numpy.exp(-x)/(1 + numpy.power(x-1,2))\n",
        "\n",
        "x = numpy.linspace(0,6,100)\n",
        "y = function(x)\n",
        "plt.plot(x,y)\n",
        "plt.title(\"f(x)\")"
      ],
      "execution_count": null,
      "outputs": [
        {
          "output_type": "execute_result",
          "data": {
            "text/plain": [
              "Text(0.5, 1.0, 'f(x)')"
            ]
          },
          "metadata": {
            "tags": []
          },
          "execution_count": 12
        },
        {
          "output_type": "display_data",
          "data": {
            "image/png": "[encoded data removed]",
            "text/plain": [
              "<Figure size 432x288 with 1 Axes>"
            ]
          },
          "metadata": {
            "tags": [],
            "needs_background": "light"
          }
        }
      ]
    },
    {
      "cell_type": "markdown",
      "metadata": {
        "id": "K5aljjKYUabH"
      },
      "source": [
        "Veiem que la funció és pràcticament cero a partir d'$x=3$. Considerem la funció\n",
        "$$\n",
        "g(x) = A e^{-\\lambda x}\n",
        "$$\n",
        "\n",
        "Per la condició $\\int_a^b g(x)dx = 1$ podem trobar\n",
        "\n",
        "$$\n",
        "A = \\frac{\\lambda}{e^{-a\\lambda} - e^{-b\\lambda}}\n",
        "$$\n",
        "\n",
        "Com trobem $\\lambda$? Podem provar diferents valors per $\\lambda$ i utilitzar aquella que dóna mínima variança.\n",
        "\n",
        "L'implementació és doncs:\n",
        "\n",
        "1. Comencem amb $\\lambda = 0.05$\n",
        "2. Calculem la variança i l'integral amb Importance Sampling\n",
        "3. Incrementem $\\lambda $+=$ 0.05$\n",
        "4. Repetim fins un límit i escollim $\\lambda$ amb mínima variança\n",
        "\n",
        "Podem trobar l'índex del valor mínim d'un array amb la funció:\n",
        "\n",
        "\n",
        "\n",
        "```\n",
        "numpy.argmin(x)\n",
        "```\n",
        "\n",
        "\n"
      ]
    },
    {
      "cell_type": "markdown",
      "metadata": {
        "id": "FCsnI2MhdKB0"
      },
      "source": [
        "#### Excercici: Fes Important Sampling per resoldre l'integral anterior amb \n",
        "\n",
        "$$\n",
        "g(x) = A e^{-\\lambda x}, \\qquad A = \\frac{\\lambda}{e^{-a\\lambda} - e^{-b\\lambda}}, \\qquad G^{-1}(r) = -\\frac{1}{\\lambda}\\ln\\left(\\ e^{-\\lambda a} - \\frac{\\lambda r}{A}  \\right)\n",
        "$$\n",
        "\n",
        "I la integral és aproximada per:\n",
        "\n",
        "$$\n",
        "I \\approx \\frac{1}{N} \\sum_{i=1}^{N} \\frac{f(G^{-1}(r))}{g(G^{-1}(r))}\n",
        "$$\n",
        "\n",
        "Recorda que pots fer l'exponencial i el logaritme d'un array x amb les funcions:\n",
        "\n",
        "```\n",
        "numpy.exp(x)\n",
        "numpy.log(x)\n",
        "```\n",
        "\n",
        "També pots generar N nombres distribuits uniformement entre 0.0 i 1 amb:\n",
        "\n",
        "```\n",
        "numpy.random.random(N)\n",
        "```\n",
        "\n"
      ]
    },
    {
      "cell_type": "code",
      "metadata": {
        "id": "O2DGQa8b_EtM"
      },
      "source": [
        "# Escriu el codi per calcular l'integral de [0,5] amb N = 10000\n",
        "# Fes Important Sampling amb g(x) = A*e^(lambda*x)\n",
        "# Troba lambda tal que minimitza l'error"
      ],
      "execution_count": null,
      "outputs": []
    },
    {
      "cell_type": "code",
      "metadata": {
        "id": "2gJjrJ-qWT7T",
        "colab": {
          "base_uri": "https://localhost:8080/",
          "height": 332
        },
        "outputId": "74ce5300-ae82-4227-8815-f7c6856dddbe"
      },
      "source": [
        "#@title\n",
        "def function(x):\n",
        "  return numpy.exp(-x)/(1 + numpy.power(x-1,2))\n",
        "\n",
        "def g(x,l,a,b):\n",
        "  A = l/(numpy.exp(-a*l)-numpy.exp(-b*l))\n",
        "  return A*numpy.exp(-l*x)\n",
        "\n",
        "def g_inverse(r,l,a,b):\n",
        "  return (-1./l)*numpy.log(numpy.exp(-a*l)-r*(numpy.exp(-a*l)-numpy.exp(-b*l)))\n",
        "\n",
        "N = 10000\n",
        "a = 0\n",
        "b = 5\n",
        "lambdas = [i*0.05 for i in range(1, 61)]\n",
        "Integrals = []\n",
        "variances = []\n",
        "\n",
        "for l in lambdas:\n",
        "  r = numpy.random.random(N)\n",
        "  y = function(g_inverse(r,l,a,b))/g(g_inverse(r,l,a,b),l,a,b)\n",
        "  Integrals.append(numpy.mean(y))\n",
        "  variances.append(numpy.std(y)/numpy.sqrt(N))\n",
        "  \n",
        "\n",
        "  \n",
        "optimal_lambda = lambdas[numpy.argmin(numpy.asarray(variances))]\n",
        "optimal_variance = variances[numpy.argmin(numpy.asarray(variances))]\n",
        "optimal_Integral = Integrals[numpy.argmin(numpy.asarray(variances))]\n",
        "\n",
        "print(f\"Optimal lambda: {optimal_lambda}\")\n",
        "print(f\"Optimal Integral: {optimal_Integral} +/- {optimal_variance}\")\n",
        "print(f\"Scipy = {integrate.quad(function,a,b)[0]}\")\n",
        "\n",
        "plt.plot(lambdas,variances)\n"
      ],
      "execution_count": null,
      "outputs": [
        {
          "output_type": "stream",
          "text": [
            "Optimal lambda: 1.1500000000000001\n",
            "Optimal Integral: 0.6947332289138595 +/- 0.002133153659535686\n",
            "Scipy = 0.6958109540407915\n"
          ],
          "name": "stdout"
        },
        {
          "output_type": "execute_result",
          "data": {
            "text/plain": [
              "[<matplotlib.lines.Line2D at 0x7faa987707b8>]"
            ]
          },
          "metadata": {
            "tags": []
          },
          "execution_count": 14
        },
        {
          "output_type": "display_data",
          "data": {
            "image/png": "[encoded data removed]",
            "text/plain": [
              "<Figure size 432x288 with 1 Axes>"
            ]
          },
          "metadata": {
            "tags": [],
            "needs_background": "light"
          }
        }
      ]
    },
    {
      "cell_type": "markdown",
      "metadata": {
        "id": "beUesNqoieIM"
      },
      "source": [
        "## Anàlisi dels errors\n",
        "\n",
        "A partir del que hem vist, un mètode determinat d'integració $I_N$ es pot escriure com:\n",
        "\n",
        "$$\n",
        "    I_N[f] = \\sum^{N-1}_{i=0} w_i f(x_i).\n",
        "$$"
      ]
    },
    {
      "cell_type": "markdown",
      "metadata": {
        "id": "Yi5Vb5psieIO"
      },
      "source": [
        "Definim l'error $E[f]$ tal que\n",
        "\n",
        "$$I[f] = I_N[f] + E_N[f]$$\n"
      ]
    },
    {
      "cell_type": "markdown",
      "metadata": {
        "id": "pTRXNR70ieIQ"
      },
      "source": [
        "### Precisió de la quadratura\n",
        "\n",
        "Podem utilitzar el nostre anàlisi polinomial d'abans per analitzar l'error de cada mètode. A partir del teorema de Lagrange tenim el terme resta d'abans que podem utilitzar per trobar l'error per interval fent l'integral.\n",
        "\n",
        "$$R_N(x) = (x - x_0)(x - x_1) \\cdots (x- x_N) \\frac{f^{(N+1)}(c)}{(N+1)!}$$\n"
      ]
    },
    {
      "cell_type": "markdown",
      "metadata": {
        "id": "obXBBLlKieIR"
      },
      "source": [
        "Per trobar l'error total hem de sumar l'error per cada interval:\n",
        "\n",
        "$$I[f] = \\sum_{i=0}^N \\int^{x_{i+1}}_{x_i} P_N(x) dx + \\sum_{i=0}^N \\int^{x_{i+1}}_{x_i} R_N(x) dx = I_N[f] + E_N[f]$$\n"
      ]
    },
    {
      "cell_type": "markdown",
      "metadata": {
        "id": "Vdhy_b18ieIU"
      },
      "source": [
        "#### Error trapezial\n",
        "\n",
        "Per $N=1$ tenim\n",
        "\n",
        "$$R_1(x) = (x - x_i) (x - x_{i+1}) \\frac{f''(c)}{2}$$\n",
        "\n",
        "La integració dóna\n",
        "\n",
        "$$\\int^{x_{i+1}}_{x_i} (x - x_i) (x - x_{i+1}) \\frac{f''(c)}{2} dx = -\\frac{\\Delta x^3}{12} f''(c)$$\n"
      ]
    },
    {
      "cell_type": "markdown",
      "metadata": {
        "id": "2rjFB1RuieIV"
      },
      "source": [
        "Si sumem per cada interval l'error total és:\n",
        "\n",
        "$$E_N[f] = -\\frac{\\Delta x^3}{12} \\sum_{i=0}^{N} f''(c_i)$$\n",
        "\n",
        "o més il·lustratiu\n",
        "\n",
        "$$E_N[f] = -\\frac{1}{2} \\Delta x^2 (b - a) \\left [ \\frac{1}{N} \\sum^{N-1}_{i=0} f''(c_i) \\right ]$$\n",
        "\n",
        "on l'expressió en brackets és la mitjana de la segona derivada sobre l'interval $[a,b]$. Això mostra que el mètode trapezial convergeix quadràticament si $\\Delta x \\rightarrow 0$."
      ]
    },
    {
      "cell_type": "markdown",
      "metadata": {
        "id": "5xZYhJEHieIW"
      },
      "source": [
        "#### Error del mètode de Simpson\n",
        "\n",
        "Aquí tenim $N = 2$ \n",
        "\n",
        "$$R_2(x) = (x - x_i) \\left(x - x_i - \\frac{\\Delta x}{2} \\right) (x - x_{i+1}) \\frac{f'''(c)}{3!}$$\n",
        "\n",
        "Fent la integració i sumant per trobar l'error obtenim:\n",
        "\n",
        "$$E_N[f] = -\\frac{1}{180} (b - a) \\Delta x^4 f^{(4)}(c)$$\n",
        "\n",
        "Veiem que hem guanyat dos ordres de magnitud en precisió simplement augmentant l'ordre del polinomi en 1!"
      ]
    },
    {
      "cell_type": "markdown",
      "metadata": {
        "id": "DFu-EFFRieIX"
      },
      "source": [
        "##### Exercici:\n",
        "\n",
        "Per $f(x) = \\sin \\pi x$ calcula l'error en funció del nombre de punts (i.e. la mida de $\\Delta x$)\n",
        "a l'interval $x\\in[0,1]$.\n",
        "\n",
        "$$\\begin{aligned}\n",
        "    \\text{Exact:}  &I[f] = \\int^1_0 \\sin \\pi x = \\left . \\frac{-\\cos \\pi x}{\\pi} \\right |^1_0 = \\frac{2}{\\pi} \\approx 0.636619772 \\\\\n",
        "    \\text{Midpoint:}  &I_1[f] = \\Delta x f(1/2) = \\sin (\\pi / 2) = 1 \\\\\n",
        "    \\text{Trapezoid:}  &I_1[f] = \\frac{\\Delta x}{2} (\\sin(0) + \\sin(\\pi)) = 0 \\\\\n",
        "    \\text{Simpson's:}  &I_1[f] = \\frac{\\Delta x}{6} \\sin(0) + \\frac{2 \\Delta x}{3} \\sin(\\pi / 2) + \\frac{\\Delta x}{6} \\sin(\\pi) = \\frac{2 \\Delta x}{3} = \\frac{2}{3}\n",
        "\\end{aligned}$$"
      ]
    },
    {
      "cell_type": "code",
      "metadata": {
        "id": "1NK26Zre4XOJ"
      },
      "source": [
        "# Calcula l'error pels diferents mètodes d'integració numèrica.\n",
        "f = lambda x: numpy.sin(numpy.pi * x)\n",
        "\n",
        "num_partitions = range(50, 1000, 50)\n",
        "\n",
        "# Per cada N \\in num_partitions, omple els següents arrays amb:\n",
        "delta_x = numpy.empty(len(num_partitions))       # Delta x corresponent a M\n",
        "error_mid = numpy.empty(len(num_partitions))     # Error amb el mètode del punt mig\n",
        "error_trap = numpy.empty(len(num_partitions))    # Error amb el mètode trapezial\n",
        "error_simpson = numpy.empty(len(num_partitions)) # Error amb el mètode de Simpson\n",
        "\n",
        "# Fes un plot per cada error vs delta_x\n"
      ],
      "execution_count": null,
      "outputs": []
    },
    {
      "cell_type": "code",
      "metadata": {
        "id": "F4Sl0jNOieIa",
        "cellView": "form",
        "colab": {
          "base_uri": "https://localhost:8080/",
          "height": 269
        },
        "outputId": "b592b83d-dd5a-445a-bb45-316ab1ec43c3"
      },
      "source": [
        "#@title\n",
        "# Compute the error as a function of delta_x for each method\n",
        "f = lambda x: numpy.sin(numpy.pi * x)\n",
        "\n",
        "num_partitions = range(50, 1000, 50)\n",
        "delta_x = numpy.empty(len(num_partitions))\n",
        "error_mid = numpy.empty(len(num_partitions))\n",
        "error_trap = numpy.empty(len(num_partitions))\n",
        "error_simpson = numpy.empty(len(num_partitions))\n",
        "\n",
        "for (j, N) in enumerate(num_partitions):\n",
        "    x_hat = numpy.linspace(0.0, 1.0, N + 1)\n",
        "    delta_x[j] = x_hat[1] - x_hat[0]\n",
        "\n",
        "    # Compute Midpoint\n",
        "    x_star = 0.5 * (x_hat[1:] + x_hat[:-1])\n",
        "    I_hat = 0.0\n",
        "    for i in range(0, N):\n",
        "        I_hat += f(x_star[i]) * delta_x[j]\n",
        "    error_mid[j] = numpy.abs(I_hat - 2.0 / numpy.pi)\n",
        "    \n",
        "    # Compute trapezoid\n",
        "    I_hat = 0.0\n",
        "    for i in range(1, N):\n",
        "        I_hat += (f(x_hat[i + 1]) + f(x_hat[i])) * delta_x[j] / 2.0\n",
        "    error_trap[j] = numpy.abs(I_hat - 2.0 / numpy.pi)\n",
        "    \n",
        "    # Compute simpson's    \n",
        "    I_hat = 0.0\n",
        "    for i in range(0, N):\n",
        "        I_hat += delta_x[j] * (1.0 / 6.0 * (f(x_hat[i]) + f(x_hat[i+1])) + 2.0 / 3.0 * f(x_hat[i] + delta_x[j] / 2.0))\n",
        "    error_simpson[j] = numpy.abs(I_hat - 2.0 / numpy.pi)\n",
        "\n",
        "fig = plt.figure()\n",
        "axes = fig.add_subplot(1, 1, 1)\n",
        "\n",
        "order_C = lambda delta_x, error, order: numpy.exp(numpy.log(error) - order * numpy.log(delta_x))\n",
        "axes.loglog(delta_x, error_mid, 'ro', label=\"Midpoint\")\n",
        "axes.loglog(delta_x, error_trap, 'bo', label=\"Trapezoid\")\n",
        "axes.loglog(delta_x, error_simpson, 'go', label=\"Simpson's\")\n",
        "axes.loglog(delta_x, order_C(delta_x[0], error_trap[0], 2.0) * delta_x**2.0, 'b--', label=\"2nd Order\")\n",
        "axes.loglog(delta_x, order_C(delta_x[0], error_simpson[0], 4.0) * delta_x**4.0, 'g--', label=\"4th Order\")\n",
        "axes.legend(loc=4)\n",
        "\n",
        "plt.show()"
      ],
      "execution_count": null,
      "outputs": [
        {
          "output_type": "display_data",
          "data": {
            "image/png": "[encoded data removed]",
            "text/plain": [
              "<Figure size 432x288 with 1 Axes>"
            ]
          },
          "metadata": {
            "tags": [],
            "needs_background": "light"
          }
        }
      ]
    },
    {
      "cell_type": "markdown",
      "metadata": {
        "id": "vBZd3MCIieIf"
      },
      "source": [
        "### Millora recursiva de l'exactitud\n",
        "\n",
        "Considera que fem el mètode trapezial amb mida $2 \\Delta x$, tindrem\n",
        "\n",
        "$$\\begin{aligned}\n",
        "\t\t\t\\int^{x_2}_{x_0} f(x) dx  &= \\frac{2 \\Delta x}{2} (f_0 + f_2) =  h (f_0 + f_2) \\Rightarrow \\\\\n",
        "\t\t\t\\int^b_a f(x)dx &\\approx I_{2\\Delta x}[f] = \\sum^{N/2-1}_{j=0} \\Delta x (f_{2j} + f_{2j+2}) \\\\\n",
        "\t\t\t&= \\Delta x (f_{0} + f_{2})  + \\Delta x (f_{2} + f_{4})  + \\cdots + \\Delta x (f_{N-2} + f_{N}) \\\\\n",
        "\t\t\t&= \\Delta x\\left ( f_0 + f_N +  2 \\sum^{N/2-1}_{j=1} f_{2j} \\right )\n",
        "  \\end{aligned}\n",
        "$$"
      ]
    },
    {
      "cell_type": "markdown",
      "metadata": {
        "collapsed": true,
        "id": "A-fGH9u_ieIj"
      },
      "source": [
        "Compara els dos mètodes per $\\Delta x$ i $2 \\Delta x$:\n",
        "\n",
        "$$I_{\\Delta x}[f] = \\frac{\\Delta x}{2} \\left (f_0 + f_N + 2 \\sum^{N-1}_{j=1} f_j \\right)~~~~~~~~~ I_{2 \\Delta x}[f] = \\Delta x \\left ( f_0 + f_N +  2 \\sum^{N/2-1}_{j=1} f_{2j} \\right )$$\n",
        "\n",
        "$$I_{\\Delta x}[f] = \\frac{1}{2} I_{2\\Delta x} + \\Delta x(f_1 + f_3 + \\cdots + f_{N-1})$$\n",
        "\n",
        "Veiem que podem reutilitzar el que hem fet per calcular $Q_{2 \\Delta x}[f]$ per redefinir l'integral."
      ]
    },
    {
      "cell_type": "markdown",
      "metadata": {
        "id": "TsvNN0-CieIm"
      },
      "source": [
        "### Intervals arbitraris (Transformacions afins)\n",
        "\n",
        "Mapejar $\\xi \\in [-1,1] \\rightarrow x \\in [a,b]$ es pot fer mitjançant una *transformació afí* que és una transformació linear.\n",
        "\n",
        "$$x = \\underbrace{\\frac{b - a}{2}}_{\\text{scaling}} \\xi + \\underbrace{\\frac{a+b}{2}}_{\\text{translation}} ~~~~~ \\text{o} ~~~~~ \\xi = \\left( x - \\frac{a + b}{2}\\right) \\frac{2}{b-a}$$\n",
        "\n",
        "$$\\begin{aligned}\n",
        "    I[f] &= \\int^b_a f(x) dx = \\int^1_{-1} f(x(\\xi)) \\frac{dx}{d\\xi} d\\xi = \\frac{b - a}{2} \\int^1_{-1} f(x(\\xi)) d\\xi\\\\\n",
        "    I_N[f] &= \\sum_i w_i f(x(\\xi_i)) \\left . \\frac{dx}{d\\xi}\\right|_{\\xi_i}\n",
        "\\end{aligned}$$"
      ]
    },
    {
      "cell_type": "markdown",
      "metadata": {
        "id": "jWbFWZGVieIo"
      },
      "source": [
        "#### Exemple:  Mètode Newton-Cotes\n",
        "\n",
        "Podem reescriure les equacions prèvies tal que siguin per l'interval $\\xi \\in [-1, 1]$ en comptes de $x \\in [x_i, x_{i+1}]$. Recordeu que en general un mètode de quadratura es pot escriure com:\n",
        "$$\n",
        "    \\sum^N_{i=1} w_i f(\\xi_i)\n",
        "$$\n",
        "\n",
        "on \"w_i\" són els pesos i $\\xi_i$ són els punts específics on avaluar la funció. En el cas de Newton-Cotes sabem que els punts $\\xi_i$ són uniformement distribuïts en $[-1,1]$ però encara hem de definir els pesos. En el mètode trapezial podem veure que\n",
        "\n",
        "$$\n",
        "    \\int^1_{-1} f(x) dx \\approx f(-1) + f(1)\n",
        "$$\n",
        "\n",
        "així doncs $\\xi_0 = 1$,$\\xi_1 = 1$, i $w_0 = w_1 = 1$. Noteu que si fem un mapeig a partir de la transformació afí obtenim el mètode trapezial original:\n",
        "\n",
        "$$\n",
        "    I_N[f] = \\sum_i w_i f(x(\\xi_i)) \\left . \\frac{dx}{d\\xi}\\right|_{\\xi_i} = (f(-1) + f(1)) \\frac{\\Delta x}{2}\n",
        "$$\n",
        "\n",
        "Similarment en el mètode de Simpson tenim\n",
        "\n",
        "$$\n",
        "    \\xi = [-1, 0, 1] \\quad \\text{and} \\quad w = \\left[\\frac{1}{3}, \\frac{4}{3}, \\frac{1}{3} \\right].\n",
        "$$"
      ]
    },
    {
      "cell_type": "code",
      "metadata": {
        "id": "U6hJ7Bw-ieIp",
        "colab": {
          "base_uri": "https://localhost:8080/",
          "height": 295
        },
        "outputId": "a5c2c6bf-b1fc-407e-df15-5b0dc053595e"
      },
      "source": [
        "# Note that this calculates the cummulative integral from 0.0\n",
        "\n",
        "f = lambda x: numpy.sin(x)\n",
        "I = lambda x: 1.0 - numpy.cos(x)\n",
        "x = numpy.linspace(0.0, 2.0 * numpy.pi, 100)\n",
        "\n",
        "num_partitions = 20\n",
        "x_hat = numpy.linspace(0.0, 2.0 * numpy.pi, num_partitions + 1)\n",
        "delta_x = x_hat[1] - x_hat[0]\n",
        "\n",
        "# Trapezoid\n",
        "xi_map = lambda a, b, x: (b - a) / 2.0 * x + (a + b) / 2.0\n",
        "\n",
        "# Trapezoid/Simpson's\n",
        "xi_methods = [[-1, 1], [-1, 0, 1]]\n",
        "w_methods = [[1, 1], [1/3, 4/3, 1/3]]\n",
        "titles = [\"Trapezoid Rule\", \"Simpson's Rule\"]\n",
        "fig, axes = plt.subplots(1, 2)\n",
        "fig.set_figwidth(fig.get_figwidth() * 2)\n",
        "for k in range(2):\n",
        "    xi = xi_methods[k]\n",
        "    w = w_methods[k]\n",
        "    I_hat = numpy.zeros(x_hat.shape)\n",
        "    for j in range(len(xi)):\n",
        "        I_hat[0] += f(xi_map(x_hat[0], x_hat[1], xi[j])) * w[j]\n",
        "    I_hat[0] *= delta_x / 2.0\n",
        "    for i in range(1, num_partitions):\n",
        "        for j in range(len(xi)):\n",
        "            I_hat[i] += f(xi_map(x_hat[i], x_hat[i+1], xi[j])) * w[j]\n",
        "        I_hat[i] *= delta_x / 2.0\n",
        "        I_hat[i] += I_hat[i - 1]\n",
        "\n",
        "\n",
        "    axes[k].plot(x, I(x), 'r')\n",
        "    axes[k].plot(x_hat + delta_x, I_hat, 'ko')\n",
        "    axes[k].set_xlabel(\"x\")\n",
        "    axes[k].set_ylabel(\"$f(x)$\")\n",
        "    axes[k].set_title(\"Integral and Approximated Integral - %s\" % titles[k])\n",
        "    axes[k].set_xlim((0.0, 2.0 * numpy.pi))\n",
        "    axes[k].set_ylim((-0.1, 2.5))\n",
        "\n",
        "plt.show()"
      ],
      "execution_count": null,
      "outputs": [
        {
          "output_type": "display_data",
          "data": {
            "image/png": "[encoded data removed]",
            "text/plain": [
              "<Figure size 864x288 with 2 Axes>"
            ]
          },
          "metadata": {
            "tags": [],
            "needs_background": "light"
          }
        }
      ]
    }
  ]
}