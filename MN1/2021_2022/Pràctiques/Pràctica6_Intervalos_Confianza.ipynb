{
  "nbformat": 4,
  "nbformat_minor": 0,
  "metadata": {
    "colab": {
      "name": "Práctica6_Intervalos_Confianza.ipynb",
      "provenance": [],
      "collapsed_sections": [],
      "include_colab_link": true
    },
    "kernelspec": {
      "display_name": "Python 3",
      "language": "python",
      "name": "python3"
    }
  },
  "cells": [
    {
      "cell_type": "markdown",
      "metadata": {
        "id": "view-in-github",
        "colab_type": "text"
      },
      "source": [
        "<a href=\"https://colab.research.google.com/github/joseflix/DocenciaUAB/blob/master/MN1/2021_2022/Pr%C3%A0ctiques/Pr%C3%A0ctica6_Intervalos_Confianza.ipynb\" target=\"_parent\"><img src=\"https://colab.research.google.com/assets/colab-badge.svg\" alt=\"Open In Colab\"/></a>"
      ]
    },
    {
      "cell_type": "markdown",
      "metadata": {
        "id": "l_4uY5bYh01i"
      },
      "source": [
        "# **Práctica 6: Intervalos de confianza**\n",
        "\n",
        "<hr>\n",
        "\n",
        "**Nombre:**\n",
        "\n",
        "**NIU:**\n",
        "\n",
        "**mail (gmail):**\n",
        "\n",
        "<hr>\n",
        "\n",
        "**Instrucciones**\n",
        "\n",
        "*   Rellena tu nombre, NIU i mail (gmail, si quieres recibir los comentarios/feedback acerca de tu entrega) en la cabecera de este Notebook.\n",
        "*   Renombra el Notebook como \"Pr6_NIU.ipynb\", donde NIU es tu NIU (*por ejemplo: Pr6_2055007.ipynb*) \n",
        "*   Al final de la clase donde se realize una entrega, descarga este cuaderno en formato .ipynb y lo tienes que subir al siguiente *drop folder*: [Link](http://cern.ch/go/w8vV). Asegurate de que el fichero tiene el nombre correcto.\n",
        "*   Solo se evaluará la parte de la entrega. Tendréis acceso a la solución de todas las partes y después de haber entregado la práctica.\n",
        "\n",
        "<hr>"
      ]
    },
    {
      "cell_type": "markdown",
      "metadata": {
        "id": "Ool4Qy4BieG5"
      },
      "source": [
        "**Objectivo de la práctica** \n",
        "==\n",
        "\n",
        "Representar y calcular intervalos de confianza con la distribución gausiana y con la t-Student.\n"
      ]
    },
    {
      "cell_type": "markdown",
      "metadata": {
        "id": "h-BkHE9K46gd"
      },
      "source": [
        "Calculo de intervalos de confianza\n",
        "==\n",
        "\n",
        "Las medias de una población están distribuidas como una distribución normal para $N$ elevado ($N > 25$). ¿Cómo obtenemos un intervalo de confianza donde se encuentre el valor real de la media?\n",
        "\n"
      ]
    },
    {
      "cell_type": "markdown",
      "metadata": {
        "id": "_fBJzezq46gf"
      },
      "source": [
        "$$P(a < \\mu < b) = 0.95$$\n",
        "\n",
        "Una simplificación inmediata que podemos hacer es que $\\mu$ estará centrada\n",
        "en torno a $\\bar{x}$ simétricamente.\n",
        "\n",
        "$$P( \\bar{x} - A < \\mu<  \\bar{x} + A) = 0.95$$\n",
        "\n",
        "donde $A$ es el número que queremos calcular. Podemos reescribir ésto como:\n",
        "\n",
        "$$P( \\frac{- A}{\\sigma_x / \\sqrt{N}} < \\frac{\\mu - \\bar{x}}{\\sigma_x / \\sqrt{N}}<  \\frac{A}{\\sigma_x / \\sqrt{N}}) = 0.95$$\n",
        "\n",
        "que sabemos que está distribuido como una normal. Notad que se trata de probabilidades que correspondent a la integral de la densidad de probabilidad.\n",
        "\n",
        "\n",
        "Dibujemos en la distribución normal el área de la curva que corresponde a un intervalo de confianza del 95% centrado en torno a la media.\n",
        "\n"
      ]
    },
    {
      "cell_type": "code",
      "metadata": {
        "id": "qP1tuo3646gh"
      },
      "source": [
        " # Codi"
      ],
      "execution_count": null,
      "outputs": []
    },
    {
      "cell_type": "markdown",
      "metadata": {
        "id": "hUuK7Tzd46gs"
      },
      "source": [
        "\n",
        "Calculemos ahora el intervalo de confianza en torno a la media para una gausiana de una cierta media y desviación estándar.\n",
        "Supongamos que después de tomar 30 muestras hemos encontrado que la media muestral es 45 y la desviación estándar es $\\sigma_x = 3$. ¿Cuál es el intervalo en torno a $\\mu$ para un nivel de confianza del 95%?"
      ]
    },
    {
      "cell_type": "markdown",
      "metadata": {
        "id": "2Ki3c1he46gu"
      },
      "source": [
        "Como hemos visto antes:\n",
        "\n",
        "$$P( \\frac{- A}{\\sigma_x / \\sqrt{N}} < \\frac{\\mu - \\bar{x}}{\\sigma_x / \\sqrt{N}}<  \\frac{A}{\\sigma_x / \\sqrt{N}}) = 0.95$$"
      ]
    },
    {
      "cell_type": "markdown",
      "metadata": {
        "id": "hEuMR43m46gv"
      },
      "source": [
        "Nuestro intervalo irá de $2.5$ a $97.5$ (95% de probabilidade), así pues, tenemos que encontrar el valor $T$ para \n",
        "$[-\\infty,2.5]$ i de $[97.5, \\infty]$. "
      ]
    },
    {
      "cell_type": "code",
      "metadata": {
        "id": "865Fkg-o46gw"
      },
      "source": [
        " # Codi"
      ],
      "execution_count": null,
      "outputs": []
    },
    {
      "cell_type": "markdown",
      "metadata": {
        "id": "Oq_5LiGy46g1"
      },
      "source": [
        "$$|T| = \\frac{A}{\\sigma_x / \\sqrt{N}}$$"
      ]
    },
    {
      "cell_type": "markdown",
      "metadata": {
        "id": "7fqj2bta46g3"
      },
      "source": [
        "$$A = |T|\\frac{\\sigma_x}{\\sqrt{N}}$$"
      ]
    },
    {
      "cell_type": "code",
      "metadata": {
        "id": "EG0JtXOr46g4"
      },
      "source": [
        "# Codi"
      ],
      "execution_count": null,
      "outputs": []
    },
    {
      "cell_type": "markdown",
      "metadata": {
        "id": "KZKo6ZvVNCk7"
      },
      "source": [
        "### <font color='orange'>**> Python #1**</font>\n",
        "\n",
        "\n",
        "Tomamos 50 medidas y sabemos que el grosor de una pieza metálica sigue una distribución normal media muestral es 3.4 y la desviación estándar es $\\sigma_x = 0.75$, construye el intervalo de confianza del 95% en torno a la media.\n"
      ]
    },
    {
      "cell_type": "code",
      "metadata": {
        "id": "G-2XQckERv7l"
      },
      "source": [
        "# Codi"
      ],
      "execution_count": null,
      "outputs": []
    },
    {
      "cell_type": "markdown",
      "metadata": {
        "id": "6njFBXWi46iB"
      },
      "source": [
        "Intervalos de confianza no centrados\n",
        "===\n",
        "\n",
        "A veces queremos poner límites únicamente en un lado del intervalo."
      ]
    },
    {
      "cell_type": "markdown",
      "metadata": {
        "id": "zOKPZvUk46iC"
      },
      "source": [
        "Intervalo superior (cota inferior)\n",
        "--\n",
        "\n",
        "Un intervalo superior comprende la parte superior x% de la densidad de probabilidad y se puede definir como un intervalo $(y,\\infty)$, donde y es una cota inferior. A continuación se presenta el caso de un intervalo superior con un 90% de nivel de confianza.\n"
      ]
    },
    {
      "cell_type": "code",
      "metadata": {
        "id": "gjC9lRAk46iD"
      },
      "source": [
        " # Codi"
      ],
      "execution_count": null,
      "outputs": []
    },
    {
      "cell_type": "markdown",
      "metadata": {
        "id": "ga6SHwe646iH"
      },
      "source": [
        "Intervalo inferior (cota superior)\n",
        "--\n",
        "\n",
        "Un intervalo inferior comprende la parte inferior x% de la densidad de probabilidad y se puede definir como un intervalo $(-\\infty,y)$, donde y es una cota superior. A continuación se presenta el caso de un intervalo inferior con un 90% de nivel de confianza.\n"
      ]
    },
    {
      "cell_type": "code",
      "metadata": {
        "id": "u6AHrbjZ46iI"
      },
      "source": [
        " # Codi"
      ],
      "execution_count": null,
      "outputs": []
    },
    {
      "cell_type": "markdown",
      "metadata": {
        "id": "juR2nWX146hp"
      },
      "source": [
        "Distribución de la media para N pequeño - t-Student\n",
        "====\n",
        "\n",
        "Para N < 25 la media de una población sigue la distribución t-Student. En los cálculos anteriores se tiene que sustituir la normal por la t-Student.\n",
        "\n",
        "Ejemplo\n",
        "====\n",
        "Medimos el grosar de 6 piezas metálicas y encontramos $\\bar{x} = 3.65$ y $\\sigma_x = 1.25$. Construimos el intervalo de confianza que contiene \n",
        " $\\mu$ un 90% de las veces.\n"
      ]
    },
    {
      "cell_type": "code",
      "metadata": {
        "id": "m4tLQzCv1Jrl"
      },
      "source": [
        " # Codi"
      ],
      "execution_count": null,
      "outputs": []
    },
    {
      "cell_type": "markdown",
      "metadata": {
        "id": "1wCBO2CW2jYp"
      },
      "source": [
        "### <font color='orange'>**> Python #2**</font>\n",
        "\n",
        "Para una muestra de 5 elementos, dibuja y construye el intervaloo\n",
        "$(-\\infty,y)$, donde y es una cota superior que incluye el 90% de la densidad de probabilidad de la distribución.\n"
      ]
    },
    {
      "cell_type": "code",
      "metadata": {
        "id": "Yl7fywl72jYr"
      },
      "source": [
        " # Codi"
      ],
      "execution_count": null,
      "outputs": []
    },
    {
      "cell_type": "markdown",
      "metadata": {
        "id": "JPqiyWPj46hb"
      },
      "source": [
        "### <font color='green'>**> ENTREGA**</font>\n",
        "\n",
        "Exercici 1\n",
        "====\n",
        "\n",
        "Mesurem el gruix de 35 lloses i calculem $\\bar{x} = 3.38$. Si sabem que $\\sigma = 0.75$, construeix l'interval de confiança que conté la mitjana real $\\mu$ amb 99.9% de confiança.\n"
      ]
    },
    {
      "cell_type": "markdown",
      "metadata": {
        "id": "O1PQHuQq46he"
      },
      "source": [
        "Sabem que $p(\\bar{x} - \\mu) \\sim {\\cal N}(0, \\sigma / \\sqrt{N})$. Volem trobar\n",
        "\n",
        "$$ P(-A < \\bar{x} - \\mu < +A) = 0.999$$ **[4 punts]**"
      ]
    },
    {
      "cell_type": "markdown",
      "metadata": {
        "id": "ysd_PvzjH9EW"
      },
      "source": [
        "Resposta\n",
        "--"
      ]
    },
    {
      "cell_type": "code",
      "metadata": {
        "id": "reLRtZUaH-5O"
      },
      "source": [
        " # Codi"
      ],
      "execution_count": null,
      "outputs": []
    },
    {
      "cell_type": "markdown",
      "metadata": {
        "id": "kOdmMdQR46h9"
      },
      "source": [
        "Exercici 2\n",
        "====\n",
        "\n",
        "Mesurem el gruix de 25 lloses de metall i trobem $\\bar{x} = 3.42$ i $\\sigma_x = 0.85$. Construeix l'interval de confiança per $\\mu$ amb un nivell de confiança del 90%. **[3 punts]**\n"
      ]
    },
    {
      "cell_type": "markdown",
      "metadata": {
        "id": "hNAMW2otK1mm"
      },
      "source": [
        "Resposta\n",
        "--"
      ]
    },
    {
      "cell_type": "code",
      "metadata": {
        "id": "UCYFMhOSLKrM"
      },
      "source": [
        " # Codi"
      ],
      "execution_count": null,
      "outputs": []
    },
    {
      "cell_type": "markdown",
      "metadata": {
        "id": "M81ubXNAOT8i"
      },
      "source": [
        "Exercici 3\n",
        "===\n",
        "\n",
        "Prenem una mostra de mida $N = 100$ i trobem $\\bar{x} = 50$ i $\\sigma_x = 10$. Calcula l'interval superior de confiança per $\\mu$ amb un nivell del 95%. **[3 punts]**"
      ]
    },
    {
      "cell_type": "markdown",
      "metadata": {
        "id": "AC9pExyzPRCW"
      },
      "source": [
        "Resposta\n",
        "--"
      ]
    },
    {
      "cell_type": "markdown",
      "metadata": {
        "id": "momneyb-P3j4"
      },
      "source": [
        "Volem $$P(-y < \\bar{x} - \\mu < \\infty) = 0.95$$\n",
        "\n",
        "Sabem que la probabilitat segueix $\\cal{N}(0,\\sigma_x/\\sqrt{N})$"
      ]
    },
    {
      "cell_type": "code",
      "metadata": {
        "id": "yAPxbDqPMz37"
      },
      "source": [
        " # Codi"
      ],
      "execution_count": null,
      "outputs": []
    },
    {
      "cell_type": "markdown",
      "metadata": {
        "id": "YEyvrbssmnru"
      },
      "source": [
        "<hr> \n",
        "\n",
        "**Recuerda**\n",
        "\n",
        "*   Rellena tu nombre, NIU i mail (gmail, si quieres recibir los comentarios/feedback acerca de tu entrega) en la cabecera de este Notebook.\n",
        "*   Renombra el Notebook como \"Pr6_NIU.ipynb\", donde NIU es tu NIU (*por ejemplo: Pr6_2055007.ipynb*) \n",
        "*   Al final de la clase donde se realize una entrega, descarga este cuaderno en formato .ipynb y lo tienes que subir al siguiente *drop folder*: [Link](http://cern.ch/go/w8vV). Asegurate de que el fichero tiene el nombre correcto.\n",
        "*   Solo se evaluará la parte de la entrega. Tendréis acceso a la solución de todas las partes y después de haber entregado la práctica.\n",
        "\n",
        "<hr>"
      ]
    }
  ]
}