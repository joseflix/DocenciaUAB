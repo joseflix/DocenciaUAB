{
  "nbformat": 4,
  "nbformat_minor": 0,
  "metadata": {
    "colab": {
      "name": "Práctica7_Likelihood.ipynb",
      "provenance": [],
      "collapsed_sections": [],
      "authorship_tag": "ABX9TyPy310OIPSADuhi56vSDaJO",
      "include_colab_link": true
    },
    "kernelspec": {
      "name": "python3",
      "display_name": "Python 3"
    }
  },
  "cells": [
    {
      "cell_type": "markdown",
      "metadata": {
        "id": "view-in-github",
        "colab_type": "text"
      },
      "source": [
        "<a href=\"https://colab.research.google.com/github/joseflix/DocenciaUAB/blob/master/MN1/2021_2022/Pr%C3%A0ctiques/Pr%C3%A0ctica7_Likelihood.ipynb\" target=\"_parent\"><img src=\"https://colab.research.google.com/assets/colab-badge.svg\" alt=\"Open In Colab\"/></a>"
      ]
    },
    {
      "cell_type": "markdown",
      "metadata": {
        "id": "grcGLvYfKKo6"
      },
      "source": [
        "# **Práctica 7: Método de máxima verosimilitud (likelihood) at work**\n",
        "\n",
        "<hr>\n",
        "\n",
        "**Objectivo de la práctica** \n",
        "\n",
        "Ver como aplicar el método de máxima verosimilitud (MLE) para estimar parámetros de una distribución, dada una muestra de valores independientes que siguen la distribución.\n",
        "\n",
        "En esta práctica vamos a aplicar el método de máxima verosimilitud para encontrar el parámetro $\\lambda$ de una distribución de Poisson. \n",
        "\n",
        "Es una práctica a modo de ejemplo, porque en este caso el valor esperado de una muestra (media aritmética) que sigue una Poisson es $\\lambda$. Pero el método de MLE es muy potente y aplicable a cualquier distribución de probabilidad, también válido para N-dimensiones.\n",
        "\n",
        "<hr>"
      ]
    },
    {
      "cell_type": "markdown",
      "metadata": {
        "id": "AZ437bkZy2iV"
      },
      "source": [
        "### <font color='green'>**> Ejercicio #1**</font>\n",
        "\n",
        "<hr>\n",
        "\n",
        "<font color='green'>Esta práctica de 1h no tiene entrega, pero se tienen que realizar los ejercicios de programación durante la clase...</font>\n",
        "\n",
        "<hr>\n",
        "\n",
        "Vamos primero a generar 10000 números a partir de una Poisson con $\\lambda=5.6$. Esta será la muestra que usaremos para evaluar $\\lambda_{mle}$, que si todo va bien, deberíamos obtener un valor cercano a 5.6... \n",
        "\n",
        "Podemos usar la función de *Scipy.stats* que es *poisson.rvs(l, size=N)*, que genera *N* valores que siguen una poisson conn $\\lambda = l$. \n",
        "\n",
        "Guarda los valores en una lista de *Python* y haz un histograma normalizado de los valores, y haz una gráfica de la pdf de una Poisson con esta $\\lambda$:"
      ]
    },
    {
      "cell_type": "code",
      "metadata": {
        "id": "mgIl3ajBJ2-I"
      },
      "source": [
        "import numpy as np\n",
        "import scipy.stats as ss\n",
        "import matplotlib.pyplot as plt\n",
        "\n",
        "# Nota: no uses lambda = 5.6, porque lambda es una función de python. Usa l = 5.6, por ejemplo.\n",
        "\n",
        "# Genera 10000 numeros aleatorios\n",
        "\n",
        "# Genera unos pares de puntos (x,y) para dibujar la distribución de probabilidad\n",
        "\n",
        "# Muestra el histograma y la distribución de probabilidad en la misma gráfica"
      ],
      "execution_count": null,
      "outputs": []
    },
    {
      "cell_type": "markdown",
      "metadata": {
        "id": "hVBLyTkSL4ON"
      },
      "source": [
        "### <font color='orange'>**> Python #1**</font>\n",
        "\n",
        "Sabemos que la media aritmética es un estimador de la media independientemente de la distribución que sigan las variables aleatorias. También sabemos que $\\lambda$ coincide con la media de la distribución de Poisson (E[k], o sea, la media de nuestra muestra). También sabemos que V[k] = $\\sigma^2$ = $\\lambda$.\n",
        "\n",
        "Calcula la media aritmética y la variancia de la muestra, y comprueba que son similares al $\\lambda$=5.6 que has usado para generar la muestra:\n"
      ]
    },
    {
      "cell_type": "code",
      "metadata": {
        "id": "0axKKprRMaQD"
      },
      "source": [
        "# Imprime la media y variancia de la muestra\n"
      ],
      "execution_count": null,
      "outputs": []
    },
    {
      "cell_type": "markdown",
      "metadata": {
        "id": "6K7cDWPSMhtn"
      },
      "source": [
        "### <font color='orange'>**> Python #2**</font>\n",
        "\n",
        "Podemos usar la función de likelihood para encontrar el valor de $\\lambda_{mle}$. Será aquel valor que maximiza la función de Likelihood. \n",
        "\n",
        "Vamos a implementar la función que calcula $l = ln(L)$ (log-likelihood), para un rango de valores de $\\lambda$. Haremos una gráfica de los valores de $l$ en un rango de $\\lambda$ entre [1,15] y evaluaremos cual es el $\\lambda_{óptimo}$ (aquel que maximiza la función $l$). Generaremos 1000 puntos de $\\lambda$s en el rango. \n",
        "\n",
        "Recuerda, que para cada $\\lambda_i$ en el rango se calcula $l_i$ como:\n",
        "\n",
        "$$\n",
        "l_i = ln(L_i) = \\sum_{n=1}^{N} ln f(x_n, \\lambda_i)\n",
        "$$\n",
        "\n",
        "Usa los 10000 valores que has generado en el ejercicio #1 como tu muestra (los que has usado para hacer el histograma)."
      ]
    },
    {
      "cell_type": "code",
      "metadata": {
        "id": "TBxVm5XlNNRK"
      },
      "source": [
        "# Haz un bucle para calcula el l_i para cada una de las iteraciones:\n",
        "\n",
        "# Haz la gráfica de l_i en función de lambda_i\n",
        "\n",
        "# Imprime en pantalla el valor de lambda_i que maximiza la función y dibuja una línea en la gráfica\n"
      ],
      "execution_count": null,
      "outputs": []
    },
    {
      "cell_type": "markdown",
      "metadata": {
        "id": "154pdoReRI-7"
      },
      "source": [
        "### <font color='orange'>**> Python #3**</font>\n",
        "\n",
        "Vamos a ver que tanto la media aritmética como el valor que encontramos con el método de likelihood son estimadores buenos para cualquier muestra de tamaño *n*. De hecho, se puede ver analíticamente, como podéis consultar [en este enlace](https://cran.r-project.org/web/packages/opart/vignettes/opart_poisson.html)\n",
        "\n",
        "Repite el ejercicio anterior, calculando $\\lambda_{mle}$ para una muestra que generes de n puntos (n=100, 200, 300...,5000), y compara $\\lambda_{mle}$ con la media aritmética. \n",
        "\n",
        "Haz una gráfica de $\\lambda_{mle}$ y $\\bar{x}$ en función de $n$. Dibuja una línea horizontal a $\\lambda$ = 5.6."
      ]
    },
    {
      "cell_type": "code",
      "metadata": {
        "id": "2niMqkJTPHP5"
      },
      "source": [
        "# Este programa involucra un doble bucle, 1 para el rango de N y otro dentro para buscar el lambda óptimo\n",
        "\n",
        "# Haz los bucles\n",
        "\n",
        "# Muestra la gráfica del valor medio y lambda_mle para cada N\n"
      ],
      "execution_count": null,
      "outputs": []
    },
    {
      "cell_type": "markdown",
      "metadata": {
        "id": "lnu2zULhAH2K"
      },
      "source": [
        "### <font color='red'>**> Python #4 (EXTRA)**</font>\n",
        "\n",
        "Notamos que para evaluar el $\\lambda_{mle}$ hemos tomado un rango con 1000 $\\lambda$s entre 1 y 15. Cuando encontramos el máximo de la lista, fijaros que la precisión es (15-1)/1000 = 0.014. Podemos buscar el máximo de forma más precisa, o bien ajustando la curva, o aumentando el número de $\\lambda$s.\n",
        "\n",
        "En el ejercicio anterior, la diferencia absoluta entre $\\mu$ y $\\lambda_{mle}$ serà menor que 0.014, de hecho 0.014/2. Veámoslo:"
      ]
    },
    {
      "cell_type": "code",
      "metadata": {
        "id": "hG5Kiw_uA4qc"
      },
      "source": [
        "# Código"
      ],
      "execution_count": null,
      "outputs": []
    }
  ]
}