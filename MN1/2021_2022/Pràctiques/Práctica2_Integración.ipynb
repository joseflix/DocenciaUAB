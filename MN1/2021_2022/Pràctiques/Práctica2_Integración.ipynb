{
  "nbformat": 4,
  "nbformat_minor": 0,
  "metadata": {
    "colab": {
      "name": "Práctica2_Integración.ipynb",
      "provenance": [],
      "collapsed_sections": [
        "_lGKmtBD9RLL"
      ],
      "include_colab_link": true
    },
    "kernelspec": {
      "display_name": "Python 3",
      "language": "python",
      "name": "python3"
    }
  },
  "cells": [
    {
      "cell_type": "markdown",
      "metadata": {
        "id": "view-in-github",
        "colab_type": "text"
      },
      "source": [
        "<a href=\"https://colab.research.google.com/github/joseflix/DocenciaUAB/blob/master/MN1/2021_2022/Pr%C3%A0ctiques/Pra%CC%81ctica2_Integracio%CC%81n.ipynb\" target=\"_parent\"><img src=\"https://colab.research.google.com/assets/colab-badge.svg\" alt=\"Open In Colab\"/></a>"
      ]
    },
    {
      "cell_type": "markdown",
      "metadata": {
        "id": "l_4uY5bYh01i"
      },
      "source": [
        "# **Práctica 2: Integración numérica**\n",
        "\n",
        "<hr>\n",
        "\n",
        "**Nombre:**\n",
        "\n",
        "**NIU:**\n",
        "\n",
        "**mail (gmail):**\n",
        "\n",
        "<hr>\n",
        "\n",
        "**Instrucciones**\n",
        "\n",
        "*   Rellena tu nombre, NIU i mail (gmail, si quieres recibir los comentarios/feedback acerca de tu entrega) en la cabecera de este Notebook.\n",
        "*   Renombra el Notebook como \"Pr2_NIU.ipynb\", donde NIU es tu NIU (*por ejemplo: Pr2_2055007.ipynb*) \n",
        "*   Al final de la clase donde se realize una entrega, descarga este cuaderno en formato .ipynb y lo tienes que subir al siguiente *drop folder*: [Link](http://cern.ch/go/w8vV). Asegurate de que el fichero tiene el nombre correcto.\n",
        "*   Solo se evaluará la parte de la entrega. Tendréis acceso a la solución de todas las partes y después de haber entregado la práctica.\n",
        "\n",
        "<hr>"
      ]
    },
    {
      "cell_type": "markdown",
      "metadata": {
        "id": "Ool4Qy4BieG5"
      },
      "source": [
        "**Objectivo de la práctica** \n",
        "\n",
        "Evaluar integrales usando el método de integración *Riemann* e integración *MonteCarlo* (con el método de aceptación/rechazo).\n",
        "\n",
        "En esta práctica calcularemos la integral de un semi-círculo de radio = 1, usando estos métodos, y como entegra calcularemos la integral de $sin(x)$ ente 0 y $\\pi$ usando el método de integración por MonteCarlo. \n",
        "\n",
        "**Función a integrar**\n",
        "\n",
        "La primera función $f(x)$ a integrar corresponde a aquellos puntos entre [-1,1] en x que cumplen la condición $y^2 + x^2 = 1$. Así que la función a integrar es:\n",
        "\n",
        "$$\n",
        "f(x) = \\sqrt{1-x^2}\n",
        "$$\n",
        "\n",
        "y la integral la podemos calcular de forma analítica:\n",
        "\n",
        "$$\n",
        "I = \\int_{-1}^{1}f(x)dx = \\int_{-1}^{1}\\sqrt{1-x^2}dx = \\frac{\\pi}{2}\n",
        "$$\n",
        "\n",
        "<hr>"
      ]
    },
    {
      "cell_type": "markdown",
      "metadata": {
        "id": "xAMYB3hJykhE"
      },
      "source": [
        "### <font color='orange'>**> Python #1**</font>\n",
        "\n",
        "Vamos a escribir una parte de código que defina f(x), y dibujemos la función en el rango [-1,1], evaluando la función en 1000 puntos distribuidos de forma uniforme en dicho rango. \n"
      ]
    },
    {
      "cell_type": "code",
      "metadata": {
        "id": "f9GO9inlx1-u"
      },
      "source": [
        "# Escribir código"
      ],
      "execution_count": null,
      "outputs": []
    },
    {
      "cell_type": "markdown",
      "metadata": {
        "id": "yHVX0rOsieHM"
      },
      "source": [
        "## **Fundamentos de la cuadratura**\n",
        "\n",
        "Queremos obtener la integral $I$ de una función $f(x)$ a partir de una aproximación $I_N$ tal que \n",
        "\n",
        "$$\n",
        "    I = \\int^b_a f(x) dx \\approx I_N = \\sum^{N}_{i=1} w_i f(x_i)\n",
        "$$\n",
        "\n",
        "donde los $x_i$ son los *puntos de cuadratura* o *nodos* y los \"$w_i$\" son los *pesos*. Normalmente una determinada regla de cuadratura especifica los puntos $x_i$ y el conjunto de pesos $w_i$.\n",
        "\n",
        "La convergencia requiere:\n",
        "\n",
        "$$\n",
        "    \\lim_{N \\rightarrow \\infty} I_N = I.\n",
        "$$"
      ]
    },
    {
      "cell_type": "markdown",
      "metadata": {
        "id": "8HQ-C3AUieHQ"
      },
      "source": [
        "## **Sumas de Riemann**\n",
        "\n",
        "Cogemos una función $f(x)$ y una partición del intervalo $[a,b]$ en $\\{x_i\\}^N_{i=0}$, donde $a = x_0 < x_1 < \\ldots < x_N = b$. Consideramos los puntos $x^*_i$ como $x^*_i \\in [x_i, x_{i+1}]$. \n",
        "\n",
        "Definimos los sumatorios de *Riemann* como:\n",
        "\n",
        "$$\\int^b_a f(x) dx = \\lim_{N\\rightarrow \\infty} \\sum^{N-1}_{i=0} f(x_i^*) (x_{i+1} - x_i)$$\n",
        "\n",
        "Esta es una definición general del método, que tiene diferentes técnicas de cuadratura basadas en como escogemos $x_i^* \\in [x_i, x_{i+1}]$. Algunas técnicas que existen son:\n",
        "\n",
        "*   Regla del punto medio\n",
        "*   Método Newton-Cotes\n",
        "*   Regla de Simpson\n",
        "\n",
        "Hay un notebook extenso, disponible **[aquí]()** con ejemplos usando todos estos métodos. \n",
        "\n",
        "### **Regla del punto medio**\n",
        "\n",
        "Escogemos $x_i^*$ tal que:\n",
        "\n",
        "$$x_i^* = \\frac{x_{i+1} + x_i}{2}$$\n",
        "\n",
        "de manera que\n",
        "\n",
        "$$I = \\int^b_a f(x) dx \\approx \\sum^{N-1}_{i=0} f\\left(\\frac{x_{i+1} + x_i}{2} \\right ) (x_{i+1} - x_i) = I_N$$\n",
        "\n",
        "sobre cada intervalo $\\Delta x_i = x_{i+1} - x_i$ "
      ]
    },
    {
      "cell_type": "markdown",
      "metadata": {
        "id": "BR7q8fZd4k3I"
      },
      "source": [
        "### <font color='orange'>**> Python #2**</font>\n",
        "\n",
        "Vamos a escribir una parte de código que integre la función del semi-círculo $f(x)$ que hemos definido antes, en el rango [-1,1], usando el método de Riemann, con la regla del punto medio. Usa 10 intervalos en el rango para evaluar la integral $I_{10}$. \n",
        "\n",
        "Sabemos que la integral $I$ de nuestro semi-círculo de radio 1 es $\\pi/2$. Compara el resultado obtenido con el valor analítico."
      ]
    },
    {
      "cell_type": "code",
      "metadata": {
        "id": "WNMyflOi6eIN"
      },
      "source": [
        "# Escribir código"
      ],
      "execution_count": null,
      "outputs": []
    },
    {
      "cell_type": "markdown",
      "metadata": {
        "id": "fJ-rTmHKgOcB"
      },
      "source": [
        "**Evidentemente**, si aumentamos el número de particiones o intervalos, evaluamos la integral con mejor precisión si comparamos con la integral analítica. Al final de la práctica hay un material adicional que lo muestra (Material adicional #1)."
      ]
    },
    {
      "cell_type": "markdown",
      "metadata": {
        "id": "0xFlnIq3873F"
      },
      "source": [
        "## **Integración MonteCarlo**\n",
        "\n",
        "Usaremos el método Monte Carlo para calcular la integral de $f(x)$: si lanzamos aleatoriamente puntos (x, y) en la gráfica de la función que queremos integrar, el número de puntos que caen bajo la curva $𝑁_𝑉$ es proporcional al área $𝐼$. Por lo tanto, si generamos $𝑁_𝑇$ puntos sobre un área $𝐴_𝑇$ que contiene $𝐼$, obtenemos la siguiente relación:\n",
        "\n",
        "$$\n",
        "I = A_T \\frac{N_V}{N_T}\n",
        "$$\n",
        "\n"
      ]
    },
    {
      "cell_type": "markdown",
      "metadata": {
        "id": "15RMyjC1UOBC"
      },
      "source": [
        "### <font color='orange'>**> Python #3**</font>\n",
        "\n",
        "Vamos a calcular la integral de nuestro semi-círculo de radio 1 usando este método de aceptación/rechazo, usando 1000 puntos aleatorios lanzados en el área $A_T$. Evalua la integral y haz una gráfica de $f(x)$ y dibuja en verde aquellas parejas de puntos aleatorios $(x,y)$ que quedan por debajo de $f(x)$, y en rojo los que quedan por encima. \n",
        "\n",
        "*Notas:*\n",
        "\n",
        "Para generar N números aleatorios distribuidos de forma uniforme entre $a$ y $b$ se tiene que usar esta función de Numpy:\n",
        "\n",
        "```\n",
        "numpy.random.uniform(a,b,N)\n",
        "```\n",
        "\n",
        "Para encontrar el área $A_T$, y por tanto los límites de esa área, necesitamos saber cuál es el rango de valores que toma la función $f(x)$. Así pues tenemos que encontrar el máximo y mínimo de la función. Se pueden usar estas funciones de Numpy:\n",
        "\n",
        "```\n",
        "numpy.amin(f(x))\n",
        "numpy.amax(f(x))\n",
        "```\n",
        "Pero en nuestro caso sabemos que $y_{min}$ = 0 y $y_{max}$ = 1.\n",
        "\n",
        "Una vez tienes el rectángulo de área $A_T$ definido en nuestro caso por $(-1,1),(y_{min},y_{max})$, generamos N puntos $(x,y)$ distribuidos de forma uniforme en ese intervalo. \n",
        "\n",
        "Una vez generados esos puntos, contamos cuantas parejas de puntos caen por debajo de la curva $f(x)$ y evaluamos la integral mediante la expresión anterior.\n",
        "\n",
        "Si aumentamos el número de pares aleatorios $(x,y)$, evaluamos la integral con mejor precisión si comparamos con la integral analítica. Este método de hecho se puede usar para determinar el valor $\\pi$ de forma numérica. "
      ]
    },
    {
      "cell_type": "code",
      "metadata": {
        "id": "3_Tu7HstV03b"
      },
      "source": [
        "# Escribir código"
      ],
      "execution_count": null,
      "outputs": []
    },
    {
      "cell_type": "markdown",
      "metadata": {
        "id": "mCGeNS-2XXr2"
      },
      "source": [
        "### <font color='green'>**> ENTREGA**</font>\n",
        "\n",
        "Calcula la integral de $f(x) = sin(x)$ a partir del método de simulación MonteCarlo:\n",
        "\n",
        "$$\n",
        "  \\int^{\\pi}_0 f(x)dx = \\int^{\\pi}_0 sin(x)dx\n",
        "$$\n",
        "\n",
        "La integral analítica es:\n",
        "\n",
        "$$\n",
        "    \\int^\\pi_0 sin(x)dx = \\left . -\\cos x \\right|^\\pi_0 = 2\n",
        "$$\n",
        "\n",
        "Usaremos el método Monte Carlo para calcular la integral: si lanzamos aleatoriamente puntos (x, y) en la gráfica de la función que queremos integrar, el número de puntos que caen bajo la curva $𝑁_𝑉$ es proporcional al área $𝐼$. Por lo tanto, si generamos $𝑁_𝑇$ puntos sobre un área $𝐴_𝑇$ que contiene $𝐼$, obtenemos la siguiente relación:\n",
        "\n",
        "$$\n",
        "I = A_T \\frac{N_V}{N_T}\n",
        "$$\n",
        "\n",
        "Vamos primero a dibujar la función que queremos integrar y el área donde generaremos los puntos aleatorios: **[3 punts]**"
      ]
    },
    {
      "cell_type": "code",
      "metadata": {
        "id": "cTxDbfvlX-fD"
      },
      "source": [
        "# Parte 1"
      ],
      "execution_count": null,
      "outputs": []
    },
    {
      "cell_type": "markdown",
      "metadata": {
        "id": "f-GE7GDRc13O"
      },
      "source": [
        "Genera 100 puntos aleatorios en el área $A_T$ para calcular la integral de $f(x)$, y compara el número con el valor de la integral analítica: **[4 punts]**"
      ]
    },
    {
      "cell_type": "code",
      "metadata": {
        "id": "x5d0nTWUc0u0"
      },
      "source": [
        "# Parte 2"
      ],
      "execution_count": null,
      "outputs": []
    },
    {
      "cell_type": "markdown",
      "metadata": {
        "id": "MXm-r6NhjPDc"
      },
      "source": [
        "Vemos que si generamos pocos números, la precisión de la integral es bastante mala. Si aumentamos el número N, la integral converge al valor de la integral analítica.\n",
        "\n",
        "Aumentemos N de 100 a 10000 (en pasos de 100 en 100) y hagamos una gráfica de la precisión $P$ en % en función de N, donde $P$ es (usa la función de Numpy *abs* que calcula el valor absoluto de un número *np.abs(P)*): **[3 punts]**\n",
        "\n",
        "$$\n",
        "P(\\%) = 100 \\cdot |\\frac{I_N-I_{analítica}}{I_{analítica}}|\n",
        "$$\n"
      ]
    },
    {
      "cell_type": "code",
      "metadata": {
        "id": "c715X5GQjnoO"
      },
      "source": [
        "# Parte 3\n"
      ],
      "execution_count": null,
      "outputs": []
    },
    {
      "cell_type": "markdown",
      "metadata": {
        "id": "_lGKmtBD9RLL"
      },
      "source": [
        "### <font color='red'>**> Material adicional #1**</font>\n",
        "\n",
        "Veamos que si aumentamos el número de particiones o intervalos, en el método de Riemann, evaluamos la integral del semicírculo con mejor precisión si comparamos con la integral analítica. \n",
        "\n",
        "Vamos a escribir un código donde definamos una función que evalúe la integral del semi-círculo para N intervalos. Haremos una gráfica de como mejora la precisión de la integral, comparando con el valor analítico, cuando aumentamos el valor N. \n",
        "\n",
        "Aumentemos N de 10 a 1000 y hagamos una gráfica de la precisión $P$ en % en función de N, donde $P$ es:\n",
        "\n",
        "$$\n",
        "P(\\%) = 100 \\cdot |\\frac{I_N-I_{analítica}}{I_{analítica}}|\n",
        "$$"
      ]
    },
    {
      "cell_type": "code",
      "metadata": {
        "id": "fwyUjttv-6OU"
      },
      "source": [
        "# Codi"
      ],
      "execution_count": null,
      "outputs": []
    },
    {
      "cell_type": "markdown",
      "source": [
        "<hr> \n",
        "\n",
        "**Recuerda**\n",
        "\n",
        "*   Rellena tu nombre, NIU i mail (gmail, si quieres recibir los comentarios/feedback acerca de tu entrega) en la cabecera de este Notebook.\n",
        "*   Renombra el Notebook como \"Pr2_NIU.ipynb\", donde NIU es tu NIU (*por ejemplo: Pr2_2055007.ipynb*) \n",
        "*   Al final de la clase donde se realize una entrega, descarga este cuaderno en formato .ipynb y lo tienes que subir al siguiente *drop folder*: [Link](http://cern.ch/go/w8vV). Asegurate de que el fichero tiene el nombre correcto.\n",
        "*   Solo se evaluará la parte de la entrega. Tendréis acceso a la solución de todas las partes y después de haber entregado la práctica.\n",
        "\n",
        "<hr>"
      ],
      "metadata": {
        "id": "4TveTPwYIhYy"
      }
    }
  ]
}