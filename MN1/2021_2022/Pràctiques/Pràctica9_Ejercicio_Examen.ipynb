{
  "nbformat": 4,
  "nbformat_minor": 0,
  "metadata": {
    "colab": {
      "name": "Práctica9_Ejercicio_Examen.ipynb",
      "provenance": [],
      "collapsed_sections": [],
      "include_colab_link": true
    },
    "kernelspec": {
      "name": "python3",
      "display_name": "Python 3"
    }
  },
  "cells": [
    {
      "cell_type": "markdown",
      "metadata": {
        "id": "view-in-github",
        "colab_type": "text"
      },
      "source": [
        "<a href=\"https://colab.research.google.com/github/joseflix/DocenciaUAB/blob/master/MN1/2021_2022/Pr%C3%A0ctiques/Pr%C3%A0ctica9_Ejercicio_Examen.ipynb\" target=\"_parent\"><img src=\"https://colab.research.google.com/assets/colab-badge.svg\" alt=\"Open In Colab\"/></a>"
      ]
    },
    {
      "cell_type": "markdown",
      "metadata": {
        "id": "9lyv_uztL_hM"
      },
      "source": [
        "# **Práctica 9: Ejercicio Examen anterior**\n",
        "\n",
        "<hr>\n",
        "\n",
        "**Nombre:**\n",
        "\n",
        "**NIU:**\n",
        "\n",
        "**mail (gmail):**\n",
        "\n",
        "<hr>\n",
        "\n",
        "**Instrucciones**\n",
        "\n",
        "*   Rellena tu nombre, NIU i mail (gmail, si quieres recibir los comentarios/feedback acerca de tu entrega) en la cabecera de este Notebook.\n",
        "*   Renombra el Notebook como \"Pr9_NIU.ipynb\", donde NIU es tu NIU (*por ejemplo: Pr9_2055007.ipynb*) \n",
        "*   Al final de la clase donde se realize una entrega, descarga este cuaderno en formato .ipynb y lo tienes que subir al siguiente *drop folder*: [Link](http://cern.ch/go/w8vV). Asegurate de que el fichero tiene el nombre correcto.\n",
        "*   Solo se evaluará la parte de la entrega. Tendréis acceso a la solución de todas las partes y después de haber entregado la práctica.\n",
        "\n",
        "<hr>"
      ]
    },
    {
      "cell_type": "markdown",
      "source": [
        "El movimiento browniano es el movimiento aleatorio que se observa en las partículas que se hallan en un medio fluido (líquido o gas), como resultado de choques contra las moléculas de dicho fluido.\n",
        "\n",
        "El movimiento browniano se encuentra entre los procesos estocásticos más simples. Vamos a considerar la siguiente ecuación principal que genera los puntos que siguen un movimiento browniano:\n",
        "\n",
        "$\\omega \\left(\\frac{i}{n}\\right)=\\omega\\left(\\frac{i-1}{n}\\right) + \\frac{Y_i}{\\sqrt(n)}$\n",
        "\n",
        "donde $\\omega$ es la posición de la partícula (x, y o z) en el paso $i$ de los $n$ que se haya desplazado desde el inicio. $Y_i$ es un proceso estocástico cualquiera, y en este caso vamos a considerar que sigue una distribución gaussiana estándar ($\\mu=0$,$\\sigma=1$)."
      ],
      "metadata": {
        "id": "-P8_7KXvOEHi"
      }
    },
    {
      "cell_type": "markdown",
      "metadata": {
        "id": "1yBZAoZ2K-8K"
      },
      "source": [
        "### <font color='green'>**> Entrega #1**</font>\n",
        "Define una funcion de este movimiento browniano, que devuelva una lista con N puntos de un movimiento 1-D. Dibuja en una gráfica 4 sets de movimiento browniano de 1000 pasos usando esta función: es decir las posiciones vs. número de pasos dados para 4 movimientos diferentes. **[3 punts]**"
      ]
    },
    {
      "cell_type": "code",
      "metadata": {
        "id": "aS98RZVBm4ad"
      },
      "source": [
        "# Escribe el código"
      ],
      "execution_count": null,
      "outputs": []
    },
    {
      "cell_type": "markdown",
      "metadata": {
        "id": "MGHsb26aOd1n"
      },
      "source": [
        "### <font color='green'>**> Entrega #2**</font>\n",
        "\n",
        "Genera un movimiento browniano en 2-D utilizando la función de movimiento previamente definida en el apartado anterior. Genera 1000 pares de puntos en 2-D para $x$ e $y$. \n",
        "\n",
        "Representa gráficamente el movimiento, comprobando que siga un recorrido aleatorio. Además dibuja un círculo de radio 1. Este movimiento sale del círculo? Si repites la experiencia eres capaz de tener un movimiento totalmente contenido en el círculo? **[4 punts]**\n"
      ]
    },
    {
      "cell_type": "code",
      "metadata": {
        "id": "MmCfawIFOfiO"
      },
      "source": [
        "# Escribe el código"
      ],
      "execution_count": null,
      "outputs": []
    },
    {
      "cell_type": "markdown",
      "metadata": {
        "id": "DvrCENe0Y-Y_"
      },
      "source": [
        "### <font color='green'>**> Entrega #3**</font>\n",
        "\n",
        "Calcula cuál es la probabilidad de tener un movimiento browniano de 1000 pasos totalmente auto-contenido en un círculo de radio 1, con una precisión del 10%.\n",
        "\n",
        "Vamos a simular muchos casos para estimar esta probabilidad $\\hat{p}$ y el error relativo (es decir, $\\sigma[\\hat{p}]/\\hat{p}$, en porcentaje) con el número de experiencias hasta que este error sea menor del $10\\%$ (recuerda que en la simulación tienes infinitas realizaciones a tu disposición...). **NOTA:** Que un movimiento salga o no del círculo sigue una distribución binomial, donde los estimadores de $\\hat{p}$ y varianza de $\\hat{p}$ son:\n",
        "\n",
        "$$\n",
        "\\hat{p} = \\frac{N_{autocontenido}}{N_{total}}\n",
        "\\\\\n",
        "$$\n",
        "\n",
        "$$\n",
        "var[\\hat{p}] = \\frac{\\hat{p}(1-\\hat{p})}{N_{total}} ; \\,\\,\\,\\ \\sigma[\\hat{p}] = \\sqrt{var[\\hat{p}]}\n",
        "\\\\\n",
        "$$\n",
        "\n",
        "\n",
        "Para las simulaciones que necesites para alcanzar esta precisión, realiza tres gráficas:\n",
        "\n",
        "1.   Un histograma de distancias máximas al centro, desde donde parte la partícula, para cada una de las simulaciones.\n",
        "2.   La evolución de la probabilidad (P en %) con el número de simulaciones.\n",
        "3.   La evolución del error relativo (es decir, $\\sigma[\\hat{p}]/\\hat{p}$, en porcentaje) con el número de simulaciones.\n",
        "\n",
        "Muestra por pantalla cuántas simulaciones necesitas para poder hacer esta estimación de $\\hat{p}$ con un error menor del $10\\%$, y cuál es la probabilidad $\\hat{p}$ que obtienes al final, y su error $\\sigma[\\hat{p}]$. **[3 punts]**\n"
      ]
    },
    {
      "cell_type": "code",
      "metadata": {
        "id": "i7hu98miY93F"
      },
      "source": [
        "# Escribe el código"
      ],
      "execution_count": null,
      "outputs": []
    },
    {
      "cell_type": "markdown",
      "metadata": {
        "id": "eNg6HWxSjm7e"
      },
      "source": [
        "<hr> \n",
        "\n",
        "**Recuerda**\n",
        "\n",
        "*   Rellena tu nombre, NIU i mail (gmail, si quieres recibir los comentarios/feedback acerca de tu entrega) en la cabecera de este Notebook.\n",
        "*   Renombra el Notebook como \"Pr9_NIU.ipynb\", donde NIU es tu NIU (*por ejemplo: Pr9_2055007.ipynb*) \n",
        "*   Al final de la clase donde se realize una entrega, descarga este cuaderno en formato .ipynb y lo tienes que subir al siguiente *drop folder*: [Link](http://cern.ch/go/w8vV). Asegurate de que el fichero tiene el nombre correcto.\n",
        "*   Solo se evaluará la parte de la entrega. Tendréis acceso a la solución de todas las partes y después de haber entregado la práctica.\n",
        "\n",
        "<hr>"
      ]
    }
  ]
}