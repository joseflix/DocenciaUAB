{
  "nbformat": 4,
  "nbformat_minor": 0,
  "metadata": {
    "colab": {
      "name": "Práctica6_Intervalos_Confianza_Solucions.ipynb",
      "provenance": [],
      "collapsed_sections": [],
      "include_colab_link": true
    },
    "kernelspec": {
      "display_name": "Python 3",
      "language": "python",
      "name": "python3"
    }
  },
  "cells": [
    {
      "cell_type": "markdown",
      "metadata": {
        "id": "view-in-github",
        "colab_type": "text"
      },
      "source": [
        "<a href=\"https://colab.research.google.com/github/joseflix/DocenciaUAB/blob/master/MN1/2021_2022/Pr%C3%A0ctiques/Pr%C3%A0ctica6_Intervalos_Confianza_Solucions.ipynb\" target=\"_parent\"><img src=\"https://colab.research.google.com/assets/colab-badge.svg\" alt=\"Open In Colab\"/></a>"
      ]
    },
    {
      "cell_type": "markdown",
      "metadata": {
        "id": "l_4uY5bYh01i"
      },
      "source": [
        "# **Práctica 6: Intervalos de confianza** [Solucions]"
      ]
    },
    {
      "cell_type": "markdown",
      "metadata": {
        "id": "Ool4Qy4BieG5"
      },
      "source": [
        "**Objectivo de la práctica** \n",
        "==\n",
        "\n",
        "Representar y calcular intervalos de confianza con la distribución gausiana y con la t-Student.\n"
      ]
    },
    {
      "cell_type": "markdown",
      "metadata": {
        "id": "h-BkHE9K46gd"
      },
      "source": [
        "Calculo de intervalos de confianza\n",
        "==\n",
        "\n",
        "Las medias de una población están distribuidas como una distribución normal para $N$ elevado ($N > 25$). ¿Cómo obtenemos un intervalo de confianza donde se encuentre el valor real de la media?\n",
        "\n"
      ]
    },
    {
      "cell_type": "markdown",
      "metadata": {
        "id": "_fBJzezq46gf"
      },
      "source": [
        "$$P(a < \\mu < b) = 0.95$$\n",
        "\n",
        "Una simplificación inmediata que podemos hacer es que $\\mu$ estará centrada\n",
        "en torno a $\\bar{x}$ simétricamente.\n",
        "\n",
        "$$P( \\bar{x} - A < \\mu<  \\bar{x} + A) = 0.95$$\n",
        "\n",
        "donde $A$ es el número que queremos calcular. Podemos reescribir ésto como:\n",
        "\n",
        "$$P( \\frac{- A}{\\sigma_x / \\sqrt{N}} < \\frac{\\mu - \\bar{x}}{\\sigma_x / \\sqrt{N}}<  \\frac{A}{\\sigma_x / \\sqrt{N}}) = 0.95$$\n",
        "\n",
        "que sabemos que está distribuido como una normal. Notad que se trata de probabilidades que correspondent a la integral de la densidad de probabilidad.\n",
        "\n",
        "\n",
        "Dibujemos en la distribución normal el área de la curva que corresponde a un intervalo de confianza del 95% centrado en torno a la media.\n",
        "\n"
      ]
    },
    {
      "cell_type": "code",
      "metadata": {
        "id": "qP1tuo3646gh",
        "colab": {
          "base_uri": "https://localhost:8080/",
          "height": 294
        },
        "outputId": "bc5839f8-8ce5-40a1-ce0e-5b819dfa5f85"
      },
      "source": [
        "import scipy.stats as ss\n",
        "import numpy as np\n",
        "import matplotlib.pyplot as plt\n",
        "\n",
        "#make some points for plot\n",
        "N = 5\n",
        "x = np.linspace(-N,N, 1000)\n",
        "T = ss.norm.ppf(0.975)  #  percentil de la normal per una àrea de 0.975\n",
        "y = ss.norm.pdf(x)      #  pdf de la normal en el rang x que hem definit\n",
        "plt.plot(x,y)  \n",
        "plt.fill_between(x, y, where= np.abs(x) < T)\n",
        "plt.text(0,np.max(y) / 3, 'Area=0.95', fontdict={'size':14}, horizontalalignment='center')\n",
        "plt.axvline(T, linestyle='--', color='orange')\n",
        "plt.axvline(-T, linestyle='--', color='orange')\n",
        "plt.xticks([-T, T], ['-y', 'y'])\n",
        "plt.yticks([])\n",
        "plt.ylabel(r'$p(\\frac{\\mu - \\bar{x}}{\\sigma_x/\\sqrt{N}})$')\n",
        "plt.xlabel(r'$\\frac{\\mu - \\bar{x}}{\\sigma_x/\\sqrt{N}}$')\n",
        "plt.show()"
      ],
      "execution_count": null,
      "outputs": [
        {
          "output_type": "display_data",
          "data": {
            "image/png": "[encoded data removed]",
            "text/plain": [
              "<Figure size 432x288 with 1 Axes>"
            ]
          },
          "metadata": {
            "tags": [],
            "needs_background": "light"
          }
        }
      ]
    },
    {
      "cell_type": "markdown",
      "metadata": {
        "id": "hUuK7Tzd46gs"
      },
      "source": [
        "\n",
        "Calculemos ahora el intervalo de confianza en torno a la media para una gausiana de una cierta media y desviación estándar.\n",
        "Supongamos que después de tomar 30 muestras hemos encontrado que la media muestral es 45 y la desviación estándar es $\\sigma_x = 3$. ¿Cuál es el intervalo en torno a $\\mu$ para un nivel de confianza del 95%?"
      ]
    },
    {
      "cell_type": "markdown",
      "metadata": {
        "id": "2Ki3c1he46gu"
      },
      "source": [
        "Como hemos visto antes:\n",
        "\n",
        "$$P( \\frac{- A}{\\sigma_x / \\sqrt{N}} < \\frac{\\mu - \\bar{x}}{\\sigma_x / \\sqrt{N}}<  \\frac{A}{\\sigma_x / \\sqrt{N}}) = 0.95$$"
      ]
    },
    {
      "cell_type": "markdown",
      "metadata": {
        "id": "hEuMR43m46gv"
      },
      "source": [
        "Nuestro intervalo irá de $2.5$ a $97.5$ (95% de probabilidad), así pues, tenemos que encontrar el valor $T$ para \n",
        "$[-\\infty,2.5]$ i de $[97.5, \\infty]$. "
      ]
    },
    {
      "cell_type": "code",
      "metadata": {
        "id": "865Fkg-o46gw",
        "colab": {
          "base_uri": "https://localhost:8080/"
        },
        "outputId": "1d09e92b-f725-4e38-a789-d7e8b64cbcb2"
      },
      "source": [
        "import scipy.stats\n",
        "\n",
        "print(scipy.stats.norm.ppf(0.025))  # percentils de la normal\n",
        "print(scipy.stats.norm.ppf(0.975))"
      ],
      "execution_count": null,
      "outputs": [
        {
          "output_type": "stream",
          "text": [
            "-1.9599639845400545\n",
            "1.959963984540054\n"
          ],
          "name": "stdout"
        }
      ]
    },
    {
      "cell_type": "markdown",
      "metadata": {
        "id": "Oq_5LiGy46g1"
      },
      "source": [
        "$$|T| = \\frac{A}{\\sigma_x / \\sqrt{N}}$$"
      ]
    },
    {
      "cell_type": "markdown",
      "metadata": {
        "id": "7fqj2bta46g3"
      },
      "source": [
        "$$A = |T|\\frac{\\sigma_x}{\\sqrt{N}}$$"
      ]
    },
    {
      "cell_type": "code",
      "metadata": {
        "id": "EG0JtXOr46g4",
        "colab": {
          "base_uri": "https://localhost:8080/"
        },
        "outputId": "17f926e6-a79c-4d3c-9ea0-bfc31bbc56a1"
      },
      "source": [
        "print(abs(scipy.stats.norm.ppf(0.025)) * 3 / np.sqrt(30))"
      ],
      "execution_count": null,
      "outputs": [
        {
          "output_type": "stream",
          "text": [
            "1.0735164862302944\n"
          ],
          "name": "stdout"
        }
      ]
    },
    {
      "cell_type": "markdown",
      "metadata": {
        "id": "KZKo6ZvVNCk7"
      },
      "source": [
        "### <font color='orange'>**> Python #1**</font>\n",
        "\n",
        "\n",
        "Tomamos 50 medidas y sabemos que el grosor de una pieza metálica sigue una distribución normal media muestral es 3.4 y la desviación estándar es $\\sigma_x = 0.75$, construye el intervalo de confianza del 95% en torno a la media.\n"
      ]
    },
    {
      "cell_type": "code",
      "metadata": {
        "id": "G-2XQckERv7l",
        "colab": {
          "base_uri": "https://localhost:8080/"
        },
        "outputId": "2e862a30-d892-43a2-b46b-01091c94240b"
      },
      "source": [
        "import scipy.stats\n",
        "import numpy as np\n",
        "\n",
        "\n",
        "print(scipy.stats.norm.ppf(0.025))  # percentils de la normal\n",
        "print(scipy.stats.norm.ppf(0.975))\n",
        "\n",
        "print(abs(scipy.stats.norm.ppf(0.025)) * 0.75 / np.sqrt(50))"
      ],
      "execution_count": null,
      "outputs": [
        {
          "output_type": "stream",
          "text": [
            "-1.9599639845400545\n",
            "1.959963984540054\n",
            "0.2078855736524517\n"
          ],
          "name": "stdout"
        }
      ]
    },
    {
      "cell_type": "markdown",
      "metadata": {
        "id": "6njFBXWi46iB"
      },
      "source": [
        "Intervalos de confianza no centrados\n",
        "===\n",
        "\n",
        "A veces queremos poner límites únicamente en un lado del intervalo."
      ]
    },
    {
      "cell_type": "markdown",
      "metadata": {
        "id": "zOKPZvUk46iC"
      },
      "source": [
        "Intervalo superior (cota inferior)\n",
        "--\n",
        "\n",
        "Un intervalo superior comprende la parte superior x% de la densidad de probabilidad y se puede definir como un intervalo $(y,\\infty)$, donde y es una cota inferior. A continuación se presenta el caso de un intervalo superior con un 90% de nivel de confianza.\n"
      ]
    },
    {
      "cell_type": "code",
      "metadata": {
        "id": "gjC9lRAk46iD",
        "colab": {
          "base_uri": "https://localhost:8080/",
          "height": 283
        },
        "outputId": "8608c7fe-2861-4a89-bc5a-804072db895c"
      },
      "source": [
        "#make some points for plot\n",
        "N = 35\n",
        "x = np.linspace(-5,5, 1000)\n",
        "T = ss.norm.ppf(0.10)\n",
        "y = ss.norm.pdf(x)\n",
        "plt.plot(x,y)  \n",
        "plt.fill_between(x, y, where= x > T)\n",
        "plt.text(0,np.max(y) / 3, 'Area=0.90', fontdict={'size':14}, horizontalalignment='center')\n",
        "plt.axvline(T, linestyle='--', color='orange')\n",
        "plt.xticks([T], ['lower-bound'])\n",
        "plt.yticks([])\n",
        "plt.ylabel(r'$p(\\mu - \\bar{x})$')\n",
        "plt.xlabel(r'$\\mu - \\bar{x}$')\n",
        "plt.show()"
      ],
      "execution_count": null,
      "outputs": [
        {
          "output_type": "display_data",
          "data": {
            "image/png": "[encoded data removed]",
            "text/plain": [
              "<Figure size 432x288 with 1 Axes>"
            ]
          },
          "metadata": {
            "tags": [],
            "needs_background": "light"
          }
        }
      ]
    },
    {
      "cell_type": "markdown",
      "metadata": {
        "id": "ga6SHwe646iH"
      },
      "source": [
        "Intervalo inferior (cota superior)\n",
        "--\n",
        "\n",
        "Un intervalo inferior comprende la parte inferior x% de la densidad de probabilidad y se puede definir como un intervalo $(-\\infty,y)$, donde y es una cota superior. A continuación se presenta el caso de un intervalo inferior con un 90% de nivel de confianza.\n"
      ]
    },
    {
      "cell_type": "code",
      "metadata": {
        "id": "u6AHrbjZ46iI",
        "colab": {
          "base_uri": "https://localhost:8080/",
          "height": 283
        },
        "outputId": "f9fc3d80-f458-46a3-b58f-97a1dd6ed6ca"
      },
      "source": [
        "#make some points for plot\n",
        "N = 35\n",
        "x = np.linspace(-5,5, 1000)\n",
        "T = ss.norm.ppf(0.90)\n",
        "y = ss.norm.pdf(x)\n",
        "plt.plot(x,y)  \n",
        "plt.fill_between(x, y, where= x < T)\n",
        "plt.text(0,np.max(y) / 3, 'Area=0.90', fontdict={'size':14}, horizontalalignment='center')\n",
        "plt.axvline(T, linestyle='--', color='orange')\n",
        "plt.xticks([T], ['upper-bound'])\n",
        "plt.yticks([])\n",
        "plt.ylabel(r'$p(\\mu - \\bar{x})$')\n",
        "plt.xlabel(r'$\\mu - \\bar{x}$')\n",
        "plt.show()"
      ],
      "execution_count": null,
      "outputs": [
        {
          "output_type": "display_data",
          "data": {
            "image/png": "[encoded data removed]",
            "text/plain": [
              "<Figure size 432x288 with 1 Axes>"
            ]
          },
          "metadata": {
            "tags": [],
            "needs_background": "light"
          }
        }
      ]
    },
    {
      "cell_type": "markdown",
      "metadata": {
        "id": "juR2nWX146hp"
      },
      "source": [
        "Distribución de la media para N pequeño - t-Student\n",
        "====\n",
        "\n",
        "Para N < 25 la media de una población sigue la distribución t-Student. En los cálculos anteriores se tiene que sustituir la normal por la t-Student.\n",
        "\n",
        "Ejemplo\n",
        "====\n",
        "Medimos el grosar de 6 piezas metálicas y encontramos $\\bar{x} = 3.65$ y $\\sigma_x = 1.25$. Construimos el intervalo de confianza que contiene \n",
        " $\\mu$ un 90% de las veces.\n"
      ]
    },
    {
      "cell_type": "code",
      "metadata": {
        "id": "m4tLQzCv1Jrl",
        "colab": {
          "base_uri": "https://localhost:8080/"
        },
        "outputId": "e190c76c-1594-4746-e340-ec0d489715e4"
      },
      "source": [
        "#@title\n",
        "N = 6\n",
        "sample_mean = 3.65\n",
        "sample_sigma = 1.25\n",
        "CI = 0.9\n",
        "Z = abs(scipy.stats.t.ppf((1 - CI) / 2,N-1))\n",
        "y = Z*sample_sigma/np.sqrt(N)\n",
        "print(\"Z = {:3.3f}\".format(Z))\n",
        "print(\"mu = {} +/- {:3.2f}\".format(sample_mean,y))\n"
      ],
      "execution_count": null,
      "outputs": [
        {
          "output_type": "stream",
          "text": [
            "Z = 2.015\n",
            "mu = 3.65 +/- 1.03\n"
          ],
          "name": "stdout"
        }
      ]
    },
    {
      "cell_type": "markdown",
      "metadata": {
        "id": "1wCBO2CW2jYp"
      },
      "source": [
        "### <font color='orange'>**> Python #2**</font>\n",
        "\n",
        "Para una muestra de 5 elementos, dibuja y construye el intervaloo\n",
        "$(-\\infty,y)$, donde y es una cota superior que incluye el 90% de la densidad de probabilidad de la distribución.\n"
      ]
    },
    {
      "cell_type": "code",
      "metadata": {
        "id": "Yl7fywl72jYr",
        "colab": {
          "base_uri": "https://localhost:8080/",
          "height": 283
        },
        "outputId": "a3f4ffd0-1d24-4ec0-d7af-0abfc9158c61"
      },
      "source": [
        "#make some points for plot\n",
        "N = 5\n",
        "x = np.linspace(-5,5, 1000)\n",
        "T = ss.t.ppf(0.90, df=N-1)\n",
        "y = ss.t.pdf(x, df=N-1)\n",
        "plt.plot(x,y)  \n",
        "plt.fill_between(x, y, where= x < T)\n",
        "plt.text(0,np.max(y) / 3, 'Area=0.90', fontdict={'size':14}, horizontalalignment='center')\n",
        "plt.axvline(T, linestyle='--', color='orange')\n",
        "plt.xticks([T], ['upper-bound'])\n",
        "plt.yticks([])\n",
        "plt.ylabel(r'$p(\\mu - \\bar{x})$')\n",
        "plt.xlabel(r'$\\mu - \\bar{x}$')\n",
        "plt.show()"
      ],
      "execution_count": null,
      "outputs": [
        {
          "output_type": "display_data",
          "data": {
            "image/png": "[encoded data removed]",
            "text/plain": [
              "<Figure size 432x288 with 1 Axes>"
            ]
          },
          "metadata": {
            "tags": [],
            "needs_background": "light"
          }
        }
      ]
    },
    {
      "cell_type": "markdown",
      "metadata": {
        "id": "JPqiyWPj46hb"
      },
      "source": [
        "### <font color='green'>**> ENTREGA**</font>\n",
        "\n",
        "Exercici 1\n",
        "====\n",
        "\n",
        "Mesurem el gruix de 35 lloses i calculem $\\bar{x} = 3.38$. Si sabem que $\\sigma = 0.75$, construeix l'interval de confiança que conté la mitjana real $\\mu$ amb 99.9% de confiança.\n"
      ]
    },
    {
      "cell_type": "markdown",
      "metadata": {
        "id": "O1PQHuQq46he"
      },
      "source": [
        "Sabem que $p(\\bar{x} - \\mu) \\sim {\\cal N}(0, \\sigma / \\sqrt{N})$. Volem trobar\n",
        "\n",
        "$$ P(-A < \\bar{x} - \\mu < +A) = 0.999$$ **[4 punts]**"
      ]
    },
    {
      "cell_type": "markdown",
      "metadata": {
        "id": "ysd_PvzjH9EW"
      },
      "source": [
        "Resposta\n",
        "--"
      ]
    },
    {
      "cell_type": "code",
      "metadata": {
        "id": "reLRtZUaH-5O",
        "colab": {
          "base_uri": "https://localhost:8080/"
        },
        "outputId": "e220dbca-9daf-49f6-a126-a688de8db29e"
      },
      "source": [
        "#@title\n",
        "N = 25\n",
        "sample_mean = 3.38\n",
        "sample_sigma = 0.75\n",
        "CI = 0.999\n",
        "Z = abs(scipy.stats.norm.ppf((1 - CI) / 2))\n",
        "y = Z*sample_sigma/np.sqrt(N)\n",
        "print(\"Z = {:3.3f}\".format(Z))\n",
        "print(\"mu = {} +/- {:.2f}\".format(sample_mean,y))\n"
      ],
      "execution_count": null,
      "outputs": [
        {
          "output_type": "stream",
          "text": [
            "Z = 3.291\n",
            "mu = 3.38 +/- 0.49\n"
          ],
          "name": "stdout"
        }
      ]
    },
    {
      "cell_type": "markdown",
      "metadata": {
        "id": "15ggv8Hy46hi"
      },
      "source": [
        "Amb un nivell de confiança del 99.9%, $\\mu$ es troba a $3.380 \\pm 0.417$.\n"
      ]
    },
    {
      "cell_type": "markdown",
      "metadata": {
        "id": "M79lYQHO46hl"
      },
      "source": [
        "Com abans $p(\\bar{x} - \\mu) \\sim {\\cal N}(0, \\sigma / \\sqrt{N})$. Volem\n",
        "\n",
        "$$ P(-y < \\bar{x} - \\mu < +y) = 0.999$$"
      ]
    },
    {
      "cell_type": "markdown",
      "metadata": {
        "id": "kOdmMdQR46h9"
      },
      "source": [
        "Exercici 2\n",
        "====\n",
        "\n",
        "Mesurem el gruix de 25 lloses de metall i trobem $\\bar{x} = 3.42$ i $\\sigma_x = 0.85$. Construeix l'interval de confiança per $\\mu$ amb un nivell de confiança del 90%. **[3 punts]**\n"
      ]
    },
    {
      "cell_type": "markdown",
      "metadata": {
        "id": "hNAMW2otK1mm"
      },
      "source": [
        "Resposta\n",
        "--"
      ]
    },
    {
      "cell_type": "code",
      "metadata": {
        "id": "UCYFMhOSLKrM",
        "colab": {
          "base_uri": "https://localhost:8080/",
          "height": 51
        },
        "outputId": "66e35c77-f5c2-4fef-ae34-8ecb9ebeba65"
      },
      "source": [
        "#@title\n",
        "N = 25\n",
        "sample_mean = 3.42\n",
        "sample_sigma = 0.85\n",
        "CI = 0.9\n",
        "Z = abs(scipy.stats.norm.ppf((1 - CI) / 2))\n",
        "y = Z*sample_sigma/np.sqrt(N)\n",
        "print(\"Z = {:3.3f}\".format(Z))\n",
        "print(\"mu = {} +/- {:3.2f}\".format(sample_mean,y))\n"
      ],
      "execution_count": null,
      "outputs": [
        {
          "output_type": "stream",
          "text": [
            "Z = 1.645\n",
            "mu = 3.42 +/- 0.28\n"
          ],
          "name": "stdout"
        }
      ]
    },
    {
      "cell_type": "markdown",
      "metadata": {
        "id": "M81ubXNAOT8i"
      },
      "source": [
        "Exercici 3\n",
        "===\n",
        "\n",
        "Prenem una mostra de mida $N = 100$ i trobem $\\bar{x} = 50$ i $\\sigma_x = 10$. Calcula l'interval superior de confiança per $\\mu$ amb un nivell del 95%. **[3 punts]**"
      ]
    },
    {
      "cell_type": "markdown",
      "metadata": {
        "id": "AC9pExyzPRCW"
      },
      "source": [
        "Resposta\n",
        "--"
      ]
    },
    {
      "cell_type": "markdown",
      "metadata": {
        "id": "momneyb-P3j4"
      },
      "source": [
        "Volem $$P(-y < \\bar{x} - \\mu < \\infty) = 0.95$$\n",
        "\n",
        "Sabem que la probabilitat segueix $\\cal{N}(0,\\sigma_x/\\sqrt{N})$"
      ]
    },
    {
      "cell_type": "code",
      "metadata": {
        "id": "yAPxbDqPMz37",
        "colab": {
          "base_uri": "https://localhost:8080/",
          "height": 68
        },
        "outputId": "ba1a9450-0916-4e86-bb09-d50742eb99ce"
      },
      "source": [
        "CI = 0.95\n",
        "Z = scipy.stats.norm.ppf((1 - CI))\n",
        "y = -Z*10/np.sqrt(100)\n",
        "print(\"Z = {:3.3f}\".format(-Z))\n",
        "print(\"y = {:3.3f}\".format(y))\n",
        "print(\"{:3.2f}\".format(50 - y))"
      ],
      "execution_count": null,
      "outputs": [
        {
          "output_type": "stream",
          "text": [
            "Z = 1.645\n",
            "y = 1.645\n",
            "48.36\n"
          ],
          "name": "stdout"
        }
      ]
    },
    {
      "cell_type": "markdown",
      "metadata": {
        "id": "5yN6TsK6QUxd"
      },
      "source": [
        "$$ y = \\frac{10}{\\sqrt{100}} 1.645 = 1.645$$\n",
        "\n",
        "$\\mu \\in (48.36,\\infty)$ amb un 95% de confiança."
      ]
    }
  ]
}