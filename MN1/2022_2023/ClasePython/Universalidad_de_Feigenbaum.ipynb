{
  "nbformat": 4,
  "nbformat_minor": 0,
  "metadata": {
    "colab": {
      "provenance": [],
      "authorship_tag": "ABX9TyNuC7EHZNvvpF3Nit3/YD/X",
      "include_colab_link": true
    },
    "kernelspec": {
      "name": "python3",
      "display_name": "Python 3"
    },
    "language_info": {
      "name": "python"
    }
  },
  "cells": [
    {
      "cell_type": "markdown",
      "metadata": {
        "id": "view-in-github",
        "colab_type": "text"
      },
      "source": [
        "<a href=\"https://colab.research.google.com/github/joseflix/DocenciaUAB/blob/master/MN1/2022_2023/ClasePython/Universalidad_de_Feigenbaum.ipynb\" target=\"_parent\"><img src=\"https://colab.research.google.com/assets/colab-badge.svg\" alt=\"Open In Colab\"/></a>"
      ]
    },
    {
      "cell_type": "markdown",
      "source": [
        "# **Universalidad de Feigenbaum**\n",
        "\n",
        "La universalidad de Feigenbaum es un concepto importante en la teoría del caos y la dinámica no lineal que describe un fenómeno en el que ciertas propiedades de un sistema dinámico se vuelven independientes de los detalles específicos del sistema. Fue descubierto por el físico estadounidense Mitchell Feigenbaum en la década de 1970 mientras estudiaba la bifurcación en sistemas dinámicos no lineales.\n",
        "\n",
        "La universalidad de Feigenbaum se refiere específicamente a la observación de que ciertas propiedades críticas de los sistemas dinámicos que exhiben bifurcaciones de periodo, tales como la distribución de las bifurcaciones y las relaciones entre ellas, son invariantes bajo transformaciones adecuadas. En otras palabras, independientemente de las características específicas de un sistema dinámico en particular, estas propiedades críticas seguirán siendo las mismas.\n",
        "\n",
        "Este descubrimiento es importante porque muestra que ciertos aspectos de la dinámica de sistemas complejos pueden ser estudiados de manera más general y abstracta, sin tener que conocer los detalles específicos del sistema en cuestión. Además, la universalidad de Feigenbaum ha demostrado ser útil en áreas como la teoría del caos, la física estadística, la biología y la economía, y ha llevado a una mejor comprensión de cómo los sistemas complejos se comportan y cambian con el tiempo.\n",
        "\n",
        "**Estudio del mapa logístico**\n",
        "\n",
        "El mapa logístico es un modelo matemático de gran alcance y a la vez sencillo, que se emplea para el estudio de sistemas dinámicos no lineales. Fue el biólogo Robert May quien propuso la siguiente ecuación para modelar el crecimiento de la población de una especie determinada, en función de su tasa de crecimiento poblacional (λ):\n",
        "\n",
        "$$\n",
        "r_{n+1} = λ r_n (1 - r_n)\n",
        "$$\n",
        "\n",
        "donde $r_{n}$ es la población en el tiempo $n$, $r_{n+1}$ es la población en el tiempo $n+1$. La población se define de manera precisa como un valor que se encuentra en el intervalo (0,1), el cual representa la proporción existente entre la población actual y la población máxima posible. Aunque la tasa de crecimiento poblacional λ puede ser cualquier número real positivo, resultan de especial interés (como se explicará más adelante) los valores que se encuentran en el intervalo [0,4].\n",
        "\n",
        "Cuando la tasa de crecimiento poblacional λ es demasiado baja, la especie termina por extinguirse con el tiempo, lo que se puede observar en la naturaleza debido a la falta de una población sostenible. Por otro lado, si λ es demasiado alta, la especie también tiende a extinguirse, debido a la alta competencia existente. Sin embargo, para aquellos valores \"óptimos\" de λ, la población se estabiliza en algún punto (es decir, $r_{n+1}→c$, donde $c$ es una constante no nula), lo que se considera un estado de equilibrio en el que la población se mantiene estable.\n",
        "\n",
        "Pero el mapa logístico exhibe una bifurcación de periodo cuando el parámetro λ se incrementa a través de ciertos valores críticos. En particular, la distribución de las bifurcaciones y las relaciones entre ellas son universales, lo que significa que son independientes de los detalles específicos del sistema y dependen solo de las propiedades generales del mapa logístico. A medida que el parámetro λ se incrementa, la población de la especie puede oscilar entre diferentes valores. En el mapa logístico, estas oscilaciones se presentan en ciclos de periodo 1, 2, 4, 8, 16, etc... Después de esto, Mitchell Feigenbaum observó un comportamiento similar para cualquier ecuación cuadrática, y se convirtió en una constante universal. Este comportamiento se conoce como la ley de Feigenbaum y es un ejemplo clave de la universalidad en la dinámica no lineal.\n",
        "\n",
        "De hecho este tipo de comportamientos iterativos que se describen aquí no fueron visibles hasta el uso de cálculos numéricos. Así que, vamos a ver esto en detalle! "
      ],
      "metadata": {
        "id": "J_bFPN-DzKeV"
      }
    },
    {
      "cell_type": "markdown",
      "source": [
        "1) Añade aquí las librerias de Python que tienes que importar para la realización de las siguientes secciones. "
      ],
      "metadata": {
        "id": "3gszwdMcNM8m"
      }
    },
    {
      "cell_type": "code",
      "source": [],
      "metadata": {
        "id": "eT8JQpVRNen0"
      },
      "execution_count": null,
      "outputs": []
    },
    {
      "cell_type": "markdown",
      "source": [
        "2) Define una función para el mapa logístico, es decir, una función a la que le pases como argumentos $r_n$ y λ y devuelva $r_{n+1}$. Imprime por pantalla el valor que devuelve la función para $r_n$=0.5 y λ=0.5."
      ],
      "metadata": {
        "id": "_tmXnIFgNe3F"
      }
    },
    {
      "cell_type": "code",
      "source": [],
      "metadata": {
        "id": "ZYDSkGCZXzDa"
      },
      "execution_count": null,
      "outputs": []
    },
    {
      "cell_type": "markdown",
      "source": [
        "3) Si λ es menor que 1, para cualquier valor de $r_n$ inicial, al cabo de muchas iteraciones el valor de $r_{n+1}$ tiende a cero. Realiza 1000 iteraciones, tomando como valor inicial $r_𝑛$ =0.5, y un valor de λ=0.5. Imprime por pantalla el valor de la iteración y el valor que va tomando $r_{n+1}$.\n"
      ],
      "metadata": {
        "id": "fyiF0nhyOFIZ"
      }
    },
    {
      "cell_type": "code",
      "source": [],
      "metadata": {
        "id": "a0E0T-t7OzxR"
      },
      "execution_count": null,
      "outputs": []
    },
    {
      "cell_type": "markdown",
      "source": [
        "4) Realiza una gráfica de como va cambiando $r_{n+1}$ en función de la iteración, con los valores de la sección anterior. Cambia el valor de $r_𝑛$ inicial para ver que siempre se cumple que para este caso, $r_{n+1}$ tiende a cero."
      ],
      "metadata": {
        "id": "aupOVd9APz6F"
      }
    },
    {
      "cell_type": "code",
      "source": [],
      "metadata": {
        "id": "AmGm1CQuQSAk"
      },
      "execution_count": null,
      "outputs": []
    },
    {
      "cell_type": "markdown",
      "source": [
        "5) Realiza una gráfica de como va cambiando $r_{n+1}$ en función de la iteración para $r_n$=0.5 y λ=1.5. Cambia el valor de $r_𝑛$ inicial para ver que siempre se cumple que para este caso, $r_{n+1}$ tiende a un valor concreto..."
      ],
      "metadata": {
        "id": "b8NDpb6q6BYL"
      }
    },
    {
      "cell_type": "code",
      "source": [],
      "metadata": {
        "id": "Cc7fSSeh6On1"
      },
      "execution_count": null,
      "outputs": []
    },
    {
      "cell_type": "markdown",
      "source": [
        "6) Realiza una gráfica de como va cambiando $r_{n+1}$ en función de la iteración para $r_n$=0.5 y λ=3.2 o λ=3.5. Veamos las periodicidades o bifurcaciones!"
      ],
      "metadata": {
        "id": "3nNy4aXz-IE6"
      }
    },
    {
      "cell_type": "code",
      "source": [],
      "metadata": {
        "id": "uPbSdAte-KkV"
      },
      "execution_count": null,
      "outputs": []
    },
    {
      "cell_type": "markdown",
      "source": [
        "7) Fijando un $r_n$ en el rango (0,1), realiza una gráfica de como estabiliza $r_{n+1}$ para iteraciones grandes, en función de λ, haciendo variar este parámetro λ entre [0,4]. Para ello, generaremos 10000 iteraciones para cada valor de λ y graficaremos los últimos 100 puntos de $r_{n+1}$ para cada valor de λ."
      ],
      "metadata": {
        "id": "-9KzSBZK8WN2"
      }
    },
    {
      "cell_type": "code",
      "source": [],
      "metadata": {
        "id": "eD44u_0COH_h"
      },
      "execution_count": null,
      "outputs": []
    }
  ]
}