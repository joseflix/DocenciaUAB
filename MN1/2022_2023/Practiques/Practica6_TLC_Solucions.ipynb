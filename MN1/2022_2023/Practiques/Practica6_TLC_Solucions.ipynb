{
  "nbformat": 4,
  "nbformat_minor": 0,
  "metadata": {
    "colab": {
      "provenance": [],
      "include_colab_link": true
    },
    "kernelspec": {
      "display_name": "Python 3",
      "language": "python",
      "name": "python3"
    }
  },
  "cells": [
    {
      "cell_type": "markdown",
      "metadata": {
        "id": "view-in-github",
        "colab_type": "text"
      },
      "source": [
        "<a href=\"https://colab.research.google.com/github/joseflix/DocenciaUAB/blob/master/MN1/2022_2023/Practiques/Practica6_TLC_Solucions.ipynb\" target=\"_parent\"><img src=\"https://colab.research.google.com/assets/colab-badge.svg\" alt=\"Open In Colab\"/></a>"
      ]
    },
    {
      "cell_type": "markdown",
      "metadata": {
        "id": "AQN3Z0W5s87A"
      },
      "source": [
        "# **Pràctica 6: Teorema del límit central** [Solutions]\n"
      ]
    },
    {
      "cell_type": "markdown",
      "metadata": {
        "id": "EmAhOb8_5Uex"
      },
      "source": [
        "**Objectiu de la pràctica** \n",
        "\n",
        "En aquesta pràctica veurem el Teorema del Límit Central *at work*... \n",
        "\n",
        "Per què són tan comuns les distribucions normals? És degut a que la suma de múltiples variables aleatòries e independents es distribueix com una normal si:\n",
        "\n",
        "1. Les mitjes i les variàncies són finites.\n",
        "2. Tenim una quantitat suficient (unes 25).\n",
        "\n",
        "Cada observació en la nostra distribució $x$ segueix:\n",
        "\n",
        "$$x = \\frac{1}{N} \\sum_i^N r_i$$\n",
        "\n",
        "on $r_i$ segueixen la mateixa o diferents distribucions. El TLC  diu que si $N$ és suficientment gran, $p(x) \\sim N(\\mu,\\sigma)$  independentment de les $p(r_i)$. On $\\mu$ és el promig de les $x$, i $\\sigma = \\frac{\\bar{\\sigma}}{\\sqrt{N}}$."
      ]
    },
    {
      "cell_type": "markdown",
      "metadata": {
        "id": "PUEPjCO35Ue_"
      },
      "source": [
        "### <font color='orange'>**> Python #1**</font>\n",
        "\n",
        "Anem a fer una demostració del TLC amb la distribució beta.\n",
        "\n",
        "Considerem la nostra equació mitjana:\n",
        "$$\n",
        "x = \\frac{1}{N} \\sum_i^N r_i\n",
        "$$\n",
        "\n",
        "Considerem el TLC amb només 1 distribució i mostres de mida $N=1$. Noteu que el TLC no és aplicable ja que $N=1$. Considerem que l'única contribució és una distribució beta:\n",
        "\n",
        "$$\n",
        "p(r_i) = \\frac{1}{Z}\\, r_i^{\\alpha - 1} \\,(1 - r_i)^{\\beta - 1}\n",
        "$$\n",
        "\n",
        "On $Z$, $\\alpha$, and $\\beta$ són paràmetres de la distribució beta. En aquest cas l'espai mostral és $[0,1]$, fixem $\\alpha = \\beta = 0.5$ (el factor de normalització $Z$ queda totalment determinat una vegada escollim $\\alpha, \\beta$).\n",
        "\n",
        "Tenim $N = 1$. Quin aspecte tindrà la distribució dels $x$? Serà normal? Fer un exemple amb 1000 realizacions."
      ]
    },
    {
      "cell_type": "markdown",
      "metadata": {
        "id": "JJWovK1-Va5K"
      },
      "source": [
        "[Com obtenir valors d'una distribució beta](https://docs.scipy.org/doc/scipy/reference/generated/scipy.stats.beta.html)"
      ]
    },
    {
      "cell_type": "code",
      "metadata": {
        "id": "VmYG9eek5UfG",
        "cellView": "both",
        "colab": {
          "base_uri": "https://localhost:8080/",
          "height": 295
        },
        "outputId": "8c6268b2-0b9b-4142-e3db-fce1a4176532"
      },
      "source": [
        "import numpy as np\n",
        "import scipy.stats as ss\n",
        "import matplotlib.pyplot as plt\n",
        "\n",
        "N_exp = 1000\n",
        "\n",
        "data = []\n",
        "#for N_exp times (enough to get a nice plot)\n",
        "for i in range(N_exp):\n",
        "    data.append(ss.beta.rvs(0.5, 0.5))\n",
        "\n",
        "\n",
        "#histogram the samples\n",
        "plt.hist(data, bins=25)\n",
        "plt.title('Average with N = 1')\n",
        "plt.xlabel(\"x\")\n",
        "plt.ylabel(\"Counts\")\n",
        "#Show the plot. \n",
        "plt.show() "
      ],
      "execution_count": null,
      "outputs": [
        {
          "output_type": "display_data",
          "data": {
            "text/plain": [
              "<Figure size 432x288 with 1 Axes>"
            ],
            "image/png": "[encoded data removed]"
          },
          "metadata": {
            "needs_background": "light"
          }
        }
      ]
    },
    {
      "cell_type": "markdown",
      "metadata": {
        "id": "1Fzg7DOR5UfQ"
      },
      "source": [
        "### <font color='orange'>**> Python #2**</font>\n",
        "\n",
        "$N=1$ significa que per cada observació de $x$, tenim 1 contribució $r_i$ a la mitjana. En aquest cas, $x$ = $r_i$, però què passarà si $N>1$ on cada $r_i$ segueix la **mateixa** distribució beta? Considerem $N=25$, i comparem el resultat amb una distribució Gaussiana. Fer un exemple amb 1000 realizacions.\n",
        "\n",
        "De fet es pot comprovar que quan N va creixent la distribució de les mitjes calculades s'assembla més a una Gaussiana.\n"
      ]
    },
    {
      "cell_type": "code",
      "metadata": {
        "id": "cNxNEyOI5UfS",
        "cellView": "both",
        "colab": {
          "base_uri": "https://localhost:8080/",
          "height": 295
        },
        "outputId": "2e2a7aa8-2da7-4888-aea5-d796a85d6ad3"
      },
      "source": [
        "import scipy.stats as ss\n",
        "\n",
        "#Sample 25 beta numbers 1000 times\n",
        "N = 25\n",
        "N_exp = 1000\n",
        "data = []\n",
        "beta_sigmas = []\n",
        "for i in range(N_exp):\n",
        "    #Here's where we use the average equation\n",
        "    #we'll do this more automatically using np.mean\n",
        "    rs = ss.beta.rvs(0.5, 0.5, size=N)\n",
        "    data.append(np.mean(rs))\n",
        "    beta_sigmas.append(np.std(rs))\n",
        "\n",
        "#histogram the samples with 25 bins\n",
        "plt.hist(data, bins=25, density=True)\n",
        "mean = np.mean(data)\n",
        "#sigma = np.std(data)\n",
        "sigma = np.mean(beta_sigmas)/np.sqrt(N)  # <------------------------------------------\n",
        "x = np.linspace(0,1,100)\n",
        "y = ss.norm.pdf(x,mean,sigma)\n",
        "plt.plot(x, y, 'r', label=\"Gauss\")\n",
        "plt.title('Average with N = {}'.format(N))\n",
        "plt.axvline(mean,linestyle='--',color='k',label='mean={:.2g}'.format(mean))\n",
        "plt.legend()\n",
        "plt.xlabel(\"x\")\n",
        "plt.ylabel(\"P\")\n",
        "plt.show()"
      ],
      "execution_count": null,
      "outputs": [
        {
          "output_type": "display_data",
          "data": {
            "text/plain": [
              "<Figure size 432x288 with 1 Axes>"
            ],
            "image/png": "[encoded data removed]"
          },
          "metadata": {
            "needs_background": "light"
          }
        }
      ]
    },
    {
      "cell_type": "markdown",
      "metadata": {
        "id": "-Dwjv1nW5Ufh"
      },
      "source": [
        "### <font color='orange'>**> Python #3**</font>\n",
        "\n",
        "Hem aconseguit moure'ns d'un espai mostral $[0,1]$  a un que sembla $(-\\infty, \\infty)$. El TLC també ha aconseguit converir la distribució beta, que té pics als extrems, en una normal. Increíble!\n",
        "\n",
        "Intentem fer encara més. Considerem mostres que segueixen un conjunt de distribucions binomials i prenem la seva mitjana. En aquest cas tindrem múltiples distribucions a sobre discretes!\n",
        "\n",
        "Recordatori. Estem calculant:\n",
        "$$\n",
        "x = \\frac{1}{N} \\sum_i^N r_i\n",
        "$$\n",
        "\n",
        "on $r_i \\sim P_i(r_i)$, un conjunt de distribucions binomials. \n",
        "\n",
        "En estadística, la [distribució binomial](https://ca.wikipedia.org/wiki/Distribuci%C3%B3_binomial) és una distribució de probabilitat discreta que fa el recompte del nombre de vegades que es verifica l'èxit de l'esdeveniment A quan es repeteix n vegades, de forma independent i en les mateixes condicions, una experiència de Bernouilli.\n",
        "\n",
        "La distribució binomial té dos parámetres principals:\n",
        "\n",
        "$$\n",
        "Bin(k;n,p) = \\binom{n}{k}p^k(1-p)^{n-k}\n",
        "$$\n",
        "\n",
        "[Com obtenir valors d'una binomial](https://docs.scipy.org/doc/scipy/reference/generated/scipy.stats.binom.html)\n",
        "\n",
        "Vegem un **exemple** de com obtenir una mostra de mida 1000 d'una binomial amb $n=10$, $p=0.1$\n"
      ]
    },
    {
      "cell_type": "code",
      "metadata": {
        "id": "fCycZfBEWGUs",
        "colab": {
          "base_uri": "https://localhost:8080/",
          "height": 279
        },
        "outputId": "1e4b7a85-950c-40a5-b916-c769aab8006e"
      },
      "source": [
        "#Explicar cómo cambia la muestra si movemos p\n",
        "data_binom = ss.binom.rvs(10,0.1,size=1000)\n",
        "\n",
        "plt.hist(data_binom,range=[0,10],bins=10,density=True,rwidth=0.75, align='left')\n",
        "plt.xlabel(\"k\")\n",
        "plt.ylabel(\"P\")\n",
        "plt.show() "
      ],
      "execution_count": null,
      "outputs": [
        {
          "output_type": "display_data",
          "data": {
            "text/plain": [
              "<Figure size 432x288 with 1 Axes>"
            ],
            "image/png": "[encoded data removed]"
          },
          "metadata": {
            "needs_background": "light"
          }
        }
      ]
    },
    {
      "cell_type": "markdown",
      "metadata": {
        "id": "fw8tQ8gcWPDu"
      },
      "source": [
        "Ara volem fer l'estudi que hem fet abans pel TLC utilitzant la binomial $(n=10,p=0.1)$ en comptes de la beta.\n",
        "\n",
        "Si considerem el cas quan $N=1$ i $N_{exp} = 1000$:"
      ]
    },
    {
      "cell_type": "code",
      "metadata": {
        "id": "awxff07gW232",
        "colab": {
          "base_uri": "https://localhost:8080/",
          "height": 295
        },
        "outputId": "1ed8538a-e7af-4bdf-ce13-228040c76d7d"
      },
      "source": [
        "N_exp = 1000\n",
        "\n",
        "data = []\n",
        "#for N_exp times (enough to get a nice plot)\n",
        "for i in range(N_exp):\n",
        "    data.append(ss.binom.rvs(10,0.1))\n",
        "\n",
        "#histogram the samples\n",
        "plt.hist(data,range=[0,10],bins=10,density=True,rwidth=0.75, align='left')\n",
        "plt.title('Average with N = 1')\n",
        "plt.xlabel(\"x\")\n",
        "plt.ylabel(\"P\")\n",
        "#Show the plot. \n",
        "plt.show() "
      ],
      "execution_count": null,
      "outputs": [
        {
          "output_type": "display_data",
          "data": {
            "text/plain": [
              "<Figure size 432x288 with 1 Axes>"
            ],
            "image/png": "[encoded data removed]"
          },
          "metadata": {
            "needs_background": "light"
          }
        }
      ]
    },
    {
      "cell_type": "markdown",
      "metadata": {
        "id": "9iOFOVFMfUmU"
      },
      "source": [
        "### <font color='orange'>**> Python #4**</font>\n",
        "\n",
        "Com abans, per $N=1$ obtenim la binomial. I si augmentem $N$? Mirem un exemple amb $N=25$ i comparem amb la distribució Gaussiana.\n"
      ]
    },
    {
      "cell_type": "code",
      "metadata": {
        "id": "21PFLrLQfbkD",
        "colab": {
          "base_uri": "https://localhost:8080/",
          "height": 295
        },
        "outputId": "86a2e26c-064d-4637-87ae-40e34605e639"
      },
      "source": [
        "N_exp = 1000\n",
        "N = 25  # No ir mucho más de int(1e5)\n",
        "data = []\n",
        "for i in range(N_exp):\n",
        "    rs = ss.binom.rvs(10,0.1,size=N)\n",
        "    data.append(np.mean(rs))\n",
        "\n",
        "#histogram the samples with 25 bins\n",
        "plt.hist(data, bins=15, density=True)\n",
        "mean = np.mean(data)\n",
        "sigma = np.std(data)\n",
        "x = np.linspace(0,2,100)\n",
        "y = ss.norm.pdf(x,mean,sigma)\n",
        "plt.plot(x, y, 'r', label=\"Gauss\")\n",
        "plt.title('Average with N = {}'.format(N))\n",
        "plt.axvline(mean,linestyle='--',color='k',label='mean={:.2g}'.format(mean))\n",
        "plt.legend()\n",
        "plt.xlabel(\"x\")\n",
        "plt.ylabel(\"P\")\n",
        "plt.show()"
      ],
      "execution_count": null,
      "outputs": [
        {
          "output_type": "display_data",
          "data": {
            "text/plain": [
              "<Figure size 432x288 with 1 Axes>"
            ],
            "image/png": "[encoded data removed]"
          },
          "metadata": {
            "needs_background": "light"
          }
        }
      ]
    },
    {
      "cell_type": "markdown",
      "metadata": {
        "id": "LaNsvvuegH_k"
      },
      "source": [
        "Veiem que amb una distribució discreta el TLC encara funciona! \n",
        "\n",
        "Si les variables vinguessin de distribucions diferents, una combinació independent d'elles encara ens donarà una Gaussiana. Un exemple d'això es pot veure com a material addicional al final de la pràctica."
      ]
    },
    {
      "cell_type": "markdown",
      "metadata": {
        "id": "j09G80fHZPXD"
      },
      "source": [
        "### <font color='blue'>**> MATERIAL ADICIONAL I**</font>"
      ]
    },
    {
      "cell_type": "markdown",
      "metadata": {
        "id": "IEETP_6vbfv4"
      },
      "source": [
        "Veiem un exemple més del Teorema Central del Límit. Aquesta vegada utilitzant la distribució exponencial, la pdf de la qual ve donada per:\n",
        "\n",
        "$$\n",
        "f(r,\\lambda) = \\lambda e^{-\\lambda x} \\qquad \\text{per } x \\geq 0\n",
        "$$\n",
        "\n",
        "Com moltes altres distribucions, l'exponencial també es pot trobar a ```scipy.stats```:\n",
        "\n",
        "```ss.expon.rvs(loc=0, scale=1, size=1)```\n",
        "\n",
        "```ss.expon.pdf(x, loc=0, scale=1)```\n",
        "\n",
        "<font color='red'><b>NOTA:</b> Si volem treballar amb una exponencial amb un parámetre particular $\\lambda$; hem de donar a la funció la corresponent ```scale=1/lambda```</font>\n"
      ]
    },
    {
      "cell_type": "code",
      "metadata": {
        "id": "etkzC12PcEFt"
      },
      "source": [
        "import numpy as np\n",
        "import scipy.stats as ss\n",
        "import matplotlib.pyplot as plt"
      ],
      "execution_count": null,
      "outputs": []
    },
    {
      "cell_type": "markdown",
      "metadata": {
        "id": "m70VfL2sb8OV"
      },
      "source": [
        "  1. Genera una mostra de 1000 elements distribuïda amb una distribució exponencial de paràmetre $\\lambda = 2$. Fes un plot on es vegi l'histograma normalitzat de la mostra i la pdf corresponent per comprovar que efectivament la mostra segueix aquesta distribució exponencial. Fes que l'histograma tingui 50 bins i s'extengui en un interval de [0,4]."
      ]
    },
    {
      "cell_type": "code",
      "metadata": {
        "id": "kKaVx048be_4",
        "colab": {
          "base_uri": "https://localhost:8080/",
          "height": 279
        },
        "outputId": "988a79b6-9966-4178-dd99-1d74768709da"
      },
      "source": [
        "m = ss.expon.rvs(scale=1/2,size = 1000)\n",
        "x = np.linspace(0,4,100)\n",
        "y = ss.expon.pdf(x,scale=1/2)\n",
        "\n",
        "plt.hist(m,bins=50,density=True,range=[0,4])\n",
        "plt.plot(x,y,'r')\n",
        "plt.xlabel('r')\n",
        "plt.ylabel('P')\n",
        "plt.show()"
      ],
      "execution_count": null,
      "outputs": [
        {
          "output_type": "display_data",
          "data": {
            "text/plain": [
              "<Figure size 432x288 with 1 Axes>"
            ],
            "image/png": "[encoded data removed]"
          },
          "metadata": {
            "needs_background": "light"
          }
        }
      ]
    },
    {
      "cell_type": "markdown",
      "metadata": {
        "id": "fPWuQS7PegaF"
      },
      "source": [
        "2. Genera una mostra $A$ de 1000 elements $\\bar{x}_i$:\n",
        "\n",
        "$$\n",
        "A = [\\bar{x}_1,\\bar{x}_2,...,\\bar{x}_{1000}]\n",
        "$$ \n",
        "\n",
        "on cada element és calculat a partir de la mitjana d'una mostra de 50 elements distribuïts seguint una distribució exponencial de paràmetre $\\lambda = 2$.\n",
        "\n",
        "$$\n",
        "\\bar{x}_i = \\frac{1}{50} \\sum_{j=1}^{50} r_j \\\\[10pt]\n",
        "r \\sim Exp(\\lambda=2)\n",
        "$$  \n",
        "\n",
        "Fes un histograma normalitzat d'$A$ amb 50 bins i que s'extengui en un interval de [0,1].\n"
      ]
    },
    {
      "cell_type": "code",
      "metadata": {
        "id": "5iiYAJ05c0Gx",
        "colab": {
          "base_uri": "https://localhost:8080/",
          "height": 279
        },
        "outputId": "9c4f0fd8-87e7-40b4-e9a4-4700070aca46"
      },
      "source": [
        "x_bars = []\n",
        "for i in range(1000):\n",
        "  m = ss.expon.rvs(scale=1/2,size = 50)\n",
        "  x_bars.append(np.mean(m))\n",
        "\n",
        "plt.hist(x_bars, bins=50, density=True, range=[0,1])\n",
        "plt.xlabel(\"x\")\n",
        "plt.ylabel(\"P\")\n",
        "plt.show()"
      ],
      "execution_count": null,
      "outputs": [
        {
          "output_type": "display_data",
          "data": {
            "text/plain": [
              "<Figure size 432x288 with 1 Axes>"
            ],
            "image/png": "[encoded data removed]"
          },
          "metadata": {
            "needs_background": "light"
          }
        }
      ]
    },
    {
      "cell_type": "markdown",
      "metadata": {
        "id": "3iv9iVZ-kQwD"
      },
      "source": [
        "3. Afegeix a l'histograma de l'apartat anterior la pdf d'una Gaussiana amb $\\mu = \\bar{A}$ i $\\sigma = \\sqrt{Var[A]}$."
      ]
    },
    {
      "cell_type": "code",
      "metadata": {
        "id": "hpnPdgYikVS8",
        "colab": {
          "base_uri": "https://localhost:8080/",
          "height": 279
        },
        "outputId": "c73467cb-a4ea-4b7d-8c31-2cf3718ea517"
      },
      "source": [
        "x = np.linspace(0,1,1000)\n",
        "y = ss.norm.pdf(x,loc=np.mean(x_bars),scale=np.std(x_bars))\n",
        "\n",
        "plt.hist(x_bars, bins=50, density=True, range=[0,1])\n",
        "plt.plot(x,y,'r--')\n",
        "plt.xlabel(\"x\")\n",
        "plt.ylabel(\"P\")\n",
        "plt.show()"
      ],
      "execution_count": null,
      "outputs": [
        {
          "output_type": "display_data",
          "data": {
            "text/plain": [
              "<Figure size 432x288 with 1 Axes>"
            ],
            "image/png": "[encoded data removed]"
          },
          "metadata": {
            "needs_background": "light"
          }
        }
      ]
    },
    {
      "cell_type": "markdown",
      "metadata": {
        "id": "suoOHAH1EYxp"
      },
      "source": [
        "### <font color='blue'>**> MATERIAL ADICIONAL II**</font>\n",
        "\n",
        "\n",
        "Abans, hem vist el TLC utilitzant una distribució beta i la distribució binomial; pero en ambdós casos sempre feiem servir els mateixos paràmetres per la beta i per la binomial (i.e. $\\underbrace{\\alpha,\\beta}_{\\text{beta}}$,$\\underbrace{n,p}_{\\text{Binomial}}$)\n",
        "\n",
        "I si intentem que cada Binomial tingui paràmetres diferents?\n",
        "\n",
        "$$\n",
        "r_i \\sim Bin(k;n_i,p_i)\n",
        "$$\n",
        "\n",
        "$$\n",
        "x = \\frac{1}{N} \\sum_i^N r_i\n",
        "$$\n"
      ]
    },
    {
      "cell_type": "code",
      "metadata": {
        "id": "H3iow-XSEvyL"
      },
      "source": [
        "import numpy as np\n",
        "import scipy.stats as ss\n",
        "import matplotlib.pyplot as plt"
      ],
      "execution_count": null,
      "outputs": []
    },
    {
      "cell_type": "code",
      "metadata": {
        "id": "rRjEzHpAEZVo"
      },
      "source": [
        "N_exp = 1000 # Farem 1000 experiments\n",
        "N = 100 # Per cada experiment, prendrem una mostra de r's on cada r segueix una binomial diferent\n",
        "\n",
        "some_ns = np.random.randint(1,15,N)   # Obtener un array de N integers aleatorios entre 1 y 15\n",
        "some_ps = np.random.random(N)         # Obtener un array de N floats aleatorios entre 0 y 1\n",
        "\n",
        "data = []\n",
        "for i in range(N_exp):\n",
        "  suma_ri = 0\n",
        "  for j in range(N):\n",
        "    suma_ri += ss.binom.rvs(some_ns[j], some_ps[j])  # j pren valors de 0 a N-1, per tant, estem sumant nombres aleatoris r~Bin(n_j,p_j)\n",
        "  data.append(suma_ri/N)"
      ],
      "execution_count": null,
      "outputs": []
    },
    {
      "cell_type": "code",
      "metadata": {
        "id": "rw3JtYTMEouX",
        "colab": {
          "base_uri": "https://localhost:8080/",
          "height": 295
        },
        "outputId": "7741c845-305a-4fad-f05a-ffc3b098d63c"
      },
      "source": [
        "plt.hist(data, bins=25, density = True)\n",
        "mu = np.mean(data)\n",
        "sigma = np.std(data)\n",
        "x = np.linspace(mu - 5*sigma, mu + 5*sigma, 100)\n",
        "y = ss.norm.pdf(x, mu, sigma)\n",
        "plt.plot(x,y, color = 'r')\n",
        "plt.title('TLC amb {} Binomial Dist diferents'.format(N))\n",
        "plt.xlabel(\"x\")\n",
        "plt.ylabel(\"P\")\n",
        "plt.show()"
      ],
      "execution_count": null,
      "outputs": [
        {
          "output_type": "display_data",
          "data": {
            "text/plain": [
              "<Figure size 432x288 with 1 Axes>"
            ],
            "image/png": "[encoded data removed]"
          },
          "metadata": {
            "needs_background": "light"
          }
        }
      ]
    },
    {
      "cell_type": "markdown",
      "metadata": {
        "id": "Ki_mbgjv5UgB"
      },
      "source": [
        "Tot i que les distribucions són diferents i *discretes*, la seva mitjana es transforma en una distribució normal!\n"
      ]
    }
  ]
}