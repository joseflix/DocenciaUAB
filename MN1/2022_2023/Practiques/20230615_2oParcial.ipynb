{
  "nbformat": 4,
  "nbformat_minor": 0,
  "metadata": {
    "colab": {
      "provenance": [],
      "authorship_tag": "ABX9TyPeDFzvb9xv5CEpI4qXGCcE",
      "include_colab_link": true
    },
    "kernelspec": {
      "name": "python3",
      "display_name": "Python 3"
    },
    "language_info": {
      "name": "python"
    }
  },
  "cells": [
    {
      "cell_type": "markdown",
      "metadata": {
        "id": "view-in-github",
        "colab_type": "text"
      },
      "source": [
        "<a href=\"https://colab.research.google.com/github/joseflix/DocenciaUAB/blob/master/MN1/2022_2023/Practiques/20230615_2oParcial.ipynb\" target=\"_parent\"><img src=\"https://colab.research.google.com/assets/colab-badge.svg\" alt=\"Open In Colab\"/></a>"
      ]
    },
    {
      "cell_type": "markdown",
      "source": [
        "# **MN1: 2º parcial (programación) 15/06/2023**\n",
        "\n",
        "<hr>\n",
        "\n",
        "**Nombre:**\n",
        "\n",
        "**NIU:**\n",
        "\n",
        "**mail (gmail):**\n",
        "\n",
        "<hr>\n",
        "\n",
        "**Instrucciones de edición del Notebook y entrega**\n",
        "\n",
        "*   Abre el Notebook desde GitHub (\"Open in Colab\") y genera una copia en tu Drive (\"Guardar una copia en Drive\"). Edita esa copia para el examen.\n",
        "*   Renombra esa copia como usando tu NIU como nombre de archivo: \"NIU.ipynb\" (*por ejemplo, 2055007.ipynb*)\n",
        "*   Rellena tu nombre, NIU i mail (gmail, si quieres recibir los comentarios/feedback acerca de tu examen) en la cabecera de este Notebook.\n",
        "*   Al final del examen, descarga este cuaderno en formato .ipynb y lo tienes que subir al siguiente *drop folder*: [Link](https://cern.ch/examendf2023). Asegurate de que el fichero tiene el nombre correcto.\n",
        "*   Podéis volver a subir el fichero si creéis que hay un error pero sólo consideraremos la última versión, y dentro del horario establecido.\n",
        "*   **NOTA** Antes de entregar o dar por finalizado cada ejercicio, es recomendable reiniciar el entorno de ejecución para ver que se ejecuta todo de forma correcta: \"Entorno de ejecución >> Reiniciar entorno de ejecución\",y luego \"Entorno de ejecución >> Ejecutar todas\".\n",
        "\n",
        "<hr>\n",
        "\n",
        "**Instrucciones del examen**\n",
        "\n",
        "*   El examen se realiza de forma individual.\n",
        "*   El horario es de 9h a 12h. No se aceptarán entregas pasada esa hora.\n",
        "*   Podéis consultar apuntes, entregas o usar internet para buscar información, pero **NO** comunicaros entre vosotros/as, ni usar ChatGPT, ni Whatsapp, ni mensajería... Revisaremos durante el examen que no tengáis ventanas abiertas con estas aplicaciones.\n",
        "\n",
        "<hr>\n",
        "\n",
        "## **EXAMEN**"
      ],
      "metadata": {
        "id": "CVWrU2MKQ_jl"
      }
    },
    {
      "cell_type": "code",
      "source": [
        "# Ejecuta esta parte de código para importar librerías comunes (añade las que creas necesarias a esta lista)\n",
        "\n",
        "import numpy as np\n",
        "import matplotlib.pyplot as plt\n",
        "import math"
      ],
      "metadata": {
        "id": "2c1PDxXuSKdj"
      },
      "execution_count": null,
      "outputs": []
    },
    {
      "cell_type": "markdown",
      "source": [
        "<font color='green'>**> Ejercicio #1 [4 puntos]**</font>\n",
        "\n",
        "En este ejercicio se trata de calcular el área sombreada de la figura que se muestra a continuación, usando un método de MonteCarlo:\n",
        "\n",
        "<img src=\"https://raw.githubusercontent.com/joseflix/DocenciaUAB/master/MN1/2022_2023/fig3.png\" width=600 height=500 />\n",
        "\n",
        "Por un lado tenemos la función $f_1=sin(x)$ entre 0 y $\\pi$, y por otro lado otra función $f_2$ que consta de dos rectas: una que va de (0,1) a ($\\pi/2$,0), y otra recta que va de ($\\pi/2$,0) a ($\\pi$,1). Se trata de calcular el área sombreada."
      ],
      "metadata": {
        "id": "zULipz7Zlf_N"
      }
    },
    {
      "cell_type": "markdown",
      "source": [
        "**1.1 [1 punto]:** Define dos funciones que evalúen $f_1$ y $f_2$ para cualquier valor de x comprendido entre 0 y $\\pi$. Imprime por pantalla el valor de las funciones para x=$\\pi/4.$."
      ],
      "metadata": {
        "id": "ekblokAftgvW"
      }
    },
    {
      "cell_type": "code",
      "source": [
        "# Tu código aquí"
      ],
      "metadata": {
        "id": "yxJrMHJ6t8cL"
      },
      "execution_count": null,
      "outputs": []
    },
    {
      "cell_type": "markdown",
      "source": [
        "**1.2 [1 punto]:** Dibuja las dos funciones $f_1$ y $f_2$ en el intervalo de x entre 0 y $\\pi$, en la misma gráfica.\n"
      ],
      "metadata": {
        "id": "TBmYi2PiuSjy"
      }
    },
    {
      "cell_type": "code",
      "source": [
        "# Tu código aquí"
      ],
      "metadata": {
        "id": "cpCu44BnuR2G"
      },
      "execution_count": null,
      "outputs": []
    },
    {
      "cell_type": "markdown",
      "source": [
        "**1.3 [2 puntos]:** Usa un método de MonteCarlo con $N=10^5$ puntos de prueba. Realiza una gráfica que muestre las funciones, los puntos que caen dentro del área a integrar (en verde) y fuera del área (en rojo). Calcula el área que se pide y muestra el valor por pantalla.\n"
      ],
      "metadata": {
        "id": "pL-41_Z1u6Bv"
      }
    },
    {
      "cell_type": "code",
      "source": [
        "# Tu código aquí"
      ],
      "metadata": {
        "id": "EoHnoFJXl1-C"
      },
      "execution_count": null,
      "outputs": []
    },
    {
      "cell_type": "markdown",
      "source": [
        "<font color='green'>**> Ejercicio #2 [3 puntos]**</font>\n",
        "\n",
        "Tenemos 4 barajas de 52 cartas (cada una de ella con 4 palos de 13 cartas). Tiramos todas esas cartas al aire, y vamos a calcular la probabilidad de que veamos diferentes grupos de cartas del número 2 mirando hacia arriba, una vez en el suelo, independientemente del palo que sean. Es decir vamos a calcular la probabilidad de que haya cero cartas del 2 hacia arriba, una carta del 2 mirando hacia arriba, dos cartas del 2 hacia arriba,... y así hasta el número máximo de posibilidades que tenemos (16 cartas del 2 hacia arriba).\n",
        "\n",
        "Para calcular una probabilidad de este tipo podemos usar la definición frecuentista, en la que para un número $N$ de realizaciones del experimento se calcula la probabilidad como:\n",
        "\n",
        "$$\n",
        "P(A) = \\frac{\\text{# de veces que ha ocurrido A}}{N}\n",
        "$$\n",
        "\n",
        "que tiende al valor real si $N \\to \\infty$.\n",
        "\n",
        ">**Nota** Para modelizar este escenario tendrás que utilizar herramientas de generación y manipulación de listas. Puedes usar $x=np.array([1,2,...])$ para generar una baraja, y la función $np.repeat(x,4)$ para obtener 4 barajas. Para decidir si una carta mira arriba/abajo puedes generar una lista de números random entre 0 y 1 (si un número es > 0.5 mira hacia arriba, por ejemplo), y usar Fancy Indexing para hacer que las cosas sean más rápidas (link: https://python-course.eu/numerical-programming/numpy-boolean-indexing.php). Para contar el número de ocurrencias, existe la función *np.count_nonzero(R == 2)* o bien aplicar count a una lista como *R.count(2)*, dependiendo si usas listas de numpy o no... Más pistas no se pueden dar! ;)"
      ],
      "metadata": {
        "id": "ArWz1UfawGm1"
      }
    },
    {
      "cell_type": "markdown",
      "source": [
        "**2.1 [1 punto]:** Define una función que no recibe ningún argumento. Simplemente asume las 4 barajas, las 'tira' al aire y nos devuelve el número de ocurrecias de la carta 2 mirando hacia arriba, cada vez que la ejecutamos. Es decir:\n",
        "\n",
        "\n",
        "```\n",
        "def getocurrences():\n",
        "  --> Tu código\n",
        "\n",
        "print(getoccurrences())\n",
        "--> imprime las ocurrencias de tener cartas del número 2 mirando hacia arriba\n",
        "```\n",
        "\n"
      ],
      "metadata": {
        "id": "YBQZGZAtzxX6"
      }
    },
    {
      "cell_type": "code",
      "source": [
        "# Tu código aquí"
      ],
      "metadata": {
        "id": "E2hmwRZA2Vi0"
      },
      "execution_count": null,
      "outputs": []
    },
    {
      "cell_type": "markdown",
      "source": [
        "**2.2 [2 puntos]:** Realiza $10^6$ tiradas y haz una gráfica de la probabilidad de obtener cada uno de los casos propuestos de ocurrencias (en porcentaje, respecto del total de tiradas). Imprime por pantalla en qué número de ocurrencias encuentras el máximo, y con qué probabilidad se da."
      ],
      "metadata": {
        "id": "indiTR4J8gW5"
      }
    },
    {
      "cell_type": "code",
      "source": [
        "# Tu código aquí"
      ],
      "metadata": {
        "id": "4yfNKiQY2gRa"
      },
      "execution_count": null,
      "outputs": []
    },
    {
      "cell_type": "markdown",
      "source": [
        "<font color='green'>**> Ejercicio #3 [3 puntos]**</font>\n",
        "\n",
        "Tenemos una caja de 30 cm de ancho por 950 cm de largo. En la parte derecha tenemos un pequeño orificio de 4 cm, centrado en la caja. Tenemos una partícula que sale del centro de la parte izquierda, y que va a realizar un movimiento errático hacia la derecha. Consideraremos la partícula como una una partícula puntual. Mostramos una figura explicativa del problema (los 4 movimientos realizados no están a escala!).\n",
        "\n",
        "<img src=\"https://raw.githubusercontent.com/joseflix/DocenciaUAB/master/MN1/2022_2023/fig1.png\" width=600 height=500 />\n",
        "\n",
        "Cada 10 ms la partícula realiza un movimiento hacia la derecha. La distancia recorrida va a tomar un valor aleatorio entre 0 cm y 1 cm, con un ángulo respecto al eje x resultante de un valor aleatório entre -35$^o$ y 35$^o$. Vamos a seguir la trayectoria de la partícula en 20 segundos (es decir 2000 pasos). Tenemos 4 casos diferenciados: la partícula o bien puede chocar con las paredes de arriba/abajo, o con la pared de la derecha, salir por el orificio, o bien quedarse dentro de la caja, sin haber chocado con nada ni haber salido por el orificio."
      ],
      "metadata": {
        "id": "ULaFWfvCSr29"
      }
    },
    {
      "cell_type": "markdown",
      "source": [
        "**3.1 [0.5 puntos]:** Define una función en la que dada una posición $(x_i,y_i)$ inicial de la partícula, nos devuelva la posición $(x_{i+1},y_{i+1})$ después de haber realizado un paso. Tomando la partícula en el orígen (0,0) imprime por pantalla donde se encontraría la partícula después del primer paso."
      ],
      "metadata": {
        "id": "pBmCuQXzW7lJ"
      }
    },
    {
      "cell_type": "code",
      "source": [
        "# Tu código aquí"
      ],
      "metadata": {
        "id": "QFLtHhZuOD7M"
      },
      "execution_count": null,
      "outputs": []
    },
    {
      "cell_type": "markdown",
      "source": [
        "**3.2 [1.5 puntos]:** Realiza múltiples trayectorias de 20 segundos (que corresponden a 2000 pasos) de esta partícula, y muestra en una única gráfica las 4 posibilidades que pueden suceder, es decir, intenta replicar una gráfica similar a esta:\n",
        "\n",
        "<img src=\"https://raw.githubusercontent.com/joseflix/DocenciaUAB/master/MN1/2022_2023/fig2.png\" width=600 height=500 />\n",
        "\n",
        "Una vez la partícula choca o sale de la caja, hay que parar la simulación (es decir, que no haréis los 2000 pasos). En el caso que quede confinada, si que habréis hecho los 2000 pasos y la partícula ni choca, ni sale.\n",
        "\n",
        "Os facilitamos el código para dibujar la 'caja':\n",
        "\n",
        "```\n",
        "maxy=15\n",
        "maxx=950\n",
        "window=2\n",
        "\n",
        "plt.vlines(x = 0, ymin = -maxy, ymax = maxy, colors = 'black', linewidth=1)\n",
        "plt.vlines(x = maxx, ymin = window, ymax = maxy, colors = 'black', linewidth=1)\n",
        "plt.vlines(x = maxx, ymin = -window, ymax = -maxy, colors = 'black', linewidth=1)\n",
        "plt.hlines(y = maxy, xmin = 0, xmax = maxx, colors = 'black', linewidth=1)\n",
        "plt.hlines(y = -maxy, xmin = 0, xmax = maxx, colors = 'black', linewidth=1)\n",
        "plt.xlim(-100,1000)\n",
        "plt.ylim(-1.1*maxy,1.1*maxy)\n",
        "plt.xlabel(\"x\")\n",
        "plt.ylabel(\"y\")\n",
        "plt.show()\n",
        "```\n",
        "\n"
      ],
      "metadata": {
        "id": "_H_yaMbuaYb_"
      }
    },
    {
      "cell_type": "code",
      "source": [
        "# Tu código aquí"
      ],
      "metadata": {
        "id": "TDp0n3cBWe-t"
      },
      "execution_count": null,
      "outputs": []
    },
    {
      "cell_type": "markdown",
      "source": [
        "**3.3 [0.5 puntos]:** Realiza 1000 trayectorias y haz una gráfica de barras ($plt.bar$) con el porcentaje de trayectorias que: a) han chocado con cualquier pared, b) han quedado confinadas en la caja, y c) han pasado por el agujero."
      ],
      "metadata": {
        "id": "gwOVjn8GZxRl"
      }
    },
    {
      "cell_type": "code",
      "source": [
        "# Tu código aquí"
      ],
      "metadata": {
        "id": "zYu25PZkZ8YV"
      },
      "execution_count": null,
      "outputs": []
    },
    {
      "cell_type": "markdown",
      "source": [
        "**3.4 [0.5 puntos]:** Calcula otras 1000 trayectorias y muestra en una única gráfica 3 histogramas de las velocidades promedio en el eje x ($\\bar{v}_x$, en cm/s) de las trayectorias para cada uno de los casos tratados, es decir un histograma para las que chocan, otro para las confinadas y otro para las que pasan. Dibuja los histogramas normalizados, con el mismo rango de velocidades en el eje x y el mismo número de bins ($range=[40,50]$,$bins=50$)."
      ],
      "metadata": {
        "id": "G3F7uTVIbVqS"
      }
    },
    {
      "cell_type": "code",
      "source": [
        "# Tu código aquí"
      ],
      "metadata": {
        "id": "sJRLKDzAbWXh"
      },
      "execution_count": null,
      "outputs": []
    }
  ]
}