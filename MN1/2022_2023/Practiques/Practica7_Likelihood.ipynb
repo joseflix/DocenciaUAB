{
  "nbformat": 4,
  "nbformat_minor": 0,
  "metadata": {
    "colab": {
      "provenance": [],
      "include_colab_link": true
    },
    "kernelspec": {
      "display_name": "Python 3",
      "language": "python",
      "name": "python3"
    }
  },
  "cells": [
    {
      "cell_type": "markdown",
      "metadata": {
        "id": "view-in-github",
        "colab_type": "text"
      },
      "source": [
        "<a href=\"https://colab.research.google.com/github/joseflix/DocenciaUAB/blob/master/MN1/2022_2023/Practiques/Practica7_Likelihood.ipynb\" target=\"_parent\"><img src=\"https://colab.research.google.com/assets/colab-badge.svg\" alt=\"Open In Colab\"/></a>"
      ]
    },
    {
      "cell_type": "markdown",
      "source": [
        "# **Práctica 7: Método de máxima verosimilitud (likelihood) at work**\n",
        "\n",
        "<hr>\n",
        "\n",
        "**Nombre:**\n",
        "\n",
        "**NIU:**\n",
        "\n",
        "**mail (gmail):**\n",
        "\n",
        "<hr>\n",
        "\n",
        "**Instrucciones**\n",
        "\n",
        "*   Rellena tu nombre, NIU i mail (gmail, si quieres recibir los comentarios/feedback acerca de tu entrega) en la cabecera de este Notebook.\n",
        "*   Renombra el Notebook como \"Pr7_NIU.ipynb\", donde NIU es tu NIU (*por ejemplo: Pr7_2055007.ipynb*) \n",
        "*   Al final de la clase donde se realize una entrega, descarga este cuaderno en formato .ipynb y lo tienes que subir al siguiente *drop folder*: [Link](https://cern.ch/uabmn1pr). Asegurate de que el fichero tiene el nombre correcto.\n",
        "*   Solo se evaluará la parte de la entrega. Tendréis acceso a la solución de todas las partes y después de haber entregado la práctica.\n",
        "\n",
        "<hr>"
      ],
      "metadata": {
        "id": "ed4ybISnA9uC"
      }
    },
    {
      "cell_type": "markdown",
      "source": [
        "**Objectivo de la práctica** \n",
        "\n",
        "Vimos en clase que la función de verosimilitud (likelihood function en inglés) para un conjunto de valores $\\{x_1,...,x_n\\}$ que siguen una distribución de probabilidad $f$ que depende de un parámetro $\\theta$ viene definida por:\n",
        "\n",
        "$$\n",
        "L(\\theta) = \\prod_{i=1}^n f(x_i;\\theta)\n",
        "$$\n",
        "\n",
        "Si disponemos de un conjunto de valores que sabemos que siguen una distribución determinada, podemos construir el cociente de verosimilitud entre dos valores del parámetro $\\theta$:\n",
        "\n",
        "$$\n",
        "Q(\\theta_1) = \\frac{L(\\theta_1)}{L(\\theta_{ref})}\n",
        "$$\n",
        "\n",
        "Si $Q>1$, es intuitivo pensar que el valor de $\\theta_1$ es más probable que el valor de $\\theta_{ref}$. "
      ],
      "metadata": {
        "id": "x-ccrrRqBNQJ"
      }
    },
    {
      "cell_type": "markdown",
      "source": [
        "### <font color='green'>**> ENTREGA: Parte 1**</font>\n",
        "\n",
        "Tenemos 100 medidas que siguen la siguiente distribución de pareto:\n",
        "\n",
        "$$\n",
        "f(x;\\alpha) = \\frac{\\alpha}{x^{\\alpha+1}}, \\alpha > 0, \\quad x \\in [1,\\infty)\n",
        "$$\n",
        "\n",
        "una distribución que depende de un parámetro $\\alpha$. Vamos a coger el valor de referencia de $\\alpha_{ref}$=1+(últimos dos dígitios NIU)/100 y vamos a calcular $Q$ para un rango de valores de $\\alpha$ (por ejemplo, si tu NIU es 1615432, $\\alpha_{ref}$=1.32). Se trata de encontrar el máximo valor de Q, que corresponde con una estimación del parámetro $\\alpha_{opt}$ que mejor se ajusta a las medidas.\n",
        "\n",
        "Las medidas son:\n",
        "\n",
        "```\n",
        "x = [2.73132969,1.21929592,2.04302258,1.49995938,1.1865351,2.32398417,1.08277556,2.80151033,1.55646876,1.62986655,1.10269442,2.98881179,\n",
        "     1.08519505,1.37804267,1.01455413,1.04229347,1.27550387,1.50647462,1.35770365,1.31164913,1.84907585,1.84474957,1.68860849,4.75516076,\n",
        "     1.07313229,1.08137297,1.71225823,1.1870415,2.58066787,1.17598838,1.03824839,1.03887409,1.05131455,1.58359672,1.53241354,1.10785649,\n",
        "     1.57199901,1.54132259,1.04928338,1.66617945,1.18224489,1.31698078,1.11208638,1.04422619,1.42262102,1.26360848,2.27996545,1.15668472,\n",
        "     2.16406287,1.12938044,1.02825654,1.5040314,1.15382534,1.00950614,1.07241586,1.15838187,1.18258782,1.61896388,3.43153026,2.18518723,\n",
        "     1.00103234,1.19055495,1.20738098,1.15562534,1.38265986,1.04521684,1.04798027,1.22760926,1.0618476,2.08672498,1.19262065,1.33103947,\n",
        "     1.06377739,1.41585491,1.30806538,1.30748544,1.04321192,1.38188847,1.15718462,1.05121329,1.57976311,1.19944742,2.13362692,1.15419423,\n",
        "     1.74810777,1.08282923,1.00417485,1.39527086,1.1948191,1.40233872,1.01076528,1.57026398,2.9560986,1.21978924,1.01575068,1.9394421,\n",
        "     1.11541329,1.19029772,1.48326718,1.03036176]\n",
        "``` \n",
        "\n",
        "Define en esta sección dos funciones: una función que tome la lista de medidas y un valor $\\alpha$ concreto y que retorne el valor de L($\\alpha$), y otra función que devuelva el factor Q($\\alpha$), tomando como referencia L($\\alpha$=$\\alpha_{ref}$).\n",
        "\n",
        "Imprime por pantalla el valor de referencia que tomaremos, es decir el valor de L para $\\alpha$=$\\alpha_{ref}$, y el valor de Q($\\alpha$=$\\alpha_{ref}$), que evidentemente tiene que dar el valor de 1.\n",
        "\n",
        "Como muchas otras distribuciones, la pareto se puede encontrar en ```scipy.stats```:\n",
        "\n",
        "```ss.pareto.rvs(b, loc=0, scale=1, size=1)```\n",
        "\n",
        "```ss.pareto.pdf(x, b, loc=0, scale=1)``` \n",
        "\n",
        "En estas funciones usaremos loc=0 y scale=1. No hace falta pasar esos parámetros, ya que usaremos los que toman por defecto. En este caso, b=$\\alpha$.\n",
        "\n",
        "**[2 puntos]**"
      ],
      "metadata": {
        "id": "OZrJNA3jGZdZ"
      }
    },
    {
      "cell_type": "code",
      "source": [],
      "metadata": {
        "id": "16B6Fvfzf3lz"
      },
      "execution_count": null,
      "outputs": []
    },
    {
      "cell_type": "markdown",
      "source": [
        "### <font color='green'>**> ENTREGA: Parte 2**</font>\n",
        "\n",
        "Toma 1000 valores equidistantes de $\\alpha$ entre 0.5 y 10, calcula los valores de Q para cada uno de estos valores de $\\alpha$. Haz una gráfica de estos valores obtenidos frente a los valores de $\\alpha$ y evalúa $\\alpha_{opt}$, aquel que máximiza Q.\n",
        "\n",
        "**[3 puntos]**"
      ],
      "metadata": {
        "id": "PTkeqHRGIpjo"
      }
    },
    {
      "cell_type": "code",
      "source": [],
      "metadata": {
        "id": "fdjtGsYQgUzv"
      },
      "execution_count": null,
      "outputs": []
    },
    {
      "cell_type": "markdown",
      "source": [
        "### <font color='green'>**> ENTREGA: Parte 3**</font>\n",
        "\n",
        "También podemos usar la función log-likelihood para encontrar el valor de $\\alpha_{mle}$, aquel valor que maximiza la función de log-likelihood. \n",
        "\n",
        "Implementa la función que calcula $l = ln(L)$ (log-likelihood) en función de $\\alpha$, para el rango de valores de $\\alpha$ considerados en el apartado anterior. Haz una gráfica de los valores de $l$ en función de $\\alpha$ y evalua cual es el $\\lambda_{óptimo}$ (aquel que maximiza la función $l$). \n",
        "\n",
        "Recuerda, que para cada $\\alpha_i$ en el rango se calcula $l_i$ como:\n",
        "\n",
        "$$\n",
        "l_i = ln(L_i) = \\sum_{n=1}^{N} ln f(x_n, \\alpha_i)\n",
        "$$\n",
        "\n",
        "Imprime por pantalla el valor que encuentras de $\\alpha_{mle}$... que debería ser un valor muy similar al que has encontrado anteriormente!\n",
        "\n",
        "**[3 puntos]**\n"
      ],
      "metadata": {
        "id": "m7qwYmaRJdV7"
      }
    },
    {
      "cell_type": "code",
      "source": [],
      "metadata": {
        "id": "i63oioZQgjo0"
      },
      "execution_count": null,
      "outputs": []
    },
    {
      "cell_type": "markdown",
      "source": [
        "### <font color='green'>**> ENTREGA: Parte 4**</font>\n",
        "\n",
        "El valor esperado de esta función de pareto es:\n",
        "\n",
        "$$\n",
        "  E(x)=\\frac{\\alpha}{\\alpha-1}\n",
        "$$\n",
        "\n",
        "Calcula el valor medio del conjunto de valores y compara con los valores de $\\alpha$ que has encontrado en los apartados anteriores, imprimiendo los valores por pantalla.\n",
        "\n",
        "También haz un histograma normalizadp de las medidas y añade la pdf de la función de pareto, tomando el valor de $\\alpha_{mle}$ como valor óptimo.\n",
        "\n",
        "**[2 puntos]**"
      ],
      "metadata": {
        "id": "GiSE2Cu4ajaV"
      }
    },
    {
      "cell_type": "code",
      "source": [],
      "metadata": {
        "id": "2FlvOfBTcSi8"
      },
      "execution_count": null,
      "outputs": []
    },
    {
      "cell_type": "markdown",
      "source": [
        "<hr> \n",
        "\n",
        "**Recuerda**\n",
        "\n",
        "*   Rellena tu nombre, NIU i mail (gmail, si quieres recibir los comentarios/feedback acerca de tu entrega) en la cabecera de este Notebook.\n",
        "*   Renombra el Notebook como \"Pr7_NIU.ipynb\", donde NIU es tu NIU (*por ejemplo: Pr7_2055007.ipynb*) \n",
        "*   Al final de la clase donde se realize una entrega, descarga este cuaderno en formato .ipynb y lo tienes que subir al siguiente *drop folder*: [Link](https://cern.ch/uabmn1pr). Asegurate de que el fichero tiene el nombre correcto.\n",
        "*   Solo se evaluará la parte de la entrega. Tendréis acceso a la solución de todas las partes y después de haber entregado la práctica.\n",
        "\n",
        "<hr>"
      ],
      "metadata": {
        "id": "bI-SpIcgLKKN"
      }
    }
  ]
}