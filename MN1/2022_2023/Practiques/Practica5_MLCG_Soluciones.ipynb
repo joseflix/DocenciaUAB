{
  "nbformat": 4,
  "nbformat_minor": 0,
  "metadata": {
    "colab": {
      "provenance": [],
      "include_colab_link": true
    },
    "kernelspec": {
      "display_name": "Python 3",
      "language": "python",
      "name": "python3"
    }
  },
  "cells": [
    {
      "cell_type": "markdown",
      "metadata": {
        "id": "view-in-github",
        "colab_type": "text"
      },
      "source": [
        "<a href=\"https://colab.research.google.com/github/joseflix/DocenciaUAB/blob/master/MN1/2022_2023/Practiques/Practica5_MLCG_Soluciones.ipynb\" target=\"_parent\"><img src=\"https://colab.research.google.com/assets/colab-badge.svg\" alt=\"Open In Colab\"/></a>"
      ]
    },
    {
      "cell_type": "markdown",
      "source": [
        "# **Práctica 5: Generación de números aleatórios**\n",
        "\n",
        "<hr>\n",
        "\n",
        "**Nombre:**\n",
        "\n",
        "**NIU:**\n",
        "\n",
        "**mail (gmail):**\n",
        "\n",
        "<hr>\n",
        "\n",
        "**Instrucciones**\n",
        "\n",
        "*   Rellena tu nombre, NIU i mail (gmail, si quieres recibir los comentarios/feedback acerca de tu entrega) en la cabecera de este Notebook.\n",
        "*   Renombra el Notebook como \"Pr5_NIU.ipynb\", donde NIU es tu NIU (*por ejemplo: Pr5_2055007.ipynb*) \n",
        "*   Al final de la clase donde se realize una entrega, descarga este cuaderno en formato .ipynb y lo tienes que subir al siguiente *drop folder*: [Link](https://cern.ch/uabmn1pr). Asegurate de que el fichero tiene el nombre correcto.\n",
        "*   Solo se evaluará la parte de la entrega. Tendréis acceso a la solución de todas las partes y después de haber entregado la práctica.\n",
        "\n",
        "<hr>"
      ],
      "metadata": {
        "id": "ed4ybISnA9uC"
      }
    },
    {
      "cell_type": "markdown",
      "source": [
        "**Objectivo de la práctica** \n",
        "\n",
        "\n",
        "El método **Multiplicative Linear Congruential Generator** se usa para generar números aleatórios entre 0 y 1. El método consiste en comenzar con un número entero arbitrario, $z_0$ (al que se denomina “semilla”), comprendido entre 0 y un número entero grande, $m$, ambos elegidos y fijados por nosotros.\n",
        "\n",
        "Para generar otro número entero entre 0 y $m$ se procede según:\n",
        "\n",
        "$$\n",
        "z_{n+1} = mod(a·z_n + b, m)\n",
        "$$\n",
        "\n",
        "donde $a$ y $b$ son constantes convenientemente elegidas, y dónde $mod(x, m)$ es el resto de dividir $x$ entre $m$. Para obtener una secuencia de números reales entre 0 y 1 dividimos los anteriores por $m$. \n",
        "\n",
        "Si partimos de la misma \"semilla\", dados $a$, $b$ y $m$, la secuencia de números aleatorios es la misma. \n",
        "\n",
        "Hay varios valores que se pueden usar (https://es.wikipedia.org/wiki/Generador_lineal_congruencial). En este ejercicio usaremos un $z_0 = 10$ y los valores que se usan en *Numerical Recipes*:\n",
        "\n",
        "$a = 1664525$\n",
        "\n",
        "$b = 1013904223$\n",
        "\n",
        "$m = 2·10^{32}$"
      ],
      "metadata": {
        "id": "x-ccrrRqBNQJ"
      }
    },
    {
      "cell_type": "markdown",
      "source": [
        "### <font color='green'>**> ENTREGA: Parte 1**</font>\n",
        "\n",
        "Implementa una función que devuelva una lista de N números aleatorios entre 0 y 1, implementado el método propuesto en este ejercicio. Para hacer que la función sea lo más genérica posible, pásale todas las variables como parámetros, es decir:\n",
        "\n",
        "```\n",
        "def MLCG(z0,a,b,m,N):\n",
        "   # tu código ...\n",
        "   # return \"lista de N valores entre 0 y 1\"\n",
        "``` \n",
        "\n",
        "**[3 puntos]**"
      ],
      "metadata": {
        "id": "OZrJNA3jGZdZ"
      }
    },
    {
      "cell_type": "code",
      "source": [
        "import random\n",
        "import numpy as np\n",
        "import matplotlib.pyplot as plt\n",
        "import scipy.stats as ss\n",
        "\n",
        "def MLCG(z0,a,b,m,N):\n",
        "  Np = []\n",
        "  Np.append(z0)\n",
        "  for i in range(1,N+1):\n",
        "    Np.append((a*Np[i-1]+b) % m)\n",
        "  NpN = [x/m for x in Np] # Normalizado entre 0 y 1\n",
        "  return NpN\n",
        "\n",
        "z0 = 10\n",
        "a = 1664525\n",
        "b = 1013904223\n",
        "m = 2*10**32\n",
        "n=5\n",
        "print(MLCG(z0,a,b,m,n))"
      ],
      "metadata": {
        "id": "16B6Fvfzf3lz",
        "colab": {
          "base_uri": "https://localhost:8080/"
        },
        "outputId": "07d37e71-1680-47f5-a7d0-33232dd2da62"
      },
      "execution_count": 1,
      "outputs": [
        {
          "output_type": "stream",
          "name": "stdout",
          "text": [
            "[5e-32, 5.152747365e-24, 8.57688187724774e-18, 1.4276434306730864e-11, 2.3763481814411193e-05, 0.5549095671327883]\n"
          ]
        }
      ]
    },
    {
      "cell_type": "markdown",
      "source": [
        "### <font color='green'>**> ENTREGA: Parte 2**</font>\n",
        "\n",
        "Genera $10^6$ números aleatorios entre 0 y 1 usando tu función *MLCG()* y dibuja un histograma normalizado de los valores (*usando* 100 bines). Genera también $10^6$ valores aleatorios entre 0 y 1 usando la función integrada en la librería de Python *Numpy* (*np.random.uniform*, fijando un seed *np.random.seed(N)*, donde N son las 4 últimas cifras de tu NIU) y haz un histograma normalizado que muestre como se distribuyen estos nuevos números aleatorios (usando 100 bines). \n",
        "\n",
        "Muestra el histograma junto con el obtenido con tu función *MLCG()*, de manera que sean bien visible los dos histogramas en la misma gráfica, y añade una línea a $y=1$ (usando *plt.hlines*), que equivale a la *pdf* de una distribución uniforme. Fija la escala $y$ como logaritmica. **[4 puntos]**"
      ],
      "metadata": {
        "id": "PTkeqHRGIpjo"
      }
    },
    {
      "cell_type": "code",
      "source": [
        "z0 = 10\n",
        "a = 1664525\n",
        "b = 1013904223\n",
        "m = 2*10**32\n",
        "\n",
        "p = MLCG(z0,a,b,m,10**6)\n",
        "\n",
        "#print(z0/m)\n",
        "#print(p[0:10])\n",
        "\n",
        "np.random.seed(4321) # Fijar a este valor\n",
        "p2 = np.random.uniform(0.,1.,10**6)\n",
        "\n",
        "plt.figure(figsize=(8, 7))\n",
        "plt.hist(p, bins=100, density=True, alpha=0.5, label=\"MLCG\")\n",
        "plt.hist(p2, bins=100, density=True, histtype='step',linestyle='solid', label=\"np.random.uniform\")\n",
        "plt.hlines(1.,0.0,1.0)\n",
        "plt.yscale(\"log\")\n",
        "plt.ylabel(\"Counts\")\n",
        "plt.xlabel(\"x\")\n",
        "plt.legend()\n",
        "plt.show()"
      ],
      "metadata": {
        "colab": {
          "base_uri": "https://localhost:8080/",
          "height": 619
        },
        "id": "fdjtGsYQgUzv",
        "outputId": "bff0b551-9358-400a-e9fc-231c9de0eb15"
      },
      "execution_count": 2,
      "outputs": [
        {
          "output_type": "display_data",
          "data": {
            "text/plain": [
              "<Figure size 800x700 with 1 Axes>"
            ],
            "image/png": "[encoded data removed]"
          },
          "metadata": {}
        }
      ]
    },
    {
      "cell_type": "markdown",
      "source": [
        "### <font color='green'>**> ENTREGA: Parte 3**</font>\n",
        "\n",
        "Para un histograma se pueden obtener los contenidos de cada bin usando\n",
        "\n",
        "```\n",
        "n, bins, patches = plt.hist(p, bins=100, density=True, alpha=0.5)\n",
        "```\n",
        "\n",
        "*n* será un array de 100 elementos que contiene el contenido en *y* de cada uno de los bines. Con esta información podemos calcular la suma de la diferencia absoluta para cada bin entre su contenido y lo esperado por una distribución uniforme (=1.0) para las dos distribuciones de números que has generado. Es decir:\n",
        "\n",
        "$$\n",
        "D = \\sum_{i=0}^{100} |n_i-1.|\n",
        "$$\n",
        "\n",
        "Imprime por pantalla estas \"distancias\" evaluadas para tus dos distribuciones: $D_{MLCG}$ y $D_{np.random}$. La que tenga menor valor se aproximará más a la distribución uniforme... Puedes anular que se muestre una gráfica usando *plt.close()* en vez de *plt.show()*. **[3 puntos]**\n"
      ],
      "metadata": {
        "id": "m7qwYmaRJdV7"
      }
    },
    {
      "cell_type": "code",
      "source": [
        "n1, bins1, patches1 = plt.hist(p, bins=100,range=[0,1],density=True, histtype='step',linestyle='solid')\n",
        "print(\"D_MLCG = {:.3f}\".format(np.sum(np.abs(n1-1.))))\n",
        "\n",
        "n2, bins2, patches2 = plt.hist(p2,bins=100,range=[0,1],density=True, alpha=0.4)\n",
        "print(\"D_np.random = {:.3f}\".format(np.sum(np.abs(n2-1.))))\n",
        "plt.close()\n",
        "\n",
        "print(\"D_MLCG se aproxima mejor a la dist. uniforme.\")"
      ],
      "metadata": {
        "colab": {
          "base_uri": "https://localhost:8080/"
        },
        "id": "i63oioZQgjo0",
        "outputId": "02605598-1c47-42bd-9c38-9ac72d305c07"
      },
      "execution_count": 3,
      "outputs": [
        {
          "output_type": "stream",
          "name": "stdout",
          "text": [
            "D_MLCG = 0.788\n",
            "D_np.random = 0.829\n",
            "D_MLCG se aproxima mejor a la dist. uniforme.\n"
          ]
        }
      ]
    },
    {
      "cell_type": "markdown",
      "source": [
        "<hr> \n",
        "\n",
        "**Recuerda**\n",
        "\n",
        "*   Rellena tu nombre, NIU i mail (gmail, si quieres recibir los comentarios/feedback acerca de tu entrega) en la cabecera de este Notebook.\n",
        "*   Renombra el Notebook como \"Pr5_NIU.ipynb\", donde NIU es tu NIU (*por ejemplo: Pr5_2055007.ipynb*) \n",
        "*   Al final de la clase donde se realize una entrega, descarga este cuaderno en formato .ipynb y lo tienes que subir al siguiente *drop folder*: [Link](https://cern.ch/uabmn1pr). Asegurate de que el fichero tiene el nombre correcto.\n",
        "*   Solo se evaluará la parte de la entrega. Tendréis acceso a la solución de todas las partes y después de haber entregado la práctica.\n",
        "\n",
        "<hr>"
      ],
      "metadata": {
        "id": "bI-SpIcgLKKN"
      }
    }
  ]
}