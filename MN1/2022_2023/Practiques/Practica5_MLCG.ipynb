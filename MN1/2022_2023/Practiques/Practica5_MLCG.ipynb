{
  "nbformat": 4,
  "nbformat_minor": 0,
  "metadata": {
    "colab": {
      "provenance": [],
      "include_colab_link": true
    },
    "kernelspec": {
      "display_name": "Python 3",
      "language": "python",
      "name": "python3"
    }
  },
  "cells": [
    {
      "cell_type": "markdown",
      "metadata": {
        "id": "view-in-github",
        "colab_type": "text"
      },
      "source": [
        "<a href=\"https://colab.research.google.com/github/joseflix/DocenciaUAB/blob/master/MN1/2022_2023/Practiques/Practica5_MLCG.ipynb\" target=\"_parent\"><img src=\"https://colab.research.google.com/assets/colab-badge.svg\" alt=\"Open In Colab\"/></a>"
      ]
    },
    {
      "cell_type": "markdown",
      "source": [
        "# **Práctica 5: Generación de números aleatórios**\n",
        "\n",
        "<hr>\n",
        "\n",
        "**Nombre:**\n",
        "\n",
        "**NIU:**\n",
        "\n",
        "**mail (gmail):**\n",
        "\n",
        "<hr>\n",
        "\n",
        "**Instrucciones**\n",
        "\n",
        "*   Rellena tu nombre, NIU i mail (gmail, si quieres recibir los comentarios/feedback acerca de tu entrega) en la cabecera de este Notebook.\n",
        "*   Renombra el Notebook como \"Pr5_NIU.ipynb\", donde NIU es tu NIU (*por ejemplo: Pr5_2055007.ipynb*) \n",
        "*   Al final de la clase donde se realize una entrega, descarga este cuaderno en formato .ipynb y lo tienes que subir al siguiente *drop folder*: [Link](https://cern.ch/uabmn1pr). Asegurate de que el fichero tiene el nombre correcto.\n",
        "*   Solo se evaluará la parte de la entrega. Tendréis acceso a la solución de todas las partes y después de haber entregado la práctica.\n",
        "\n",
        "<hr>"
      ],
      "metadata": {
        "id": "ed4ybISnA9uC"
      }
    },
    {
      "cell_type": "markdown",
      "source": [
        "**Objectivo de la práctica** \n",
        "\n",
        "\n",
        "El método **Multiplicative Linear Congruential Generator** se usa para generar números aleatórios entre 0 y 1. El método consiste en comenzar con un número entero arbitrario, $z_0$ (al que se denomina “semilla”), comprendido entre 0 y un número entero grande, $m$, ambos elegidos y fijados por nosotros.\n",
        "\n",
        "Para generar otro número entero entre 0 y $m$ se procede según:\n",
        "\n",
        "$$\n",
        "z_{n+1} = mod(a·z_n + b, m)\n",
        "$$\n",
        "\n",
        "donde $a$ y $b$ son constantes convenientemente elegidas, y dónde $mod(x, m)$ es el resto de dividir $x$ entre $m$. Para obtener una secuencia de números reales entre 0 y 1 dividimos los anteriores por $m$. \n",
        "\n",
        "Si partimos de la misma \"semilla\", dados $a$, $b$ y $m$, la secuencia de números aleatorios es la misma. \n",
        "\n",
        "Hay varios valores que se pueden usar (https://es.wikipedia.org/wiki/Generador_lineal_congruencial). En este ejercicio usaremos un $z_0 = 10$ y los valores que se usan en *Numerical Recipes*:\n",
        "\n",
        "$a = 1664525$\n",
        "\n",
        "$b = 1013904223$\n",
        "\n",
        "$m = 2·10^{32}$"
      ],
      "metadata": {
        "id": "x-ccrrRqBNQJ"
      }
    },
    {
      "cell_type": "markdown",
      "source": [
        "### <font color='green'>**> ENTREGA: Parte 1**</font>\n",
        "\n",
        "Implementa una función que devuelva una lista de N números aleatorios entre 0 y 1, implementado el método propuesto en este ejercicio. Para hacer que la función sea lo más genérica posible, pásale todas las variables como parámetros, es decir:\n",
        "\n",
        "```\n",
        "def MLCG(z0,a,b,m,N):\n",
        "   # tu código ...\n",
        "   # return \"lista de N valores entre 0 y 1\"\n",
        "``` \n",
        "\n",
        "**[3 puntos]**"
      ],
      "metadata": {
        "id": "OZrJNA3jGZdZ"
      }
    },
    {
      "cell_type": "code",
      "source": [],
      "metadata": {
        "id": "16B6Fvfzf3lz"
      },
      "execution_count": null,
      "outputs": []
    },
    {
      "cell_type": "markdown",
      "source": [
        "### <font color='green'>**> ENTREGA: Parte 2**</font>\n",
        "\n",
        "Genera $10^6$ números aleatorios entre 0 y 1 usando tu función *MLCG()* y dibuja un histograma normalizado de los valores (*usando* 100 bines). Genera también $10^6$ valores aleatorios entre 0 y 1 usando la función integrada en la librería de Python *Numpy* (*np.random.uniform*, fijando un seed *np.random.seed(N)*, donde N son las 4 últimas cifras de tu NIU) y haz un histograma normalizado que muestre como se distribuyen estos nuevos números aleatorios (usando 100 bines). \n",
        "\n",
        "Muestra el histograma junto con el obtenido con tu función *MLCG()*, de manera que sean bien visible los dos histogramas en la misma gráfica, y añade una línea a $y=1$ (usando *plt.hlines*), que equivale a la *pdf* de una distribución uniforme. Fija la escala $y$ como logaritmica. **[4 puntos]**"
      ],
      "metadata": {
        "id": "PTkeqHRGIpjo"
      }
    },
    {
      "cell_type": "code",
      "source": [],
      "metadata": {
        "id": "fdjtGsYQgUzv"
      },
      "execution_count": null,
      "outputs": []
    },
    {
      "cell_type": "markdown",
      "source": [
        "### <font color='green'>**> ENTREGA: Parte 3**</font>\n",
        "\n",
        "Para un histograma se pueden obtener los contenidos de cada bin usando\n",
        "\n",
        "```\n",
        "n, bins, patches = plt.hist(p, bins=100, density=True, alpha=0.5)\n",
        "```\n",
        "\n",
        "*n* será un array de 100 elementos que contiene el contenido en *y* de cada uno de los bines. Con esta información podemos calcular la suma de la diferencia absoluta para cada bin entre su contenido y lo esperado por una distribución uniforme (=1.0) para las dos distribuciones de números que has generado. Es decir:\n",
        "\n",
        "$$\n",
        "D = \\sum_{i=0}^{100} |n_i-1.|\n",
        "$$\n",
        "\n",
        "Imprime por pantalla estas \"distancias\" evaluadas para tus dos distribuciones: $D_{MLCG}$ y $D_{np.random}$. La que tenga menor valor se aproximará más a la distribución uniforme... Puedes anular que se muestre una gráfica usando *plt.close()* en vez de *plt.show()*. **[3 puntos]**\n"
      ],
      "metadata": {
        "id": "m7qwYmaRJdV7"
      }
    },
    {
      "cell_type": "code",
      "source": [],
      "metadata": {
        "id": "i63oioZQgjo0"
      },
      "execution_count": null,
      "outputs": []
    },
    {
      "cell_type": "markdown",
      "source": [
        "<hr> \n",
        "\n",
        "**Recuerda**\n",
        "\n",
        "*   Rellena tu nombre, NIU i mail (gmail, si quieres recibir los comentarios/feedback acerca de tu entrega) en la cabecera de este Notebook.\n",
        "*   Renombra el Notebook como \"Pr5_NIU.ipynb\", donde NIU es tu NIU (*por ejemplo: Pr5_2055007.ipynb*) \n",
        "*   Al final de la clase donde se realize una entrega, descarga este cuaderno en formato .ipynb y lo tienes que subir al siguiente *drop folder*: [Link](https://cern.ch/uabmn1pr). Asegurate de que el fichero tiene el nombre correcto.\n",
        "*   Solo se evaluará la parte de la entrega. Tendréis acceso a la solución de todas las partes y después de haber entregado la práctica.\n",
        "\n",
        "<hr>"
      ],
      "metadata": {
        "id": "bI-SpIcgLKKN"
      }
    }
  ]
}