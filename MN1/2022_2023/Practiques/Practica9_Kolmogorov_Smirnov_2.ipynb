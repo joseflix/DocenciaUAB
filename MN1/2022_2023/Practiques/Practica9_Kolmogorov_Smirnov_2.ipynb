{
  "nbformat": 4,
  "nbformat_minor": 0,
  "metadata": {
    "colab": {
      "provenance": [],
      "include_colab_link": true
    },
    "kernelspec": {
      "name": "python3",
      "display_name": "Python 3"
    }
  },
  "cells": [
    {
      "cell_type": "markdown",
      "metadata": {
        "id": "view-in-github",
        "colab_type": "text"
      },
      "source": [
        "<a href=\"https://colab.research.google.com/github/joseflix/DocenciaUAB/blob/master/MN1/2022_2023/Practiques/Practica9_Kolmogorov_Smirnov_2.ipynb\" target=\"_parent\"><img src=\"https://colab.research.google.com/assets/colab-badge.svg\" alt=\"Open In Colab\"/></a>"
      ]
    },
    {
      "cell_type": "markdown",
      "metadata": {
        "id": "9lyv_uztL_hM"
      },
      "source": [
        "# **Práctica 9: Test de Kolmogorov-Smirnov 2/2**\n",
        "\n",
        "<hr>\n",
        "\n",
        "**Nombre:**\n",
        "\n",
        "**NIU:**\n",
        "\n",
        "**mail (gmail):**\n",
        "\n",
        "<hr>\n",
        "\n",
        "**Instrucciones**\n",
        "\n",
        "*   Rellena tu nombre, NIU i mail (gmail, si quieres recibir los comentarios/feedback acerca de tu entrega) en la cabecera de este Notebook.\n",
        "*   Renombra el Notebook como \"Pr9_NIU.ipynb\", donde NIU es tu NIU (*por ejemplo: Pr9_2055007.ipynb*) \n",
        "*   Al final de la clase donde se realize una entrega, descarga este cuaderno en formato .ipynb y lo tienes que subir al siguiente *drop folder*: [Link](https://cern.ch/uabmn1pr). Asegurate de que el fichero tiene el nombre correcto.\n",
        "*   Solo se evaluará la parte de la entrega. Tendréis acceso a la solución de todas las partes y después de haber entregado la práctica.\n",
        "\n",
        "<hr>"
      ]
    },
    {
      "cell_type": "markdown",
      "metadata": {
        "id": "1yBZAoZ2K-8K"
      },
      "source": [
        "### <font color='green'>**> Entrega #1**</font>\n",
        "\n",
        "Considera una muestra de 250 medidas, que sigue una distribución Argus (valores en la caja de código). La distribución Argus es una distribución $f(x,\\chi)$, contínua en $0<x<1$ que depende de un parámetro $\\chi>0$. Ver documentación de la distribución en Scipy: [+info](https://docs.scipy.org/doc/scipy/reference/generated/scipy.stats.argus.html#scipy.stats.argus)\n",
        "\n",
        "Vamos a usar un método extendido de Komogorov-Smirnov para calcular la $\\chi_{óptima}$, la que mejor ajusta a la distribución de probabilidad de la muestra.\n",
        "\n",
        "Vamos a calcular ahora la $\\chi_{óptima}$ usando la función cumulativa de tu muestra y comparando con diferentes funciones cumulativas de test. Considera 1000 pasos equidistantes entre $\\chi_{inf}$=5 y $\\chi_{sup}$=10. En este caso, para cada valor $x_i$ de tu muestra, la función cumulativa se incrementa en un factor 1/250, y queda fijada. \n",
        "\n",
        "Vamos a usar ahora una variante más completa de Kolmogorov-Smirnov: para cada punto de tu muestra puedes calcular la diferencia de la función cumulativa de tu muestra con el valor cumulativo que obtienes con la función de test en ése mismo punto, aplicando un peso y haciendo una suma cumulativa de diferencias o distancias. En la práctica anterios nos quedamos con el valor de desviación máxima. Ahora lo que haremos será, para cada punto de evaluación, multiplicaremos la distancia por el valor de la pdf en aquel punto (para que pesen más los valores más probables), y sumaremos todos los valores absolutos de distancias que evalúes para cada punto, así se promedian todas las diferencias.\n",
        "\n",
        "La función de test que mejor se ajusta es aquella que está 'más' cerca de tu función cumulativa de muestra de acuerdo con esta distancia cumulativa pesada, que llamaremos $d_{KS}$. Para todas tus variaciones, el $\\chi_{óptimo}$ será aquel que minimiza este valor de $d_{KS}$. \n",
        "\n",
        "Haz una gráfica de los valores $d_{KS}$ en el rango [$\\chi_{inf}$,$\\chi_{sup}$] y evalúa cual es el $\\chi_{óptimo}$ (el que minimiza la función $d_{KS}$). El valor $d_{KS_i}$ se calcula para cada función de test $i$ como:\n",
        "\n",
        "$$\n",
        "d_{KS_i} = \\sum_{n=1}^{250}( | CDF_{muestra}(x_n) - CDF_{Argus}(x_n,\\chi_i) | · PDF_{Argus}(x_n,\\chi_i) )\n",
        "$$\n",
        "\n",
        "**[4 punts]**"
      ]
    },
    {
      "cell_type": "code",
      "metadata": {
        "id": "aS98RZVBm4ad"
      },
      "source": [
        "import numpy as np\n",
        "import matplotlib.pyplot as plt\n",
        "import scipy.stats as ss\n",
        "\n",
        "m = [0.96380,0.98233,0.96427,0.98012,0.97386,0.98310,0.99334,0.99746,0.97330,0.98805,0.99220,0.96984,0.99265,0.98642,0.98947,0.97269,0.93089,0.99898,0.99780,0.99461,0.98786,0.98060,0.99550,0.98012,0.94110,0.98579,\n",
        "     0.99869,0.99293,0.95765,0.98647,0.97914,0.99325,0.97341,0.98044,0.99544,0.99320,0.98054,0.97020,0.98683,0.99891,0.96086,0.99214,0.99670,0.98664,0.99090,0.95059,0.97829,0.99428,0.99888,0.96228,0.93969,0.98962,\n",
        "     0.97427,0.98759,0.95995,0.99542,0.94280,0.98682,0.99320,0.97900,0.99197,0.98733,0.94118,0.98822,0.95588,0.97858,0.92918,0.97347,0.97762,0.99662,0.99622,0.99932,0.96471,0.96671,0.95243,0.98757,0.98896,0.97270,\n",
        "     0.99934,0.98322,0.97978,0.95144,0.98589,0.99504,0.96590,0.99243,0.98328,0.97419,0.91953,0.97407,0.98286,0.99404,0.99814,0.93630,0.99668,0.98379,0.97331,0.95950,0.98717,0.94052,0.98991,0.99883,0.98895,0.99644,\n",
        "     0.96595,0.98748,0.98885,0.96545,0.97342,0.98157,0.98505,0.98416,0.97632,0.95125,0.99234,0.97908,0.96522,0.97388,0.98338,0.99677,0.99446,0.96789,0.97530,0.92250,0.98614,0.95832,0.98450,0.98882,0.99692,0.98904,\n",
        "     0.99494,0.98517,0.96648,0.94985,0.98762,0.96942,0.96465,0.97572,0.97028,0.99613,0.99143,0.95568,0.99868,0.98593,0.95397,0.99581,0.96549,0.95957,0.95149,0.91949,0.99419,0.98138,0.98159,0.98013,0.96934,0.94631,\n",
        "     0.98463,0.99966,0.92729,0.99216,0.99896,0.99491,0.98197,0.96174,0.93087,0.99517,0.99947,0.97667,0.97442,0.97837,0.99724,0.98481,0.99758,0.97854,0.99672,0.98214,0.98803,0.99712,0.96204,0.98009,0.97453,0.99753,\n",
        "     0.91329,0.99344,0.96887,0.96235,0.98275,0.97096,0.96247,0.99699,0.94740,0.98909,0.99837,0.96403,0.98180,0.99794,0.99249,0.96111,0.94138,0.98862,0.99028,0.99511,0.99702,0.92181,0.97723,0.99682,0.99278,0.97204,\n",
        "     0.97756,0.94470,0.99608,0.99296,0.92315,0.98703,0.94265,0.96074,0.96383,0.95212,0.99228,0.95615,0.99820,0.98534,0.99957,0.96543,0.96341,0.97539,0.99009,0.97327,0.98358,0.99384,0.97772,0.96860,0.97938,0.97365,\n",
        "     0.99848,0.95877,0.97829,0.98671,0.99139,0.98387,0.95443,0.97763,0.97570,0.99384,0.93940,0.99354,0.98178,0.95265,0.97000,0.96468,0.98194,0.97789,0.98875,0.98644,0.94922,0.98313,0.99417,0.95691,0.98752,0.96123,\n",
        "     0.98828,0.97926,0.98181,0.98788,0.96895,0.98310,0.97451,0.96461,0.99761,0.97862,0.99883,0.95567,0.99659,0.98915,0.98235,0.98396,0.96430,0.97956,0.99405,0.97110,0.97312,0.94936,0.97623,0.99336,0.96806,0.99609,\n",
        "     0.98745,0.95729,0.93919,0.98049,0.98602,0.97077,0.90522,0.98568,0.96503,0.97495,0.95823,0.99161,0.94618,0.99737]\n",
        "     \n",
        "# Escribe el código"
      ],
      "execution_count": null,
      "outputs": []
    },
    {
      "cell_type": "markdown",
      "metadata": {
        "id": "MGHsb26aOd1n"
      },
      "source": [
        "### <font color='green'>**> Entrega #2**</font>\n",
        "\n",
        "Dibuja la gráfica de la función cumulativa de la muestra, y la función cumulativa de la distribución Argus que mejor se ajusta, aquella con $\\chi_{óptimo}$. **[3 punts]**\n"
      ]
    },
    {
      "cell_type": "code",
      "metadata": {
        "id": "MmCfawIFOfiO"
      },
      "source": [
        "# Escribe el código"
      ],
      "execution_count": null,
      "outputs": []
    },
    {
      "cell_type": "markdown",
      "metadata": {
        "id": "DvrCENe0Y-Y_"
      },
      "source": [
        "### <font color='green'>**> Entrega #3**</font>\n",
        "\n",
        "Dibuja un histograma normalizado de la muestra, y la función de distribución de probabilidad Argus que mejor se ajusta, aquella con $\\chi_{óptimo}$. Añade el error estadístico a cada uno de los bines, es decir un punto con error (que es la raiz del número de entradas por bin). **[3 punts]**\n"
      ]
    },
    {
      "cell_type": "code",
      "metadata": {
        "id": "i7hu98miY93F"
      },
      "source": [
        "# Escribe el código"
      ],
      "execution_count": null,
      "outputs": []
    },
    {
      "cell_type": "markdown",
      "metadata": {
        "id": "eNg6HWxSjm7e"
      },
      "source": [
        "<hr> \n",
        "\n",
        "**Recuerda**\n",
        "\n",
        "*   Rellena tu nombre, NIU i mail (gmail, si quieres recibir los comentarios/feedback acerca de tu entrega) en la cabecera de este Notebook.\n",
        "*   Renombra el Notebook como \"Pr9_NIU.ipynb\", donde NIU es tu NIU (*por ejemplo: Pr9_2055007.ipynb*) \n",
        "*   Al final de la clase donde se realize una entrega, descarga este cuaderno en formato .ipynb y lo tienes que subir al siguiente *drop folder*: [Link](https://cern.ch/uabmn1pr). Asegurate de que el fichero tiene el nombre correcto.\n",
        "*   Solo se evaluará la parte de la entrega. Tendréis acceso a la solución de todas las partes y después de haber entregado la práctica.\n",
        "\n",
        "<hr>"
      ]
    }
  ]
}