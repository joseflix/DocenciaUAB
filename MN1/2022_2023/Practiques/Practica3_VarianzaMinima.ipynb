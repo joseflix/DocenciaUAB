{
  "nbformat": 4,
  "nbformat_minor": 0,
  "metadata": {
    "colab": {
      "provenance": [],
      "include_colab_link": true
    },
    "kernelspec": {
      "name": "python3",
      "display_name": "Python 3"
    }
  },
  "cells": [
    {
      "cell_type": "markdown",
      "metadata": {
        "id": "view-in-github",
        "colab_type": "text"
      },
      "source": [
        "<a href=\"https://colab.research.google.com/github/joseflix/DocenciaUAB/blob/master/MN1/2022_2023/Practiques/Practica3_VarianzaMinima.ipynb\" target=\"_parent\"><img src=\"https://colab.research.google.com/assets/colab-badge.svg\" alt=\"Open In Colab\"/></a>"
      ]
    },
    {
      "cell_type": "markdown",
      "metadata": {
        "id": "vE_UggmHoZDG"
      },
      "source": [
        "# **Práctica 3: Varianza mínima**\n",
        "\n",
        "<hr>\n",
        "\n",
        "**Nombre:**\n",
        "\n",
        "**NIU:**\n",
        "\n",
        "**mail (gmail):**\n",
        "\n",
        "<hr>\n",
        "\n",
        "**Instrucciones**\n",
        "\n",
        "*   Rellena tu nombre, NIU i mail (gmail, si quieres recibir los comentarios/feedback acerca de tu entrega) en la cabecera de este Notebook.\n",
        "*   Renombra el Notebook como \"Pr3_NIU.ipynb\", donde NIU es tu NIU (*por ejemplo: Pr3_2055007.ipynb*) \n",
        "*   Al final de la clase donde se realize una entrega, descarga este cuaderno en formato .ipynb y lo tienes que subir al siguiente *drop folder*: [Link](https://cern.ch/uabmn1pr). Asegurate de que el fichero tiene el nombre correcto.\n",
        "*   Solo se evaluará la parte de la entrega. Tendréis acceso a la solución de todas las partes y después de haber entregado la práctica.\n",
        "\n",
        "<hr>"
      ]
    },
    {
      "cell_type": "markdown",
      "source": [
        "**Objectivo de la práctica** \n",
        "\n",
        "En el reciente examen vimos esta distribución (donde hemos fijado $\\theta=0.5$):\n",
        "\n",
        "$$\n",
        "f(x) = 0.5(1+\\frac{x}{2}) \\text{, con -1<x<1}\n",
        "$$\n",
        "\n",
        "\n",
        "Vamos a usar el método de transformación para transformar números aleatorios entre [0,1] para que sigan esta distribución determinada. \n",
        "\n",
        "La función cumulativa es la integral de $f(x)$, que si lo dejamos en función de $x$ nos queda de forma analítica:\n",
        "\n",
        "$$\n",
        "    F(x) = \\frac{x^2}{8}+\\frac{x}{2}+\\frac{3}{8} \\text{, con -1<x<1}\n",
        "$$\n",
        "\n",
        "Para usar el método de transformación. Sea $u = F(x)$, si invertimos F(x), obtenemos:\n",
        "\n",
        "$$\n",
        "  x = \\sqrt{8u + 1} -2\n",
        "$$\n",
        "\n",
        "Si $u$ está uniformemente distribuida entre 0 y 1, entonces $x$ estará distribuida de acuerdo con $f(x)$ entre -1 y 1. \n",
        "\n",
        "Usaremos el método de transformación para ver que si construimos un estimador de $\\hat{\\theta} = 3\\bar{x}$, donde $\\bar{x}$ es la media aritmética de un conjunto de valores ${X_1, ..., X_n}$, veremos que si crece $n$ la varianza del estimador tiende a cero, como vimos en el examen!\n",
        "<hr>"
      ],
      "metadata": {
        "id": "wkpZXdXaL0z9"
      }
    },
    {
      "cell_type": "markdown",
      "metadata": {
        "id": "eb2aqJ0quTh4"
      },
      "source": [
        "### <font color='orange'>**> Python #1**</font>\n",
        "\n",
        "Realiza primero las gráficas de f(x) y F(x):"
      ]
    },
    {
      "cell_type": "code",
      "metadata": {
        "id": "mQYDWCe6EAqu"
      },
      "source": [],
      "execution_count": null,
      "outputs": []
    },
    {
      "cell_type": "markdown",
      "metadata": {
        "id": "lWa4E68qrppS"
      },
      "source": [
        "### <font color='orange'>**> Python #2**</font>\n",
        "\n",
        "Genera N=1000000 números uniformemente distribuidos entre 0 y 1. Usa el método de transformación para generar un número N de $x$ aleatorios que estén distribuidos de acuerdo con $f(x)$ entre -1 y 1. \n",
        "\n",
        "Haz un histograma normalizado de estos valores de $x$ y añade la función $f(x)$ en la gráfica."
      ]
    },
    {
      "cell_type": "code",
      "metadata": {
        "id": "knWNtysJsbIu"
      },
      "source": [],
      "execution_count": null,
      "outputs": []
    },
    {
      "cell_type": "markdown",
      "source": [
        "### <font color='orange'>**> Python #3**</font>\n",
        "\n",
        "Ahora vamos a generar un número N de valores (${X_1, ..., X_n}$) que sigan esta distribución y evaluaremos el estimador $\\hat{\\theta}=3\\bar{x}$. Para calcular como evoluciona la varianza de este estimador respecto a $N$, tendremos que generar $Z$ valores de $\\hat{\\theta}$ para cada $N$ que consideremos, y evaluar la varianza de este conjunto de $Z$ valores de $3\\bar{x}$, para cada $N$!\n",
        "\n",
        "Tendrás que hacer dos bucles for. Unas pistas:\n",
        "\n",
        "1) Un bucle para hacer variar N de 10 a 10000, en pasos de 10 (10,20,30,...)\n",
        "\n",
        "2) Otro bucle para cada valor de N del bucle anterior y calcula Z=100 valores del estimador $\\hat{\\theta}$\n",
        "\n",
        "3) Calcula la varianza de estos 100 valores de $\\hat{\\theta}$ para cada N (puedes usar la función var() de numpy). Vamos a llamar a este valor var($\\hat{\\theta}$)$_n$.\n",
        "\n",
        "4) Haz la gráfica de var($\\hat{\\theta}$)$_n$ vs. N, y ve como tiende a cero cuando N crece."
      ],
      "metadata": {
        "id": "ZGae2SK_NMKk"
      }
    },
    {
      "cell_type": "code",
      "metadata": {
        "id": "g_iETuP6td_q"
      },
      "source": [],
      "execution_count": null,
      "outputs": []
    },
    {
      "cell_type": "markdown",
      "source": [
        "<hr> \n",
        "\n",
        "**Recuerda**\n",
        "\n",
        "*   Rellena tu nombre, NIU i mail (gmail, si quieres recibir los comentarios/feedback acerca de tu entrega) en la cabecera de este Notebook.\n",
        "*   Renombra el Notebook como \"Pr3_NIU.ipynb\", donde NIU es tu NIU (*por ejemplo: Pr3_2055007.ipynb*) \n",
        "*   Al final de la clase donde se realize una entrega, descarga este cuaderno en formato .ipynb y lo tienes que subir al siguiente *drop folder*: [Link](https://cern.ch/uabmn1pr). Asegurate de que el fichero tiene el nombre correcto.\n",
        "*   Solo se evaluará la parte de la entrega. Tendréis acceso a la solución de todas las partes y después de haber entregado la práctica.\n",
        "\n",
        "<hr>"
      ],
      "metadata": {
        "id": "SU6sUWRSMDPj"
      }
    }
  ]
}