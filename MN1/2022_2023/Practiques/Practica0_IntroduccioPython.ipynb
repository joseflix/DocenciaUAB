{
  "nbformat": 4,
  "nbformat_minor": 0,
  "metadata": {
    "colab": {
      "provenance": [],
      "include_colab_link": true
    },
    "language_info": {
      "codemirror_mode": {
        "name": "ipython",
        "version": 3
      },
      "file_extension": ".py",
      "mimetype": "text/x-python",
      "name": "python",
      "nbconvert_exporter": "python",
      "pygments_lexer": "ipython3",
      "version": "3.6.7"
    },
    "kernelspec": {
      "display_name": "Python 3",
      "language": "python",
      "name": "python3"
    }
  },
  "cells": [
    {
      "cell_type": "markdown",
      "metadata": {
        "id": "view-in-github",
        "colab_type": "text"
      },
      "source": [
        "<a href=\"https://colab.research.google.com/github/joseflix/DocenciaUAB/blob/master/MN1/2022_2023/Practiques/Practica0_IntroduccioPython.ipynb\" target=\"_parent\"><img src=\"https://colab.research.google.com/assets/colab-badge.svg\" alt=\"Open In Colab\"/></a>"
      ]
    },
    {
      "cell_type": "markdown",
      "metadata": {
        "id": "AQN3Z0W5s87A"
      },
      "source": [
        "# **Pràctica 0: Fonaments de Python - Gràfiques i distribucions**\n"
      ]
    },
    {
      "cell_type": "markdown",
      "metadata": {
        "id": "pXkuAllkdNRA"
      },
      "source": [
        "**Objectiu de la pràctica**\n",
        "\n",
        "En aquest notebook introduirem conceptes bàsics de programació en python per a fer gràfiques i distribucions."
      ]
    },
    {
      "cell_type": "markdown",
      "metadata": {
        "id": "4VEDa4ASnZRc"
      },
      "source": [
        "### <font color='orange'>**> Python #1 (guiat per professor/a)**</font>\n",
        "\n",
        "Importa la llibreria matplotlib per fer plots. Podeu trobar més informació al [curs de python](https://github.com/joseflix/DocenciaUAB/blob/master/MN1/2019-2020/CursPython/16_Libreria_Matplotlib_Python.ipynb)\n"
      ]
    },
    {
      "cell_type": "code",
      "metadata": {
        "id": "eEzMjawV24u9"
      },
      "source": [],
      "execution_count": null,
      "outputs": []
    },
    {
      "cell_type": "markdown",
      "source": [
        "Fes una gràfica d'aquests parells de punts:\n",
        "\n",
        "(x,y) = (1,5);(2,4);(3,3);(4,2);(5,1)"
      ],
      "metadata": {
        "id": "soeB1i3H_fOC"
      }
    },
    {
      "cell_type": "code",
      "metadata": {
        "init_cell": true,
        "id": "4aRnMhof91Ij"
      },
      "source": [],
      "execution_count": null,
      "outputs": []
    },
    {
      "cell_type": "markdown",
      "metadata": {
        "id": "bGyozJmL4JTQ"
      },
      "source": [
        "### <font color='orange'>**> Python #2 (guiat per professor/a)**</font>\n",
        "\n",
        "Amb la llibreria **numpy** (numerical python), podem obtenir funcions elementals com sin, cos, etc. També és molt útil per que els arrays de numpy tenen més funcionalitats que les llistes. Podeu trobar més informació al [curs de python](https://github.com/joseflix/DocenciaUAB/blob/master/MN1/2019-2020/CursPython/14_Libreria_Numpy_Python.ipynb).\n",
        "\n",
        "Importa la llibreria numpy:\n"
      ]
    },
    {
      "cell_type": "code",
      "source": [],
      "metadata": {
        "id": "uEMOzvslAh2q"
      },
      "execution_count": null,
      "outputs": []
    },
    {
      "cell_type": "markdown",
      "metadata": {
        "id": "CQSVKLgnoD1n"
      },
      "source": [
        "Una funcionalitat de numpy que farem servir bastant és **linspace**, que permet generar una llista d'elements equiespaiats sota un interval.\n",
        "\n",
        "Genera 100 punts x entre 0 i 2π i evalua sin(x) per a cada punt. Fes la gràfica d'aquests 100 punts:\n"
      ]
    },
    {
      "cell_type": "code",
      "metadata": {
        "id": "lL09hLgu31lU"
      },
      "source": [],
      "execution_count": null,
      "outputs": []
    },
    {
      "cell_type": "markdown",
      "source": [
        "Evalua cos(x) per a cada punt de x que has fet servir abans i dibuixa sin(x) i cos(x) a la mateixa gràfica:"
      ],
      "metadata": {
        "id": "HNetNbR2A-iP"
      }
    },
    {
      "cell_type": "code",
      "source": [],
      "metadata": {
        "id": "rwUtqNrCBI4m"
      },
      "execution_count": null,
      "outputs": []
    },
    {
      "cell_type": "markdown",
      "metadata": {
        "id": "cWUJLOMqpFsf"
      },
      "source": [
        "### <font color='orange'>**> Python #3 (guiat per professor/a)**</font>\n",
        "\n",
        "Importa ara la llibreria scipy. Podeu trobar més informació al [curs de python](https://github.com/joseflix/DocenciaUAB/blob/master/MN1/2019-2020/CursPython/17_Libreria_SciPy_Python.ipynb)."
      ]
    },
    {
      "cell_type": "code",
      "source": [],
      "metadata": {
        "id": "PeI-dQi8Bngz"
      },
      "execution_count": null,
      "outputs": []
    },
    {
      "cell_type": "markdown",
      "metadata": {
        "id": "79S6nKxE2Ycp"
      },
      "source": [
        "Amb la llibreria **scipy** (scientific python) tindrem accés a funcionalitats per generar nombres aleatoris. Anem a generar una llista de punts que estan distribuits com una normal, fer-ne un histograma i superimposar la pdf de la normal per assegurar-nos que estan distribuits correctament.\n",
        "\n",
        "stats.norm es fa servir per a generar números aleatoris que segueixen una distribució normal. Executa\n",
        "\n",
        "`?stats.norm`\n",
        "\n",
        "Veiem que hi ha una funció Random Value Sampler\" (rvs)  que ens permet generar variables aleatories que segueixen una normal"
      ]
    },
    {
      "cell_type": "code",
      "metadata": {
        "id": "v7MIn4UzpeqS"
      },
      "source": [],
      "execution_count": null,
      "outputs": []
    },
    {
      "cell_type": "markdown",
      "source": [
        "Genera 1 nombre aleatori distribuit com una normal N(0,1):"
      ],
      "metadata": {
        "id": "BcoI1S41CpVk"
      }
    },
    {
      "cell_type": "code",
      "metadata": {
        "id": "L9ifhzKfp4qI"
      },
      "source": [],
      "execution_count": null,
      "outputs": []
    },
    {
      "cell_type": "markdown",
      "metadata": {
        "id": "riMrL2KoqPWN"
      },
      "source": [
        "Hem vist com fer una mostra d'un element que segueix una $N(0,1)$. Però nosaltres voldrem tenir mostres més grans. Això ho controlem amb el paràmetre 'size' del *random value sampler* rvs. Genera una llista amb 10 valors aleatoris de $N(0,1)$."
      ]
    },
    {
      "cell_type": "code",
      "metadata": {
        "id": "L2Av6v1tqOiw"
      },
      "source": [],
      "execution_count": null,
      "outputs": []
    },
    {
      "cell_type": "markdown",
      "metadata": {
        "id": "6SBdq9fEqmVb"
      },
      "source": [
        "Per veure la distribució de la nostra mostra $x$ farem servir un [histograma](https://ca.wikipedia.org/wiki/Histograma). Genera ara 100000 valors aleatoris que segueixin una $N(0,1)$ i fes un histograma. Utilitza la funció\n",
        "\n",
        "```\n",
        "plt.hist\n",
        "```\n",
        "\n",
        "Dibuixa l'histograma a l'interval [-3,3] i utilitza 100 bins."
      ]
    },
    {
      "cell_type": "code",
      "metadata": {
        "id": "nZLe_GRhq9Zy"
      },
      "source": [],
      "execution_count": null,
      "outputs": []
    },
    {
      "cell_type": "markdown",
      "metadata": {
        "id": "Ju33jZDDrUZB"
      },
      "source": [
        "Com podem obtenir la pdf de la normal? Recordeu que també estava a stats.norm... Dibuixa una PDF de $N(0,1)$ a l'interval [-3,3]."
      ]
    },
    {
      "cell_type": "code",
      "metadata": {
        "id": "2bfx_UlDrk16"
      },
      "source": [],
      "execution_count": null,
      "outputs": []
    },
    {
      "cell_type": "markdown",
      "metadata": {
        "id": "5JZjdQ4hsElF"
      },
      "source": [
        "Ara farem el plot de l'histograma de la nostra mostra i de la pdf per veure que coincideixen. Recordeu que haurem de normalitzar el nostre histograma, fent servir density=True:"
      ]
    },
    {
      "cell_type": "code",
      "metadata": {
        "id": "741BInOBsPbJ"
      },
      "source": [],
      "execution_count": null,
      "outputs": []
    }
  ]
}