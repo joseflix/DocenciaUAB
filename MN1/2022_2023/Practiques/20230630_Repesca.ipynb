{
  "nbformat": 4,
  "nbformat_minor": 0,
  "metadata": {
    "colab": {
      "provenance": [],
      "authorship_tag": "ABX9TyMMs8hmJRDIXbcgNaXLfYjr",
      "include_colab_link": true
    },
    "kernelspec": {
      "name": "python3",
      "display_name": "Python 3"
    },
    "language_info": {
      "name": "python"
    }
  },
  "cells": [
    {
      "cell_type": "markdown",
      "metadata": {
        "id": "view-in-github",
        "colab_type": "text"
      },
      "source": [
        "<a href=\"https://colab.research.google.com/github/joseflix/DocenciaUAB/blob/master/MN1/2022_2023/Practiques/20230630_Repesca.ipynb\" target=\"_parent\"><img src=\"https://colab.research.google.com/assets/colab-badge.svg\" alt=\"Open In Colab\"/></a>"
      ]
    },
    {
      "cell_type": "markdown",
      "source": [
        "# **MN1: Recuperación (programación) 30/06/2023**\n",
        "\n",
        "<hr>\n",
        "\n",
        "**Nombre:**\n",
        "\n",
        "**NIU:**\n",
        "\n",
        "**mail (gmail):**\n",
        "\n",
        "<hr>\n",
        "\n",
        "**Instrucciones de edición del Notebook y entrega**\n",
        "\n",
        "*   Abre el Notebook desde GitHub (\"Open in Colab\") y genera una copia en tu Drive (\"Guardar una copia en Drive\"). Edita esa copia para el examen.\n",
        "*   Renombra esa copia como usando tu NIU como nombre de archivo: \"NIU.ipynb\" (*por ejemplo, 2055007.ipynb*)\n",
        "*   Rellena tu nombre, NIU i mail (gmail, si quieres recibir los comentarios/feedback acerca de tu examen) en la cabecera de este Notebook.\n",
        "*   Al final del examen, descarga este cuaderno en formato .ipynb y lo tienes que subir al siguiente *drop folder*: [Link](https://cern.ch/examendf2023). Asegurate de que el fichero tiene el nombre correcto.\n",
        "*   Podéis volver a subir el fichero si creéis que hay un error pero sólo consideraremos la última versión, y dentro del horario establecido.\n",
        "*   **NOTA** Antes de entregar o dar por finalizado cada ejercicio, es recomendable reiniciar el entorno de ejecución para ver que se ejecuta todo de forma correcta: \"Entorno de ejecución >> Reiniciar entorno de ejecución\",y luego \"Entorno de ejecución >> Ejecutar todas\".\n",
        "\n",
        "<hr>\n",
        "\n",
        "**Instrucciones del examen**\n",
        "\n",
        "*   El examen se realiza de forma individual.\n",
        "*   El horario es de 13h a 16h. No se aceptarán entregas pasada esa hora.\n",
        "*   Si vienes sólo a subir nota o recuperar la parte de programación, debes realizar *todo* el examen. Si vienes a subir nota o recuperar las dos partes de la asignatura, debes realizar el ejercicio 2 únicamente.\n",
        "*   Podéis consultar apuntes, entregas o usar internet para buscar información, pero **NO** comunicaros entre vosotros/as, ni usar ChatGPT, ni Whatsapp, ni mensajería... Revisaremos durante el examen que no tengáis ventanas abiertas con estas aplicaciones.\n",
        "\n",
        "<hr>\n",
        "\n",
        "## **EXAMEN**"
      ],
      "metadata": {
        "id": "CVWrU2MKQ_jl"
      }
    },
    {
      "cell_type": "code",
      "source": [
        "# Ejecuta esta parte de código para importar librerías comunes (añade las que creas necesarias a esta lista)\n"
      ],
      "metadata": {
        "id": "2c1PDxXuSKdj"
      },
      "execution_count": null,
      "outputs": []
    },
    {
      "cell_type": "markdown",
      "source": [
        "<font color='green'>**> Ejercicio #1 [6 puntos]**</font>\n",
        "\n",
        "En este ejercicio se trata de calcular el volumen de un cubo 3D, usando un método de integración MonteCarlo.\n",
        "\n",
        "El cubo en cuestión tiene 2 $cm$ por lado, así pues su volumen es de 8 $cm^3$. Sitúa una de las aristas o vértices del cubo en el origen de (x,y,z), es decir en (0,0,0), de manera que el cubo esté contenido en las coordenadas (2,2,2). Es decir que el origen está en en 0 del sistema de referencia y los lados crecen en (x,y,z) hasta (2,2,2)."
      ],
      "metadata": {
        "id": "zULipz7Zlf_N"
      }
    },
    {
      "cell_type": "markdown",
      "source": [
        "**1.1 [1 punto]:** Define una función a la que le pases como argumento unas coordenadas aleatorias (x,y,z) y retorne True o False dependiendo si este punto 3D está dentro del cubo o no. La función debe ser general, independiente del signo de los valores de (x,y,z).\n",
        "\n",
        "Usa la función para evaluar qué sucede con 3 puntos concretos:\n",
        "\n",
        "(0.5,1,0.5)\n",
        "\n",
        "(3,0.5,1.3)\n",
        "\n",
        "(-1,0.5,0.5)"
      ],
      "metadata": {
        "id": "ekblokAftgvW"
      }
    },
    {
      "cell_type": "code",
      "source": [
        "# Tu código aquí"
      ],
      "metadata": {
        "id": "yxJrMHJ6t8cL"
      },
      "execution_count": null,
      "outputs": []
    },
    {
      "cell_type": "markdown",
      "source": [
        "**1.2 [1 punto]:** Continuamos situando una de las aristas o vértices del cubo en el origen, de manera que el cubo esté contenido en las coordenadas (2,2,2). Ahora vamos a crear un 'cubo' de prueba similar pero con lados de 3 $cm$, en donde vamos a usar un método MonteCarlo para determinar el volumen del cubo original.\n",
        "\n",
        "Genera 100 números aleatorios ($N_{mc}$) en el cubo de lado 3 $cm$ y determina el volumen del cubo de lado 2 $cm$, usando el método de MonteCarlo, pero aplicado a volumen (generalización trivial del método de cálculo de áreas!)."
      ],
      "metadata": {
        "id": "TBmYi2PiuSjy"
      }
    },
    {
      "cell_type": "code",
      "source": [
        "# Tu código aquí"
      ],
      "metadata": {
        "id": "cpCu44BnuR2G"
      },
      "execution_count": null,
      "outputs": []
    },
    {
      "cell_type": "markdown",
      "source": [
        "**1.3 [1 punto]:** Si ejecutas la celda anterior varias veces, verás que el valor calculado del volumen fluctúa mucho, alrededor del valor esperado de 8 $cm^3$. Genera 1000 realizaciones como las que has generado en el apartado anterior (usando $N_{mc}=100$), realiza un histograma con los resultados y muestra por pantalla el valor medio y la varianza de los valores del volumen obtenidos a partir de esta colección de 1000 valores de volumen calculado."
      ],
      "metadata": {
        "id": "pL-41_Z1u6Bv"
      }
    },
    {
      "cell_type": "code",
      "source": [
        "# Tu código aquí"
      ],
      "metadata": {
        "id": "EoHnoFJXl1-C"
      },
      "execution_count": null,
      "outputs": []
    },
    {
      "cell_type": "markdown",
      "source": [
        "**1.4 [1.5 puntos]:** Ahora vamos a generar varias realizaciones, donde vamos a variar el número de puntos MonteCarlo $N_{mc}$ de forma creciente. Vamos a generar 1000 realizaciones para el caso $N_{mc}$=50, otras 1000 para el caso $N_{mc}$=100, así hasta que hayamos llegado al caso límite de $N_{mc}$=3000. Es decir, ir en orden creciente, haciendo pasos de +50 en el número de puntos MonteCarlo que usaremos para evaluar el volumen. Para cada caso de $N_{mc}$, usando los 1000 valores que obtengas de volumen, calcula el valor medio y la varianza.\n",
        "\n",
        "Haz una gráfica que muestre el valor medio del volumen, para cada uno de los casos, junto con su varianza (como error). Añade una línea horizontal que equivale al volumen real del cubo (es decir, a 8 cm^3)."
      ],
      "metadata": {
        "id": "bQF3I2lp-0Kf"
      }
    },
    {
      "cell_type": "code",
      "source": [
        "%%time\n",
        "# Usamos time para calcular el tiempo de ejecución de la celda.\n",
        "\n",
        "# Tu código aquí"
      ],
      "metadata": {
        "colab": {
          "base_uri": "https://localhost:8080/"
        },
        "id": "ZNeb3Owv_4CN",
        "outputId": "065ec903-3aa2-4687-e2d8-a9644ad2ab93"
      },
      "execution_count": null,
      "outputs": [
        {
          "output_type": "stream",
          "name": "stdout",
          "text": [
            "CPU times: user 3 µs, sys: 0 ns, total: 3 µs\n",
            "Wall time: 7.87 µs\n"
          ]
        }
      ]
    },
    {
      "cell_type": "markdown",
      "source": [
        "**1.5 [1.5 puntos]:** Como te habrás dado cuenta, usar una función que evalúe si un punto (x,y,z) está dentro del cubo o no es bastante ineficiente, porque tienes que acabar haciendo un loop $for$ sobre todos los puntos $N_mc$ para calcular el volumen del cubo, elemento a elemento...\n",
        "\n",
        "Qué tal si hacemos una función que evalúe el volumen mirando 'de golpe' cuantos puntos caen dentro del cubo usando la librería Numpy? Es decir, define una nueva función en la que le pases unas listas de valores MonteCarlo para todas las coordenadas (x,y,z), el valor de la arista del cubo a calcular el volumen y el máximo valor que pueden tomar las coordenadas para el método de integración, algo como:\n",
        "\n",
        "```\n",
        "def new_f(x,y,z,2,3):\n",
        "  tu función aquí...\n",
        "```\n",
        "\n",
        "Esta función en este caso ya nos debe de devolver el volumen en cuestión de cubo, en el retorno de la función.\n",
        "\n",
        "Puedes usar Fancy Indexing para hacer que las cosas sean más rápidas (link: https://python-course.eu/numerical-programming/numpy-boolean-indexing.php) y también la comparación de listas de Booleanos (link:https://stackoverflow.com/questions/20528328/numpy-logical-or-for-more-than-two-arguments) (pero para este caso usando np.logical_and.reduce).\n",
        "\n",
        "Usa la nueva función para reproducir el resultado de la sección anterior... Verás que es mucho más rápido!"
      ],
      "metadata": {
        "id": "NWvFfllAGdr9"
      }
    },
    {
      "cell_type": "code",
      "source": [
        "%%time\n",
        "# Usamos time para calcular el tiempo de ejecución de la celda.\n",
        "\n",
        "# Tu código aquí"
      ],
      "metadata": {
        "colab": {
          "base_uri": "https://localhost:8080/"
        },
        "id": "9X7pMy4XGRXG",
        "outputId": "3ca15c86-0282-41b4-9ae1-d755e88d2885"
      },
      "execution_count": null,
      "outputs": [
        {
          "output_type": "stream",
          "name": "stdout",
          "text": [
            "CPU times: user 4 µs, sys: 0 ns, total: 4 µs\n",
            "Wall time: 7.15 µs\n"
          ]
        }
      ]
    },
    {
      "cell_type": "markdown",
      "source": [
        "<font color='green'>**> Ejercicio #2 [4 puntos]**</font>\n",
        "\n",
        "Seguimos con nuestro cubo 3D de lado 2 $cm$!!!\n",
        "\n",
        "Ahora tenemos una partícula que sale del centro del cubo, es decir del punto (1,1,1), y esta partícula va a realizar un movimiento errático en el volumen. Consideraremos la partícula como una una partícula puntual. En cada paso, la distancia recorrida ($\\rho$) por la partícula va a tomar un valor aleatorio entre 0 $cm$ y $0.1$ $cm$, y se va a mover en cualquier dirección, es decir, que los ángulos esféricos $\\theta$ y $\\phi$ pueden tomar cualquier valor entre 0 y $2\\pi$.\n",
        "\n",
        "Las fórmulas de transformación de coordenadas esféricas a cartesianas son:\n",
        "\n",
        "$$\n",
        "x = \\rho sin(\\phi)cos(\\theta)\n",
        "$$\n",
        "$$\n",
        "y = \\rho sin(\\phi)sin(\\theta)\n",
        "$$\n",
        "$$\n",
        "z = \\rho cos(\\phi)  \n",
        "$$\n",
        "\n",
        "Las coordenadas esféricas tienen la forma $(\\rho, \\theta, \\phi)$. En esta forma, $\\rho$ representa a la distancia desde el origen hasta el punto, $\\theta$ representa al ángulo en el plano (x,y) con respecto al eje x y $\\phi$ representa al ángulo con respecto al eje z. Por otra parte, las coordenadas cartesianas tridimensionales tienen la forma $(x,y,z)$."
      ],
      "metadata": {
        "id": "ArWz1UfawGm1"
      }
    },
    {
      "cell_type": "markdown",
      "source": [
        "**2.1 [1 punto]:** Define una función que recibe como argumento el número de pasos que la partícula realiza, asumiendo que sale del centro del cubo (1,1,1), y que devuelve tres listas para los valores de (x,y,z), es decir, todo el movimiento que realiza la partícula. Imprime por pantalla los primeros cinco movimientos. El primer valor debe ser (1,1,1)."
      ],
      "metadata": {
        "id": "YBQZGZAtzxX6"
      }
    },
    {
      "cell_type": "code",
      "source": [
        "# Tu código aquí"
      ],
      "metadata": {
        "id": "E2hmwRZA2Vi0"
      },
      "execution_count": null,
      "outputs": []
    },
    {
      "cell_type": "markdown",
      "source": [
        "**2.2 [1 punto]:** Calcula la trayectoria de la partícula para 10000 movimientos y haz una gráfica 3D que muestre el cubo de lado 2 $cm$ y la trayectoria que sigue la partícula, en un espacio que vaya de -5 a 5 en (x,y,z).\n",
        "\n",
        "Usa la información que encontrarás aquí:\n",
        "\n",
        "https://jakevdp.github.io/PythonDataScienceHandbook/04.12-three-dimensional-plotting.html\n",
        "\n",
        "https://www.geeksforgeeks.org/how-to-draw-3d-cube-using-matplotlib-in-python/\n",
        "\n",
        "Como verás, es posible que la partícula salga del cubo...\n"
      ],
      "metadata": {
        "id": "-OhKpTegxQQt"
      }
    },
    {
      "cell_type": "code",
      "source": [
        "# Tu código aquí"
      ],
      "metadata": {
        "id": "Vvvpgec9wXsh"
      },
      "execution_count": null,
      "outputs": []
    },
    {
      "cell_type": "markdown",
      "source": [
        "**2.3 [2 puntos]:** Usa un contexto frecuentista, donde vamos a generar muchas trayectorias (N=50000) de 100 pasos, y calcularemos la probabilidad que tiene la partícula de salir del cubo en función de N, es decir para cada N calcular $100. \\cdot N_{out}/N$. Haz una gráfica de como evoluciona esa probabilidad vs. N, e imprime por pantalla el número de probabilidad final que obtienes."
      ],
      "metadata": {
        "id": "indiTR4J8gW5"
      }
    },
    {
      "cell_type": "code",
      "source": [
        "# Tu código aquí"
      ],
      "metadata": {
        "id": "4yfNKiQY2gRa"
      },
      "execution_count": null,
      "outputs": []
    }
  ]
}