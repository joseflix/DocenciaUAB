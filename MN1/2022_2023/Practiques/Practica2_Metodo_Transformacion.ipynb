{
  "nbformat": 4,
  "nbformat_minor": 0,
  "metadata": {
    "colab": {
      "provenance": [],
      "include_colab_link": true
    },
    "kernelspec": {
      "name": "python3",
      "display_name": "Python 3"
    }
  },
  "cells": [
    {
      "cell_type": "markdown",
      "metadata": {
        "id": "view-in-github",
        "colab_type": "text"
      },
      "source": [
        "<a href=\"https://colab.research.google.com/github/joseflix/DocenciaUAB/blob/master/MN1/2022_2023/Practiques/Practica2_Metodo_Transformacion.ipynb\" target=\"_parent\"><img src=\"https://colab.research.google.com/assets/colab-badge.svg\" alt=\"Open In Colab\"/></a>"
      ]
    },
    {
      "cell_type": "markdown",
      "metadata": {
        "id": "vE_UggmHoZDG"
      },
      "source": [
        "# **Práctica 2: Transformación de una distribución**\n",
        "\n",
        "<hr>\n",
        "\n",
        "**Objectivo de la práctica** \n",
        "\n",
        "Usar el método de transformación para transformar números aleatorios entre [0,1] para que sigan una distribución determinada\n",
        "\n",
        "En particular, en esta práctica vamos a generar números aleatórios que sigan una distribución que tiene esta forma, entre $0$ y $\\pi$:\n",
        "\n",
        "$$\n",
        "  f(x) = \\frac{1}{2} sin(x)\n",
        "$$\n",
        "\n",
        "El factor 2 sale de la integral analítica de $sin(x)$, así nos queda bien normalizada $f(x)$, es decir que su integral entre 0 y $\\pi$ es 1:\n",
        "\n",
        "$$\n",
        "    \\int^\\pi_0 sin(x)dx = \\left . -\\cos (x) \\right|^\\pi_0 = 2\n",
        "$$\n",
        "\n",
        "La función cumulativa es la integral de $f(x)$, que si lo dejamos en función de $x$ nos queda de forma analítica:\n",
        "\n",
        "$$\n",
        "    F(x) = \\int^x_0 f(x')dx' = \\frac{1}{2}\\int^x_0 sin(x')dx' = \\frac{1}{2}(\\left . -\\cos x' \\right|^x_0) = \\frac{1}{2}(1 - cos(x))\n",
        "$$\n",
        "<hr>"
      ]
    },
    {
      "cell_type": "markdown",
      "metadata": {
        "id": "eb2aqJ0quTh4"
      },
      "source": [
        "### <font color='orange'>**> Python #1**</font>\n",
        "\n",
        "Vamos primero a hacer las gráficas de f(x) y F(x):"
      ]
    },
    {
      "cell_type": "code",
      "metadata": {
        "id": "mQYDWCe6EAqu"
      },
      "source": [
        "# Código"
      ],
      "execution_count": null,
      "outputs": []
    },
    {
      "cell_type": "markdown",
      "metadata": {
        "id": "lWa4E68qrppS"
      },
      "source": [
        "### <font color='orange'>**> Python #2**</font>\n",
        "\n",
        "Para usar el método de transformación. Sea $u = F(x)$, si invertimos F(x), obtenemos:\n",
        "\n",
        "$$\n",
        "  x = arccos(1 - 2u)\n",
        "$$\n",
        "\n",
        "Si $u$ está uniformemente distribuida entre 0 y 1, entonces $x$ estará distribuida de acuerdo con $f(x)$ entre 0 y $\\pi$. \n",
        "\n",
        "Vamos primero a crear una distribución uniforme entre 0 y 1, generando 100000 números aleatorios:"
      ]
    },
    {
      "cell_type": "code",
      "metadata": {
        "id": "knWNtysJsbIu"
      },
      "source": [
        "# Código"
      ],
      "execution_count": null,
      "outputs": []
    },
    {
      "cell_type": "markdown",
      "metadata": {
        "id": "078IW7BOtUcb"
      },
      "source": [
        "### <font color='darkgreen'>**> Ejercicio #1**</font>\n",
        "\n",
        "<hr>\n",
        "\n",
        "<font color='green'>Esta práctica de 1h no tiene entrega, pero se tiene que realizar este ejercicio de programación durante la clase.</font>\n",
        "\n",
        "<hr>\n",
        "\n",
        "Ahora vamos a usar la transformación para ver que somos capaces de hacer que estos números se adapten a f(x):\n",
        "\n",
        "*   Define una función que usarás para hacer la transformación\n",
        "*   Usa el array en x distribuido de forma uniforme, y lo convertimos en otro array transformado con esa función\n",
        "*   Dibuja un histograma de estos x's transformados"
      ]
    },
    {
      "cell_type": "code",
      "metadata": {
        "id": "g_iETuP6td_q"
      },
      "source": [
        "# Código"
      ],
      "execution_count": null,
      "outputs": []
    },
    {
      "cell_type": "markdown",
      "metadata": {
        "id": "g_U9TwUguQEY"
      },
      "source": [
        "### <font color='orange'>**> Python #3**</font>\n",
        "\n",
        "Si queremos comparar con la f(x), tenemos que normalizar este histograma, es decir que el área del histograma sea 1. Hay una opción para normalizar el histograma (density=True como opción en plt.hist).\n",
        "\n",
        "Haz una gráfica del histograma normalizado, y añade encima una gráfica de f(x)."
      ]
    },
    {
      "cell_type": "code",
      "metadata": {
        "id": "QxvedHDduxbc"
      },
      "source": [
        "# Código"
      ],
      "execution_count": null,
      "outputs": []
    }
  ]
}