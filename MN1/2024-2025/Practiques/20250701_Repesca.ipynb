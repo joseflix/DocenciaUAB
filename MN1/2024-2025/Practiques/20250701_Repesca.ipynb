{
  "nbformat": 4,
  "nbformat_minor": 0,
  "metadata": {
    "colab": {
      "provenance": [],
      "authorship_tag": "ABX9TyPeVYkbFDDuvg3iiCTKFR7Q",
      "include_colab_link": true
    },
    "kernelspec": {
      "name": "python3",
      "display_name": "Python 3"
    },
    "language_info": {
      "name": "python"
    }
  },
  "cells": [
    {
      "cell_type": "markdown",
      "metadata": {
        "id": "view-in-github",
        "colab_type": "text"
      },
      "source": [
        "<a href=\"https://colab.research.google.com/github/joseflix/DocenciaUAB/blob/master/MN1/2024-2025/Practiques/20250701_Repesca.ipynb\" target=\"_parent\"><img src=\"https://colab.research.google.com/assets/colab-badge.svg\" alt=\"Open In Colab\"/></a>"
      ]
    },
    {
      "cell_type": "markdown",
      "source": [
        "# **MN1: Repesca (programació) 01/07/2025**\n",
        "\n",
        "<hr>\n",
        "\n",
        "**Nom:**\n",
        "\n",
        "**NIU:**\n",
        "\n",
        "**mail (gmail):**\n",
        "\n",
        "<hr>\n",
        "\n",
        "**\"Instruccions d'edició del Notebook i lliurament\"**\n",
        "\n",
        "*   **<font color=\"darkgreen\">SI VENS A FER recuperació de la segona part de programació, has de fer tot l'examen.</font>**\n",
        "*   **<font color=\"darkblue\">SI VENS A FER recuperació de la primera I segona part de l'assignatura, has de fer només l'exercici 1 d'aquest examen.</font>**\n",
        "*   Obre el Notebook des de GitHub (\"Open in Colab\") i genera una còpia al teu Drive (\"Guardar una còpia a Drive\"). Editeu aquesta còpia per a l'examen.\n",
        "*   Reanomena aquesta còpia utilitzant el teu NIU com a nom de fitxer: \"NIU.ipynb\" (*per exemple, 2055007.ipynb*).\n",
        "*   Omple el teu nom, NIU i correu electrònic (gmail, si vols rebre els comentaris/feedback sobre el teu examen) a la capçalera d'aquest Notebook.\n",
        "*   Al final de l'examen, descarrega aquest Notebook en format .ipynb i l'has de pujar a la següent *drop folder*: [Link](https://cern.ch/examendf2025). Assegura't que el fitxer té el nom correcte.\n",
        "*   Podeu tornar a pujar el fitxer si creieu que hi ha un error, però només considerarem l'última versió, i dins de l'horari establert.\n",
        "*   **NOTA:** Abans d'entregar o donar per finalitzat cada exercici, és recomanable reiniciar l'entorn d'execució per veure que s'executa tot de manera correcta: \"Entorn d'execució >> Reiniciar entorn d'execució\", i després \"Entorn d'execució >> Executar-ho tot\".\n",
        "\n",
        "<hr>\n",
        "\n",
        "**Instruccions de l'examen**\n",
        "\n",
        "*   L'examen es realitza de forma individual.\n",
        "*   L'horari és de 9h a 12h. No s'acceptaran entregues passada aquesta hora.\n",
        "*   Podeu consultar apunts, entregues o utilitzar internet per buscar informació, però **NO** comunicar-vos entre vosaltres/es, ni utilitzar ChatGPT, ni ajuda IA Google Colab, ni Whatsapp, ni missatgeria... Revisarem durant l'examen que no tingueu finestres obertes amb aquestes aplicacions.\n",
        "*    **NOTA:** Tenim una eina per comparar Notebooks aplicant IA. Si hi ha còpies flagrants, obtindreu un cero, i us cridarem a revisió personalitzada.\n",
        "\n",
        "<hr>\n",
        "\n",
        "## **EXAMEN**"
      ],
      "metadata": {
        "id": "kB-UashBOZ4V"
      }
    },
    {
      "cell_type": "code",
      "source": [
        "# Importa les llibreries\n",
        "\n",
        "import numpy as np\n",
        "import matplotlib.pyplot as plt\n",
        "from scipy.stats import norm\n",
        "import scipy.stats as ss\n",
        "from matplotlib import ticker, cm"
      ],
      "metadata": {
        "id": "uWavOGqRRb2J"
      },
      "execution_count": null,
      "outputs": []
    },
    {
      "cell_type": "markdown",
      "source": [
        "<hr>\n",
        "\n",
        "<font color='green'>**> Exercici #1 [5 punts]**</font>\n"
      ],
      "metadata": {
        "id": "3QQexDEVPlQP"
      }
    },
    {
      "cell_type": "markdown",
      "source": [
        "En aquest problema aplicarem el concepte de [regressió lineal simple](https://realpython.com/linear-regression-in-python/#simple-linear-regression) per ajustar una sèrie de punts a la corba descrita per:\n",
        "\n",
        "$$\n",
        "f(x) = A_0 \\cdot x^2 \\cdot \\cos(x+\\theta_0)\n",
        "$$\n",
        "\n",
        "és a dir, que avaluarem els paràmetres $A_0$ i $\\theta_0$ que millor s'ajustin als punts que proporcionem, basant-nos en un mètode de [minimització de la suma dels residuals al quadrat](https://realpython.com/linear-regression-in-python/#problem-formulation) (SSR). Els residuals no són més que la diferència al quadrat entre els valors $y_i$ de la nostra mostra i els valors de la funció de test avaluada en els $x_i$. Recorda que tenim uns parells de n-punts $(x_i, y_i)$. La funció de test que millor s’ajusti serà aquella que minimitzi aquestes distàncies (similar al mètode de Kolmogórov que hem vist a classe...). Som-hi!"
      ],
      "metadata": {
        "id": "YCGo4Y_UQhpm"
      }
    },
    {
      "cell_type": "code",
      "execution_count": null,
      "metadata": {
        "id": "aBTL-Sl5N5x3"
      },
      "outputs": [],
      "source": [
        "# Els parells de punts a considerar son:\n",
        "\n",
        "xr = [0.12, 0.94, 2.02, 3.05, 3.8, 4.92, 6.06, 7.03, 8.1, 9.05, 10.14, 11.01, 12.13, 12.88, 14.08, 15.13]\n",
        "yr = [-1.96, 1.75, -1.67, -3.03, -0.95, 3.51, 7.55, 4.65, -11.46, -17.49, -9.52, 12.49, 28.55, 18.84, -16.27, -47.02]"
      ]
    },
    {
      "cell_type": "markdown",
      "source": [
        "**1.1 [0.5 punts]:** Fes una gràfica dels punts ($x_r$, $y_r$).\n"
      ],
      "metadata": {
        "id": "gbIHsCUaRt0S"
      }
    },
    {
      "cell_type": "code",
      "source": [
        "# El teu codi aqui"
      ],
      "metadata": {
        "id": "KzvDdzdVRtU8"
      },
      "execution_count": null,
      "outputs": []
    },
    {
      "cell_type": "markdown",
      "source": [
        "**1.2 [0.5 punts]:** Defineix una funció que prengui com a paràmetres un valor de $A$, un valor de $\\theta$ i els punts ($x_r$, $y_r$), i que ens retorni la suma dels residuals al quadrat (SSR). Imprimeix per pantalla el valor del residual per a $A = 0.5$ i $\\theta = 0.5$."
      ],
      "metadata": {
        "id": "TnSpD2n4k-a_"
      }
    },
    {
      "cell_type": "code",
      "source": [
        "# El teu codi aqui"
      ],
      "metadata": {
        "id": "HoxigATDlUSF"
      },
      "execution_count": null,
      "outputs": []
    },
    {
      "cell_type": "markdown",
      "source": [
        "**1.3 [1.5 punts]:** Considera 500 punts de test entre 0 i 1, tant per al paràmetre $A$ com per a $\\theta$. Farem servir aquests punts per avaluar els SSR i així buscar per a quin valor dels paràmetres $A$ i $\\theta$ obtenim el mínim del SSR. Aquests seran els valors òptims $A_0$ i $\\theta_0$ que millor s’ajusten als nostres punts.\n",
        "\n",
        "Fent servir aquest mètode, calcula els valors òptims de $A_0$ i $\\theta_0$. Imprimeix els valors per pantalla."
      ],
      "metadata": {
        "id": "FllBSyIIlpYU"
      }
    },
    {
      "cell_type": "code",
      "source": [
        "# El teu codi aqui"
      ],
      "metadata": {
        "id": "z4FSubZ0loqn"
      },
      "execution_count": null,
      "outputs": []
    },
    {
      "cell_type": "markdown",
      "source": [
        "**1.4 [1.5 puntos]:** Defineix una malla de 500 punts de test entre 0 i 1, tant per al paràmetre $A$ com per a $\\theta$. Farem servir aquesta malla de punts per avaluar els SSR i així buscar per a quin valor dels paràmetres $A$ i $\\theta$ obtenim el mínim del SSR. Aquests seran els valors òptims $A_0$ i $\\theta_0$ que millor s'ajusten als nostres punts.\n",
        "\n",
        "Fes un escaneig, troba el punt òptim, determina i mostra per pantalla $A_0$ i $\\theta_0$, i fes una [gràfica de tipus contour](https://www.adeveloperdiary.com/data-science/how-to-visualize-gradient-descent-using-contour-plot-in-python/) que mostri tots els resultats sobre el pla $(A,\\theta)$. Allà es veurà on es troba el mínim del SSR.\n",
        "\n",
        "Podem fer servir $np.meshgrid per definir la malla:\n",
        "\n",
        "```\n",
        "t = np.linspace(0,1,500)\n",
        "a = np.linspace(0,1,500)\n",
        "X, Y = np.meshgrid(a, t)\n",
        "```\n",
        "\n",
        "Després hauràs d'avaluar els SSR, però compte: haurà de ser una llista de llistes (igual que el meshgrid) per tal de poder fer després la gràfica de tipus contour, que tindrà un aspecte similar a:\n",
        "\n",
        "```\n",
        "plt.figure(figsize=(8,6))\n",
        "plt.contourf(X, Y, Z, 100 ,locator=ticker.LogLocator())\n",
        "plt.colorbar()\n",
        "plt.show()\n",
        "```\n",
        "\n",
        "Dibuixa a sobre un punt on es trobin els valors òptims.\n",
        "\n",
        "**ET DEIXO UN EXEMPLE PERQUÈ VEGIS COM ES FA, després ho has d'aplicar tú mateix al problema de l'examen**"
      ],
      "metadata": {
        "id": "78mAwtIumHdw"
      }
    },
    {
      "cell_type": "code",
      "source": [
        "# Exemple de plot emprant contourf:\n",
        "\n",
        "# Create a grid of x and y values\n",
        "x = np.linspace(-5, 5, 100)\n",
        "y = np.linspace(-5, 5, 100)\n",
        "X, Y = np.meshgrid(x, y)\n",
        "\n",
        "# Define a 2D Gaussian function\n",
        "sigma = 1.0\n",
        "Z = np.exp(-((X**2 + Y**2) / (2 * sigma**2)))\n",
        "\n",
        "# Plot the contour\n",
        "plt.figure(figsize=(6,4))\n",
        "contour = plt.contourf(X, Y, Z, levels=20, cmap='viridis',locator=ticker.LogLocator())\n",
        "plt.colorbar(contour, label='Intensity')\n",
        "plt.title('2D Gaussian Contour Plot')\n",
        "plt.xlabel('X')\n",
        "plt.ylabel('Y')\n",
        "plt.grid(True)\n",
        "plt.show()"
      ],
      "metadata": {
        "colab": {
          "base_uri": "https://localhost:8080/",
          "height": 410
        },
        "id": "s44RQ0tqnL4u",
        "outputId": "091d5d6c-4e9f-4f76-c7aa-53806d9f3440"
      },
      "execution_count": null,
      "outputs": [
        {
          "output_type": "display_data",
          "data": {
            "text/plain": [
              "<Figure size 600x400 with 2 Axes>"
            ],
            "image/png": "[encoded data removed]"
          },
          "metadata": {}
        }
      ]
    },
    {
      "cell_type": "code",
      "source": [
        "# El teu codi aqui"
      ],
      "metadata": {
        "id": "CTpH0QZunTa6"
      },
      "execution_count": null,
      "outputs": []
    },
    {
      "cell_type": "markdown",
      "source": [
        "**1.5 [1 punt]:** Fes una gràfica dels parells de punts ($x_r$, $y_r$) i dibuixa també la corba que millor s'ajusta als punts, és a dir, $f(x) = A_0 \\cdot x^2 \\cdot \\cos(x+\\theta_0)$, amb els valors de $A_0$ i $\\theta_0$ obtinguts a l'apartat 1.3 o 1.4.\n",
        "\n"
      ],
      "metadata": {
        "id": "K95jGU3tnaPO"
      }
    },
    {
      "cell_type": "code",
      "source": [
        "# El teu codi aqui"
      ],
      "metadata": {
        "id": "o6i8-fnonnGy"
      },
      "execution_count": null,
      "outputs": []
    },
    {
      "cell_type": "markdown",
      "source": [
        "<hr>\n",
        "\n",
        "<font color='green'>**> Exercici #2 [5 punts]**</font>\n",
        "\n",
        "**> Context:**\n",
        "\n",
        "Un *Continuous Time Random Walk* (CTRW) és un model estocàstic utilitzat per descriure dinàmiques de partícules que realitzen salts espacials separats per temps d'espera aleatoris. A diferència dels *random walks* clàssics a temps discret, en un CTRW el temps entre passos també és una variable aleatòria, sovint modelada amb una distribució de tipus *heavy-tailed* com la de Pareto.\n",
        "\n",
        "Aquest tipus de processos són útils per descriure transport anòmal en sistemes físics, biològics i econòmics, i poden mostrar comportaments molt diferents dels processos difusius clàssics.\n",
        "\n",
        "En aquest exercici analitzarem un CTRW en una dimensió, on:\n",
        "\n",
        "- Els temps d'espera $ \\tau $ segueixen una distribució de Pareto amb paràmetres $\\alpha$ i $\\tau_0$:\n",
        "\n",
        "  $$P(\\tau) = \\frac{\\alpha \\tau_0^\\alpha}{\\tau^{\\alpha+1}}, \\quad \\tau \\geq \\tau_0$$\n",
        "\n",
        "- Els passos espacials $\\Delta x$ segueixen una distribució normal centrada: $ \\Delta x \\sim \\mathcal{N}(0, \\sigma^2) $\n",
        "\n",
        "En el nostre cas:\n",
        "\n",
        "* $\\alpha=1.75$\n",
        "* $\\tau_0=1.0$\n",
        "* $\\sigma=0.1$"
      ],
      "metadata": {
        "id": "4BKbuCrYiEr1"
      }
    },
    {
      "cell_type": "markdown",
      "source": [
        "**2.1 [1.5 punts]:** Simulació d'un camí CTRW - Implementa una funció que simuli un **Continuous Time Random Walk (CTRW)** en una dimensió on la partícula començi en una posició inicial $ x_0 = 0$ i a un temps inicial $t_0 = 0$ fins a un temps màxim $t_{\\text{max}} = 1000$. Fes una gràfica que contingui 4 trajectòries d'aquest moviment.\n",
        "\n",
        "### Implementació de la dinàmica del CTRW\n",
        "\n",
        "1) **Temps d'espera**: Genera pel temps d'espera un temps aleatori $ \\tau $, obtingut d'una distribució de Pareto amb paràmetres $ \\alpha $ i $ \\tau_0 $. Pots generar valors de $ \\tau $ amb la següent transformació d'una variable uniforme $ u \\in (0,1) $:\n",
        "\n",
        "   $$\n",
        "   \\tau = \\frac{\\tau_0}{(1 - u)^{1/\\alpha}}\n",
        "   $$\n",
        "\n",
        "o bé amb la funció de scipy.stats $ss.pareto.rvs(alpha, loc=0, scale=tau0, size=N)$.\n",
        "\n",
        "2) **Desplaçament**: Genera una longitud de pas aleatori $ \\Delta x $ segons una distribució normal centrada:\n",
        "\n",
        "   $$\n",
        "   \\Delta x \\sim \\mathcal{N}(0, \\sigma^2)\n",
        "   $$\n",
        "\n",
        "pots utilitzar la funció de numpy:\n",
        "\n",
        "```\n",
        "np.random.normal(0, sigma)\n",
        "```\n",
        "\n",
        "3) **Actualització**: El temps actual $ t $ s'actualitza sumant-hi $ \\tau $, i la posició $ x $ s'actualitza sumant-hi $ \\Delta x $.\n",
        "\n",
        "\n",
        "4) **Condició d'aturada**: El procés es repeteix fins que $ t \\geq t_{\\text{max}} $.  \n",
        "\n",
        "És important **tractar correctament l'últim pas**, és a dir:\n",
        "\n",
        "   - Si el **proper temps d'espera** fa que $ t + \\tau > t_{\\text{max}} $, **no s'ha de fer el desplaçament**.\n",
        "   - En aquest cas, s'ha d'afegir un **punt final a $ t_{\\text{max}} $** amb la **mateixa posició** que abans del pas.\n",
        "   - Això assegura que la trajectòria arriba exactament a $ t_{\\text{max}} $, però sense fer un pas \"fora de temps\".\n",
        "\n",
        "**Requeriments de la funció:** La teva funció ha de tenir la següent forma:\n",
        "\n",
        "```python\n",
        "def simulate_CTRW_1D_tmax(tmax, alpha, tau0, sigma, x0=0, t0=0):\n",
        "```\n",
        "\n",
        "i ha de retornar:\n",
        "\n",
        "* Un array (llista) amb les posicions\n",
        "* Un array (llista) amb els temps\n",
        "* Un comptador de quants de passos s'han fet en total"
      ],
      "metadata": {
        "id": "_HbzTMP2TW_H"
      }
    },
    {
      "cell_type": "code",
      "source": [
        "# El teu codi aqui"
      ],
      "metadata": {
        "id": "_TLJ8XVUpukr"
      },
      "execution_count": null,
      "outputs": []
    },
    {
      "cell_type": "markdown",
      "source": [
        "**2.2 [1.5 punts]:** Distribució de posicions finals i nombre de passos -  Utilitza la funció de l'Exercici 2.1 per simular $ M = 5000 $ trajectòries independents per a diversos valors de $ t_{\\text{max}} \\in \\{50, 100, 500, 1000\\} $.\n",
        "\n",
        "Per a cada simulació, guarda en una llista:\n",
        "\n",
        "- La posició final de la partícula.\n",
        "- El nombre total de passos realitzats fins a $ t_{\\text{max}} $.\n",
        "\n",
        "Al final hauries de tenir, per a cada temps, una llista amb $M$ posicions finals i $M$ nombre de passos realitzats."
      ],
      "metadata": {
        "id": "ygs33F8fvdMl"
      }
    },
    {
      "cell_type": "code",
      "source": [
        "# El teu codi aqui"
      ],
      "metadata": {
        "id": "0VTze5_kvYVy"
      },
      "execution_count": null,
      "outputs": []
    },
    {
      "cell_type": "markdown",
      "source": [
        "**2.3 [1 punt]:** Posició de les partícules - Se sap que per temps llargs i desplaçaments petits, la PDF de la posició del **CTRW** a un temps $t$ donat és:\n",
        "\n",
        "$$\n",
        "P(x,t) = \\frac{1}{\\sqrt{4\\pi Dt}}e^{-\\frac{x^2}{4Dt}}, \\quad \\mathrm{amb} \\quad D = \\frac{1}{2}\\frac{\\sigma^2}{\\mu},  \\quad \\mathrm{i} \\quad \\mu = \\frac{\\alpha \\tau_0}{\\alpha - 1}\n",
        "$$\n",
        "\n",
        "Per cada valor de $ t_{\\text{max}} $, fes una gràfica de:\n",
        "\n",
        "- L'histograma de les posicions finals (normalitzat com a densitat de probabilitat).\n",
        "- La corba de la distribució normal centrada amb variància $ 2Dt $. Pots utilitzar la funció\n",
        "\n",
        "```python\n",
        "scipy.stats.norm.pdf(), amb loc=0, i scale=np.sqrt(2*D*t)\n",
        "```\n",
        "\n",
        "Compara visualment la distribució empírica amb l'ajust gaussià."
      ],
      "metadata": {
        "id": "pRPg9QmwwIbq"
      }
    },
    {
      "cell_type": "code",
      "source": [
        "# El teu codi aqui"
      ],
      "metadata": {
        "id": "Nfi8JTPIv6ke"
      },
      "execution_count": null,
      "outputs": []
    },
    {
      "cell_type": "markdown",
      "source": [
        "**2.4 [1 punt]:** Convergència del nombre mitjà de passos - Teòricament, el nombre mitjà de passos fins a $ t_{\\text{max}} $ per a temps llargs és:\n",
        "\n",
        "$$\n",
        "\\langle N(t) \\rangle \\approx \\frac{t}{\\mu}\n",
        "$$\n",
        "\n",
        "On $ \\mu = \\frac{\\alpha \\tau_0}{\\alpha - 1} $ és el valor esperat del temps d'espera (si $ \\alpha > 1 $).\n",
        "\n",
        "Per cada valor de $t_{\\text{max}}$, calcula el nombre mitjà de passos observats i representa l'**error relatiu** en percentatge respecte al valor teòric. Afegeix una línia horitzontal al 1% per valorar la precisió de la convergència, i digues a partir de quin valor de $t_{max}$ aquest resultat se compleix amb un error menor de l'1%."
      ],
      "metadata": {
        "id": "3QyjlYxyw052"
      }
    },
    {
      "cell_type": "code",
      "source": [
        "# El teu codi aqui"
      ],
      "metadata": {
        "id": "o1MtHUtXxOL2"
      },
      "execution_count": null,
      "outputs": []
    }
  ]
}