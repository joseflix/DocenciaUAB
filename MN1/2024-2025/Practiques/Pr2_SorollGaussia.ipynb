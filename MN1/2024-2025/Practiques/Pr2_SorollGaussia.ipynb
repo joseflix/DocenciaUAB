{
  "nbformat": 4,
  "nbformat_minor": 0,
  "metadata": {
    "colab": {
      "provenance": [],
      "include_colab_link": true
    },
    "language_info": {
      "codemirror_mode": {
        "name": "ipython",
        "version": 3
      },
      "file_extension": ".py",
      "mimetype": "text/x-python",
      "name": "python",
      "nbconvert_exporter": "python",
      "pygments_lexer": "ipython3",
      "version": "3.6.7"
    },
    "kernelspec": {
      "display_name": "Python 3",
      "language": "python",
      "name": "python3"
    }
  },
  "cells": [
    {
      "cell_type": "markdown",
      "metadata": {
        "id": "view-in-github",
        "colab_type": "text"
      },
      "source": [
        "<a href=\"https://colab.research.google.com/github/joseflix/DocenciaUAB/blob/master/MN1/2024-2025/Practiques/Pr2_SorollGaussia.ipynb\" target=\"_parent\"><img src=\"https://colab.research.google.com/assets/colab-badge.svg\" alt=\"Open In Colab\"/></a>"
      ]
    },
    {
      "cell_type": "markdown",
      "metadata": {
        "id": "AQN3Z0W5s87A"
      },
      "source": [
        "# **Pràctica 2: Soroll i correlacions**\n",
        "\n",
        "<hr>\n",
        "\n",
        "**[1] Nom:**\n",
        "\n",
        "**[1] NIU:**\n",
        "\n",
        "**[1] mail (gmail):**\n",
        "\n",
        "<hr>\n",
        "\n",
        "**[2] Nom:**\n",
        "\n",
        "**[2] NIU:**\n",
        "\n",
        "**[2] mail (gmail):**\n",
        "\n",
        "<hr>\n",
        "\n",
        "**Instruccions**\n",
        "\n",
        "*   Primer copia aquest notebook al teu drive (Archivo>Guardar una copia en Drive).\n",
        "*   Omple el teu nom, NIU i correu electrònic (gmail, si vols rebre comentaris/feedback sobre la teva entrega) a l'encapçalament d'aquest Notebook (les dues seccions si sou dos a l'equip).\n",
        "*   **1 Alumne**: Canvia el nom del Notebook a \"Pr2_NIU.ipynb\", on NIU és el teu NIU (*per exemple: Pr2_2055007.ipynb*).\n",
        "*   **2 Alumnes**: Canvia el nom del Notebook a \"Pr2_NIU1_NIU2.ipynb\", on NIU1 és el NIU del primer alumne, i NIU2 del segon (*per exemple: Pr2_2055007_2055004.ipynb*).\n",
        "*   Ves gravant/guardant el Notebook de forma regular.\n",
        "*   Al final de la classe, descarrega aquest quadern en format .ipynb i l'has de pujar al següent *drop folder*: [Link](https://cern.ch/uabmn1pr). Assegura't que el fitxer té el nom correcte.\n",
        "*   Només s'avaluarà la part de l'entrega. Tindreu accés a la solució de totes les parts després d'haver entregat la pràctica.\n",
        "\n",
        "<hr>"
      ]
    },
    {
      "cell_type": "markdown",
      "source": [
        "# **Context**\n",
        "\n",
        "En aquesta pràctica treballarem la generació de números aleatoris que segueixen una distribució uniforme, una distribució gaussiana, i el càlcul de factors de correlació."
      ],
      "metadata": {
        "id": "_kqxWtClEIfQ"
      }
    },
    {
      "cell_type": "markdown",
      "source": [
        "### <font color='orange'>**> Python #1**</font>\n",
        "\n",
        "1.   Genera 10000 punts que segueixin una distribució uniforme entre 0 i 10 i fes un histograma normalitzat.\n",
        "\n",
        "2.   Genera 10000 punts que segueixin una distribució gaussiana centrada a 5 amb una $\\sigma$ de 3 i fes un histograma normalitzat.\n",
        "\n",
        "Pots fer servir les llibreries de scipy o de numpy:\n",
        "\n",
        "```\n",
        "import numpy as np\n",
        "from scipy import stats\n",
        "stats.norm.rvs(loc=5,scale=3,size=N)\n",
        "stats.uniform.rvs(loc=0, scale=10, size=N)\n",
        "np.random.uniform(low=0, high=10, size=N)\n",
        "```\n",
        "\n"
      ],
      "metadata": {
        "id": "IZz5gYYNEJjV"
      }
    },
    {
      "cell_type": "code",
      "source": [
        "# el teu codi"
      ],
      "metadata": {
        "id": "a0l-fqcLGMKA"
      },
      "execution_count": null,
      "outputs": []
    },
    {
      "cell_type": "markdown",
      "source": [
        "### <font color='orange'>**> Python #2**</font>\n",
        "\n",
        "Genera dues llistes que siguin el quadrat dels resultats obtinguts abans, és a dir, si $X$ és la llista de valors uniformes, construeix una nova llista $Y=X^2$. Fes els dos histogrames normalitzats dels resultats que obtens."
      ],
      "metadata": {
        "id": "yhrITgbHIOXa"
      }
    },
    {
      "cell_type": "code",
      "source": [
        "# el teu codi"
      ],
      "metadata": {
        "id": "CCmhc2MYIlI9"
      },
      "execution_count": null,
      "outputs": []
    },
    {
      "cell_type": "markdown",
      "source": [
        "### <font color='orange'>**> Python #3**</font>\n",
        "\n",
        "Fes dues gràfiques on mostris (X,Y) per als dos casos. Calcula el factor de correlació entre les variables $X$ i $Y$ que has generat en els dos exemples anteriors.\n",
        "\n",
        "<font color='orange'>**Nota**</font> Python té la funció $pearsonr$ per a calcular la correlació entre variables:\n",
        "\n",
        "```\n",
        "from scipy.stats import pearsonr\n",
        "```\n",
        "`?stats.pearsonr`\n",
        "\n",
        "Aquesta funció retorna dos valors (Pearson correlation coefficient and p-value for testing non-correlation.). Us heu de quedar amb el primer d'ells. Perquè el segon cas té un factor de correlació menor?"
      ],
      "metadata": {
        "id": "D3JRJ-HnJiWm"
      }
    },
    {
      "cell_type": "code",
      "source": [
        "# el teu codi"
      ],
      "metadata": {
        "id": "ltbc8O73J9gU"
      },
      "execution_count": null,
      "outputs": []
    },
    {
      "cell_type": "markdown",
      "metadata": {
        "id": "1ilohX0IvF0D"
      },
      "source": [
        "### <font color='green'>**> ENTREGA**</font>\n",
        "\n",
        "En aquesta entrega hauràs de generar uns parells de punts, on un té un soroll associat i fa que es desviï d'una recta, és a dir:\n",
        "\n",
        "$$\n",
        "y_i = x_i + \\epsilon_i\n",
        "$$\n",
        "\n",
        "Considerarem dos casos:\n",
        "\n",
        "* No hi ha soroll $\\Rightarrow \\epsilon_i = 0$\n",
        "* El soroll està distribuit com una normal $\\Rightarrow \\epsilon_i \\sim N(0,Z)$\n",
        "\n",
        "on Z es calcula amb les teves darreres dues xifres del teu NIU, dividit per 10!\n",
        "\n",
        "Farem unes gràfiques (x,y), calcularem el factor de correlació, i graficarem les distribucions marginals en $x$ i $y$.\n",
        "\n",
        "---"
      ]
    },
    {
      "cell_type": "markdown",
      "metadata": {
        "id": "im1kOYeLvmHM"
      },
      "source": [
        "1) Fes una gràfica d'un conjunt de $N = 10000$ punts $(x,y)$ on els x estan equiespaiats en l'interval $[0,10]$ i $y_i = x_i$ **[1.5 punts]**. També fes un parell de gràfiques de les distribucions marginals en $x$ i $y$, fent histogrames amb 100 bins. **[1.5 punts]**"
      ]
    },
    {
      "cell_type": "code",
      "metadata": {
        "id": "A_K1ydpIwVI3"
      },
      "source": [
        "# el teu codi"
      ],
      "execution_count": null,
      "outputs": []
    },
    {
      "cell_type": "markdown",
      "metadata": {
        "id": "OHy85eYOw8mE"
      },
      "source": [
        "2) Fes una gràfica d'un conjunt de $N = 10000$ punts $(x,y)$ on els x estan equiespaiats en l'interval $[0,10]$ i $y_i = x_i + \\epsilon_i$, on $\\epsilon_i \\sim N(0,Z)$ (és a dir, segueix una distribució normal, amb $\\mu$ = 0 i $\\sigma$ = Z) **[1.5 punts]**. També fes un parell de gràfiques de les distribucions marginals en $x$ i $y$, fent histogrames amb 100 bins. **[1.5 punts]**\n",
        "\n",
        "<font color='orange'>**Nota**</font> Vam veure que podíem trobar informació sobre les funcions de la normal a scipy amb\n",
        "\n",
        "`?stats.norm`"
      ]
    },
    {
      "cell_type": "code",
      "metadata": {
        "id": "5Mud8_S-xTu0"
      },
      "source": [
        "# el teu codi"
      ],
      "execution_count": null,
      "outputs": []
    },
    {
      "cell_type": "markdown",
      "metadata": {
        "id": "PYc-ObA6yM76"
      },
      "source": [
        "3) Calcula el factor de correlació entre les variables $x$ i $y$ que has generat en els dos exemples. **[2 punts]**\n",
        "\n",
        "<font color='orange'>**Nota**</font> Python té la funció $pearsonr$ per a calcular la correlació entre variables:\n",
        "\n",
        "```\n",
        "from scipy.stats import pearsonr\n",
        "```\n",
        "`?stats.pearsonr`"
      ]
    },
    {
      "cell_type": "code",
      "metadata": {
        "id": "FN63tQd5yPZD"
      },
      "source": [
        "# el teu codi"
      ],
      "execution_count": null,
      "outputs": []
    },
    {
      "cell_type": "markdown",
      "source": [
        "4) Aproximadament quina $\\sigma$ ha de tenir el soroll perquè el factor de correlació sigui menor de 0.15? Genera moltes realitzacions amb soroll diferent i calcula el factor de correlació per a cadascuna d'elles per a trobar el cas que es proposa. **[2 punts]**"
      ],
      "metadata": {
        "id": "bXjaHQA_z5XK"
      }
    },
    {
      "cell_type": "code",
      "source": [
        "# el teu codi"
      ],
      "metadata": {
        "id": "pEIDK9kG0EFm"
      },
      "execution_count": null,
      "outputs": []
    },
    {
      "cell_type": "markdown",
      "source": [
        "<hr>\n",
        "\n",
        "**Instruccions**\n",
        "\n",
        "*   Primer copia aquest notebook al teu drive (Archivo>Guardar una copia en Drive).\n",
        "*   Omple el teu nom, NIU i correu electrònic (gmail, si vols rebre comentaris/feedback sobre la teva entrega) a l'encapçalament d'aquest Notebook (les dues seccions si sou dos a l'equip).\n",
        "*   **1 Alumne**: Canvia el nom del Notebook a \"Pr2_NIU.ipynb\", on NIU és el teu NIU (*per exemple: Pr2_2055007.ipynb*).\n",
        "*   **2 Alumnes**: Canvia el nom del Notebook a \"Pr2_NIU1_NIU2.ipynb\", on NIU1 és el NIU del primer alumne, i NIU2 del segon (*per exemple: Pr2_2055007_2055004.ipynb*).\n",
        "*   Ves gravant/guardant el Notebook de forma regular.\n",
        "*   Al final de la classe, descarrega aquest quadern en format .ipynb i l'has de pujar al següent *drop folder*: [Link](https://cern.ch/uabmn1pr). Assegura't que el fitxer té el nom correcte.\n",
        "*   Només s'avaluarà la part de l'entrega. Tindreu accés a la solució de totes les parts després d'haver entregat la pràctica.\n",
        "\n",
        "<hr>"
      ],
      "metadata": {
        "id": "MD7OvzMMUBzj"
      }
    }
  ]
}