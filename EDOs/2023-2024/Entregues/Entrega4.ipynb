{
  "nbformat": 4,
  "nbformat_minor": 0,
  "metadata": {
    "colab": {
      "provenance": [],
      "authorship_tag": "ABX9TyP/IXZuQRjPlZDposhkZ4p+",
      "include_colab_link": true
    },
    "kernelspec": {
      "name": "python3",
      "display_name": "Python 3"
    },
    "language_info": {
      "name": "python"
    }
  },
  "cells": [
    {
      "cell_type": "markdown",
      "metadata": {
        "id": "view-in-github",
        "colab_type": "text"
      },
      "source": [
        "<a href=\"https://colab.research.google.com/github/joseflix/DocenciaUAB/blob/master/EDOs/2023-2024/Entregues/Entrega4.ipynb\" target=\"_parent\"><img src=\"https://colab.research.google.com/assets/colab-badge.svg\" alt=\"Open In Colab\"/></a>"
      ]
    },
    {
      "cell_type": "markdown",
      "source": [
        "# **Entrega 4**\n",
        "\n",
        "<hr>\n",
        "\n",
        "**Noms:**\n",
        "\n",
        "**NIUs:**\n",
        "\n",
        "**mails (gmail):**\n",
        "\n",
        "<hr>\n",
        "\n",
        "**Instruccions**\n",
        "\n",
        "*   Primer copieu aquest notebook al vostre drive (Archivo>Guardar una copia en Drive).\n",
        "*   Ompliu noms, NIUs i correus electrònics (gmail, si voleu rebre comentaris/feedback sobre la entrega) a l'encapçalament d'aquest Notebook.\n",
        "*   Canvia el nom del Notebook a \"Entrega4.ipynb\".\n",
        "*   Aneu gravant/guardant el Notebook de forma regular.\n",
        "*   Quan volgueu entregar, descarrega aquest quadern en format .ipynb i l'heu de pujar al següent *drop folder*: [Link](https://cern.ch/uabedopr). Assegureu-vos que el fitxer té el nom correcte.\n",
        "<hr>\n",
        "\n",
        "Anem a resoldre numèricament una equació diferencial per dos mètodes numèrics ([Euler](http://en.wikipedia.org/wiki/Euler_method) i [Heun](http://en.wikipedia.org/wiki/Heun%27s_method)) i comparar amb la solució analítica.\n",
        "\n",
        "L'equació és:\n",
        "\n",
        "$$\n",
        "y' = x-y\n",
        "$$\n",
        "\n",
        "amb la condició inicial de $y(0)=3$. La solució analítica d'aquesta equació diferencial és $y(x)=4e^{–x}+x-1$.\n",
        "\n",
        "1.   Aplica el mètode de Runge-Kuta de 4rt ordre (RK4) amb un $\\epsilon$=0.1 i compara amb la sol·lució analítica per x a l'interval [0,5]. Fes una gràfica de la sol·lució analítica i els punts que trobes amb aquest mètode numèric. **[4 punts]**\n",
        "2.   Compara punt a punt el que trobes de forma numèrica i la sol·lució analítica. D'aquesta comparació pots trobar el valor que es desvia més, en percentatge relatiu. Varía $\\epsilon$ a l'interval [0.05,0.0005] i fes una gràfica d'aquesta màxima desviació que trobes, respecte als valors de $\\epsilon$. **[4 punts]**\n",
        "3.    Existeixen llibreries a Python que et permeten solucionar aquesta EDO de forma numèrica amb el mètode RK4? Si és així, podeu proporcionar un codi que faci el mateix que heu implementat vosaltres, però fent servir aquestes llibreries? **[2 punts]**\n",
        "\n"
      ],
      "metadata": {
        "id": "k8sLsrIbLVzT"
      }
    },
    {
      "cell_type": "code",
      "source": [
        "# Secció 1"
      ],
      "metadata": {
        "id": "RDZ2uSfoTiPh"
      },
      "execution_count": null,
      "outputs": []
    },
    {
      "cell_type": "code",
      "source": [
        "# Secció 2"
      ],
      "metadata": {
        "id": "LsQIUkWqTkpT"
      },
      "execution_count": null,
      "outputs": []
    },
    {
      "cell_type": "code",
      "source": [
        "# Secció 3"
      ],
      "metadata": {
        "id": "1J8YyFE8TlYt"
      },
      "execution_count": null,
      "outputs": []
    }
  ]
}