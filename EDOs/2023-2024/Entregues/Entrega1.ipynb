{
  "nbformat": 4,
  "nbformat_minor": 0,
  "metadata": {
    "colab": {
      "provenance": [],
      "authorship_tag": "ABX9TyNCLqY6go6OYQ1UZQhypH5F",
      "include_colab_link": true
    },
    "kernelspec": {
      "name": "python3",
      "display_name": "Python 3"
    },
    "language_info": {
      "name": "python"
    }
  },
  "cells": [
    {
      "cell_type": "markdown",
      "metadata": {
        "id": "view-in-github",
        "colab_type": "text"
      },
      "source": [
        "<a href=\"https://colab.research.google.com/github/joseflix/DocenciaUAB/blob/master/EDOs/2023-2024/Entregues/Entrega1.ipynb\" target=\"_parent\"><img src=\"https://colab.research.google.com/assets/colab-badge.svg\" alt=\"Open In Colab\"/></a>"
      ]
    },
    {
      "cell_type": "markdown",
      "source": [
        "# **Entrega 1**\n",
        "\n",
        "<hr>\n",
        "\n",
        "**Noms:**\n",
        "\n",
        "**NIUs:**\n",
        "\n",
        "**mails (gmail):**\n",
        "\n",
        "<hr>\n",
        "\n",
        "**Instruccions**\n",
        "\n",
        "*   Primer copieu aquest notebook al vostre drive (Archivo>Guardar una copia en Drive).\n",
        "*   Ompliu noms, NIUs i correus electrònics (gmail, si voleu rebre comentaris/feedback sobre la entrega) a l'encapçalament d'aquest Notebook.\n",
        "*   Canvia el nom del Notebook a \"Entrega1.ipynb\".\n",
        "*   Aneu gravant/guardant el Notebook de forma regular.\n",
        "*   Quan volgueu entregar, descarrega aquest quadern en format .ipynb i l'heu de pujar al següent *drop folder*: [Link](https://cern.ch/uabedopr). Assegureu-vos que el fitxer té el nom correcte.\n",
        "<hr>\n",
        "\n",
        "Tenim aquest sistema d'equacions diferencials:\n",
        "\n",
        "$$\n",
        "x' = x + 2y\n",
        "$$\n",
        "$$\n",
        "y' = 3x + 2y\n",
        "$$\n",
        "\n",
        "La solució analítica d'aquest sistema d'equacions, per a la condició inicial $x(0)=5$, $y(0)=0$, és:\n",
        "\n",
        "$$\n",
        "x = 2 e^{4t} + 3 e^{-t}\n",
        "$$\n",
        "\n",
        "$$\n",
        "y = 3 e^{4t} - 3 e^{-t}\n",
        "$$\n",
        "\n",
        "\n",
        "1.   Resol el sistema d'EDOS pel mètode d'Euler, fins a t=1. Implementa el mètode, i feu un plot de $x(t)$ i $y(t)$ i compara amb les sol·lucions analítiques. Quin valor de $\\epsilon$ és raonable per a que la sol·lució numèrica sigui suficientment acurada? **[4 punts]**\n",
        "2.   Feu un plot de la \"trajectòria\" $(x,y)$. **[3 punts]**\n",
        "3.   Feu una animació del moviment d'una partícula amb equacions del moviment donades per $(x,y)$ que heu trobat. **[2 punts]**\n",
        "4.   Existeixen llibreries a Python que et permeten solucionar aquest sistema d'equacions de forma numèrica amb el mètode d'Euler? Si és així, podeu proporcionar un codi que faci el mateix que heu implementat vosaltres, però fent servir aquestes llibreries? **[1 punt]**\n",
        "\n"
      ],
      "metadata": {
        "id": "HaBSg0-rvyD3"
      }
    },
    {
      "cell_type": "code",
      "source": [
        "# Secció 1"
      ],
      "metadata": {
        "id": "ZIE6-WWO0FtH"
      },
      "execution_count": null,
      "outputs": []
    },
    {
      "cell_type": "code",
      "source": [
        "# Secció 2"
      ],
      "metadata": {
        "id": "R95tdbC30F4t"
      },
      "execution_count": null,
      "outputs": []
    },
    {
      "cell_type": "code",
      "source": [
        "# Secció 3"
      ],
      "metadata": {
        "id": "WIXR2-Yr0GCu"
      },
      "execution_count": null,
      "outputs": []
    },
    {
      "cell_type": "code",
      "source": [
        "# Secció 4"
      ],
      "metadata": {
        "id": "BbQU37lYxRiM"
      },
      "execution_count": null,
      "outputs": []
    }
  ]
}